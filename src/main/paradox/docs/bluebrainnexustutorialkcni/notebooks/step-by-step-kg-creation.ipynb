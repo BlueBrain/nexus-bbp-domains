{
 "cells": [
  {
   "cell_type": "markdown",
   "metadata": {},
   "source": [
    "## Step by step buidling of a knowledge graph\n",
    "\n",
    "The goal of this notebook is to build an example of knowledge graph using a step by step approach.\n"
   ]
  },
  {
   "cell_type": "markdown",
   "metadata": {},
   "source": [
    "## Prerequisites\n",
    "\n",
    "This notebook assumes you've created a project within the sandbox deployment of Nexus. If not Go to https://sandbox.bluebrainnexus.io/web/ to create a project and obtain a valid authentication login."
   ]
  },
  {
   "cell_type": "markdown",
   "metadata": {},
   "source": [
    "## Overview\n",
    "Explain the Research domain (with figure). Uses schema.org and json-ld to describe entities\n",
    "\n",
    "You'll work through the following steps:\n",
    "\n",
    "0. Clone the tuorial Github project (Google Colab only)\n",
    "1. Create and configure a Blue Brain Nexus client\n",
    "2. Create a Person entity\n",
    "3. Create an Organization entity and link it to the Person entity as affiliation\n",
    "4. Create an article entity and link it to the Person entity as author\n",
    "5. Explore and navigate the created knowledge graph"
   ]
  },
  {
   "cell_type": "markdown",
   "metadata": {},
   "source": [
    "## Step 0: Clone the tuorial Github project (Google Colab only)"
   ]
  },
  {
   "cell_type": "markdown",
   "metadata": {},
   "source": [
    "### Remove the comments and run the code"
   ]
  },
  {
   "cell_type": "code",
   "execution_count": null,
   "metadata": {},
   "outputs": [],
   "source": [
    "\"\"\"\n",
    "import os \n",
    "\n",
    "tutorial_base_dir = \"/content/nexus-bbp-domains\"\n",
    "if os.path.exists(tutorial_base_dir):\n",
    "  !rm -R $tutorial_base_dir\n",
    "\n",
    "!git clone --single-branch --branch docs https://github.com/BlueBrain/nexus-bbp-domains.git\n",
    "os.chdir(\"/\".join([tutorial_base_dir,\"src/main/paradox/docs/bluebrainnexustutorialkcni/notebooks\"]))\n",
    "\n",
    "print(\"The working directory is now:\")\n",
    "!pwd\n",
    "\"\"\""
   ]
  },
  {
   "cell_type": "markdown",
   "metadata": {},
   "source": [
    "## Step 1: Create and configure a Nexus client"
   ]
  },
  {
   "cell_type": "code",
   "execution_count": 1,
   "metadata": {},
   "outputs": [
    {
     "name": "stdout",
     "output_type": "stream",
     "text": [
      "\u001b[33mWARNING: Retrying (Retry(total=4, connect=None, read=None, redirect=None, status=None)) after connection broken by 'NewConnectionError('<pip._vendor.urllib3.connection.VerifiedHTTPSConnection object at 0x1073f1910>: Failed to establish a new connection: [Errno 8] nodename nor servname provided, or not known')': /simple/nexus-sdk/\u001b[0m\n",
      "\u001b[33mWARNING: Retrying (Retry(total=3, connect=None, read=None, redirect=None, status=None)) after connection broken by 'NewConnectionError('<pip._vendor.urllib3.connection.VerifiedHTTPSConnection object at 0x1073f1310>: Failed to establish a new connection: [Errno 8] nodename nor servname provided, or not known')': /simple/nexus-sdk/\u001b[0m\n",
      "\u001b[33mWARNING: Retrying (Retry(total=2, connect=None, read=None, redirect=None, status=None)) after connection broken by 'NewConnectionError('<pip._vendor.urllib3.connection.VerifiedHTTPSConnection object at 0x1073f11d0>: Failed to establish a new connection: [Errno 8] nodename nor servname provided, or not known')': /simple/nexus-sdk/\u001b[0m\n",
      "\u001b[33mWARNING: Retrying (Retry(total=1, connect=None, read=None, redirect=None, status=None)) after connection broken by 'NewConnectionError('<pip._vendor.urllib3.connection.VerifiedHTTPSConnection object at 0x1073f18d0>: Failed to establish a new connection: [Errno 8] nodename nor servname provided, or not known')': /simple/nexus-sdk/\u001b[0m\n",
      "\u001b[33mWARNING: Retrying (Retry(total=0, connect=None, read=None, redirect=None, status=None)) after connection broken by 'NewConnectionError('<pip._vendor.urllib3.connection.VerifiedHTTPSConnection object at 0x1073f1950>: Failed to establish a new connection: [Errno 8] nodename nor servname provided, or not known')': /simple/nexus-sdk/\u001b[0m\n",
      "Requirement already up-to-date: nexus-sdk in /Users/mfsy/anaconda3/envs/kgforge_is_awesome/lib/python3.7/site-packages (0.3.2)\n",
      "Requirement already satisfied, skipping upgrade: puremagic in /Users/mfsy/anaconda3/envs/kgforge_is_awesome/lib/python3.7/site-packages (from nexus-sdk) (1.6)\n",
      "Requirement already satisfied, skipping upgrade: sseclient in /Users/mfsy/anaconda3/envs/kgforge_is_awesome/lib/python3.7/site-packages (from nexus-sdk) (0.0.24)\n",
      "Requirement already satisfied, skipping upgrade: requests in /Users/mfsy/anaconda3/envs/kgforge_is_awesome/lib/python3.7/site-packages (from nexus-sdk) (2.22.0)\n",
      "Requirement already satisfied, skipping upgrade: argparse in /Users/mfsy/anaconda3/envs/kgforge_is_awesome/lib/python3.7/site-packages (from puremagic->nexus-sdk) (1.4.0)\n",
      "Requirement already satisfied, skipping upgrade: six in /Users/mfsy/anaconda3/envs/kgforge_is_awesome/lib/python3.7/site-packages (from sseclient->nexus-sdk) (1.14.0)\n",
      "Requirement already satisfied, skipping upgrade: certifi>=2017.4.17 in /Users/mfsy/anaconda3/envs/kgforge_is_awesome/lib/python3.7/site-packages (from requests->nexus-sdk) (2019.11.28)\n",
      "Requirement already satisfied, skipping upgrade: idna<2.9,>=2.5 in /Users/mfsy/anaconda3/envs/kgforge_is_awesome/lib/python3.7/site-packages (from requests->nexus-sdk) (2.8)\n",
      "Requirement already satisfied, skipping upgrade: urllib3!=1.25.0,!=1.25.1,<1.26,>=1.21.1 in /Users/mfsy/anaconda3/envs/kgforge_is_awesome/lib/python3.7/site-packages (from requests->nexus-sdk) (1.25.8)\n",
      "Requirement already satisfied, skipping upgrade: chardet<3.1.0,>=3.0.2 in /Users/mfsy/anaconda3/envs/kgforge_is_awesome/lib/python3.7/site-packages (from requests->nexus-sdk) (3.0.4)\n"
     ]
    }
   ],
   "source": [
    "#install the Blue Brain Nexus python SDK\n",
    "!pip install -U nexus-sdk"
   ]
  },
  {
   "cell_type": "code",
   "execution_count": 2,
   "metadata": {},
   "outputs": [
    {
     "name": "stdout",
     "output_type": "stream",
     "text": [
      "\u001b[33mWARNING: Retrying (Retry(total=4, connect=None, read=None, redirect=None, status=None)) after connection broken by 'NewConnectionError('<pip._vendor.urllib3.connection.VerifiedHTTPSConnection object at 0x104feda10>: Failed to establish a new connection: [Errno 8] nodename nor servname provided, or not known')': /simple/sparqlwrapper/\u001b[0m\n",
      "\u001b[33mWARNING: Retrying (Retry(total=3, connect=None, read=None, redirect=None, status=None)) after connection broken by 'NewConnectionError('<pip._vendor.urllib3.connection.VerifiedHTTPSConnection object at 0x104ffa190>: Failed to establish a new connection: [Errno 8] nodename nor servname provided, or not known')': /simple/sparqlwrapper/\u001b[0m\n",
      "\u001b[33mWARNING: Retrying (Retry(total=2, connect=None, read=None, redirect=None, status=None)) after connection broken by 'NewConnectionError('<pip._vendor.urllib3.connection.VerifiedHTTPSConnection object at 0x1050165d0>: Failed to establish a new connection: [Errno 8] nodename nor servname provided, or not known')': /simple/sparqlwrapper/\u001b[0m\n",
      "\u001b[33mWARNING: Retrying (Retry(total=1, connect=None, read=None, redirect=None, status=None)) after connection broken by 'NewConnectionError('<pip._vendor.urllib3.connection.VerifiedHTTPSConnection object at 0x1050166d0>: Failed to establish a new connection: [Errno 8] nodename nor servname provided, or not known')': /simple/sparqlwrapper/\u001b[0m\n",
      "\u001b[33mWARNING: Retrying (Retry(total=0, connect=None, read=None, redirect=None, status=None)) after connection broken by 'NewConnectionError('<pip._vendor.urllib3.connection.VerifiedHTTPSConnection object at 0x105016790>: Failed to establish a new connection: [Errno 8] nodename nor servname provided, or not known')': /simple/sparqlwrapper/\u001b[0m\n",
      "Requirement already up-to-date: SPARQLWrapper in /Users/mfsy/anaconda3/envs/kgforge_is_awesome/lib/python3.7/site-packages (1.8.5)\n",
      "Requirement already satisfied, skipping upgrade: rdflib>=4.0 in /Users/mfsy/anaconda3/envs/kgforge_is_awesome/lib/python3.7/site-packages (from SPARQLWrapper) (4.2.2)\n",
      "Requirement already satisfied, skipping upgrade: pyparsing in /Users/mfsy/anaconda3/envs/kgforge_is_awesome/lib/python3.7/site-packages (from rdflib>=4.0->SPARQLWrapper) (2.4.6)\n",
      "Requirement already satisfied, skipping upgrade: isodate in /Users/mfsy/anaconda3/envs/kgforge_is_awesome/lib/python3.7/site-packages (from rdflib>=4.0->SPARQLWrapper) (0.6.0)\n",
      "Requirement already satisfied, skipping upgrade: six in /Users/mfsy/anaconda3/envs/kgforge_is_awesome/lib/python3.7/site-packages (from isodate->rdflib>=4.0->SPARQLWrapper) (1.14.0)\n"
     ]
    }
   ],
   "source": [
    "#install SPARQLWrapper\n",
    "!pip install -U validators"
   ]
  },
  {
   "cell_type": "code",
   "execution_count": null,
   "metadata": {},
   "outputs": [],
   "source": [
    "#install SPARQLWrapper\n",
    "!pip install -U SPARQLWrapper"
   ]
  },
  {
   "cell_type": "code",
   "execution_count": 4,
   "metadata": {},
   "outputs": [
    {
     "name": "stdout",
     "output_type": "stream",
     "text": [
      "········\n"
     ]
    }
   ],
   "source": [
    "#Set a token to authenticate to Nexus\n",
    "import getpass\n",
    "token = getpass.getpass()"
   ]
  },
  {
   "cell_type": "markdown",
   "metadata": {},
   "source": [
    "### Create a nexus client. Don't forget to replace \\$PROJECTLABEL with your own project label (project=...)"
   ]
  },
  {
   "cell_type": "code",
   "execution_count": 5,
   "metadata": {},
   "outputs": [],
   "source": [
    "#Configure a nexus client\n",
    "nexus_environment = \"https://sandbox.bluebrainnexus.io/v1\"\n",
    "org =\"tutorialnexus\"\n",
    "project =\"test_switch\"\n",
    "\n",
    "import nexussdk as nexus\n",
    "nexus.config.set_environment(nexus_environment)\n",
    "nexus.config.set_token(token)\n",
    "\n",
    "#The project default vocabulary\n",
    "vocab = \"%s/vocabs/%s/%s/\"%(nexus_environment, org, project)"
   ]
  },
  {
   "cell_type": "code",
   "execution_count": 11,
   "metadata": {},
   "outputs": [],
   "source": [
    "from pygments.lexers import JsonLdLexer\n",
    "from pygments import highlight\n",
    "from pygments.formatters import TerminalFormatter, TerminalTrueColorFormatter\n",
    "import json\n",
    "import requests\n",
    "import rdflib, json\n",
    "from rdflib.extras.external_graph_libs import rdflib_to_networkx_digraph\n",
    "import validators\n",
    "import networkx as nx\n",
    "from pyvis.network import Network as pyvisnx\n",
    "from pyvis import network as net"
   ]
  },
  {
   "cell_type": "code",
   "execution_count": 12,
   "metadata": {},
   "outputs": [
    {
     "name": "stdout",
     "output_type": "stream",
     "text": [
      "The autoreload extension is already loaded. To reload it, use:\n",
      "  %reload_ext autoreload\n"
     ]
    }
   ],
   "source": [
    "from sparqlendpointhelper import SparqlViewHelper\n",
    "\n",
    "%load_ext autoreload\n",
    "%autoreload 1\n",
    "%aimport sparqlendpointhelper\n",
    "%aimport utils\n",
    "%reload_ext autoreload\n"
   ]
  },
  {
   "cell_type": "markdown",
   "metadata": {},
   "source": [
    "### Create a SPARQL helper to be used for running queries "
   ]
  },
  {
   "cell_type": "code",
   "execution_count": 8,
   "metadata": {},
   "outputs": [],
   "source": [
    "sparqlview_endpoint = nexus_environment+\"/views/\"+org+\"/\"+project+\"/graph/sparql\"\n",
    "sparqlviewhelper = SparqlViewHelper(sparqlview_endpoint,nexus_environment, org, project, token)"
   ]
  },
  {
   "cell_type": "markdown",
   "metadata": {},
   "source": [
    "### Import the schema.org context"
   ]
  },
  {
   "cell_type": "markdown",
   "metadata": {},
   "source": [
    "The following calls will create a jsonld context (identified by http://schema.org) resource importing the schema.org context available [here](https://schema.org/docs/jsonldcontext.json)."
   ]
  },
  {
   "cell_type": "code",
   "execution_count": 23,
   "metadata": {},
   "outputs": [
    {
     "name": "stdout",
     "output_type": "stream",
     "text": [
      "{\n",
      "    \u001b[94m\"@context\"\u001b[39;49;00m: \u001b[33m\"https://bluebrain.github.io/nexus/contexts/resource.json\"\u001b[39;49;00m,\n",
      "    \u001b[94m\"@id\"\u001b[39;49;00m: \u001b[33m\"http://schema.org\"\u001b[39;49;00m,\n",
      "    \u001b[94m\"_self\"\u001b[39;49;00m: \u001b[33m\"https://sandbox.bluebrainnexus.io/v1/resources/tutorialnexus/test_switch/_/http%3A%2F%2Fschema.org\"\u001b[39;49;00m,\n",
      "    \u001b[94m\"_constrainedBy\"\u001b[39;49;00m: \u001b[33m\"https://bluebrain.github.io/nexus/schemas/unconstrained.json\"\u001b[39;49;00m,\n",
      "    \u001b[94m\"_project\"\u001b[39;49;00m: \u001b[33m\"https://sandbox.bluebrainnexus.io/v1/projects/tutorialnexus/test_switch\"\u001b[39;49;00m,\n",
      "    \u001b[94m\"_rev\"\u001b[39;49;00m: \u001b[34m1\u001b[39;49;00m,\n",
      "    \u001b[94m\"_deprecated\"\u001b[39;49;00m: \u001b[34mfalse\u001b[39;49;00m,\n",
      "    \u001b[94m\"_createdAt\"\u001b[39;49;00m: \u001b[33m\"2020-05-04T23:39:23.631532Z\"\u001b[39;49;00m,\n",
      "    \u001b[94m\"_createdBy\"\u001b[39;49;00m: \u001b[33m\"https://sandbox.bluebrainnexus.io/v1/realms/github/users/mfsy\"\u001b[39;49;00m,\n",
      "    \u001b[94m\"_updatedAt\"\u001b[39;49;00m: \u001b[33m\"2020-05-04T23:39:23.631532Z\"\u001b[39;49;00m,\n",
      "    \u001b[94m\"_updatedBy\"\u001b[39;49;00m: \u001b[33m\"https://sandbox.bluebrainnexus.io/v1/realms/github/users/mfsy\"\u001b[39;49;00m,\n",
      "    \u001b[94m\"_incoming\"\u001b[39;49;00m: \u001b[33m\"https://sandbox.bluebrainnexus.io/v1/resources/tutorialnexus/test_switch/_/http%3A%2F%2Fschema.org/incoming\"\u001b[39;49;00m,\n",
      "    \u001b[94m\"_outgoing\"\u001b[39;49;00m: \u001b[33m\"https://sandbox.bluebrainnexus.io/v1/resources/tutorialnexus/test_switch/_/http%3A%2F%2Fschema.org/outgoing\"\u001b[39;49;00m\n",
      "}\n",
      "\n"
     ]
    }
   ],
   "source": [
    "schemaorg_context_address = \"https://schema.org/docs/jsonldcontext.json\"\n",
    "response = requests.get(schemaorg_context_address)\n",
    "schemaorg_context = response.json()\n",
    "#print(schemaorg_context)\n",
    "schemaorg_context[\"@id\"]=\"http://schema.org\"\n",
    "create_response = utils.create_resource(nexus,schemaorg_context,org,project)\n",
    "utils.pretty_print(create_response)\n"
   ]
  },
  {
   "cell_type": "markdown",
   "metadata": {},
   "source": [
    "## Step 2: Create a Person entity"
   ]
  },
  {
   "cell_type": "markdown",
   "metadata": {},
   "source": [
    "Let define an entity of type Person as follows:\n",
    "\n",
    "* A person is an entity of type Person (@type value)\n",
    "* A person has an identifier (@id value)\n",
    "* A person has a family name (familyName value), a given name (givenName value) and a job title (jobTitle value)\n",
    "* A person has a job\n"
   ]
  },
  {
   "cell_type": "code",
   "execution_count": 29,
   "metadata": {},
   "outputs": [
    {
     "name": "stdout",
     "output_type": "stream",
     "text": [
      "{\n",
      "    \u001b[94m\"@context\"\u001b[39;49;00m: \u001b[33m\"https://bluebrain.github.io/nexus/contexts/resource.json\"\u001b[39;49;00m,\n",
      "    \u001b[94m\"@id\"\u001b[39;49;00m: \u001b[33m\"http://your/id/heresssss\"\u001b[39;49;00m,\n",
      "    \u001b[94m\"@type\"\u001b[39;49;00m: \u001b[33m\"http://schema.org/Person\"\u001b[39;49;00m,\n",
      "    \u001b[94m\"_self\"\u001b[39;49;00m: \u001b[33m\"https://sandbox.bluebrainnexus.io/v1/resources/tutorialnexus/test_switch/_/http%3A%2F%2Fyour%2Fid%2Fheresssss\"\u001b[39;49;00m,\n",
      "    \u001b[94m\"_constrainedBy\"\u001b[39;49;00m: \u001b[33m\"https://bluebrain.github.io/nexus/schemas/unconstrained.json\"\u001b[39;49;00m,\n",
      "    \u001b[94m\"_project\"\u001b[39;49;00m: \u001b[33m\"https://sandbox.bluebrainnexus.io/v1/projects/tutorialnexus/test_switch\"\u001b[39;49;00m,\n",
      "    \u001b[94m\"_rev\"\u001b[39;49;00m: \u001b[34m1\u001b[39;49;00m,\n",
      "    \u001b[94m\"_deprecated\"\u001b[39;49;00m: \u001b[34mfalse\u001b[39;49;00m,\n",
      "    \u001b[94m\"_createdAt\"\u001b[39;49;00m: \u001b[33m\"2020-05-05T10:47:30.881579Z\"\u001b[39;49;00m,\n",
      "    \u001b[94m\"_createdBy\"\u001b[39;49;00m: \u001b[33m\"https://sandbox.bluebrainnexus.io/v1/realms/github/users/mfsy\"\u001b[39;49;00m,\n",
      "    \u001b[94m\"_updatedAt\"\u001b[39;49;00m: \u001b[33m\"2020-05-05T10:47:30.881579Z\"\u001b[39;49;00m,\n",
      "    \u001b[94m\"_updatedBy\"\u001b[39;49;00m: \u001b[33m\"https://sandbox.bluebrainnexus.io/v1/realms/github/users/mfsy\"\u001b[39;49;00m,\n",
      "    \u001b[94m\"_incoming\"\u001b[39;49;00m: \u001b[33m\"https://sandbox.bluebrainnexus.io/v1/resources/tutorialnexus/test_switch/_/http%3A%2F%2Fyour%2Fid%2Fheresssss/incoming\"\u001b[39;49;00m,\n",
      "    \u001b[94m\"_outgoing\"\u001b[39;49;00m: \u001b[33m\"https://sandbox.bluebrainnexus.io/v1/resources/tutorialnexus/test_switch/_/http%3A%2F%2Fyour%2Fid%2Fheresssss/outgoing\"\u001b[39;49;00m\n",
      "}\n",
      "\n"
     ]
    }
   ],
   "source": [
    "# Use an orcid identifier if you have one, or your github id\n",
    "person ={\n",
    "    \"@context\":\"http://schema.org\",\n",
    "    \"@id\":\"http://your/id/heresssss\",\n",
    "    \"@type\":\"Person\",\n",
    "    \"familyName\":\"your familly name here\",\n",
    "    \"givenName\":\"your given name here\",\n",
    "    \"jobTitle\":\"job title\"\n",
    "} \n",
    "\n",
    "response = utils.create_resource(nexus,person,org,project)\n",
    "utils.pretty_print(response)\n"
   ]
  },
  {
   "cell_type": "markdown",
   "metadata": {},
   "source": [
    "## Step 3: Create an article entity and link it to the Person entity as author"
   ]
  },
  {
   "cell_type": "markdown",
   "metadata": {},
   "source": [
    "The knowledge Graph now contains a single entity of type Person. Let add to the knowledge graph one scholarly article (publication) authored by the person entity:\n",
    "\n",
    "* A scholarly article is  an entity of type ScholarlyArticle (@type value)\n",
    "* A scholarly article has an identifier (@id value)\n",
    "* A scholarly article has a name (name value)\n",
    "* A scholarly article has a publishing date (datePublished value)\n"
   ]
  },
  {
   "cell_type": "markdown",
   "metadata": {},
   "source": [
    "###  Create a ScholarlyArticle entity"
   ]
  },
  {
   "cell_type": "code",
   "execution_count": 30,
   "metadata": {},
   "outputs": [
    {
     "name": "stdout",
     "output_type": "stream",
     "text": [
      "{\"@context\":\"https://bluebrain.github.io/nexus/contexts/error.json\",\"@type\":\"ResourceAlreadyExists\",\"reason\":\"Resource 'https://doi.org/10.1016/j.cell.2015.09.029' already exists.\"}\n",
      "{\n",
      "    \u001b[94m\"@context\"\u001b[39;49;00m: \u001b[33m\"https://bluebrain.github.io/nexus/contexts/error.json\"\u001b[39;49;00m,\n",
      "    \u001b[94m\"@type\"\u001b[39;49;00m: \u001b[33m\"ResourceAlreadyExists\"\u001b[39;49;00m,\n",
      "    \u001b[94m\"reason\"\u001b[39;49;00m: \u001b[33m\"Resource 'https://doi.org/10.1016/j.cell.2015.09.029' already exists.\"\u001b[39;49;00m\n",
      "}\n",
      "\n"
     ]
    }
   ],
   "source": [
    "#Let create an entity describing a publication with a doi: https://doi.org/10.1186/1471-2105-13-s1-s4\n",
    "scholarly_article ={\n",
    "    \"@context\":\"http://schema.org\",\n",
    "    \"@type\":\"ScholarlyArticle\",\n",
    "    \"@id\":\"https://doi.org/10.1016/j.cell.2015.09.029\",\n",
    "    \"name\":\"Reconstruction and Simulation of Neocortical Microcircuitry\",\n",
    "    \"datePublished\":\"2015-10\"\n",
    "} \n",
    "\n",
    "response = utils.create_resource(nexus,scholarly_article,org,project)\n",
    "utils.pretty_print(response)"
   ]
  },
  {
   "cell_type": "markdown",
   "metadata": {},
   "source": [
    "###  Link the Person and the ScholarlyArticle entity with authorship"
   ]
  },
  {
   "cell_type": "code",
   "execution_count": 31,
   "metadata": {},
   "outputs": [
    {
     "name": "stdout",
     "output_type": "stream",
     "text": [
      "{\n",
      "    \u001b[94m\"@context\"\u001b[39;49;00m: \u001b[33m\"https://bluebrain.github.io/nexus/contexts/resource.json\"\u001b[39;49;00m,\n",
      "    \u001b[94m\"@id\"\u001b[39;49;00m: \u001b[33m\"https://doi.org/10.1016/j.cell.2015.09.029\"\u001b[39;49;00m,\n",
      "    \u001b[94m\"@type\"\u001b[39;49;00m: \u001b[33m\"http://schema.org/ScholarlyArticle\"\u001b[39;49;00m,\n",
      "    \u001b[94m\"_self\"\u001b[39;49;00m: \u001b[33m\"https://sandbox.bluebrainnexus.io/v1/resources/tutorialnexus/test_switch/_/https%3A%2F%2Fdoi.org%2F10.1016%2Fj.cell.2015.09.029\"\u001b[39;49;00m,\n",
      "    \u001b[94m\"_constrainedBy\"\u001b[39;49;00m: \u001b[33m\"https://bluebrain.github.io/nexus/schemas/unconstrained.json\"\u001b[39;49;00m,\n",
      "    \u001b[94m\"_project\"\u001b[39;49;00m: \u001b[33m\"https://sandbox.bluebrainnexus.io/v1/projects/tutorialnexus/test_switch\"\u001b[39;49;00m,\n",
      "    \u001b[94m\"_rev\"\u001b[39;49;00m: \u001b[34m2\u001b[39;49;00m,\n",
      "    \u001b[94m\"_deprecated\"\u001b[39;49;00m: \u001b[34mfalse\u001b[39;49;00m,\n",
      "    \u001b[94m\"_createdAt\"\u001b[39;49;00m: \u001b[33m\"2020-05-05T10:47:18.771804Z\"\u001b[39;49;00m,\n",
      "    \u001b[94m\"_createdBy\"\u001b[39;49;00m: \u001b[33m\"https://sandbox.bluebrainnexus.io/v1/realms/github/users/mfsy\"\u001b[39;49;00m,\n",
      "    \u001b[94m\"_updatedAt\"\u001b[39;49;00m: \u001b[33m\"2020-05-05T10:47:39.610655Z\"\u001b[39;49;00m,\n",
      "    \u001b[94m\"_updatedBy\"\u001b[39;49;00m: \u001b[33m\"https://sandbox.bluebrainnexus.io/v1/realms/github/users/mfsy\"\u001b[39;49;00m,\n",
      "    \u001b[94m\"_incoming\"\u001b[39;49;00m: \u001b[33m\"https://sandbox.bluebrainnexus.io/v1/resources/tutorialnexus/test_switch/_/https%3A%2F%2Fdoi.org%2F10.1016%2Fj.cell.2015.09.029/incoming\"\u001b[39;49;00m,\n",
      "    \u001b[94m\"_outgoing\"\u001b[39;49;00m: \u001b[33m\"https://sandbox.bluebrainnexus.io/v1/resources/tutorialnexus/test_switch/_/https%3A%2F%2Fdoi.org%2F10.1016%2Fj.cell.2015.09.029/outgoing\"\u001b[39;49;00m\n",
      "}\n",
      "\n"
     ]
    }
   ],
   "source": [
    "# A reference to the Person identifier (value of @id) is enough to link with the article\n",
    "# Note the revision value change (should be \"_rev\": 2) after an update\n",
    "scholarly_article[\"author\"]={\n",
    "    \"@id\":person[\"@id\"]\n",
    "}\n",
    "response = utils.update_resource(nexus,scholarly_article[\"@id\"],scholarly_article,org,project)\n",
    "utils.pretty_print(response)"
   ]
  },
  {
   "cell_type": "markdown",
   "metadata": {},
   "source": [
    "###  Fetch the ScholarlyArticle by identifier to view the update "
   ]
  },
  {
   "cell_type": "code",
   "execution_count": 32,
   "metadata": {},
   "outputs": [
    {
     "name": "stdout",
     "output_type": "stream",
     "text": [
      "{\n",
      "    \u001b[94m\"@context\"\u001b[39;49;00m: [\n",
      "        \u001b[33m\"http://schema.org\"\u001b[39;49;00m,\n",
      "        \u001b[33m\"https://bluebrain.github.io/nexus/contexts/resource.json\"\u001b[39;49;00m\n",
      "    ],\n",
      "    \u001b[94m\"author\"\u001b[39;49;00m: {\n",
      "        \u001b[94m\"id\"\u001b[39;49;00m: \u001b[33m\"http://your/id/heresssss\"\u001b[39;49;00m\n",
      "    },\n",
      "    \u001b[94m\"datePublished\"\u001b[39;49;00m: \u001b[33m\"2015-10\"\u001b[39;49;00m,\n",
      "    \u001b[94m\"id\"\u001b[39;49;00m: \u001b[33m\"https://doi.org/10.1016/j.cell.2015.09.029\"\u001b[39;49;00m,\n",
      "    \u001b[94m\"name\"\u001b[39;49;00m: \u001b[33m\"Reconstruction and Simulation of Neocortical Microcircuitry\"\u001b[39;49;00m,\n",
      "    \u001b[94m\"type\"\u001b[39;49;00m: \u001b[33m\"ScholarlyArticle\"\u001b[39;49;00m,\n",
      "    \u001b[94m\"_self\"\u001b[39;49;00m: \u001b[33m\"https://sandbox.bluebrainnexus.io/v1/resources/tutorialnexus/test_switch/_/https%3A%2F%2Fdoi.org%2F10.1016%2Fj.cell.2015.09.029\"\u001b[39;49;00m,\n",
      "    \u001b[94m\"_constrainedBy\"\u001b[39;49;00m: \u001b[33m\"https://bluebrain.github.io/nexus/schemas/unconstrained.json\"\u001b[39;49;00m,\n",
      "    \u001b[94m\"_project\"\u001b[39;49;00m: \u001b[33m\"https://sandbox.bluebrainnexus.io/v1/projects/tutorialnexus/test_switch\"\u001b[39;49;00m,\n",
      "    \u001b[94m\"_rev\"\u001b[39;49;00m: \u001b[34m2\u001b[39;49;00m,\n",
      "    \u001b[94m\"_deprecated\"\u001b[39;49;00m: \u001b[34mfalse\u001b[39;49;00m,\n",
      "    \u001b[94m\"_createdAt\"\u001b[39;49;00m: \u001b[33m\"2020-05-05T10:47:18.771804Z\"\u001b[39;49;00m,\n",
      "    \u001b[94m\"_createdBy\"\u001b[39;49;00m: \u001b[33m\"https://sandbox.bluebrainnexus.io/v1/realms/github/users/mfsy\"\u001b[39;49;00m,\n",
      "    \u001b[94m\"_updatedAt\"\u001b[39;49;00m: \u001b[33m\"2020-05-05T10:47:39.610655Z\"\u001b[39;49;00m,\n",
      "    \u001b[94m\"_updatedBy\"\u001b[39;49;00m: \u001b[33m\"https://sandbox.bluebrainnexus.io/v1/realms/github/users/mfsy\"\u001b[39;49;00m,\n",
      "    \u001b[94m\"_incoming\"\u001b[39;49;00m: \u001b[33m\"https://sandbox.bluebrainnexus.io/v1/resources/tutorialnexus/test_switch/_/https%3A%2F%2Fdoi.org%2F10.1016%2Fj.cell.2015.09.029/incoming\"\u001b[39;49;00m,\n",
      "    \u001b[94m\"_outgoing\"\u001b[39;49;00m: \u001b[33m\"https://sandbox.bluebrainnexus.io/v1/resources/tutorialnexus/test_switch/_/https%3A%2F%2Fdoi.org%2F10.1016%2Fj.cell.2015.09.029/outgoing\"\u001b[39;49;00m\n",
      "}\n",
      "\n"
     ]
    }
   ],
   "source": [
    "response = utils.fetch_resource(nexus,scholarly_article[\"@id\"],org,project)\n",
    "utils.pretty_print(response)"
   ]
  },
  {
   "cell_type": "code",
   "execution_count": 48,
   "metadata": {},
   "outputs": [
    {
     "name": "stdout",
     "output_type": "stream",
     "text": [
      "{\n",
      "    \u001b[94m\"@context\"\u001b[39;49;00m: \u001b[33m\"https://bluebrain.github.io/nexus/contexts/resource.json\"\u001b[39;49;00m,\n",
      "    \u001b[94m\"@id\"\u001b[39;49;00m: \u001b[33m\"https://www.grid.ac/institutes/grid.5333.6\"\u001b[39;49;00m,\n",
      "    \u001b[94m\"@type\"\u001b[39;49;00m: \u001b[33m\"http://schema.org/Organization\"\u001b[39;49;00m,\n",
      "    \u001b[94m\"_self\"\u001b[39;49;00m: \u001b[33m\"https://sandbox.bluebrainnexus.io/v1/resources/tutorialnexus/test_switch/_/https%3A%2F%2Fwww.grid.ac%2Finstitutes%2Fgrid.5333.6\"\u001b[39;49;00m,\n",
      "    \u001b[94m\"_constrainedBy\"\u001b[39;49;00m: \u001b[33m\"https://bluebrain.github.io/nexus/schemas/unconstrained.json\"\u001b[39;49;00m,\n",
      "    \u001b[94m\"_project\"\u001b[39;49;00m: \u001b[33m\"https://sandbox.bluebrainnexus.io/v1/projects/tutorialnexus/test_switch\"\u001b[39;49;00m,\n",
      "    \u001b[94m\"_rev\"\u001b[39;49;00m: \u001b[34m2\u001b[39;49;00m,\n",
      "    \u001b[94m\"_deprecated\"\u001b[39;49;00m: \u001b[34mfalse\u001b[39;49;00m,\n",
      "    \u001b[94m\"_createdAt\"\u001b[39;49;00m: \u001b[33m\"2020-05-05T10:57:44.422943Z\"\u001b[39;49;00m,\n",
      "    \u001b[94m\"_createdBy\"\u001b[39;49;00m: \u001b[33m\"https://sandbox.bluebrainnexus.io/v1/realms/github/users/mfsy\"\u001b[39;49;00m,\n",
      "    \u001b[94m\"_updatedAt\"\u001b[39;49;00m: \u001b[33m\"2020-05-05T11:03:52.955168Z\"\u001b[39;49;00m,\n",
      "    \u001b[94m\"_updatedBy\"\u001b[39;49;00m: \u001b[33m\"https://sandbox.bluebrainnexus.io/v1/realms/github/users/mfsy\"\u001b[39;49;00m,\n",
      "    \u001b[94m\"_incoming\"\u001b[39;49;00m: \u001b[33m\"https://sandbox.bluebrainnexus.io/v1/resources/tutorialnexus/test_switch/_/https%3A%2F%2Fwww.grid.ac%2Finstitutes%2Fgrid.5333.6/incoming\"\u001b[39;49;00m,\n",
      "    \u001b[94m\"_outgoing\"\u001b[39;49;00m: \u001b[33m\"https://sandbox.bluebrainnexus.io/v1/resources/tutorialnexus/test_switch/_/https%3A%2F%2Fwww.grid.ac%2Finstitutes%2Fgrid.5333.6/outgoing\"\u001b[39;49;00m\n",
      "}\n",
      "\n"
     ]
    }
   ],
   "source": [
    "#Let create an entity describing a publication with a doi: https://doi.org/10.1186/1471-2105-13-s1-s4\n",
    "organisation ={\n",
    "    \"@context\":\"http://schema.org\",\n",
    "    \"@type\":\"Organization\",\n",
    "    \"@id\":\"https://www.grid.ac/institutes/grid.5333.6\",\n",
    "    \"identifier\":\"grid.5333.6\",\n",
    "    \"name\":\"École Polytechnique Fédérale de Lausanne\",\n",
    "    \"acronym\":\"EPFL\"\n",
    "} \n",
    "\n",
    "response = utils.create_resource(nexus,organisation,org,project)\n",
    "utils.pretty_print(response)"
   ]
  },
  {
   "cell_type": "code",
   "execution_count": 41,
   "metadata": {},
   "outputs": [
    {
     "data": {
      "text/html": [
       "<div>\n",
       "<style scoped>\n",
       "    .dataframe tbody tr th:only-of-type {\n",
       "        vertical-align: middle;\n",
       "    }\n",
       "\n",
       "    .dataframe tbody tr th {\n",
       "        vertical-align: top;\n",
       "    }\n",
       "\n",
       "    .dataframe thead th {\n",
       "        text-align: right;\n",
       "    }\n",
       "</style>\n",
       "<table border=\"1\" class=\"dataframe\">\n",
       "  <thead>\n",
       "    <tr style=\"text-align: right;\">\n",
       "      <th></th>\n",
       "      <th>s</th>\n",
       "      <th>p</th>\n",
       "      <th>o</th>\n",
       "    </tr>\n",
       "  </thead>\n",
       "  <tbody>\n",
       "    <tr>\n",
       "      <th>0</th>\n",
       "      <td>https://doi.org/10.1016/j.cell.2015.09.029</td>\n",
       "      <td>http://schema.org/datePublished</td>\n",
       "      <td>2015-10</td>\n",
       "    </tr>\n",
       "    <tr>\n",
       "      <th>1</th>\n",
       "      <td>https://doi.org/10.1016/j.cell.2015.09.029</td>\n",
       "      <td>http://schema.org/name</td>\n",
       "      <td>Reconstruction and Simulation of Neocortical Microcircuitry</td>\n",
       "    </tr>\n",
       "    <tr>\n",
       "      <th>2</th>\n",
       "      <td>https://doi.org/10.1016/j.cell.2015.09.029</td>\n",
       "      <td>http://schema.org/author</td>\n",
       "      <td>http://your/id/heresssss</td>\n",
       "    </tr>\n",
       "    <tr>\n",
       "      <th>3</th>\n",
       "      <td>https://doi.org/10.1016/j.cell.2015.09.029</td>\n",
       "      <td>http://www.w3.org/1999/02/22-rdf-syntax-ns#type</td>\n",
       "      <td>http://schema.org/ScholarlyArticle</td>\n",
       "    </tr>\n",
       "    <tr>\n",
       "      <th>4</th>\n",
       "      <td>http://your/id/heresssss</td>\n",
       "      <td>http://schema.org/familyName</td>\n",
       "      <td>your familly name here</td>\n",
       "    </tr>\n",
       "    <tr>\n",
       "      <th>5</th>\n",
       "      <td>http://your/id/heresssss</td>\n",
       "      <td>http://schema.org/givenName</td>\n",
       "      <td>your given name here</td>\n",
       "    </tr>\n",
       "    <tr>\n",
       "      <th>6</th>\n",
       "      <td>http://your/id/heresssss</td>\n",
       "      <td>http://schema.org/jobTitle</td>\n",
       "      <td>job title</td>\n",
       "    </tr>\n",
       "    <tr>\n",
       "      <th>7</th>\n",
       "      <td>http://your/id/heresssss</td>\n",
       "      <td>http://schema.org/affiliation</td>\n",
       "      <td>https://www.grid.ac/institutes/grid.5333.6</td>\n",
       "    </tr>\n",
       "    <tr>\n",
       "      <th>8</th>\n",
       "      <td>http://your/id/heresssss</td>\n",
       "      <td>http://www.w3.org/1999/02/22-rdf-syntax-ns#type</td>\n",
       "      <td>http://schema.org/Person</td>\n",
       "    </tr>\n",
       "    <tr>\n",
       "      <th>9</th>\n",
       "      <td>https://www.grid.ac/institutes/grid.5333.6</td>\n",
       "      <td>http://schema.org/name</td>\n",
       "      <td>École Polytechnique Fédérale de Lausanne</td>\n",
       "    </tr>\n",
       "    <tr>\n",
       "      <th>10</th>\n",
       "      <td>https://www.grid.ac/institutes/grid.5333.6</td>\n",
       "      <td>http://schema.org/identifier</td>\n",
       "      <td>grid.5333.6</td>\n",
       "    </tr>\n",
       "    <tr>\n",
       "      <th>11</th>\n",
       "      <td>https://www.grid.ac/institutes/grid.5333.6</td>\n",
       "      <td>http://schema.org/acronym</td>\n",
       "      <td>EPFL</td>\n",
       "    </tr>\n",
       "    <tr>\n",
       "      <th>12</th>\n",
       "      <td>https://www.grid.ac/institutes/grid.5333.6</td>\n",
       "      <td>http://www.w3.org/1999/02/22-rdf-syntax-ns#type</td>\n",
       "      <td>http://schema.org/Organization</td>\n",
       "    </tr>\n",
       "  </tbody>\n",
       "</table>\n",
       "</div>"
      ],
      "text/plain": [
       "                                             s  \\\n",
       "0   https://doi.org/10.1016/j.cell.2015.09.029   \n",
       "1   https://doi.org/10.1016/j.cell.2015.09.029   \n",
       "2   https://doi.org/10.1016/j.cell.2015.09.029   \n",
       "3   https://doi.org/10.1016/j.cell.2015.09.029   \n",
       "4   http://your/id/heresssss                     \n",
       "5   http://your/id/heresssss                     \n",
       "6   http://your/id/heresssss                     \n",
       "7   http://your/id/heresssss                     \n",
       "8   http://your/id/heresssss                     \n",
       "9   https://www.grid.ac/institutes/grid.5333.6   \n",
       "10  https://www.grid.ac/institutes/grid.5333.6   \n",
       "11  https://www.grid.ac/institutes/grid.5333.6   \n",
       "12  https://www.grid.ac/institutes/grid.5333.6   \n",
       "\n",
       "                                                  p  \\\n",
       "0   http://schema.org/datePublished                   \n",
       "1   http://schema.org/name                            \n",
       "2   http://schema.org/author                          \n",
       "3   http://www.w3.org/1999/02/22-rdf-syntax-ns#type   \n",
       "4   http://schema.org/familyName                      \n",
       "5   http://schema.org/givenName                       \n",
       "6   http://schema.org/jobTitle                        \n",
       "7   http://schema.org/affiliation                     \n",
       "8   http://www.w3.org/1999/02/22-rdf-syntax-ns#type   \n",
       "9   http://schema.org/name                            \n",
       "10  http://schema.org/identifier                      \n",
       "11  http://schema.org/acronym                         \n",
       "12  http://www.w3.org/1999/02/22-rdf-syntax-ns#type   \n",
       "\n",
       "                                                              o  \n",
       "0   2015-10                                                      \n",
       "1   Reconstruction and Simulation of Neocortical Microcircuitry  \n",
       "2   http://your/id/heresssss                                     \n",
       "3   http://schema.org/ScholarlyArticle                           \n",
       "4   your familly name here                                       \n",
       "5   your given name here                                         \n",
       "6   job title                                                    \n",
       "7   https://www.grid.ac/institutes/grid.5333.6                   \n",
       "8   http://schema.org/Person                                     \n",
       "9   École Polytechnique Fédérale de Lausanne                     \n",
       "10  grid.5333.6                                                  \n",
       "11  EPFL                                                         \n",
       "12  http://schema.org/Organization                               "
      ]
     },
     "metadata": {},
     "output_type": "display_data"
    }
   ],
   "source": [
    "#Let display all triples\n",
    "\n",
    "all_triples = \"\"\"\n",
    "Select *\n",
    " WHERE  {\n",
    "    ?s ?p ?o.\n",
    "    \n",
    "    FILTER (isURI(?p) && ! STRSTARTS(str(?p), \"https://bluebrain.github.io/nexus/vocabulary/\" ) ).\n",
    "    FILTER (isURI(?s) && ! STRSTARTS(str(?s), \"https://bluebrain.github.io/nexus/vocabulary/\" ) ).\n",
    "    \n",
    "} LIMIT 20\n",
    "\"\"\"\n",
    "\n",
    "results_df = sparqlviewhelper.query_sparql(org_with_properties,result_format = \"DATAFRAME\")\n",
    "display(results_df.head(100))\n"
   ]
  },
  {
   "cell_type": "markdown",
   "metadata": {},
   "source": [
    "##  Step 4: Update the Person entity to add its affiliation"
   ]
  },
  {
   "cell_type": "markdown",
   "metadata": {},
   "source": [
    "Let update the person entity with an affiliation information. We will use EPFL as an affiliation and link to the person entity via \"affiliation\" propoerty.\n",
    "\n",
    "In this step, we'll:\n",
    "\n",
    "* Search for the EPFL organization entity and retrieve its identifier\n",
    "* Update the person entity affiliation to point to the EPFL entity"
   ]
  },
  {
   "cell_type": "markdown",
   "metadata": {},
   "source": [
    "### Search for the EPFL organization entity and retrieve its identifier and name\n",
    "\n",
    "The query below is a SPARQL query. Most SPARQL queries you'll see will have the anotomy above with:\n",
    "\n",
    "* a SELECT clause that let you select the variables you want to retrieve\n",
    "* a WHERE clause defining a set of constraints that the variables should satisfy to be retrieved\n",
    "* LIMIT and OFFSET clauses to enable pagination\n",
    "* the constraints are usually graph patterns in the form of triple (?s for subject, ?p for property and ?o for ?object)"
   ]
  },
  {
   "cell_type": "code",
   "execution_count": 49,
   "metadata": {},
   "outputs": [
    {
     "data": {
      "text/html": [
       "<div>\n",
       "<style scoped>\n",
       "    .dataframe tbody tr th:only-of-type {\n",
       "        vertical-align: middle;\n",
       "    }\n",
       "\n",
       "    .dataframe tbody tr th {\n",
       "        vertical-align: top;\n",
       "    }\n",
       "\n",
       "    .dataframe thead th {\n",
       "        text-align: right;\n",
       "    }\n",
       "</style>\n",
       "<table border=\"1\" class=\"dataframe\">\n",
       "  <thead>\n",
       "    <tr style=\"text-align: right;\">\n",
       "      <th></th>\n",
       "      <th>institute</th>\n",
       "      <th>name</th>\n",
       "      <th>grid_id</th>\n",
       "    </tr>\n",
       "  </thead>\n",
       "  <tbody>\n",
       "    <tr>\n",
       "      <th>0</th>\n",
       "      <td>https://www.grid.ac/institutes/grid.5333.6</td>\n",
       "      <td>École Polytechnique Fédérale de Lausanne</td>\n",
       "      <td>grid.5333.6</td>\n",
       "    </tr>\n",
       "  </tbody>\n",
       "</table>\n",
       "</div>"
      ],
      "text/plain": [
       "                                    institute  \\\n",
       "0  https://www.grid.ac/institutes/grid.5333.6   \n",
       "\n",
       "                                       name      grid_id  \n",
       "0  École Polytechnique Fédérale de Lausanne  grid.5333.6  "
      ]
     },
     "metadata": {},
     "output_type": "display_data"
    }
   ],
   "source": [
    "acronym = \"\\\"EPFL\\\"\"\n",
    "\n",
    "\n",
    "epfl_query = \"\"\"\n",
    "Select  ?institute  ?name ?grid_id\n",
    "WHERE {\n",
    "    ?institute schema:acronym %s.\n",
    "    ?institute a schema:Organization.\n",
    "    ?institute schema:identifier ?grid_id . \n",
    "    ?institute schema:name ?name . \n",
    "}\n",
    "LIMIT 100\n",
    "\"\"\" % (acronym)\n",
    "\n",
    "orgs_df = sparqlviewhelper.query_sparql(epfl_query,result_format = \"DATAFRAME\")\n",
    "display(orgs_df.head(100))"
   ]
  },
  {
   "cell_type": "markdown",
   "metadata": {},
   "source": [
    "### Update the person entity affiliation to point to the EPFL entity"
   ]
  },
  {
   "cell_type": "code",
   "execution_count": 50,
   "metadata": {},
   "outputs": [
    {
     "name": "stdout",
     "output_type": "stream",
     "text": [
      "{\n",
      "    \u001b[94m\"@context\"\u001b[39;49;00m: \u001b[33m\"https://bluebrain.github.io/nexus/contexts/resource.json\"\u001b[39;49;00m,\n",
      "    \u001b[94m\"@id\"\u001b[39;49;00m: \u001b[33m\"http://your/id/heresssss\"\u001b[39;49;00m,\n",
      "    \u001b[94m\"@type\"\u001b[39;49;00m: \u001b[33m\"http://schema.org/Person\"\u001b[39;49;00m,\n",
      "    \u001b[94m\"_self\"\u001b[39;49;00m: \u001b[33m\"https://sandbox.bluebrainnexus.io/v1/resources/tutorialnexus/test_switch/_/http%3A%2F%2Fyour%2Fid%2Fheresssss\"\u001b[39;49;00m,\n",
      "    \u001b[94m\"_constrainedBy\"\u001b[39;49;00m: \u001b[33m\"https://bluebrain.github.io/nexus/schemas/unconstrained.json\"\u001b[39;49;00m,\n",
      "    \u001b[94m\"_project\"\u001b[39;49;00m: \u001b[33m\"https://sandbox.bluebrainnexus.io/v1/projects/tutorialnexus/test_switch\"\u001b[39;49;00m,\n",
      "    \u001b[94m\"_rev\"\u001b[39;49;00m: \u001b[34m2\u001b[39;49;00m,\n",
      "    \u001b[94m\"_deprecated\"\u001b[39;49;00m: \u001b[34mfalse\u001b[39;49;00m,\n",
      "    \u001b[94m\"_createdAt\"\u001b[39;49;00m: \u001b[33m\"2020-05-05T10:47:30.881579Z\"\u001b[39;49;00m,\n",
      "    \u001b[94m\"_createdBy\"\u001b[39;49;00m: \u001b[33m\"https://sandbox.bluebrainnexus.io/v1/realms/github/users/mfsy\"\u001b[39;49;00m,\n",
      "    \u001b[94m\"_updatedAt\"\u001b[39;49;00m: \u001b[33m\"2020-05-05T11:04:59.578864Z\"\u001b[39;49;00m,\n",
      "    \u001b[94m\"_updatedBy\"\u001b[39;49;00m: \u001b[33m\"https://sandbox.bluebrainnexus.io/v1/realms/github/users/mfsy\"\u001b[39;49;00m,\n",
      "    \u001b[94m\"_incoming\"\u001b[39;49;00m: \u001b[33m\"https://sandbox.bluebrainnexus.io/v1/resources/tutorialnexus/test_switch/_/http%3A%2F%2Fyour%2Fid%2Fheresssss/incoming\"\u001b[39;49;00m,\n",
      "    \u001b[94m\"_outgoing\"\u001b[39;49;00m: \u001b[33m\"https://sandbox.bluebrainnexus.io/v1/resources/tutorialnexus/test_switch/_/http%3A%2F%2Fyour%2Fid%2Fheresssss/outgoing\"\u001b[39;49;00m\n",
      "}\n",
      "\n"
     ]
    }
   ],
   "source": [
    "# Note the revision value change after an update\n",
    "person[\"affiliation\"]=orgs_df[\"institute\"]\n",
    "\n",
    "for index, row in orgs_df.iterrows():\n",
    "    person[\"affiliation\"]={\n",
    "        \"@id\":row[\"institute\"]\n",
    "    }\n",
    "\n",
    "response = utils.update_resource(nexus,person[\"@id\"],person,org,project)\n",
    "utils.pretty_print(response)"
   ]
  },
  {
   "cell_type": "code",
   "execution_count": 42,
   "metadata": {},
   "outputs": [
    {
     "data": {
      "text/html": [
       "<div>\n",
       "<style scoped>\n",
       "    .dataframe tbody tr th:only-of-type {\n",
       "        vertical-align: middle;\n",
       "    }\n",
       "\n",
       "    .dataframe tbody tr th {\n",
       "        vertical-align: top;\n",
       "    }\n",
       "\n",
       "    .dataframe thead th {\n",
       "        text-align: right;\n",
       "    }\n",
       "</style>\n",
       "<table border=\"1\" class=\"dataframe\">\n",
       "  <thead>\n",
       "    <tr style=\"text-align: right;\">\n",
       "      <th></th>\n",
       "      <th>s</th>\n",
       "      <th>p</th>\n",
       "      <th>o</th>\n",
       "    </tr>\n",
       "  </thead>\n",
       "  <tbody>\n",
       "    <tr>\n",
       "      <th>0</th>\n",
       "      <td>http://your/id/heresssss</td>\n",
       "      <td>http://schema.org/familyName</td>\n",
       "      <td>your familly name here</td>\n",
       "    </tr>\n",
       "    <tr>\n",
       "      <th>1</th>\n",
       "      <td>http://your/id/heresssss</td>\n",
       "      <td>http://schema.org/givenName</td>\n",
       "      <td>your given name here</td>\n",
       "    </tr>\n",
       "    <tr>\n",
       "      <th>2</th>\n",
       "      <td>http://your/id/heresssss</td>\n",
       "      <td>http://schema.org/jobTitle</td>\n",
       "      <td>job title</td>\n",
       "    </tr>\n",
       "    <tr>\n",
       "      <th>3</th>\n",
       "      <td>http://your/id/heresssss</td>\n",
       "      <td>http://schema.org/affiliation</td>\n",
       "      <td>https://www.grid.ac/institutes/grid.5333.6</td>\n",
       "    </tr>\n",
       "    <tr>\n",
       "      <th>4</th>\n",
       "      <td>http://your/id/heresssss</td>\n",
       "      <td>http://www.w3.org/1999/02/22-rdf-syntax-ns#type</td>\n",
       "      <td>http://schema.org/Person</td>\n",
       "    </tr>\n",
       "    <tr>\n",
       "      <th>5</th>\n",
       "      <td>https://www.grid.ac/institutes/grid.5333.6</td>\n",
       "      <td>http://schema.org/name</td>\n",
       "      <td>École Polytechnique Fédérale de Lausanne</td>\n",
       "    </tr>\n",
       "    <tr>\n",
       "      <th>6</th>\n",
       "      <td>https://www.grid.ac/institutes/grid.5333.6</td>\n",
       "      <td>http://schema.org/identifier</td>\n",
       "      <td>grid.5333.6</td>\n",
       "    </tr>\n",
       "    <tr>\n",
       "      <th>7</th>\n",
       "      <td>https://www.grid.ac/institutes/grid.5333.6</td>\n",
       "      <td>http://schema.org/acronym</td>\n",
       "      <td>EPFL</td>\n",
       "    </tr>\n",
       "    <tr>\n",
       "      <th>8</th>\n",
       "      <td>https://www.grid.ac/institutes/grid.5333.6</td>\n",
       "      <td>http://www.w3.org/1999/02/22-rdf-syntax-ns#type</td>\n",
       "      <td>http://schema.org/Organization</td>\n",
       "    </tr>\n",
       "    <tr>\n",
       "      <th>9</th>\n",
       "      <td>https://doi.org/10.1016/j.cell.2015.09.029</td>\n",
       "      <td>http://schema.org/datePublished</td>\n",
       "      <td>2015-10</td>\n",
       "    </tr>\n",
       "    <tr>\n",
       "      <th>10</th>\n",
       "      <td>https://doi.org/10.1016/j.cell.2015.09.029</td>\n",
       "      <td>http://schema.org/name</td>\n",
       "      <td>Reconstruction and Simulation of Neocortical Microcircuitry</td>\n",
       "    </tr>\n",
       "    <tr>\n",
       "      <th>11</th>\n",
       "      <td>https://doi.org/10.1016/j.cell.2015.09.029</td>\n",
       "      <td>http://schema.org/author</td>\n",
       "      <td>http://your/id/heresssss</td>\n",
       "    </tr>\n",
       "    <tr>\n",
       "      <th>12</th>\n",
       "      <td>https://doi.org/10.1016/j.cell.2015.09.029</td>\n",
       "      <td>http://www.w3.org/1999/02/22-rdf-syntax-ns#type</td>\n",
       "      <td>http://schema.org/ScholarlyArticle</td>\n",
       "    </tr>\n",
       "  </tbody>\n",
       "</table>\n",
       "</div>"
      ],
      "text/plain": [
       "                                             s  \\\n",
       "0   http://your/id/heresssss                     \n",
       "1   http://your/id/heresssss                     \n",
       "2   http://your/id/heresssss                     \n",
       "3   http://your/id/heresssss                     \n",
       "4   http://your/id/heresssss                     \n",
       "5   https://www.grid.ac/institutes/grid.5333.6   \n",
       "6   https://www.grid.ac/institutes/grid.5333.6   \n",
       "7   https://www.grid.ac/institutes/grid.5333.6   \n",
       "8   https://www.grid.ac/institutes/grid.5333.6   \n",
       "9   https://doi.org/10.1016/j.cell.2015.09.029   \n",
       "10  https://doi.org/10.1016/j.cell.2015.09.029   \n",
       "11  https://doi.org/10.1016/j.cell.2015.09.029   \n",
       "12  https://doi.org/10.1016/j.cell.2015.09.029   \n",
       "\n",
       "                                                  p  \\\n",
       "0   http://schema.org/familyName                      \n",
       "1   http://schema.org/givenName                       \n",
       "2   http://schema.org/jobTitle                        \n",
       "3   http://schema.org/affiliation                     \n",
       "4   http://www.w3.org/1999/02/22-rdf-syntax-ns#type   \n",
       "5   http://schema.org/name                            \n",
       "6   http://schema.org/identifier                      \n",
       "7   http://schema.org/acronym                         \n",
       "8   http://www.w3.org/1999/02/22-rdf-syntax-ns#type   \n",
       "9   http://schema.org/datePublished                   \n",
       "10  http://schema.org/name                            \n",
       "11  http://schema.org/author                          \n",
       "12  http://www.w3.org/1999/02/22-rdf-syntax-ns#type   \n",
       "\n",
       "                                                              o  \n",
       "0   your familly name here                                       \n",
       "1   your given name here                                         \n",
       "2   job title                                                    \n",
       "3   https://www.grid.ac/institutes/grid.5333.6                   \n",
       "4   http://schema.org/Person                                     \n",
       "5   École Polytechnique Fédérale de Lausanne                     \n",
       "6   grid.5333.6                                                  \n",
       "7   EPFL                                                         \n",
       "8   http://schema.org/Organization                               \n",
       "9   2015-10                                                      \n",
       "10  Reconstruction and Simulation of Neocortical Microcircuitry  \n",
       "11  http://your/id/heresssss                                     \n",
       "12  http://schema.org/ScholarlyArticle                           "
      ]
     },
     "metadata": {},
     "output_type": "display_data"
    }
   ],
   "source": [
    "#Let display all triples\n",
    "\n",
    "all_triples = \"\"\"\n",
    "Select *\n",
    " WHERE  {\n",
    "    ?s ?p ?o.\n",
    "    \n",
    "    FILTER (isURI(?p) && ! STRSTARTS(str(?p), \"https://bluebrain.github.io/nexus/vocabulary/\" ) ).\n",
    "    FILTER (isURI(?s) && ! STRSTARTS(str(?s), \"https://bluebrain.github.io/nexus/vocabulary/\" ) ).\n",
    "    \n",
    "} LIMIT 20\n",
    "\"\"\"\n",
    "\n",
    "results_df = sparqlviewhelper.query_sparql(org_with_properties,result_format = \"DATAFRAME\")\n",
    "display(results_df.head(100))\n"
   ]
  },
  {
   "cell_type": "markdown",
   "metadata": {},
   "source": [
    "## Setp 5 Explore and navigate the created knowledge graph using the SPARQL query language"
   ]
  },
  {
   "cell_type": "markdown",
   "metadata": {},
   "source": [
    "Let write our first query."
   ]
  },
  {
   "cell_type": "code",
   "execution_count": 51,
   "metadata": {},
   "outputs": [
    {
     "data": {
      "text/html": [
       "<div>\n",
       "<style scoped>\n",
       "    .dataframe tbody tr th:only-of-type {\n",
       "        vertical-align: middle;\n",
       "    }\n",
       "\n",
       "    .dataframe tbody tr th {\n",
       "        vertical-align: top;\n",
       "    }\n",
       "\n",
       "    .dataframe thead th {\n",
       "        text-align: right;\n",
       "    }\n",
       "</style>\n",
       "<table border=\"1\" class=\"dataframe\">\n",
       "  <thead>\n",
       "    <tr style=\"text-align: right;\">\n",
       "      <th></th>\n",
       "      <th>s</th>\n",
       "      <th>p</th>\n",
       "      <th>o</th>\n",
       "    </tr>\n",
       "  </thead>\n",
       "  <tbody>\n",
       "    <tr>\n",
       "      <th>0</th>\n",
       "      <td>https://bluebrain.github.io/nexus/vocabulary/defaultInProject</td>\n",
       "      <td>https://bluebrain.github.io/nexus/vocabulary/constrainedBy</td>\n",
       "      <td>https://bluebrain.github.io/nexus/schemas/resolver.json</td>\n",
       "    </tr>\n",
       "    <tr>\n",
       "      <th>1</th>\n",
       "      <td>https://bluebrain.github.io/nexus/vocabulary/defaultInProject</td>\n",
       "      <td>https://bluebrain.github.io/nexus/vocabulary/createdAt</td>\n",
       "      <td>2020-05-04T23:24:51.850Z</td>\n",
       "    </tr>\n",
       "    <tr>\n",
       "      <th>2</th>\n",
       "      <td>https://bluebrain.github.io/nexus/vocabulary/defaultInProject</td>\n",
       "      <td>https://bluebrain.github.io/nexus/vocabulary/createdBy</td>\n",
       "      <td>https://sandbox.bluebrainnexus.io/v1/realms/github/users/mfsy</td>\n",
       "    </tr>\n",
       "    <tr>\n",
       "      <th>3</th>\n",
       "      <td>https://bluebrain.github.io/nexus/vocabulary/defaultInProject</td>\n",
       "      <td>https://bluebrain.github.io/nexus/vocabulary/deprecated</td>\n",
       "      <td>false</td>\n",
       "    </tr>\n",
       "    <tr>\n",
       "      <th>4</th>\n",
       "      <td>https://bluebrain.github.io/nexus/vocabulary/defaultInProject</td>\n",
       "      <td>https://bluebrain.github.io/nexus/vocabulary/incoming</td>\n",
       "      <td>https://sandbox.bluebrainnexus.io/v1/resolvers/tutorialnexus/test_switch/defaultResolver/incoming</td>\n",
       "    </tr>\n",
       "  </tbody>\n",
       "</table>\n",
       "</div>"
      ],
      "text/plain": [
       "                                                               s  \\\n",
       "0  https://bluebrain.github.io/nexus/vocabulary/defaultInProject   \n",
       "1  https://bluebrain.github.io/nexus/vocabulary/defaultInProject   \n",
       "2  https://bluebrain.github.io/nexus/vocabulary/defaultInProject   \n",
       "3  https://bluebrain.github.io/nexus/vocabulary/defaultInProject   \n",
       "4  https://bluebrain.github.io/nexus/vocabulary/defaultInProject   \n",
       "\n",
       "                                                            p  \\\n",
       "0  https://bluebrain.github.io/nexus/vocabulary/constrainedBy   \n",
       "1  https://bluebrain.github.io/nexus/vocabulary/createdAt       \n",
       "2  https://bluebrain.github.io/nexus/vocabulary/createdBy       \n",
       "3  https://bluebrain.github.io/nexus/vocabulary/deprecated      \n",
       "4  https://bluebrain.github.io/nexus/vocabulary/incoming        \n",
       "\n",
       "                                                                                                   o  \n",
       "0  https://bluebrain.github.io/nexus/schemas/resolver.json                                            \n",
       "1  2020-05-04T23:24:51.850Z                                                                           \n",
       "2  https://sandbox.bluebrainnexus.io/v1/realms/github/users/mfsy                                      \n",
       "3  false                                                                                              \n",
       "4  https://sandbox.bluebrainnexus.io/v1/resolvers/tutorialnexus/test_switch/defaultResolver/incoming  "
      ]
     },
     "execution_count": 51,
     "metadata": {},
     "output_type": "execute_result"
    }
   ],
   "source": [
    "select_all_query = \"\"\"\n",
    "SELECT ?s ?p ?o\n",
    "WHERE\n",
    "{\n",
    "  ?s ?p ?o.\n",
    "  \n",
    "}\n",
    "OFFSET 0\n",
    "LIMIT 5\n",
    "\"\"\"\n",
    "\n",
    "results_df = sparqlviewhelper.query_sparql(select_all_query,result_format = \"DATAFRAME\")\n",
    "\n",
    "results_df.head()"
   ]
  },
  {
   "cell_type": "markdown",
   "metadata": {},
   "source": [
    "Most SPARQL queries you'll see will have the anotomy above with:\n",
    "* a **SELECT** clause that let you select the variables you want to retrieve\n",
    "* a **WHERE** clause defining a set of constraints that the variables should satisfy to be retrieved\n",
    "* **LIMIT** and **OFFSET** clauses to enable pagination\n",
    "* the constraints are usually graph patterns in the form of **triple** (?s for subject, ?p for property and ?o for ?object)"
   ]
  },
  {
   "cell_type": "markdown",
   "metadata": {},
   "source": [
    "Multiple triples can be provided as graph pattern to match but each triple should end with a period. As an example, let retrieve EPFL (?institute) along with its name (?name) and identifier (?grid_id)."
   ]
  },
  {
   "cell_type": "code",
   "execution_count": 54,
   "metadata": {},
   "outputs": [
    {
     "data": {
      "text/html": [
       "<div>\n",
       "<style scoped>\n",
       "    .dataframe tbody tr th:only-of-type {\n",
       "        vertical-align: middle;\n",
       "    }\n",
       "\n",
       "    .dataframe tbody tr th {\n",
       "        vertical-align: top;\n",
       "    }\n",
       "\n",
       "    .dataframe thead th {\n",
       "        text-align: right;\n",
       "    }\n",
       "</style>\n",
       "<table border=\"1\" class=\"dataframe\">\n",
       "  <thead>\n",
       "    <tr style=\"text-align: right;\">\n",
       "      <th></th>\n",
       "      <th>institute</th>\n",
       "      <th>name</th>\n",
       "      <th>grid_id</th>\n",
       "    </tr>\n",
       "  </thead>\n",
       "  <tbody>\n",
       "    <tr>\n",
       "      <th>0</th>\n",
       "      <td>https://www.grid.ac/institutes/grid.5333.6</td>\n",
       "      <td>École Polytechnique Fédérale de Lausanne</td>\n",
       "      <td>grid.5333.6</td>\n",
       "    </tr>\n",
       "  </tbody>\n",
       "</table>\n",
       "</div>"
      ],
      "text/plain": [
       "                                    institute  \\\n",
       "0  https://www.grid.ac/institutes/grid.5333.6   \n",
       "\n",
       "                                       name      grid_id  \n",
       "0  École Polytechnique Fédérale de Lausanne  grid.5333.6  "
      ]
     },
     "execution_count": 54,
     "metadata": {},
     "output_type": "execute_result"
    }
   ],
   "source": [
    "epfl_with_name = \"\"\"\n",
    "\n",
    "Select  ?institute ?name ?grid_id\n",
    "WHERE {\n",
    "    ?institute schema:acronym \"EPFL\".\n",
    "    ?institute a schema:Organization.\n",
    "    ?institute schema:identifier ?grid_id . \n",
    "    ?institute schema:name ?name . \n",
    "}\n",
    "LIMIT 100\n",
    "\"\"\"\n",
    "\n",
    "results_df = sparqlviewhelper.query_sparql(epfl_with_name,result_format = \"DATAFRAME\")\n",
    "results_df.head()\n"
   ]
  },
  {
   "cell_type": "markdown",
   "metadata": {},
   "source": [
    "This is a typical instance query where entities are filtered by their type(s) and then some of their properties are retrieved (here ?name). \n",
    "\n",
    "Let retrieve everything that is linked (outgoing) to the organizations. \n",
    "The * character in the SELECT clause indicates to retreve all variables: ?institute, ?p, ?o"
   ]
  },
  {
   "cell_type": "code",
   "execution_count": 57,
   "metadata": {},
   "outputs": [
    {
     "data": {
      "text/html": [
       "<div>\n",
       "<style scoped>\n",
       "    .dataframe tbody tr th:only-of-type {\n",
       "        vertical-align: middle;\n",
       "    }\n",
       "\n",
       "    .dataframe tbody tr th {\n",
       "        vertical-align: top;\n",
       "    }\n",
       "\n",
       "    .dataframe thead th {\n",
       "        text-align: right;\n",
       "    }\n",
       "</style>\n",
       "<table border=\"1\" class=\"dataframe\">\n",
       "  <thead>\n",
       "    <tr style=\"text-align: right;\">\n",
       "      <th></th>\n",
       "      <th>institute</th>\n",
       "      <th>p</th>\n",
       "      <th>o</th>\n",
       "    </tr>\n",
       "  </thead>\n",
       "  <tbody>\n",
       "    <tr>\n",
       "      <th>0</th>\n",
       "      <td>https://www.grid.ac/institutes/grid.5333.6</td>\n",
       "      <td>https://bluebrain.github.io/nexus/vocabulary/constrainedBy</td>\n",
       "      <td>https://bluebrain.github.io/nexus/schemas/unconstrained.json</td>\n",
       "    </tr>\n",
       "    <tr>\n",
       "      <th>1</th>\n",
       "      <td>https://www.grid.ac/institutes/grid.5333.6</td>\n",
       "      <td>https://bluebrain.github.io/nexus/vocabulary/createdAt</td>\n",
       "      <td>2020-05-05T10:57:44.422Z</td>\n",
       "    </tr>\n",
       "    <tr>\n",
       "      <th>2</th>\n",
       "      <td>https://www.grid.ac/institutes/grid.5333.6</td>\n",
       "      <td>https://bluebrain.github.io/nexus/vocabulary/createdBy</td>\n",
       "      <td>https://sandbox.bluebrainnexus.io/v1/realms/github/users/mfsy</td>\n",
       "    </tr>\n",
       "    <tr>\n",
       "      <th>3</th>\n",
       "      <td>https://www.grid.ac/institutes/grid.5333.6</td>\n",
       "      <td>https://bluebrain.github.io/nexus/vocabulary/deprecated</td>\n",
       "      <td>false</td>\n",
       "    </tr>\n",
       "    <tr>\n",
       "      <th>4</th>\n",
       "      <td>https://www.grid.ac/institutes/grid.5333.6</td>\n",
       "      <td>https://bluebrain.github.io/nexus/vocabulary/incoming</td>\n",
       "      <td>https://sandbox.bluebrainnexus.io/v1/resources/tutorialnexus/test_switch/_/https%3A%2F%2Fwww.grid.ac%2Finstitutes%2Fgrid.5333.6/incoming</td>\n",
       "    </tr>\n",
       "    <tr>\n",
       "      <th>5</th>\n",
       "      <td>https://www.grid.ac/institutes/grid.5333.6</td>\n",
       "      <td>https://bluebrain.github.io/nexus/vocabulary/outgoing</td>\n",
       "      <td>https://sandbox.bluebrainnexus.io/v1/resources/tutorialnexus/test_switch/_/https%3A%2F%2Fwww.grid.ac%2Finstitutes%2Fgrid.5333.6/outgoing</td>\n",
       "    </tr>\n",
       "    <tr>\n",
       "      <th>6</th>\n",
       "      <td>https://www.grid.ac/institutes/grid.5333.6</td>\n",
       "      <td>https://bluebrain.github.io/nexus/vocabulary/project</td>\n",
       "      <td>https://sandbox.bluebrainnexus.io/v1/projects/tutorialnexus/test_switch</td>\n",
       "    </tr>\n",
       "    <tr>\n",
       "      <th>7</th>\n",
       "      <td>https://www.grid.ac/institutes/grid.5333.6</td>\n",
       "      <td>https://bluebrain.github.io/nexus/vocabulary/rev</td>\n",
       "      <td>2</td>\n",
       "    </tr>\n",
       "    <tr>\n",
       "      <th>8</th>\n",
       "      <td>https://www.grid.ac/institutes/grid.5333.6</td>\n",
       "      <td>https://bluebrain.github.io/nexus/vocabulary/self</td>\n",
       "      <td>https://sandbox.bluebrainnexus.io/v1/resources/tutorialnexus/test_switch/_/https%3A%2F%2Fwww.grid.ac%2Finstitutes%2Fgrid.5333.6</td>\n",
       "    </tr>\n",
       "    <tr>\n",
       "      <th>9</th>\n",
       "      <td>https://www.grid.ac/institutes/grid.5333.6</td>\n",
       "      <td>https://bluebrain.github.io/nexus/vocabulary/updatedAt</td>\n",
       "      <td>2020-05-05T11:03:52.955Z</td>\n",
       "    </tr>\n",
       "    <tr>\n",
       "      <th>10</th>\n",
       "      <td>https://www.grid.ac/institutes/grid.5333.6</td>\n",
       "      <td>https://bluebrain.github.io/nexus/vocabulary/updatedBy</td>\n",
       "      <td>https://sandbox.bluebrainnexus.io/v1/realms/github/users/mfsy</td>\n",
       "    </tr>\n",
       "    <tr>\n",
       "      <th>11</th>\n",
       "      <td>https://www.grid.ac/institutes/grid.5333.6</td>\n",
       "      <td>http://schema.org/name</td>\n",
       "      <td>École Polytechnique Fédérale de Lausanne</td>\n",
       "    </tr>\n",
       "    <tr>\n",
       "      <th>12</th>\n",
       "      <td>https://www.grid.ac/institutes/grid.5333.6</td>\n",
       "      <td>http://schema.org/identifier</td>\n",
       "      <td>grid.5333.6</td>\n",
       "    </tr>\n",
       "    <tr>\n",
       "      <th>13</th>\n",
       "      <td>https://www.grid.ac/institutes/grid.5333.6</td>\n",
       "      <td>http://schema.org/acronym</td>\n",
       "      <td>EPFL</td>\n",
       "    </tr>\n",
       "    <tr>\n",
       "      <th>14</th>\n",
       "      <td>https://www.grid.ac/institutes/grid.5333.6</td>\n",
       "      <td>http://www.w3.org/1999/02/22-rdf-syntax-ns#type</td>\n",
       "      <td>http://schema.org/Organization</td>\n",
       "    </tr>\n",
       "  </tbody>\n",
       "</table>\n",
       "</div>"
      ],
      "text/plain": [
       "                                     institute  \\\n",
       "0   https://www.grid.ac/institutes/grid.5333.6   \n",
       "1   https://www.grid.ac/institutes/grid.5333.6   \n",
       "2   https://www.grid.ac/institutes/grid.5333.6   \n",
       "3   https://www.grid.ac/institutes/grid.5333.6   \n",
       "4   https://www.grid.ac/institutes/grid.5333.6   \n",
       "5   https://www.grid.ac/institutes/grid.5333.6   \n",
       "6   https://www.grid.ac/institutes/grid.5333.6   \n",
       "7   https://www.grid.ac/institutes/grid.5333.6   \n",
       "8   https://www.grid.ac/institutes/grid.5333.6   \n",
       "9   https://www.grid.ac/institutes/grid.5333.6   \n",
       "10  https://www.grid.ac/institutes/grid.5333.6   \n",
       "11  https://www.grid.ac/institutes/grid.5333.6   \n",
       "12  https://www.grid.ac/institutes/grid.5333.6   \n",
       "13  https://www.grid.ac/institutes/grid.5333.6   \n",
       "14  https://www.grid.ac/institutes/grid.5333.6   \n",
       "\n",
       "                                                             p  \\\n",
       "0   https://bluebrain.github.io/nexus/vocabulary/constrainedBy   \n",
       "1   https://bluebrain.github.io/nexus/vocabulary/createdAt       \n",
       "2   https://bluebrain.github.io/nexus/vocabulary/createdBy       \n",
       "3   https://bluebrain.github.io/nexus/vocabulary/deprecated      \n",
       "4   https://bluebrain.github.io/nexus/vocabulary/incoming        \n",
       "5   https://bluebrain.github.io/nexus/vocabulary/outgoing        \n",
       "6   https://bluebrain.github.io/nexus/vocabulary/project         \n",
       "7   https://bluebrain.github.io/nexus/vocabulary/rev             \n",
       "8   https://bluebrain.github.io/nexus/vocabulary/self            \n",
       "9   https://bluebrain.github.io/nexus/vocabulary/updatedAt       \n",
       "10  https://bluebrain.github.io/nexus/vocabulary/updatedBy       \n",
       "11  http://schema.org/name                                       \n",
       "12  http://schema.org/identifier                                 \n",
       "13  http://schema.org/acronym                                    \n",
       "14  http://www.w3.org/1999/02/22-rdf-syntax-ns#type              \n",
       "\n",
       "                                                                                                                                           o  \n",
       "0   https://bluebrain.github.io/nexus/schemas/unconstrained.json                                                                              \n",
       "1   2020-05-05T10:57:44.422Z                                                                                                                  \n",
       "2   https://sandbox.bluebrainnexus.io/v1/realms/github/users/mfsy                                                                             \n",
       "3   false                                                                                                                                     \n",
       "4   https://sandbox.bluebrainnexus.io/v1/resources/tutorialnexus/test_switch/_/https%3A%2F%2Fwww.grid.ac%2Finstitutes%2Fgrid.5333.6/incoming  \n",
       "5   https://sandbox.bluebrainnexus.io/v1/resources/tutorialnexus/test_switch/_/https%3A%2F%2Fwww.grid.ac%2Finstitutes%2Fgrid.5333.6/outgoing  \n",
       "6   https://sandbox.bluebrainnexus.io/v1/projects/tutorialnexus/test_switch                                                                   \n",
       "7   2                                                                                                                                         \n",
       "8   https://sandbox.bluebrainnexus.io/v1/resources/tutorialnexus/test_switch/_/https%3A%2F%2Fwww.grid.ac%2Finstitutes%2Fgrid.5333.6           \n",
       "9   2020-05-05T11:03:52.955Z                                                                                                                  \n",
       "10  https://sandbox.bluebrainnexus.io/v1/realms/github/users/mfsy                                                                             \n",
       "11  École Polytechnique Fédérale de Lausanne                                                                                                  \n",
       "12  grid.5333.6                                                                                                                               \n",
       "13  EPFL                                                                                                                                      \n",
       "14  http://schema.org/Organization                                                                                                            "
      ]
     },
     "execution_count": 57,
     "metadata": {},
     "output_type": "execute_result"
    }
   ],
   "source": [
    "org_with_properties = \"\"\"\n",
    "Select *\n",
    " WHERE  {\n",
    "    ?institute a schema:Organization.\n",
    "    ?institute ?p ?o.\n",
    "} LIMIT 20\n",
    "\"\"\"\n",
    "\n",
    "results_df = sparqlviewhelper.query_sparql(org_with_properties,result_format = \"DATAFRAME\")\n",
    "results_df.head(20)\n"
   ]
  },
  {
   "cell_type": "markdown",
   "metadata": {},
   "source": [
    "As a little exercise, write a query retrieving incoming entities to organizations. You can copy past the query above and modify it.\n",
    "\n",
    "Hints: ?s ?p ?o can be read as: ?o is linked to ?s with an outgoing link.\n",
    "\n",
    "Do you have results ?"
   ]
  },
  {
   "cell_type": "code",
   "execution_count": null,
   "metadata": {},
   "outputs": [],
   "source": [
    "#Your query here\n"
   ]
  }
 ],
 "metadata": {
  "kernelspec": {
   "display_name": "Python [conda env:kgforge_is_awesome]",
   "language": "python",
   "name": "kgforge_is_awesome"
  },
  "language_info": {
   "codemirror_mode": {
    "name": "ipython",
    "version": 3
   },
   "file_extension": ".py",
   "mimetype": "text/x-python",
   "name": "python",
   "nbconvert_exporter": "python",
   "pygments_lexer": "ipython3",
   "version": "3.7.6"
  }
 },
 "nbformat": 4,
 "nbformat_minor": 2
}
