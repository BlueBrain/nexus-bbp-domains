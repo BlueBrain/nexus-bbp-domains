{
 "cells": [
  {
   "cell_type": "markdown",
   "metadata": {
    "colab_type": "text",
    "id": "jcyB6NFmQReL"
   },
   "source": [
    "# Nexus Morphology Integration"
   ]
  },
  {
   "cell_type": "markdown",
   "metadata": {},
   "source": [
    "## Overview\n",
    "\n",
    "This notebook provides functionalities of morphology data ingestion to Nexus in the following steps:\n",
    "\n",
    "1. Configure the Blue Brain Nexus environment\n",
    "2. Define functions for data ingestion\n",
    "3. Input necessary metadata\n",
    "4. Ingest the data and create provenance\n"
   ]
  },
  {
   "cell_type": "markdown",
   "metadata": {},
   "source": [
    "## 1: Configure the Blue Brain Nexus environment "
   ]
  },
  {
   "cell_type": "code",
   "execution_count": 139,
   "metadata": {},
   "outputs": [
    {
     "name": "stdout",
     "output_type": "stream",
     "text": [
      "Requirement already up-to-date: nexus-sdk in /Users/hulu/anaconda/lib/python3.5/site-packages (0.2.1)\n",
      "Requirement already satisfied, skipping upgrade: requests in /Users/hulu/anaconda/lib/python3.5/site-packages (from nexus-sdk) (2.18.4)\n",
      "Requirement already satisfied, skipping upgrade: chardet<3.1.0,>=3.0.2 in /Users/hulu/anaconda/lib/python3.5/site-packages (from requests->nexus-sdk) (3.0.4)\n",
      "Requirement already satisfied, skipping upgrade: idna<2.7,>=2.5 in /Users/hulu/anaconda/lib/python3.5/site-packages (from requests->nexus-sdk) (2.6)\n",
      "Requirement already satisfied, skipping upgrade: urllib3<1.23,>=1.21.1 in /Users/hulu/anaconda/lib/python3.5/site-packages (from requests->nexus-sdk) (1.22)\n",
      "Requirement already satisfied, skipping upgrade: certifi>=2017.4.17 in /Users/hulu/anaconda/lib/python3.5/site-packages (from requests->nexus-sdk) (2018.8.24)\n",
      "\u001b[33mYou are using pip version 18.1, however version 19.1.1 is available.\n",
      "You should consider upgrading via the 'pip install --upgrade pip' command.\u001b[0m\n"
     ]
    }
   ],
   "source": [
    "!pip install -U nexus-sdk"
   ]
  },
  {
   "cell_type": "code",
   "execution_count": 15,
   "metadata": {
    "colab": {},
    "colab_type": "code",
    "id": "84rN5sccS3f6"
   },
   "outputs": [],
   "source": [
    "import nexussdk as nexus\n",
    "import getpass\n",
    "import os\n",
    "from urllib.parse import quote_plus as url_encode\n",
    "import requests"
   ]
  },
  {
   "cell_type": "markdown",
   "metadata": {
    "colab_type": "text",
    "id": "aIkRfrNhe5zD"
   },
   "source": [
    "We will be using in the **production** environment of Blue Brain Nexus hosted in Geneva"
   ]
  },
  {
   "cell_type": "code",
   "execution_count": 16,
   "metadata": {
    "colab": {},
    "colab_type": "code",
    "id": "j-_eHVCne0wG"
   },
   "outputs": [],
   "source": [
    "deployment = \"https://bbp.epfl.ch/nexus/v1\""
   ]
  },
  {
   "cell_type": "markdown",
   "metadata": {
    "colab_type": "text",
    "id": "18aHuuRqfLIr"
   },
   "source": [
    "Provide your **token** below. Your token can be obtained after log-in by clicking on *Copy token* in the top left corner of [Nexus Web](https://sandbox.bluebrainnexus.io/web)"
   ]
  },
  {
   "cell_type": "code",
   "execution_count": 17,
   "metadata": {
    "colab": {},
    "colab_type": "code",
    "id": "5qj5EzmNfO6X"
   },
   "outputs": [
    {
     "name": "stdout",
     "output_type": "stream",
     "text": [
      "········\n"
     ]
    }
   ],
   "source": [
    "token = getpass.getpass()"
   ]
  },
  {
   "cell_type": "markdown",
   "metadata": {
    "colab_type": "text",
    "id": "l44V5xawf7Zl"
   },
   "source": [
    "Configure your environment and token to be used for the nexus python SDK"
   ]
  },
  {
   "cell_type": "code",
   "execution_count": 18,
   "metadata": {
    "colab": {},
    "colab_type": "code",
    "id": "MvnYi1Bcf749"
   },
   "outputs": [],
   "source": [
    "nexus.config.set_environment(deployment)\n",
    "nexus.config.set_token(token)"
   ]
  },
  {
   "cell_type": "markdown",
   "metadata": {},
   "source": [
    "We will be working in the **demo** organization of Blue Brain Nexus"
   ]
  },
  {
   "cell_type": "code",
   "execution_count": 19,
   "metadata": {
    "colab": {},
    "colab_type": "code",
    "id": "9mB2AXLET5AT"
   },
   "outputs": [],
   "source": [
    "org = \"Huanxiang\"\n",
    "project = \"seu\""
   ]
  },
  {
   "cell_type": "markdown",
   "metadata": {
    "colab_type": "text",
    "id": "9W5M5Ck9Tq7q"
   },
   "source": [
    "## 2: Predefined Data Ingestion Functions"
   ]
  },
  {
   "cell_type": "code",
   "execution_count": 35,
   "metadata": {},
   "outputs": [],
   "source": [
    "def create_subject(name, age, strain_label, strain_id=None):\n",
    "    \n",
    "    subject_id = \"https://bbp.epfl.ch/neurosciencegraph/data/subject.\" + name\n",
    "    \n",
    "    create_subject = False\n",
    "    \n",
    "    try:\n",
    "        response = nexus.resources.fetch(org_label=org, project_label=project, resource_id=subject_id)\n",
    "    except nexus.HTTPError as e:\n",
    "        if e.response.status_code == 404:    \n",
    "            create_subject = True\n",
    "        else:\n",
    "            print(e.response.json())\n",
    "            raise e    \n",
    "    \n",
    "    if create_subject:\n",
    "        if strain_id is None:   \n",
    "            strain_id = 'http://bbp.epfl.ch/neurosciencegraph/ontologies/speciestaxonomy/' + strain_label\n",
    "        subject = {\n",
    "          \"@context\": \"https://bbp.neuroshapes.org\",\n",
    "          \"@type\": \"Subject\",\n",
    "          \"@id\": subject_id,\n",
    "          \"name\": name,\n",
    "          \"species\": {\n",
    "            \"@id\": \"http://purl.obolibrary.org/obo/NCBITaxon_10090\",\n",
    "            \"label\": \"Mus musculus\"\n",
    "          },\n",
    "          \"strain\": {\n",
    "            \"@id\": strain_id,\n",
    "            \"label\": strain_label\n",
    "          },\n",
    "          \"age\": {\n",
    "            \"period\": \"Post-natal\",\n",
    "            \"value\": {\n",
    "              \"@value\": str(age),\n",
    "              \"@type\": \"xsd:integer\"\n",
    "            },\n",
    "            \"unitCode\": \"days\"\n",
    "          }\n",
    "        }\n",
    "\n",
    "        try:\n",
    "            response = nexus.resources.create(data=subject, org_label=org, project_label=project, schema_id='datashapes:subject')\n",
    "        except nexus.HTTPError as e:\n",
    "            print(subject)\n",
    "            print(\"---\")\n",
    "            print(nexus.tools.pretty_print(e.response.json()))\n",
    "\n",
    "    return response['@id']"
   ]
  },
  {
   "cell_type": "code",
   "execution_count": 36,
   "metadata": {},
   "outputs": [],
   "source": [
    "def create_image(name, slice_direction, slice_width, slice_height, number_of_slices, slice_resolution, \n",
    "                 slice_interval, subject_id):\n",
    "    image_id = \"https://bbp.epfl.ch/neurosciencegraph/data/imagestack.\" + name\n",
    "    \n",
    "    create_image = False\n",
    "    \n",
    "    try:\n",
    "        response = nexus.resources.fetch(org_label=org, project_label=project, resource_id=image_id)\n",
    "    except nexus.HTTPError as e:\n",
    "        if e.response.status_code == 404:    \n",
    "            create_image = True\n",
    "        else:\n",
    "            print(e.response.json())\n",
    "            raise e    \n",
    "    \n",
    "    if create_image:\n",
    "        image = {\n",
    "          \"@context\": \"https://bbp.neuroshapes.org\",\n",
    "          \"@type\": [\n",
    "            \"nsg:ImageStack\"\n",
    "          ],\n",
    "          \"@id\": image_id,\n",
    "          \"name\": name,\n",
    "          \"sliceDirection\": slice_direction,\n",
    "          \"sliceWidth\": slice_width,\n",
    "          \"sliceHeight\": slice_height,\n",
    "          \"numberOfSlices\": number_of_slices,\n",
    "          \"nsg:sliceResolution\": {\n",
    "            \"nsg:widthResolution\": {\n",
    "              \"@value\": slice_width,\n",
    "              \"@type\": \"xsd:float\"\n",
    "            },\n",
    "            \"nsg:heightResolution\": {\n",
    "              \"@value\": slice_height,\n",
    "              \"@type\": \"xsd:float\"\n",
    "            },\n",
    "            \"unitCode\": \"micron\"\n",
    "          },\n",
    "          \"sliceInterval\": {\n",
    "            \"value\": {\n",
    "              \"@value\": slice_interval,\n",
    "              \"@type\": \"xsd:float\"\n",
    "            },\n",
    "            \"unitCode\": \"micron\"\n",
    "          },\n",
    "          \"contribution\": {\n",
    "              \"@type\": \"Contribution\",\n",
    "              \"agent\": {\n",
    "                  \"@id\": \"https://www.grid.ac/institutes/grid.33199.31\",\n",
    "                  \"label\": \"Huazhong University of Science and Technology\"              \n",
    "              }\n",
    "          },\n",
    "          \"wasDerivedFrom\": {\n",
    "              \"@id\": subject_id\n",
    "          }\n",
    "        }\n",
    "\n",
    "        try:\n",
    "            response = nexus.resources.create(data=image, org_label=org, project_label=project, \n",
    "                                              schema_id='datashapes:imagestack')\n",
    "        except nexus.HTTPError as e:\n",
    "            print(\"---\")\n",
    "            print(nexus.tools.pretty_print(e.response.json()))\n",
    "\n",
    "    return response['@id']    \n",
    "    "
   ]
  },
  {
   "cell_type": "code",
   "execution_count": 37,
   "metadata": {},
   "outputs": [],
   "source": [
    "def create_morphology(name, identifier, image_id, brain_region_label, binary_path, brain_region_id=None):\n",
    "\n",
    "    # Check if the binary file has been uploaded\n",
    "    file_id=\"https://bbp.epfl.ch/neurosciencegraph/data/file.neuronmorphology.\" + name\n",
    "    \n",
    "    create_file = False\n",
    "    \n",
    "    try:\n",
    "        file_response = nexus.files.fetch(org_label=org, project_label=project, file_id=file_id)\n",
    "    except nexus.HTTPError as e:\n",
    "        if e.response.status_code == 404:    \n",
    "            create_file = True\n",
    "        else:\n",
    "            print(e.response.json())\n",
    "            raise e\n",
    "    \n",
    "    if create_file:\n",
    "        url = \"{}/files/{}/{}/{}\".format(deployment,org,project,url_encode(file_id))\n",
    "        file_obj = {\"file\": open(binary_path, \"rb\")}\n",
    "        attachment_headers = {}\n",
    "        attachment_headers[\"Authorization\"] =\"Bearer {}\".format(token)\n",
    "        # attachment_headers[\"Content-Type\"] = \"text/swc\"\n",
    "\n",
    "        file_response = requests.put(url=url, files=file_obj, headers=attachment_headers).json()\n",
    "    \n",
    "    \n",
    "    morphology_file_meta = {\n",
    "        \"file_name\": file_response[\"_filename\"],\n",
    "        \"file_size\": file_response[\"_bytes\"],\n",
    "        \"file_id\": file_response[\"@id\"],\n",
    "        \"content_url\": file_response[\"_self\"],\n",
    "        \"digest_value\": file_response[\"_digest\"][\"_value\"]}    \n",
    "    \n",
    "    # Create morphology \n",
    "    \n",
    "    morphology_id = \"https://bbp.epfl.ch/neurosciencegraph/data/neuronmorphology.\" + name\n",
    "    \n",
    "    create_morphology = False\n",
    "    \n",
    "    try:\n",
    "        response = nexus.resources.fetch(org_label=org, project_label=project, resource_id=morphology_id)\n",
    "    except nexus.HTTPError as e:\n",
    "        if e.response.status_code == 404:    \n",
    "            create_morphology = True\n",
    "        else:\n",
    "            print(e.response.json())\n",
    "            raise e    \n",
    "    \n",
    "    if create_morphology:    \n",
    "        if brain_region_id is None:\n",
    "            brain_region_id = \"http://bbp.epfl.ch/neurosciencegraph/ontologies/brainregion/\" + brain_region_label\n",
    "        morphology = {\n",
    "          \"@context\": \"https://bbp.neuroshapes.org\",\n",
    "          \"@type\": [\n",
    "            \"InVitroWholeBrainReconstructedNeuronMorphology\"\n",
    "          ],\n",
    "          \"@id\": morphology_id,\n",
    "          \"name\": name,\n",
    "          \"identifier\": identifier,\n",
    "          \"contribution\": {\n",
    "              \"@type\": \"Contribution\",\n",
    "              \"agent\": {\n",
    "                  \"@id\": \"https://www.grid.ac/institutes/grid.263826.b\",\n",
    "                  \"label\": \"Southeast University\"              \n",
    "              }\n",
    "          },\n",
    "          \"brainLocation\": {\n",
    "            \"brainRegion\": {\n",
    "              \"@id\": brain_region_id,\n",
    "              \"label\": brain_region_label\n",
    "            }\n",
    "          },\n",
    "          \"wasDerivedFrom\": {\n",
    "              \"@id\": image_id\n",
    "          },\n",
    "          \"distribution\":{\n",
    "               \"@type\": \"DataDownload\",\n",
    "               \"contentSize\": {\n",
    "                   \"unitCode\": \"bytes\",\n",
    "                   \"value\": morphology_file_meta['file_size']\n",
    "               },\n",
    "               \"contentUrl\": morphology_file_meta['content_url'],\n",
    "               \"digest\": {\n",
    "                   \"algorithm\": \"SHA-256\",\n",
    "                   \"value\": morphology_file_meta['digest_value']\n",
    "               },\n",
    "               \"encodingFormat\": \"text/swc\",\n",
    "               \"name\": morphology_file_meta['file_name']\n",
    "           }\n",
    "        }\n",
    "\n",
    "        try:\n",
    "            response = nexus.resources.create(data=morphology, org_label=org, project_label=project, \n",
    "                                              schema_id='datashapes:invitrowholebrainreconstructedneuronmorphology')\n",
    "        except nexus.HTTPError as e:\n",
    "            print(\"---\")\n",
    "            print(nexus.tools.pretty_print(e.response.json()))\n",
    "\n",
    "    return response['@id']\n",
    "    "
   ]
  },
  {
   "cell_type": "code",
   "execution_count": 38,
   "metadata": {},
   "outputs": [],
   "source": [
    "def create_mtype_annotation(morphology_id, mtype_label, mtype_id=None, comment=\"\"):\n",
    "    if mtype_id is None:\n",
    "        mtype_id = \"http://bbp.epfl.ch/neurosciencegraph/taxonomies/mtype/\" + mtype_label    \n",
    "    mtype_annotation = {\n",
    "        \"@context\": \"https://bbp.neuroshapes.org\",\n",
    "        \"@type\": [\n",
    "            \"nsg:MorphologyAnnotation\",\n",
    "            \"nsg:Annotation\"\n",
    "        ],\n",
    "        \"name\": 'mtype classification',\n",
    "        \"hasTarget\": {\n",
    "            \"@id\": morphology_id,\n",
    "            \"@type\": \"nsg:AnnotationTarget\"\n",
    "        },\n",
    "        \"hasBody\": {\n",
    "           \"@id\": mtype_id,\n",
    "           \"@type\": \"nsg:AnnotationBody\",\n",
    "           \"skos:note\": comment,\n",
    "           \"label\": mtype_label\n",
    "        },\n",
    "        \"contribution\": {\n",
    "          \"@type\": \"Contribution\",\n",
    "          \"agent\": {\n",
    "              \"@id\": \"https://www.grid.ac/institutes/grid.263826.b\",\n",
    "              \"label\": \"Southeast University\"              \n",
    "          }\n",
    "      }\n",
    "    }\n",
    "        \n",
    "    try:\n",
    "        response = nexus.resources.create(data=mtype_annotation, org_label=org, project_label=project, \n",
    "                                          schema_id='datashapes:annotation')\n",
    "    except nexus.HTTPError as e:\n",
    "        print(\"---\")\n",
    "        print(nexus.tools.pretty_print(e.response.json()))\n",
    "\n",
    "    return response['@id']"
   ]
  },
  {
   "cell_type": "code",
   "execution_count": 39,
   "metadata": {},
   "outputs": [],
   "source": [
    "def create_reconstruction(image_id, morphology_id):\n",
    "    reconstruction = {\n",
    "        \"@context\": \"https://bbp.neuroshapes.org\",\n",
    "        \"@type\": [\n",
    "            \"prov:Activity\",\n",
    "            \"nsg:ReconstructionFromImage\"\n",
    "        ],\n",
    "        \"used\": [\n",
    "        {\n",
    "          \"@id\": image_id,\n",
    "          \"@type\": [\n",
    "            \"nsg:ImageStack\",\n",
    "            \"prov:Entity\"\n",
    "          ]\n",
    "        }\n",
    "        ],\n",
    "        \"generated\": [\n",
    "        {\n",
    "          \"@id\": morphology_id,\n",
    "          \"@type\": [\n",
    "            \"nsg:ReconstructedCell\",\n",
    "            \"prov:Entity\"\n",
    "          ]\n",
    "        }\n",
    "        ]\n",
    "    }\n",
    "    \n",
    "    try:\n",
    "        response = nexus.resources.create(data=reconstruction, org_label=org, project_label=project, \n",
    "                                          schema_id='datashapes:reconstructionfromimage')\n",
    "    except nexus.HTTPError as e:\n",
    "        print(\"---\")\n",
    "        print(nexus.tools.pretty_print(e.response.json()))\n",
    "\n",
    "    return response['@id']"
   ]
  },
  {
   "cell_type": "code",
   "execution_count": 31,
   "metadata": {},
   "outputs": [],
   "source": [
    "def ingest_data(metadata):\n",
    "    subject_id = create_subject(metadata['subject_name'], metadata['subject_age'], metadata['subject_strain'])\n",
    "    image_id = create_image(metadata['image_name'], metadata['slice_direction'], metadata['slice_width'],\n",
    "                            metadata['slice_height'], metadata['number_of_slices'], metadata['slice_resolution'],\n",
    "                            metadata['slice_interval'], subject_id)\n",
    "    morphology_id = create_morphology(metadata['morphology_name'], metadata['identifier'], image_id, \n",
    "                                      metadata['brain_region_label'], metadata['file_path'])\n",
    "    reconstruction_id = create_reconstruction(image_id, morphology_id)\n",
    "    \n",
    "    if metadata['mtype_label'] is not None and metadata['mtype_label'] is not '':\n",
    "        mtype_id = create_mtype_annotation(morphology_id, metadata['mtype_label'])\n",
    "        \n",
    "    ids = {\n",
    "        \"subject_id\": subject_id,\n",
    "        \"image_id\": image_id,\n",
    "        \"morphology_id\": morphology_id\n",
    "    }\n",
    "    \n",
    "    return ids"
   ]
  },
  {
   "cell_type": "markdown",
   "metadata": {},
   "source": [
    "\n",
    "## 3: Please input necessary metadata"
   ]
  },
  {
   "cell_type": "code",
   "execution_count": 22,
   "metadata": {},
   "outputs": [],
   "source": [
    "metadata = {\n",
    "    # Mouse subject\n",
    "    \"subject_name\":  \"Ai82;Ai140-373368\",\n",
    "    \"subject_age\":  54,\n",
    "    \"subject_strain\":  \"Tnnt1-IRES2-CreERT2\",\n",
    "\n",
    "    # Image stack\n",
    "    \"image_name\":  \"18455\",\n",
    "    \"slice_direction\":  \"Coronal\",\n",
    "    \"slice_width\":  38000,\n",
    "    \"slice_height\":  20000,\n",
    "    \"number_of_slices\":  10000,\n",
    "    \"slice_resolution\":  0.2,\n",
    "    \"slice_interval\":  1,\n",
    "\n",
    "    # Morphology\n",
    "    \"morphology_name\":  \"z3718-x10944-y12140\",\n",
    "    \"identifier\":  \"Agent1\",\n",
    "    \"brain_region_label\":  \"Caudoputamen\",\n",
    "    \"mtype_label\":  None,\n",
    "    \"file_path\":  \"/Users/hulu/Desktop/reconstruction data for BBP in 2019.03/18455/z3718-x10944-y12140/18455-3718-x10944-y12140.ano.processed.final.final.swc\"\n",
    "}\n"
   ]
  },
  {
   "cell_type": "markdown",
   "metadata": {},
   "source": [
    "## 4: Ingest the data and create provenance"
   ]
  },
  {
   "cell_type": "code",
   "execution_count": 34,
   "metadata": {},
   "outputs": [
    {
     "data": {
      "text/plain": [
       "{'image_id': 'https://bbp.epfl.ch/neurosciencegraph/data/imagestack.18455',\n",
       " 'morphology_id': 'https://bbp.epfl.ch/neurosciencegraph/data/neuronmorphology.z3718-x10944-y12140',\n",
       " 'subject_id': 'https://bbp.epfl.ch/neurosciencegraph/data/subject.Ai82;Ai140-373368'}"
      ]
     },
     "execution_count": 34,
     "metadata": {},
     "output_type": "execute_result"
    }
   ],
   "source": [
    "ingest_data(metadata)"
   ]
  },
  {
   "cell_type": "markdown",
   "metadata": {},
   "source": [
    "## Please send the result Nexus IDs to Patrycja Lurie **<patrycja.lurie@epfl.ch>**"
   ]
  }
 ],
 "metadata": {
  "anaconda-cloud": {},
  "colab": {
   "collapsed_sections": [],
   "name": "Step by step jupyter notebook for bringing data to Nexus v1.ipynb",
   "provenance": [],
   "version": "0.3.2"
  },
  "kernelspec": {
   "display_name": "Python [default]",
   "language": "python",
   "name": "python3"
  },
  "language_info": {
   "codemirror_mode": {
    "name": "ipython",
    "version": 3
   },
   "file_extension": ".py",
   "mimetype": "text/x-python",
   "name": "python",
   "nbconvert_exporter": "python",
   "pygments_lexer": "ipython3",
   "version": "3.5.5"
  }
 },
 "nbformat": 4,
 "nbformat_minor": 1
}
