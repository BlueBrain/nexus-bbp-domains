{
  "nbformat": 4,
  "nbformat_minor": 0,
  "metadata": {
    "kernelspec": {
      "display_name": "Python (nexus-cli)",
      "language": "python",
      "name": "nexus-cli"
    },
    "language_info": {
      "codemirror_mode": {
        "name": "ipython",
        "version": 3
      },
      "file_extension": ".py",
      "mimetype": "text/x-python",
      "name": "python",
      "nbconvert_exporter": "python",
      "pygments_lexer": "ipython3",
      "version": "3.7.2"
    },
    "colab": {
      "name": "Building a Content-based Recommender System using Blue Brain Nexus.ipynb",
      "provenance": [],
      "collapsed_sections": [
        "ynwVgGximB0c"
      ],
      "toc_visible": true
    }
  },
  "cells": [
    {
      "cell_type": "markdown",
      "metadata": {
        "id": "YoCPKFu5lpwU",
        "colab_type": "text"
      },
      "source": [
        "# Building a Content-based Recommender System using Blue Brain Nexus\n",
        "\n",
        "The goal of this notebook is to create a pipeline to train knowledge embedding model from some movie rating data and export it in Elasticsearch within Blue Brain Nexus. Once exported, you can test your recommendations by querying Elasticsearch and displaying the results.\n",
        "\n",
        "![Movie Recommendation](https://raw.githubusercontent.com/BlueBrain/nexus-bbp-domains/docs/src/main/paradox/docs/bluebrainnexustutorialkcni/build-recommender-kgembeddings/assets/ml_datapipeline.png)\n",
        "\n",
        "\n",
        "### _Prerequisites_\n",
        "\n",
        "We will work with the small version of the MovieLens dataset containing a set of movies (movies.csv). An overview of this dataset can be found [here](https://bluebrainnexus.io/docs/tutorial/getting-started/dataset/index.html). The data is preloaded in the following [tutorialnexus/movies](https://sandbox.bluebrainnexus.io/web/tutorialnexus/movies) project that can be browsed. \n",
        "\n",
        "\n",
        "## Overview\n",
        "\n",
        "You will work through the following steps\n",
        "\n",
        "1. Set up the Nexus environment in Python \n",
        "2. Pull data from Nexus\n",
        "3. Prepare the data and ensure they are in a good shape for embeddings\n",
        "4. Train the recommendation model\n",
        "5. Push the entity results to a ElasticSearch view in Nexus\n",
        "6. Recommend similar items using "
      ]
    },
    {
      "cell_type": "code",
      "metadata": {
        "id": "8dFPUxxP7cWA",
        "colab_type": "code",
        "colab": {}
      },
      "source": [
        ""
      ],
      "execution_count": 0,
      "outputs": []
    },
    {
      "cell_type": "markdown",
      "metadata": {
        "id": "ynwVgGximB0c",
        "colab_type": "text"
      },
      "source": [
        "\n",
        "### Uncomment the code below if you are running this notebook in Google Colab"
      ]
    },
    {
      "cell_type": "code",
      "metadata": {
        "id": "KAsKfQktmN87",
        "colab_type": "code",
        "outputId": "51abad5e-377f-4e2d-8667-29356088ff6e",
        "colab": {
          "base_uri": "https://localhost:8080/",
          "height": 165
        }
      },
      "source": [
        "\n",
        "\"\"\"\n",
        "import os \n",
        "\n",
        "tutorial_base_dir = \"/content/nexus-bbp-domains\"\n",
        "if os.path.exists(tutorial_base_dir):\n",
        "  !rm -R $tutorial_base_dir\n",
        "\n",
        "!git clone --single-branch --branch docs https://github.com/BlueBrain/nexus-bbp-domains.git\n",
        "os.chdir(\"/\".join([tutorial_base_dir,\"src/main/paradox/docs/bluebrainnexustutorialkcni/notebooks\"]))\n",
        "\n",
        "print(\"The working directory is now:\")\n",
        "!pwd\n",
        "\n",
        "\"\"\""
      ],
      "execution_count": 0,
      "outputs": [
        {
          "output_type": "stream",
          "text": [
            "Cloning into 'nexus-bbp-domains'...\n",
            "remote: Enumerating objects: 469, done.\u001b[K\n",
            "remote: Counting objects: 100% (469/469), done.\u001b[K\n",
            "remote: Compressing objects: 100% (169/169), done.\u001b[K\n",
            "remote: Total 4221 (delta 197), reused 400 (delta 149), pack-reused 3752\u001b[K\n",
            "Receiving objects: 100% (4221/4221), 14.07 MiB | 20.15 MiB/s, done.\n",
            "Resolving deltas: 100% (1249/1249), done.\n",
            "The working directory is now:\n",
            "/content/nexus-bbp-domains/src/main/paradox/docs/bluebrainnexustutorialkcni/notebooks\n"
          ],
          "name": "stdout"
        }
      ]
    },
    {
      "cell_type": "markdown",
      "metadata": {
        "id": "wwenZHtmlpwW",
        "colab_type": "text"
      },
      "source": [
        "## Step 1: Set up Nexus environment\n",
        "\n",
        "In this step, you will set up a Nexus client with:\n",
        "* An access token. Go to [Nexus Web](https://sandbox.bluebrainnexus.io/web) to login and get a token.\n",
        "* An organisation and a project\n",
        "\n",
        "You will also create a sparql client around your project to be able to query data."
      ]
    },
    {
      "cell_type": "code",
      "metadata": {
        "id": "I11jdPnBlpwX",
        "colab_type": "code",
        "colab": {}
      },
      "source": [
        "import getpass"
      ],
      "execution_count": 0,
      "outputs": []
    },
    {
      "cell_type": "code",
      "metadata": {
        "id": "mN9ougNGlpwZ",
        "colab_type": "code",
        "outputId": "556fbd98-b298-4724-a0e0-f4626436e9d5",
        "colab": {
          "base_uri": "https://localhost:8080/",
          "height": 33
        }
      },
      "source": [
        "token = getpass.getpass()"
      ],
      "execution_count": 0,
      "outputs": [
        {
          "output_type": "stream",
          "text": [
            "··········\n"
          ],
          "name": "stdout"
        }
      ]
    },
    {
      "cell_type": "code",
      "metadata": {
        "id": "ZznxrISsmhrw",
        "colab_type": "code",
        "colab": {}
      },
      "source": [
        "#install the Blue Brain Nexus python SDK\n",
        "%%capture \n",
        "!pip install -U nexus-sdk"
      ],
      "execution_count": 0,
      "outputs": []
    },
    {
      "cell_type": "code",
      "metadata": {
        "id": "uAAf32PJlpwb",
        "colab_type": "code",
        "colab": {}
      },
      "source": [
        "#Configuration for the Nexus deployment\n",
        "nexus_deployment = \"https://sandbox.bluebrainnexus.io/v1\"\n",
        "\n",
        "# set organization and project\n",
        "org =\"tutorialnexus\"\n",
        "project =\"movies\"\n",
        "\n",
        "import nexussdk as nexus\n",
        "nexus.config.set_environment(nexus_deployment)\n",
        "nexus.config.set_token(token)"
      ],
      "execution_count": 0,
      "outputs": []
    },
    {
      "cell_type": "code",
      "metadata": {
        "id": "tW8yJccllpwd",
        "colab_type": "code",
        "colab": {}
      },
      "source": [
        "#Utils function\n",
        "from pygments.lexers import JsonLexer\n",
        "from pygments import highlight\n",
        "from pygments.formatters import TerminalFormatter\n",
        "from collections import OrderedDict\n",
        "import json\n",
        "\n",
        "def pretty_print(payload:dict):\n",
        "    if type(payload) == OrderedDict:\n",
        "        payload = json.loads(json.dumps(payload))\n",
        "    print(highlight(json.dumps(payload, indent=4), JsonLexer(), TerminalFormatter()))"
      ],
      "execution_count": 0,
      "outputs": []
    },
    {
      "cell_type": "code",
      "metadata": {
        "id": "TKaq9tN3lpwe",
        "colab_type": "code",
        "colab": {}
      },
      "source": [
        "# Verify if the Nexus client is working by listing the organisations created in the sandbox\n",
        "\n",
        "pretty_print(nexus.organizations.list())"
      ],
      "execution_count": 0,
      "outputs": []
    },
    {
      "cell_type": "markdown",
      "metadata": {
        "id": "6TalM2Mflpwf",
        "colab_type": "text"
      },
      "source": [
        "### Create a sparql wrapper around your project's SparqlView\n",
        "\n",
        "Every project in Blue Brain Nexus comes with a SparqlView enabling to navigate the data as a graph and to query it using the W3C SPARQL Language. The address of such SparqlView is https://nexus-sandbox.io/v1/views/tutorialnexus/PROJECTLABEL/graph/sparql for a project with the label $PROJECTLABEL. The address of a SparqlView is also called a SPARQL endpoint."
      ]
    },
    {
      "cell_type": "code",
      "metadata": {
        "id": "ZyLGfSJelpwg",
        "colab_type": "code",
        "colab": {}
      },
      "source": [
        "#Let install sparqlwrapper which a python wrapper around sparql endpoints\n",
        "%%capture \n",
        "!pip install git+https://github.com/RDFLib/sparqlwrapper"
      ],
      "execution_count": 0,
      "outputs": []
    },
    {
      "cell_type": "code",
      "metadata": {
        "id": "nOnoOsg6lpwh",
        "colab_type": "code",
        "colab": {}
      },
      "source": [
        "# Utility functions to create sparql wrapper around a sparql endpoint\n",
        "\n",
        "from SPARQLWrapper import SPARQLWrapper, JSON, POST, GET, POSTDIRECTLY, CSV\n",
        "import requests\n",
        "import pandas as pd\n",
        "pd.set_option('display.max_colwidth', -1)\n",
        "\n",
        "# Create a SPARQL client\n",
        "def create_sparql_client(sparql_endpoint, http_query_method=POST, result_format= JSON, token=None):\n",
        "    sparql_client = SPARQLWrapper(sparql_endpoint)\n",
        "    #sparql_client.addCustomHttpHeader(\"Content-Type\", \"application/sparql-query\")\n",
        "    if token:\n",
        "        sparql_client.addCustomHttpHeader(\"Authorization\",\"Bearer {}\".format(token))\n",
        "    sparql_client.setMethod(http_query_method)\n",
        "    sparql_client.setReturnFormat(result_format)\n",
        "    if http_query_method == POST:\n",
        "        sparql_client.setRequestMethod(POSTDIRECTLY)\n",
        "    return sparql_client\n",
        "\n",
        "\n",
        "\n",
        "# Convert SPARQL results into a Pandas data frame\n",
        "def sparql2dataframe(json_sparql_results):\n",
        "    cols = json_sparql_results['head']['vars']\n",
        "    out = []\n",
        "    for row in json_sparql_results['results']['bindings']:\n",
        "        item = []\n",
        "        for c in cols:\n",
        "            item.append(row.get(c, {}).get('value'))\n",
        "        out.append(item)\n",
        "    return pd.DataFrame(out, columns=cols)\n",
        "\n",
        "# Send a query using a sparql wrapper \n",
        "def query_sparql(query, sparql_client):\n",
        "    sparql_client.setQuery(query)\n",
        "    \n",
        "\n",
        "    result_object = sparql_client.query()\n",
        "    if sparql_client.returnFormat == JSON:\n",
        "        return result_object._convertJSON()\n",
        "    return result_object.convert()"
      ],
      "execution_count": 0,
      "outputs": []
    },
    {
      "cell_type": "code",
      "metadata": {
        "id": "bvk4w382lpwj",
        "colab_type": "code",
        "colab": {}
      },
      "source": [
        "# Let create a sparql client around the project sparql view\n",
        "sparqlview_endpoint = nexus_deployment+\"/views/\"+org+\"/\"+project+\"/graph/sparql\"\n",
        "sparqlview_wrapper = create_sparql_client(sparql_endpoint=sparqlview_endpoint, token=token,http_query_method= POST, result_format=JSON)\n"
      ],
      "execution_count": 0,
      "outputs": []
    },
    {
      "cell_type": "markdown",
      "metadata": {
        "id": "04Fi55Zdlpwk",
        "colab_type": "text"
      },
      "source": [
        "## Step 2: Pull and explore data from Nexus\n",
        "\n",
        "Data that has been ingested into your Nexus project previously can now be queried. \n",
        "\n",
        "For building a classical recommendation system using matrix factorization, we will need a user-by-item matrix where nonzero elements of the matrix are ratings that a user has given an item. To do that, we will \n",
        "\n",
        "1.   Query all the rating data for building a U-I matrix\n",
        "2.   Query the movie id data for the recomendation\n",
        "\n",
        "SPARQL is an RDF query language which is able to retrieve and manipulate data stored in Resource Description Framework (RDF) format. Given that all the movielens data is put into the knowledge graph meaning they are inter-connected, it is straightforward to query the data using SPARQL."
      ]
    },
    {
      "cell_type": "code",
      "metadata": {
        "id": "Wi_seb1Zlpwl",
        "colab_type": "code",
        "colab": {}
      },
      "source": [
        "\n",
        "\n",
        "\n",
        "entity_namespace = \"https://sandbox.bluebrainnexus.io/v1/vocabs/tutorialnexus/movies/\"\n",
        "movie_type = entity_namespace+\"Movie\"\n",
        "\n",
        "embedding_property = entity_namespace+\"embedding\"\n",
        "total_result = 300000\n",
        "page_size = 10000\n",
        "offset = 0\n",
        "\n",
        "count = 0\n",
        "nexus_df=None\n",
        "while ( count <= total_result ): \n",
        "    select_all_query = \"\"\"\n",
        "                        SELECT ?s ?p ?o\n",
        "                        WHERE\n",
        "                        {\n",
        "                          ?s a <%movie_type%>.\n",
        "                          ?s ?p ?o.\n",
        "                          FILTER(?p != <%embedding_property%>).\n",
        "                          FILTER (!isBlank(?p)).\n",
        "                          FILTER (!isBlank(?o)).\n",
        "                        }\n",
        "                        OFFSET %offset%\n",
        "                        LIMIT %page_size%\n",
        "                        \"\"\"\n",
        "    select_all_query = select_all_query.replace(\"%offset%\",str(offset)) \\\n",
        "                                       .replace(\"%page_size%\",str(page_size)) \\\n",
        "                                       .replace(\"%movie_type%\",str(movie_type)) \\\n",
        "                                       .replace(\"%embedding_property%\",str(embedding_property))\n",
        "    \n",
        "    nexus_results = query_sparql(select_all_query,sparqlview_wrapper)\n",
        "\n",
        "    result_df =sparql2dataframe(nexus_results)\n",
        "    \n",
        "    \n",
        "    if len(result_df.index) == 0:\n",
        "        break;\n",
        "        \n",
        "    if nexus_df is None:\n",
        "        \n",
        "        nexus_df = pd.DataFrame(result_df)\n",
        "    else:\n",
        "        \n",
        "        nexus_df = pd.concat([nexus_df,result_df],ignore_index=True)\n",
        "        \n",
        "    count = count + page_size\n",
        "    offset = offset+page_size\n"
      ],
      "execution_count": 0,
      "outputs": []
    },
    {
      "cell_type": "markdown",
      "metadata": {
        "id": "zRUcQpxOlpwm",
        "colab_type": "text"
      },
      "source": [
        "# Let explore the data"
      ]
    },
    {
      "cell_type": "code",
      "metadata": {
        "id": "l3YPgrCGlpwn",
        "colab_type": "code",
        "outputId": "a9a561ce-8eeb-4f83-e0a6-d2e6ddb61d3d",
        "colab": {
          "base_uri": "https://localhost:8080/",
          "height": 369
        }
      },
      "source": [
        "display(nexus_df.shape)\n",
        "display(nexus_df.describe())\n",
        "display(nexus_df.head())\n"
      ],
      "execution_count": 0,
      "outputs": [
        {
          "output_type": "display_data",
          "data": {
            "text/plain": [
              "(165614, 3)"
            ]
          },
          "metadata": {
            "tags": []
          }
        },
        {
          "output_type": "display_data",
          "data": {
            "text/html": [
              "<div>\n",
              "<style scoped>\n",
              "    .dataframe tbody tr th:only-of-type {\n",
              "        vertical-align: middle;\n",
              "    }\n",
              "\n",
              "    .dataframe tbody tr th {\n",
              "        vertical-align: top;\n",
              "    }\n",
              "\n",
              "    .dataframe thead th {\n",
              "        text-align: right;\n",
              "    }\n",
              "</style>\n",
              "<table border=\"1\" class=\"dataframe\">\n",
              "  <thead>\n",
              "    <tr style=\"text-align: right;\">\n",
              "      <th></th>\n",
              "      <th>s</th>\n",
              "      <th>p</th>\n",
              "      <th>o</th>\n",
              "    </tr>\n",
              "  </thead>\n",
              "  <tbody>\n",
              "    <tr>\n",
              "      <th>count</th>\n",
              "      <td>165614</td>\n",
              "      <td>165614</td>\n",
              "      <td>165614</td>\n",
              "    </tr>\n",
              "    <tr>\n",
              "      <th>unique</th>\n",
              "      <td>6590</td>\n",
              "      <td>17</td>\n",
              "      <td>54372</td>\n",
              "    </tr>\n",
              "    <tr>\n",
              "      <th>top</th>\n",
              "      <td>https://sandbox.bluebrainnexus.io/v1/resources/tutorialnexus/movies/_/Movie_172637</td>\n",
              "      <td>https://sandbox.bluebrainnexus.io/v1/vocabs/tutorialnexus/movies/imdbId</td>\n",
              "      <td>https://sandbox.bluebrainnexus.io/v1/realms/github/users/mfsy</td>\n",
              "    </tr>\n",
              "    <tr>\n",
              "      <th>freq</th>\n",
              "      <td>68</td>\n",
              "      <td>9750</td>\n",
              "      <td>19475</td>\n",
              "    </tr>\n",
              "  </tbody>\n",
              "</table>\n",
              "</div>"
            ],
            "text/plain": [
              "                                                                                         s  ...                                                              o\n",
              "count   165614                                                                              ...  165614                                                       \n",
              "unique  6590                                                                                ...  54372                                                        \n",
              "top     https://sandbox.bluebrainnexus.io/v1/resources/tutorialnexus/movies/_/Movie_172637  ...  https://sandbox.bluebrainnexus.io/v1/realms/github/users/mfsy\n",
              "freq    68                                                                                  ...  19475                                                        \n",
              "\n",
              "[4 rows x 3 columns]"
            ]
          },
          "metadata": {
            "tags": []
          }
        },
        {
          "output_type": "display_data",
          "data": {
            "text/html": [
              "<div>\n",
              "<style scoped>\n",
              "    .dataframe tbody tr th:only-of-type {\n",
              "        vertical-align: middle;\n",
              "    }\n",
              "\n",
              "    .dataframe tbody tr th {\n",
              "        vertical-align: top;\n",
              "    }\n",
              "\n",
              "    .dataframe thead th {\n",
              "        text-align: right;\n",
              "    }\n",
              "</style>\n",
              "<table border=\"1\" class=\"dataframe\">\n",
              "  <thead>\n",
              "    <tr style=\"text-align: right;\">\n",
              "      <th></th>\n",
              "      <th>s</th>\n",
              "      <th>p</th>\n",
              "      <th>o</th>\n",
              "    </tr>\n",
              "  </thead>\n",
              "  <tbody>\n",
              "    <tr>\n",
              "      <th>0</th>\n",
              "      <td>https://sandbox.bluebrainnexus.io/v1/resources/tutorialnexus/movies/_/Movie_7</td>\n",
              "      <td>https://bluebrain.github.io/nexus/vocabulary/constrainedBy</td>\n",
              "      <td>https://bluebrain.github.io/nexus/schemas/unconstrained.json</td>\n",
              "    </tr>\n",
              "    <tr>\n",
              "      <th>1</th>\n",
              "      <td>https://sandbox.bluebrainnexus.io/v1/resources/tutorialnexus/movies/_/Movie_7</td>\n",
              "      <td>https://bluebrain.github.io/nexus/vocabulary/createdAt</td>\n",
              "      <td>2019-11-21T16:22:49.875Z</td>\n",
              "    </tr>\n",
              "    <tr>\n",
              "      <th>2</th>\n",
              "      <td>https://sandbox.bluebrainnexus.io/v1/resources/tutorialnexus/movies/_/Movie_7</td>\n",
              "      <td>https://bluebrain.github.io/nexus/vocabulary/createdBy</td>\n",
              "      <td>https://sandbox.bluebrainnexus.io/v1/realms/github/users/mfsy</td>\n",
              "    </tr>\n",
              "    <tr>\n",
              "      <th>3</th>\n",
              "      <td>https://sandbox.bluebrainnexus.io/v1/resources/tutorialnexus/movies/_/Movie_7</td>\n",
              "      <td>https://bluebrain.github.io/nexus/vocabulary/deprecated</td>\n",
              "      <td>false</td>\n",
              "    </tr>\n",
              "    <tr>\n",
              "      <th>4</th>\n",
              "      <td>https://sandbox.bluebrainnexus.io/v1/resources/tutorialnexus/movies/_/Movie_7</td>\n",
              "      <td>https://bluebrain.github.io/nexus/vocabulary/incoming</td>\n",
              "      <td>https://sandbox.bluebrainnexus.io/v1/resources/tutorialnexus/movies/_/https%3A%2F%2Fsandbox.bluebrainnexus.io%2Fv1%2Fresources%2Ftutorialnexus%2Fmovies%2F_%2FMovie_7/incoming</td>\n",
              "    </tr>\n",
              "  </tbody>\n",
              "</table>\n",
              "</div>"
            ],
            "text/plain": [
              "                                                                               s  ...                                                                                                                                                                               o\n",
              "0  https://sandbox.bluebrainnexus.io/v1/resources/tutorialnexus/movies/_/Movie_7  ...  https://bluebrain.github.io/nexus/schemas/unconstrained.json                                                                                                                  \n",
              "1  https://sandbox.bluebrainnexus.io/v1/resources/tutorialnexus/movies/_/Movie_7  ...  2019-11-21T16:22:49.875Z                                                                                                                                                      \n",
              "2  https://sandbox.bluebrainnexus.io/v1/resources/tutorialnexus/movies/_/Movie_7  ...  https://sandbox.bluebrainnexus.io/v1/realms/github/users/mfsy                                                                                                                 \n",
              "3  https://sandbox.bluebrainnexus.io/v1/resources/tutorialnexus/movies/_/Movie_7  ...  false                                                                                                                                                                         \n",
              "4  https://sandbox.bluebrainnexus.io/v1/resources/tutorialnexus/movies/_/Movie_7  ...  https://sandbox.bluebrainnexus.io/v1/resources/tutorialnexus/movies/_/https%3A%2F%2Fsandbox.bluebrainnexus.io%2Fv1%2Fresources%2Ftutorialnexus%2Fmovies%2F_%2FMovie_7/incoming\n",
              "\n",
              "[5 rows x 3 columns]"
            ]
          },
          "metadata": {
            "tags": []
          }
        }
      ]
    },
    {
      "cell_type": "code",
      "metadata": {
        "id": "VoFmIPFWlpwo",
        "colab_type": "code",
        "colab": {}
      },
      "source": [
        "#nexus_df = pd.DataFrame()\n",
        "nexus_df.to_csv(\"./movies_triples.csv\",index=False)"
      ],
      "execution_count": 0,
      "outputs": []
    },
    {
      "cell_type": "markdown",
      "metadata": {
        "id": "ovbgKvyRlpws",
        "colab_type": "text"
      },
      "source": [
        "## Step 3 Prepare the data\n",
        "\n",
        "This step is about cleaing the data so that they can be in a 'good' shape for training embeddings\n",
        "\n",
        "* Remove Nexus added metadata\n",
        "* Remove namespaces\n",
        "* Remove numerical properties such as tmdbId"
      ]
    },
    {
      "cell_type": "code",
      "metadata": {
        "id": "wCB72K4mnpmR",
        "colab_type": "code",
        "colab": {}
      },
      "source": [
        "%%capture \n",
        "!pip install validators"
      ],
      "execution_count": 0,
      "outputs": []
    },
    {
      "cell_type": "code",
      "metadata": {
        "id": "qtfjRAGhlpws",
        "colab_type": "code",
        "outputId": "189e9f1f-7fc7-4d36-a9d3-fddec058a38a",
        "colab": {
          "base_uri": "https://localhost:8080/",
          "height": 49
        }
      },
      "source": [
        "import validators\n",
        "\n",
        "is_nexus_vocab_prop = nexus_df['p'].str.startswith(\"https://bluebrain.github.io/nexus/vocabulary/\")\n",
        "is_nexus_vocab_sub = nexus_df['s'].str.startswith(\"https://bluebrain.github.io/nexus/vocabulary/\")\n",
        "\n",
        "nexus_df_filtered = nexus_df[is_nexus_vocab_prop==False]\n",
        "nexus_df_filtered = nexus_df_filtered[is_nexus_vocab_sub==False]\n",
        "\n",
        "\n",
        "nexus_df_filtered = nexus_df_filtered[pd.notnull(nexus_df_filtered['o'])]\n",
        "nexus_df_filtered.fillna(\"\")\n",
        "\n",
        "def keep_fragment(x):\n",
        "    \n",
        "    if validators.url(x):\n",
        "        if \"#\" not in x:\n",
        "            x_parts =str(x).split(\"/\")\n",
        "            if x_parts[-1] != \"embedding\":\n",
        "                return x_parts[-1]\n",
        "        else:\n",
        "            x_parts =str(x).split(\"#\")\n",
        "            return x_parts[-1]\n",
        "    else:\n",
        "        return x\n",
        "\n",
        "nexus_df_filtered['s'] = nexus_df_filtered['s'].apply(lambda x: keep_fragment(x))\n",
        "nexus_df_filtered['p'] = nexus_df_filtered['p'].apply(lambda x: keep_fragment(x))\n",
        "nexus_df_filtered['o'] = nexus_df_filtered['o'].apply(lambda x: keep_fragment(x))\n",
        "\n",
        "nexus_df_filtered['o'].astype(str)\n",
        "nexus_df_filtered=nexus_df_filtered[nexus_df_filtered['p'] !=\"tmdbId\"]\n",
        "nexus_df_filtered=nexus_df_filtered[nexus_df_filtered['p']!=\"imdbId\"]\n",
        "nexus_df_filtered=nexus_df_filtered[nexus_df_filtered['p'] !=\"movieId\"]\n",
        "\n",
        "\n"
      ],
      "execution_count": 0,
      "outputs": [
        {
          "output_type": "stream",
          "text": [
            "/usr/local/lib/python3.6/dist-packages/ipykernel_launcher.py:7: UserWarning: Boolean Series key will be reindexed to match DataFrame index.\n",
            "  import sys\n"
          ],
          "name": "stderr"
        }
      ]
    },
    {
      "cell_type": "code",
      "metadata": {
        "id": "e8PYwzcWlpwu",
        "colab_type": "code",
        "outputId": "eee2428e-666a-4ac4-f93e-081fe946d818",
        "colab": {
          "base_uri": "https://localhost:8080/",
          "height": 349
        }
      },
      "source": [
        "display(nexus_df_filtered.shape)\n",
        "display(nexus_df_filtered.describe())\n",
        "display(nexus_df_filtered.head())"
      ],
      "execution_count": 0,
      "outputs": [
        {
          "output_type": "display_data",
          "data": {
            "text/plain": [
              "(29233, 3)"
            ]
          },
          "metadata": {
            "tags": []
          }
        },
        {
          "output_type": "display_data",
          "data": {
            "text/html": [
              "<div>\n",
              "<style scoped>\n",
              "    .dataframe tbody tr th:only-of-type {\n",
              "        vertical-align: middle;\n",
              "    }\n",
              "\n",
              "    .dataframe tbody tr th {\n",
              "        vertical-align: top;\n",
              "    }\n",
              "\n",
              "    .dataframe thead th {\n",
              "        text-align: right;\n",
              "    }\n",
              "</style>\n",
              "<table border=\"1\" class=\"dataframe\">\n",
              "  <thead>\n",
              "    <tr style=\"text-align: right;\">\n",
              "      <th></th>\n",
              "      <th>s</th>\n",
              "      <th>p</th>\n",
              "      <th>o</th>\n",
              "    </tr>\n",
              "  </thead>\n",
              "  <tbody>\n",
              "    <tr>\n",
              "      <th>count</th>\n",
              "      <td>29233</td>\n",
              "      <td>29233</td>\n",
              "      <td>29233</td>\n",
              "    </tr>\n",
              "    <tr>\n",
              "      <th>unique</th>\n",
              "      <td>6544</td>\n",
              "      <td>3</td>\n",
              "      <td>7290</td>\n",
              "    </tr>\n",
              "    <tr>\n",
              "      <th>top</th>\n",
              "      <td>Movie_171891</td>\n",
              "      <td>genres</td>\n",
              "      <td>Movie</td>\n",
              "    </tr>\n",
              "    <tr>\n",
              "      <th>freq</th>\n",
              "      <td>12</td>\n",
              "      <td>9749</td>\n",
              "      <td>9743</td>\n",
              "    </tr>\n",
              "  </tbody>\n",
              "</table>\n",
              "</div>"
            ],
            "text/plain": [
              "                   s       p      o\n",
              "count   29233         29233   29233\n",
              "unique  6544          3       7290 \n",
              "top     Movie_171891  genres  Movie\n",
              "freq    12            9749    9743 "
            ]
          },
          "metadata": {
            "tags": []
          }
        },
        {
          "output_type": "display_data",
          "data": {
            "text/html": [
              "<div>\n",
              "<style scoped>\n",
              "    .dataframe tbody tr th:only-of-type {\n",
              "        vertical-align: middle;\n",
              "    }\n",
              "\n",
              "    .dataframe tbody tr th {\n",
              "        vertical-align: top;\n",
              "    }\n",
              "\n",
              "    .dataframe thead th {\n",
              "        text-align: right;\n",
              "    }\n",
              "</style>\n",
              "<table border=\"1\" class=\"dataframe\">\n",
              "  <thead>\n",
              "    <tr style=\"text-align: right;\">\n",
              "      <th></th>\n",
              "      <th>s</th>\n",
              "      <th>p</th>\n",
              "      <th>o</th>\n",
              "    </tr>\n",
              "  </thead>\n",
              "  <tbody>\n",
              "    <tr>\n",
              "      <th>11</th>\n",
              "      <td>Movie_7</td>\n",
              "      <td>genres</td>\n",
              "      <td>Comedy|Romance</td>\n",
              "    </tr>\n",
              "    <tr>\n",
              "      <th>14</th>\n",
              "      <td>Movie_7</td>\n",
              "      <td>title</td>\n",
              "      <td>Sabrina (1995)</td>\n",
              "    </tr>\n",
              "    <tr>\n",
              "      <th>16</th>\n",
              "      <td>Movie_7</td>\n",
              "      <td>type</td>\n",
              "      <td>Movie</td>\n",
              "    </tr>\n",
              "    <tr>\n",
              "      <th>28</th>\n",
              "      <td>Movie_2</td>\n",
              "      <td>genres</td>\n",
              "      <td>Adventure|Children|Fantasy</td>\n",
              "    </tr>\n",
              "    <tr>\n",
              "      <th>31</th>\n",
              "      <td>Movie_2</td>\n",
              "      <td>title</td>\n",
              "      <td>Jumanji (1995)</td>\n",
              "    </tr>\n",
              "  </tbody>\n",
              "</table>\n",
              "</div>"
            ],
            "text/plain": [
              "          s       p                           o\n",
              "11  Movie_7  genres  Comedy|Romance            \n",
              "14  Movie_7  title   Sabrina (1995)            \n",
              "16  Movie_7  type    Movie                     \n",
              "28  Movie_2  genres  Adventure|Children|Fantasy\n",
              "31  Movie_2  title   Jumanji (1995)            "
            ]
          },
          "metadata": {
            "tags": []
          }
        }
      ]
    },
    {
      "cell_type": "code",
      "metadata": {
        "id": "hJFbOpY7lpwv",
        "colab_type": "code",
        "colab": {}
      },
      "source": [
        "nexus_df_filtered.to_csv(\"./movies_triples_prepared.csv\",index=False, header=False)"
      ],
      "execution_count": 0,
      "outputs": []
    },
    {
      "cell_type": "markdown",
      "metadata": {
        "id": "f3dqNv29lpww",
        "colab_type": "text"
      },
      "source": [
        "## Step 4: Train a recommmender model\n",
        "\n",
        "We will use te Ampligraph Library implementing many [knowledge graph embeddings](https://docs.ampligraph.org/en/1.1.0/ampligraph.latent_features.html). Click to have more details about those models.\n",
        "\n"
      ]
    },
    {
      "cell_type": "code",
      "metadata": {
        "id": "XRNh_60Xlpwx",
        "colab_type": "code",
        "colab": {}
      },
      "source": [
        "%%capture \n",
        "!pip install ampligraph --ignore-installed"
      ],
      "execution_count": 0,
      "outputs": []
    },
    {
      "cell_type": "code",
      "metadata": {
        "id": "MvHwPekdlpwy",
        "colab_type": "code",
        "outputId": "f25ae7d0-763d-4ec3-8f95-5689135f833c",
        "colab": {
          "base_uri": "https://localhost:8080/",
          "height": 33
        }
      },
      "source": [
        "import ampligraph\n",
        "!python --version"
      ],
      "execution_count": 0,
      "outputs": [
        {
          "output_type": "stream",
          "text": [
            "Python 3.6.8\n"
          ],
          "name": "stdout"
        }
      ]
    },
    {
      "cell_type": "code",
      "metadata": {
        "id": "0xW9IBO3lpw0",
        "colab_type": "code",
        "colab": {}
      },
      "source": [
        "import numpy as np\n",
        "from ampligraph.datasets import load_wn18, load_wn18rr, load_fb15k_237\n",
        "from ampligraph.latent_features import ComplEx, TransE,HolE\n",
        "from ampligraph.evaluation import evaluate_performance, mrr_score, hits_at_n_score\n",
        "from ampligraph.utils import save_model\n",
        "from ampligraph.evaluation import train_test_split_no_unseen"
      ],
      "execution_count": 0,
      "outputs": []
    },
    {
      "cell_type": "code",
      "metadata": {
        "id": "-tOTJkG47fZx",
        "colab_type": "code",
        "colab": {}
      },
      "source": [
        ""
      ],
      "execution_count": 0,
      "outputs": []
    },
    {
      "cell_type": "markdown",
      "metadata": {
        "id": "SjpHXJXL7g3r",
        "colab_type": "text"
      },
      "source": [
        "Build train and test dataset"
      ]
    },
    {
      "cell_type": "code",
      "metadata": {
        "id": "XdKYToze7TAX",
        "colab_type": "code",
        "outputId": "8b3f087f-4eaf-40c0-d4be-07ab07ed4e6f",
        "colab": {
          "base_uri": "https://localhost:8080/",
          "height": 49
        }
      },
      "source": [
        "# Since AmpliGraph only support loading from files, we will load the prepared dataset we saved before.\n",
        "data = ampligraph.datasets.load_from_csv(directory_path=\".\",file_name=\"movies_triples_prepared.csv\", sep=\",\")\n",
        "num_test = int(len(data) * (20 / 100))\n",
        "train, test = train_test_split_no_unseen(data, test_size=num_test, seed=0, allow_duplication=False) \n",
        "print('Train set size: ', train.shape)\n",
        "print('Test set size: ', test.shape)"
      ],
      "execution_count": 0,
      "outputs": [
        {
          "output_type": "stream",
          "text": [
            "Train set size:  (15647, 3)\n",
            "Test set size:  (3911, 3)\n"
          ],
          "name": "stdout"
        }
      ]
    },
    {
      "cell_type": "markdown",
      "metadata": {
        "id": "nmDN_UVj757o",
        "colab_type": "text"
      },
      "source": [
        "Lets go through the parameters to understand what's going on:\n",
        "\n",
        "- **`k`** : the dimensionality of the embedding space\n",
        "- **`eta`** ($\\eta$) : the number of negative, or false triples that must be generated at training runtime for each positive, or true triple\n",
        "- **`batches_count`** : the number of batches in which the training set is split during the training loop. If you are having into low memory issues than settings this to a higher number may help.\n",
        "- **`epochs`** : the number of epochs to train the model for.\n",
        "- **`optimizer`** : the Adam optimizer, with a learning rate of 1e-3 set via the *optimizer_params* kwarg.\n",
        "- **`loss`** : pairwise loss, with a margin of 0.5 set via the *loss_params* kwarg.\n",
        "- **`regularizer`** : $L_p$ regularization with $p=2$, i.e. l2 regularization. $\\lambda$ = 1e-5, set via the *regularizer_params* kwarg. \n",
        "\n",
        "Now we can instantiate the model:\n"
      ]
    },
    {
      "cell_type": "code",
      "metadata": {
        "id": "7_vIONlK7wQf",
        "colab_type": "code",
        "colab": {}
      },
      "source": [
        "model = ComplEx(batches_count=10, seed=0, epochs=20, k=150, eta=10,\n",
        "                    # Use adam optimizer with learning rate 1e-3\n",
        "                    optimizer='adam', optimizer_params={'lr':1e-3},\n",
        "                    # Use pairwise loss with margin 0.5\n",
        "                    loss='pairwise', loss_params={'margin':0.5},\n",
        "                    # Use L2 regularizer with regularizer weight 1e-5\n",
        "                    regularizer='LP', regularizer_params={'p':2, 'lambda':1e-5}, \n",
        "                    # Enable stdout messages (set to false if you don't want to display)\n",
        "                    verbose=True)"
      ],
      "execution_count": 0,
      "outputs": []
    },
    {
      "cell_type": "code",
      "metadata": {
        "id": "QBruTXce8rKP",
        "colab_type": "code",
        "outputId": "0ead4b08-a6cf-4575-fb1f-5ceb64f5a16d",
        "colab": {
          "base_uri": "https://localhost:8080/",
          "height": 33
        }
      },
      "source": [
        "import tensorflow as tf\n",
        "tf.logging.set_verbosity(tf.logging.ERROR)\n",
        "\n",
        "model.fit(train, early_stopping = False)"
      ],
      "execution_count": 0,
      "outputs": [
        {
          "output_type": "stream",
          "text": [
            "Average Loss:   0.024999: 100%|██████████| 20/20 [00:38<00:00,  1.88s/epoch]\n"
          ],
          "name": "stderr"
        }
      ]
    },
    {
      "cell_type": "code",
      "metadata": {
        "id": "vt9TqOcBlpw3",
        "colab_type": "code",
        "colab": {}
      },
      "source": [
        "from ampligraph.utils import create_tensorboard_visualizations, restore_model\n",
        "model_name_path = './movies_embeddings_model.pkl'\n",
        "restored_model = restore_model(model_name_path= model_name_path)\n",
        "output_path = './Graph'\n"
      ],
      "execution_count": 0,
      "outputs": []
    },
    {
      "cell_type": "markdown",
      "metadata": {
        "id": "f_5Lvzj7IpMX",
        "colab_type": "text"
      },
      "source": [
        ""
      ]
    },
    {
      "cell_type": "code",
      "metadata": {
        "id": "oB2yGDczlpw5",
        "colab_type": "code",
        "outputId": "9f0af27b-f41a-45a2-b557-661e29a0bee2",
        "colab": {
          "base_uri": "https://localhost:8080/",
          "height": 33
        }
      },
      "source": [
        "embeddings = restored_model.get_embeddings(['Movie_5','Movie_9'], embedding_type='entity')\n",
        "print(embeddings.shape)"
      ],
      "execution_count": 0,
      "outputs": [
        {
          "output_type": "stream",
          "text": [
            "(2, 300)\n"
          ],
          "name": "stdout"
        }
      ]
    },
    {
      "cell_type": "code",
      "metadata": {
        "id": "4Fy72OKXlpw8",
        "colab_type": "code",
        "outputId": "3d2acc69-9d2d-4fb9-898a-aeb23c6799b6",
        "colab": {
          "base_uri": "https://localhost:8080/",
          "height": 33
        }
      },
      "source": [
        "from numpy import dot\n",
        "from numpy.linalg import norm\n",
        "import json\n",
        "sim = dot(embeddings[0], embeddings[1])/(norm(embeddings[0])*norm(embeddings[1]))\n",
        "print(sim)"
      ],
      "execution_count": 0,
      "outputs": [
        {
          "output_type": "stream",
          "text": [
            "0.042629305\n"
          ],
          "name": "stdout"
        }
      ]
    },
    {
      "cell_type": "markdown",
      "metadata": {
        "id": "dzDNcvlPlpw-",
        "colab_type": "text"
      },
      "source": [
        "## Step 5 Push the embeddings to an ElasticSearch view in Nexus\n",
        "\n",
        "* Update every item in Nexus by adding their corresponding embedding\n",
        "* Create an ElasticSearch view to index and serve the items along with their embeddings"
      ]
    },
    {
      "cell_type": "code",
      "metadata": {
        "id": "8IWhWVYDJmPW",
        "colab_type": "code",
        "colab": {}
      },
      "source": [
        "\n",
        "project_with_embedding = \"myverycoolproj\" #create a new project\n",
        "response = nexus.projects.create(org,project_with_embedding )\n",
        "pretty_print(response)"
      ],
      "execution_count": 0,
      "outputs": []
    },
    {
      "cell_type": "code",
      "metadata": {
        "id": "61sr_ZmTlpw_",
        "colab_type": "code",
        "colab": {}
      },
      "source": [
        "\n",
        "def update_resource(nexus,identifier, org, project_source, project_target, embedding):\n",
        "    try:\n",
        "        resource = nexus.resources.fetch(org_label=org,project_label=project_source,resource_id=identifier)\n",
        "        resource = json.loads(json.dumps(resource))\n",
        "        resource_current_revision = resource[\"_rev\"]\n",
        "        \n",
        "        \n",
        "\n",
        "        project_target_ns=\"https://sandbox.bluebrainnexus.io/v1/resources/\"+org+\"/\"+project_target+\"/_/\"\n",
        "\n",
        "        \n",
        "        resource[\"@context\"][0][\"embedding\"] = {\n",
        "            \"@container\":\"@list\"\n",
        "        }\n",
        "        resource[\"@context\"][0][\"@base\"] = project_target_ns\n",
        "        resource[\"@context\"][0][\"@vocab\"] = 'https://sandbox.bluebrainnexus.io/v1/vocabs/tutorialnexus/movies/'\n",
        "        \n",
        "      \n",
        "        resource['embedding'] = embedding.tolist()\n",
        "        \n",
        "        \n",
        "       \n",
        "        resource[\"@id\"] = project_target_ns+resource[\"@id\"]\n",
        "        resource[\"_self\"] = resource[\"@id\"]\n",
        "        \n",
        "        response = nexus.resources.create(org,project_target,data=resource,resource_id=resource[\"@id\"])\n",
        "        return response\n",
        "    except nexus.HTTPError as e:\n",
        "      print(e)\n",
        "      return str(e)\n",
        "\n",
        "def update_resource_old(nexus,identifier, org, project_source, project_target, embedding):\n",
        "    try:\n",
        "        resource = nexus.resources.fetch(org_label=org,project_label=project_source,resource_id=identifier)\n",
        "        resource = json.loads(json.dumps(resource))\n",
        "        resource_current_revision = resource[\"_rev\"]\n",
        "        \n",
        "        resource[\"@context\"][0][\"embedding\"] = {\n",
        "            \"@container\":\"@list\"\n",
        "        }\n",
        "       # print(embedding)\n",
        "        #print(type(embedding))\n",
        "        resource['embedding'] = embedding.tolist()\n",
        "        #pretty_print(resource)\n",
        "        response = nexus.resources.update(resource=resource, rev=resource_current_revision)\n",
        "        return response\n",
        "    except nexus.HTTPError as e:\n",
        "        return str(e)\n",
        "    \n",
        "#Add embeddings to the data\n",
        "\n",
        "def update_with_embedding(number_of_movies,project_source, project_target):\n",
        "    \n",
        "    ns=\"https://sandbox.bluebrainnexus.io/v1/resources/tutorialnexus/\"+project_source+\"/_/\"\n",
        "\n",
        "    \n",
        "    items = nexus_df_filtered[\"s\"].unique()\n",
        "    i = 0\n",
        "    items = items[:number_of_movies]\n",
        "    for item in items:\n",
        "        try:\n",
        "            item_embedding = restored_model.get_embeddings([item], embedding_type='entity')\n",
        "            \n",
        "            response = update_resource(nexus,ns+item,org,project_source,project_target,item_embedding[0])\n",
        "            i= i+1\n",
        "            print(\"Created: \"+str(item))\n",
        "            \n",
        "        except nexus.HTTPError as e:\n",
        "            print (e.response.json())\n",
        "    print(i)"
      ],
      "execution_count": 0,
      "outputs": []
    },
    {
      "cell_type": "code",
      "metadata": {
        "id": "zkRfvTPWlpxC",
        "colab_type": "code",
        "colab": {}
      },
      "source": [
        "#Load 100 movies in the newly created project\n",
        "update_with_embedding(100,project,project_with_embedding)"
      ],
      "execution_count": 0,
      "outputs": []
    },
    {
      "cell_type": "markdown",
      "metadata": {
        "id": "lrde1uHplpxE",
        "colab_type": "text"
      },
      "source": [
        "### Create an ElasticSearchView\n",
        "\n",
        "The goal here is to illustrate hwo to use the Nexus SDK to create an Elasticsearch view. The full documentation can be found at: https://bluebrainnexus.io/docs/api/current/kg/kg-views-api.html#create-an-elasticsearchview-using-post.\n",
        "\n",
        "```\n",
        "{\n",
        "  \"@id\": \"{someid}\",\n",
        "  \"@type\": [ \"View\", \"ElasticSearchView\"],\n",
        "  \"resourceSchemas\": [ \"{resourceSchema}\", ...],\n",
        "  \"resourceTypes\": [ \"{resourceType}\", ...],\n",
        "  \"resourceTag\": \"{tag}\",\n",
        "  \"includeMetadata\": {includeMetadata},\n",
        "  \"includeDeprecated\": {includeDeprecated},\n",
        "  \"mapping\": _elasticsearch mapping_\n",
        "}\n",
        "\n",
        "````\n",
        "\n",
        "An ElasticSearchView is a way to tell Nexus:\n",
        "\n",
        "* Which resources to index in the view:\n",
        "\n",
        " * resources that conform to a given schema: set resourceSchemas to the targeted schemas\n",
        "\n",
        " * resources that are of a given type: set resourceTypes to the targeted types\n",
        "\n",
        " * resources that are tagged: set resourceTag to the targeted tag value.\n",
        "\n",
        "* Which mapping to use when indexing the selected resources:\n",
        "\n",
        " * set mappingto be used: More info about Elasticsearch mapping."
      ]
    },
    {
      "cell_type": "code",
      "metadata": {
        "id": "G2lb5FejlpxH",
        "colab_type": "code",
        "colab": {}
      },
      "source": [
        "type_to_index = [\"https://sandbox.bluebrainnexus.io/v1/vocabs/tutorialnexus/movies/Movie\"]\n",
        "view_id=\"https://mymovieview.org\"\n",
        "view_data = {\n",
        "    \"@type\": [\n",
        "        \"ElasticSearchView\"\n",
        "    ],\n",
        "    \"includeMetadata\": True,\n",
        "    \"includeDeprecated\": False,\n",
        "    \"resourceTypes\":type_to_index,\n",
        "    \"mapping\": {\n",
        "        \"properties\": {\n",
        "            \"@id\": {\n",
        "                \"type\": \"keyword\"\n",
        "            },\n",
        "            \"@type\": {\n",
        "                \"type\": \"keyword\"\n",
        "            },\n",
        "            \"embedding\": {\n",
        "                \"type\":\"dense_vector\",\n",
        "                \"dims\":300\n",
        "            }\n",
        "        }\n",
        "    },\n",
        "    \"sourceAsText\": False\n",
        "}\n",
        "\n",
        "try:\n",
        "    response = nexus.views.create_(org_label=org, project_label=project_with_embedding,payload=view_data,view_id=view_id)\n",
        "    pretty_print(response)\n",
        "except nexus.HTTPError as ne:\n",
        "    pretty_print(ne.response.json())\n"
      ],
      "execution_count": 0,
      "outputs": []
    },
    {
      "cell_type": "markdown",
      "metadata": {
        "id": "DVFkyFWa34mY",
        "colab_type": "text"
      },
      "source": [
        "Go to [Nexus web](https://sandbox.bluebrainnexus.io/web/tutorialnexus). Select your project and view the indexing progress for the view https://mymovieview.org"
      ]
    },
    {
      "cell_type": "markdown",
      "metadata": {
        "id": "JjzfQhhn-aXF",
        "colab_type": "text"
      },
      "source": [
        ""
      ]
    },
    {
      "cell_type": "markdown",
      "metadata": {
        "id": "Auq7CWLPlpxI",
        "colab_type": "text"
      },
      "source": [
        "## Step 6 Get similar item Using ElasticSearch\n",
        "\n",
        "From a movie identifier get similar movies. The following method will fetch from Nexus the corresponding entity, extract its embedding and use it to build an ElasticSearch query submitted to an ElasticSearch view."
      ]
    },
    {
      "cell_type": "code",
      "metadata": {
        "id": "Wk642GqvlpxI",
        "colab_type": "code",
        "colab": {}
      },
      "source": [
        "def get_similar_movies(item_id, q=\"*\", number_of_results=10, view_id=\"demo\"):\n",
        "    \"\"\"\n",
        "    Given a movie id, execute the recommendation function score query to find similar movies, ranked by cosine similarity\n",
        "    \"\"\"\n",
        "    # Get the item from Nexus and retrieve its embedding\n",
        "    \n",
        "    item_source = nexus.resources.fetch(org_label=org,project_label=project_with_embedding,resource_id=item_id)\n",
        "    item_source = json.loads(json.dumps(item_source))\n",
        "    \n",
        "    # extract the embedding\n",
        "    item_embedding = item_source['embedding']\n",
        "    query = {\n",
        "          \"size\": number_of_results,\n",
        "                \"_source\": {\n",
        "                \"exclude\": [ \"embedding\" ]\n",
        "           },\n",
        "          \"query\": {\n",
        "            \"script_score\": {\n",
        "              \"query\": {\n",
        "                    \"exists\": {\n",
        "                    \"field\": \"embedding\"\n",
        "                    }\n",
        "              },\n",
        "              \"script\": {\n",
        "                \"source\": \"cosineSimilarity(params.queryVector, doc['embedding'])+1.0\",\n",
        "                \"params\": {\n",
        "                  \"queryVector\": item_embedding\n",
        "                }\n",
        "              }\n",
        "            }\n",
        "          }\n",
        "        }\n",
        "\n",
        "    response = nexus.views.query_es(org_label=org, project_label=project_with_embedding,query=query,view_id=view_id)\n",
        "    response_json = json.loads(json.dumps(response))\n",
        "    \n",
        "    number_of_results = response[\"hits\"]['total']['value']\n",
        "    similar_movies = [(hit[\"_source\"][\"title\"],\n",
        "                       hit[\"_source\"][\"genres\"],\n",
        "                       hit[\"_score\"],\n",
        "                       hit[\"_source\"][\"movieId\"])\n",
        "                       for hit in response[\"hits\"]['hits']]\n",
        "    return number_of_results, similar_movies\n",
        "    \n"
      ],
      "execution_count": 0,
      "outputs": []
    },
    {
      "cell_type": "code",
      "metadata": {
        "id": "1154gLkc-Rkh",
        "colab_type": "code",
        "colab": {}
      },
      "source": [
        ""
      ],
      "execution_count": 0,
      "outputs": []
    },
    {
      "cell_type": "code",
      "metadata": {
        "id": "plqe3jJ2lpxL",
        "colab_type": "code",
        "outputId": "634d3fb2-771d-4c81-b530-bcc18c5a62ae",
        "colab": {
          "base_uri": "https://localhost:8080/",
          "height": 513
        }
      },
      "source": [
        "#query similar data\n",
        "view_id=\"https://mymovieview.org\"\n",
        "number_of_results = 10\n",
        "movieId = \"Movie_349\"\n",
        "result = nexus_df_filtered.loc[nexus_df_filtered['s'] == movieId]\n",
        "print(\"Looking for movies similar to %s\" %(movieId))\n",
        "display(result)\n",
        "project_target_ns=\"https://sandbox.bluebrainnexus.io/v1/resources/\"+org+\"/\"+project_with_embedding+\"/_/\"\n",
        "number_of_similar_movies, similar_movies = get_similar_movies(item_id= project_target_ns+movieId,number_of_results=number_of_results,view_id=view_id)\n",
        "print(\"\\n Found %s similar movies. \\nShowing %s movies\" %(str(number_of_similar_movies),str(number_of_results)))\n",
        "\n",
        "similar_movies_df = pd.DataFrame(similar_movies, columns =['Title', 'Genres', 'Score', \"Id\"]) \n",
        "similar_movies_df.head(10)    \n"
      ],
      "execution_count": 0,
      "outputs": [
        {
          "output_type": "stream",
          "text": [
            "Looking for movies similar to Movie_349\n"
          ],
          "name": "stdout"
        },
        {
          "output_type": "display_data",
          "data": {
            "text/html": [
              "<div>\n",
              "<style scoped>\n",
              "    .dataframe tbody tr th:only-of-type {\n",
              "        vertical-align: middle;\n",
              "    }\n",
              "\n",
              "    .dataframe tbody tr th {\n",
              "        vertical-align: top;\n",
              "    }\n",
              "\n",
              "    .dataframe thead th {\n",
              "        text-align: right;\n",
              "    }\n",
              "</style>\n",
              "<table border=\"1\" class=\"dataframe\">\n",
              "  <thead>\n",
              "    <tr style=\"text-align: right;\">\n",
              "      <th></th>\n",
              "      <th>s</th>\n",
              "      <th>p</th>\n",
              "      <th>o</th>\n",
              "    </tr>\n",
              "  </thead>\n",
              "  <tbody>\n",
              "    <tr>\n",
              "      <th>1062</th>\n",
              "      <td>Movie_349</td>\n",
              "      <td>genres</td>\n",
              "      <td>Action|Crime|Drama|Thriller</td>\n",
              "    </tr>\n",
              "    <tr>\n",
              "      <th>1065</th>\n",
              "      <td>Movie_349</td>\n",
              "      <td>title</td>\n",
              "      <td>Clear and Present Danger (1994)</td>\n",
              "    </tr>\n",
              "    <tr>\n",
              "      <th>1067</th>\n",
              "      <td>Movie_349</td>\n",
              "      <td>type</td>\n",
              "      <td>Movie</td>\n",
              "    </tr>\n",
              "  </tbody>\n",
              "</table>\n",
              "</div>"
            ],
            "text/plain": [
              "              s       p                                o\n",
              "1062  Movie_349  genres  Action|Crime|Drama|Thriller    \n",
              "1065  Movie_349  title   Clear and Present Danger (1994)\n",
              "1067  Movie_349  type    Movie                          "
            ]
          },
          "metadata": {
            "tags": []
          }
        },
        {
          "output_type": "stream",
          "text": [
            "\n",
            " Found 92 similar movies. \n",
            "Showing 10 movies\n"
          ],
          "name": "stdout"
        },
        {
          "output_type": "execute_result",
          "data": {
            "text/html": [
              "<div>\n",
              "<style scoped>\n",
              "    .dataframe tbody tr th:only-of-type {\n",
              "        vertical-align: middle;\n",
              "    }\n",
              "\n",
              "    .dataframe tbody tr th {\n",
              "        vertical-align: top;\n",
              "    }\n",
              "\n",
              "    .dataframe thead th {\n",
              "        text-align: right;\n",
              "    }\n",
              "</style>\n",
              "<table border=\"1\" class=\"dataframe\">\n",
              "  <thead>\n",
              "    <tr style=\"text-align: right;\">\n",
              "      <th></th>\n",
              "      <th>Title</th>\n",
              "      <th>Genres</th>\n",
              "      <th>Score</th>\n",
              "      <th>Id</th>\n",
              "    </tr>\n",
              "  </thead>\n",
              "  <tbody>\n",
              "    <tr>\n",
              "      <th>0</th>\n",
              "      <td>Clear and Present Danger (1994)</td>\n",
              "      <td>Action|Crime|Drama|Thriller</td>\n",
              "      <td>2.000000</td>\n",
              "      <td>349</td>\n",
              "    </tr>\n",
              "    <tr>\n",
              "      <th>1</th>\n",
              "      <td>Fresh (1994)</td>\n",
              "      <td>Crime|Drama|Thriller</td>\n",
              "      <td>1.303964</td>\n",
              "      <td>456</td>\n",
              "    </tr>\n",
              "    <tr>\n",
              "      <th>2</th>\n",
              "      <td>Eat Drink Man Woman (Yin shi nan nu) (1994)</td>\n",
              "      <td>Comedy|Drama|Romance</td>\n",
              "      <td>1.303016</td>\n",
              "      <td>232</td>\n",
              "    </tr>\n",
              "    <tr>\n",
              "      <th>3</th>\n",
              "      <td>Interview with the Vampire: The Vampire Chronicles (1994)</td>\n",
              "      <td>Drama|Horror</td>\n",
              "      <td>1.275722</td>\n",
              "      <td>253</td>\n",
              "    </tr>\n",
              "    <tr>\n",
              "      <th>4</th>\n",
              "      <td>Amateur (1994)</td>\n",
              "      <td>Crime|Drama|Thriller</td>\n",
              "      <td>1.264097</td>\n",
              "      <td>149</td>\n",
              "    </tr>\n",
              "    <tr>\n",
              "      <th>5</th>\n",
              "      <td>Forget Paris (1995)</td>\n",
              "      <td>Comedy|Romance</td>\n",
              "      <td>1.263060</td>\n",
              "      <td>237</td>\n",
              "    </tr>\n",
              "    <tr>\n",
              "      <th>6</th>\n",
              "      <td>Young Poisoner's Handbook, The (1995)</td>\n",
              "      <td>Crime|Drama</td>\n",
              "      <td>1.258947</td>\n",
              "      <td>117</td>\n",
              "    </tr>\n",
              "    <tr>\n",
              "      <th>7</th>\n",
              "      <td>Casino (1995)</td>\n",
              "      <td>Crime|Drama</td>\n",
              "      <td>1.249238</td>\n",
              "      <td>16</td>\n",
              "    </tr>\n",
              "    <tr>\n",
              "      <th>8</th>\n",
              "      <td>American President, The (1995)</td>\n",
              "      <td>Comedy|Drama|Romance</td>\n",
              "      <td>1.243004</td>\n",
              "      <td>11</td>\n",
              "    </tr>\n",
              "    <tr>\n",
              "      <th>9</th>\n",
              "      <td>Waiting to Exhale (1995)</td>\n",
              "      <td>Comedy|Drama|Romance</td>\n",
              "      <td>1.233743</td>\n",
              "      <td>4</td>\n",
              "    </tr>\n",
              "  </tbody>\n",
              "</table>\n",
              "</div>"
            ],
            "text/plain": [
              "                                                       Title  ...   Id\n",
              "0  Clear and Present Danger (1994)                            ...  349\n",
              "1  Fresh (1994)                                               ...  456\n",
              "2  Eat Drink Man Woman (Yin shi nan nu) (1994)                ...  232\n",
              "3  Interview with the Vampire: The Vampire Chronicles (1994)  ...  253\n",
              "4  Amateur (1994)                                             ...  149\n",
              "5  Forget Paris (1995)                                        ...  237\n",
              "6  Young Poisoner's Handbook, The (1995)                      ...  117\n",
              "7  Casino (1995)                                              ...  16 \n",
              "8  American President, The (1995)                             ...  11 \n",
              "9  Waiting to Exhale (1995)                                   ...  4  \n",
              "\n",
              "[10 rows x 4 columns]"
            ]
          },
          "metadata": {
            "tags": []
          },
          "execution_count": 240
        }
      ]
    },
    {
      "cell_type": "code",
      "metadata": {
        "id": "eztOwCuFlpxM",
        "colab_type": "code",
        "colab": {}
      },
      "source": [
        ""
      ],
      "execution_count": 0,
      "outputs": []
    },
    {
      "cell_type": "code",
      "metadata": {
        "id": "qCZ4dgIMlpxN",
        "colab_type": "code",
        "colab": {}
      },
      "source": [
        ""
      ],
      "execution_count": 0,
      "outputs": []
    },
    {
      "cell_type": "code",
      "metadata": {
        "id": "FJGse3sAlpxO",
        "colab_type": "code",
        "colab": {}
      },
      "source": [
        ""
      ],
      "execution_count": 0,
      "outputs": []
    }
  ]
}