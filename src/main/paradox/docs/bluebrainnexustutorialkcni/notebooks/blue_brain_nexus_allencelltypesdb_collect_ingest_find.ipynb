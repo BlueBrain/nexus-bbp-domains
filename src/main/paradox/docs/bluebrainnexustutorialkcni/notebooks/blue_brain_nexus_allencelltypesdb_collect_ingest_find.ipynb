{
 "cells": [
  {
   "cell_type": "markdown",
   "metadata": {
    "colab_type": "text",
    "id": "jcyB6NFmQReL"
   },
   "source": [
    "# Blue Brain Nexus Workshop - Toronto 2019.11"
   ]
  },
  {
   "cell_type": "markdown",
   "metadata": {},
   "source": [
    "## Configure: environment and pre-requisites"
   ]
  },
  {
   "cell_type": "code",
   "execution_count": null,
   "metadata": {},
   "outputs": [],
   "source": [
    "!pip install allensdk\n",
    "!pip install -U nexus-sdk\n",
    "!pip install rdflib\n",
    "!pip install SPARQLWrapper"
   ]
  },
  {
   "cell_type": "code",
   "execution_count": 1,
   "metadata": {
    "colab": {},
    "colab_type": "code",
    "id": "84rN5sccS3f6"
   },
   "outputs": [],
   "source": [
    "import requests\n",
    "import json\n",
    "from collections import defaultdict\n",
    "import getpass\n",
    "\n",
    "from allensdk.core.cell_types_cache import CellTypesCache\n",
    "from allensdk.api.queries.cell_types_api import CellTypesApi\n",
    "from allensdk.core.cell_types_cache import ReporterStatus as RS\n",
    "import nexussdk as nexus\n",
    "\n",
    "import Nexus.Mapper as nm\n",
    "import Nexus.Utils as nu"
   ]
  },
  {
   "cell_type": "code",
   "execution_count": 2,
   "metadata": {},
   "outputs": [],
   "source": [
    "DEPLOYMENT = \"https://sandbox.bluebrainnexus.io/v1\""
   ]
  },
  {
   "cell_type": "code",
   "execution_count": 16,
   "metadata": {},
   "outputs": [
    {
     "name": "stdin",
     "output_type": "stream",
     "text": [
      " ···················································································································································································································································································································································································································································································································································································································································································································································································································································································································································································································································································································································································································································································································································································································································\n"
     ]
    }
   ],
   "source": [
    "TOKEN = getpass.getpass()"
   ]
  },
  {
   "cell_type": "code",
   "execution_count": 17,
   "metadata": {},
   "outputs": [],
   "source": [
    "nexus.config.set_environment(DEPLOYMENT)"
   ]
  },
  {
   "cell_type": "code",
   "execution_count": 18,
   "metadata": {},
   "outputs": [],
   "source": [
    "nexus.config.set_token(TOKEN)"
   ]
  },
  {
   "cell_type": "code",
   "execution_count": 6,
   "metadata": {},
   "outputs": [],
   "source": [
    "ORGANIZATION = \"tutorialnexus\""
   ]
  },
  {
   "cell_type": "code",
   "execution_count": 7,
   "metadata": {},
   "outputs": [],
   "source": [
    "PROJECT = \"akkaufma\" # TODO: tell them to use their project label here"
   ]
  },
  {
   "cell_type": "markdown",
   "metadata": {
    "colab_type": "text",
    "id": "9W5M5Ck9Tq7q"
   },
   "source": [
    "## Collect and explore: Download Allen Cell Types Database data"
   ]
  },
  {
   "cell_type": "markdown",
   "metadata": {},
   "source": [
    "We will be working with human and mouse neuron morphology and electrophysiology data from the [Allen Cell Types Database](https://celltypes.brain-map.org/). The [AllenSDK](https://allensdk.readthedocs.io/en/latest/) can be used for data download"
   ]
  },
  {
   "cell_type": "code",
   "execution_count": 8,
   "metadata": {},
   "outputs": [],
   "source": [
    "ctc = CellTypesCache(manifest_file=\"./allen_cell_types_db/manifest.json\")"
   ]
  },
  {
   "cell_type": "code",
   "execution_count": 9,
   "metadata": {},
   "outputs": [],
   "source": [
    "allen_cells = ctc.get_cells(require_reconstruction = True)"
   ]
  },
  {
   "cell_type": "code",
   "execution_count": 11,
   "metadata": {},
   "outputs": [
    {
     "name": "stdout",
     "output_type": "stream",
     "text": [
      "Total number of cells with reconstruction and ephys: 637\n"
     ]
    }
   ],
   "source": [
    "print(\"Total number of cells with reconstruction and ephys: %d\" % len(allen_cells))"
   ]
  },
  {
   "cell_type": "code",
   "execution_count": 12,
   "metadata": {},
   "outputs": [],
   "source": [
    "allen_cells_ids = [c[\"id\"] for c in allen_cells][0:20] # TODO: change to all cells with reconstruction?"
   ]
  },
  {
   "cell_type": "code",
   "execution_count": 13,
   "metadata": {},
   "outputs": [],
   "source": [
    "allen_reconstruction = [ctc.get_reconstruction(i) for i in allen_cells_ids]"
   ]
  },
  {
   "cell_type": "code",
   "execution_count": 14,
   "metadata": {},
   "outputs": [],
   "source": [
    "allen_electrophysiology = [ctc.get_ephys_data(i) for i in allen_cells_ids]"
   ]
  },
  {
   "cell_type": "code",
   "execution_count": null,
   "metadata": {},
   "outputs": [],
   "source": [
    "# TODO: expllore --> show the directories and the data (ls etc): metadata and files\n",
    "# let's explore the data ... (display the first elements of the data)\n",
    "# plot a morphology etc.\n",
    "# include a figure what you get (same figure as on the website : what you get)"
   ]
  },
  {
   "cell_type": "markdown",
   "metadata": {},
   "source": [
    "## Ingest: Store the ephys and reconstruction files into Blue Brain Nexus"
   ]
  },
  {
   "cell_type": "markdown",
   "metadata": {},
   "source": [
    "Push all the neuron morphologies"
   ]
  },
  {
   "cell_type": "code",
   "execution_count": null,
   "metadata": {},
   "outputs": [],
   "source": [
    "# TODO: take out the distribution\n",
    "# TODO: take out the save JSON\n",
    "# TODO: avoid pushing the same data twice"
   ]
  },
  {
   "cell_type": "code",
   "execution_count": null,
   "metadata": {},
   "outputs": [],
   "source": [
    "morph_files_meta = dict()"
   ]
  },
  {
   "cell_type": "code",
   "execution_count": null,
   "metadata": {},
   "outputs": [],
   "source": [
    "# TODO: put a little text and add ... defualtnexusstorage"
   ]
  },
  {
   "cell_type": "code",
   "execution_count": 15,
   "metadata": {},
   "outputs": [
    {
     "data": {
      "text/plain": [
       "[485909730,\n",
       " 323865917,\n",
       " 476135066,\n",
       " 502614426,\n",
       " 519832676,\n",
       " 480087928,\n",
       " 596020931,\n",
       " 569095789,\n",
       " 528706755,\n",
       " 473611755,\n",
       " 475549334,\n",
       " 501799874,\n",
       " 531520637,\n",
       " 314804042,\n",
       " 555241040,\n",
       " 488679042,\n",
       " 502267531,\n",
       " 616647103,\n",
       " 530737765,\n",
       " 502367941]"
      ]
     },
     "execution_count": 15,
     "metadata": {},
     "output_type": "execute_result"
    }
   ],
   "source": [
    "allen_cells_ids"
   ]
  },
  {
   "cell_type": "code",
   "execution_count": null,
   "metadata": {},
   "outputs": [],
   "source": [
    "# TODO catch the error\n",
    "# TODO add def to push files and get distribution\n",
    "# function should just get file format (all swc, nwb)"
   ]
  },
  {
   "cell_type": "code",
   "execution_count": null,
   "metadata": {},
   "outputs": [],
   "source": [
    "for cell_id in allen_cells_ids:\n",
    "    file_path = f\"./allen_cell_types_db/specimen_{cell_id}/reconstruction.swc\"\n",
    "    response = nexus.files.create(org_label=ORGANIZATION, project_label=PROJECT, filepath=file_path)\n",
    "    morph_files_meta[cell_id] = {\n",
    "       \"@type\": \"DataDownload\",\n",
    "       \"contentUrl\": response[\"_self\"],\n",
    "        \"contentSize\": {\n",
    "            \"unitCode\": \"bytes\",\n",
    "            \"value\": response[\"_bytes\"]\n",
    "        },\n",
    "        \"digest\": {\n",
    "            \"algorithm\": \"SHA-256\",\n",
    "            \"value\": response[\"_digest\"][\"_value\"],\n",
    "        },\n",
    "        \"encodingFOrmat\": \"application/swc\",\n",
    "        \"name\": response[\"_filename\"]\n",
    "    }"
   ]
  },
  {
   "cell_type": "code",
   "execution_count": null,
   "metadata": {},
   "outputs": [],
   "source": [
    "save_json(morph_files_meta, \"./morphs_files_meta.json\")"
   ]
  },
  {
   "cell_type": "markdown",
   "metadata": {},
   "source": [
    "Push all the electrophysiology"
   ]
  },
  {
   "cell_type": "code",
   "execution_count": null,
   "metadata": {},
   "outputs": [],
   "source": [
    "ephys_files_meta = dict()"
   ]
  },
  {
   "cell_type": "code",
   "execution_count": null,
   "metadata": {},
   "outputs": [],
   "source": [
    "for cell_id in allen_cells_ids:\n",
    "    file_path = f\"./allen_cell_types_db/specimen_{cell_id}/ephys.nwb\"\n",
    "    response = nexus.files.create(org_label=ORGANIZATION, project_label=PROJECT, filepath=file_path)\n",
    "    ephys_files_meta[cell_id] = {\n",
    "       \"@type\": \"DataDownload\",\n",
    "       \"contentUrl\": response[\"_self\"],\n",
    "        \"contentSize\": {\n",
    "            \"unitCode\": \"bytes\",\n",
    "            \"value\": response[\"_bytes\"]\n",
    "        },\n",
    "        \"digest\": {\n",
    "            \"algorithm\": \"SHA-256\",\n",
    "            \"value\": response[\"_digest\"][\"_value\"],\n",
    "        },\n",
    "        \"encodingFOrmat\": \"application/nwb\",\n",
    "        \"name\": response[\"_filename\"]\n",
    "    }"
   ]
  },
  {
   "cell_type": "code",
   "execution_count": null,
   "metadata": {},
   "outputs": [],
   "source": [
    "save_json(ephys_files_meta, \"./ephys_files_meta.json\")"
   ]
  },
  {
   "cell_type": "markdown",
   "metadata": {},
   "source": [
    "## Map: Map the Allen metadata to the Neuroshapes data model"
   ]
  },
  {
   "cell_type": "code",
   "execution_count": null,
   "metadata": {},
   "outputs": [],
   "source": [
    "neurons_allen = nsu.get_json(\"./allen_cell_types_db/cells.json\") # TODO change the same"
   ]
  },
  {
   "cell_type": "code",
   "execution_count": null,
   "metadata": {},
   "outputs": [],
   "source": [
    "neuron_morphs_allen = list()\n",
    "for neuron in neurons_allen:\n",
    "    if neuron[\"specimen__id\"] in ephys_files_meta.keys():\n",
    "        neuron_morphs_allen.append(neuron)"
   ]
  },
  {
   "cell_type": "code",
   "execution_count": null,
   "metadata": {},
   "outputs": [],
   "source": [
    "neuron_morphs_allen[0] # TODO: change the naming"
   ]
  },
  {
   "cell_type": "code",
   "execution_count": null,
   "metadata": {},
   "outputs": [],
   "source": [
    "# TODO: create Allen utility and abstract out"
   ]
  },
  {
   "cell_type": "code",
   "execution_count": null,
   "metadata": {},
   "outputs": [],
   "source": [
    "vocabulary = nsu.get_json(\"./vocabulary.json\") # TODO load Json"
   ]
  },
  {
   "cell_type": "code",
   "execution_count": null,
   "metadata": {},
   "outputs": [],
   "source": [
    "mapper = nsm.Mapper()"
   ]
  },
  {
   "cell_type": "code",
   "execution_count": null,
   "metadata": {},
   "outputs": [],
   "source": [
    "at_graph_allen = mapper.allencelltypesdb2neuroshapes(neuron_morphs_allen, vocabulary) # TODO: naming"
   ]
  },
  {
   "cell_type": "code",
   "execution_count": null,
   "metadata": {},
   "outputs": [],
   "source": [
    "# TODO: add the provenance information regarding contribution & protocol and update the entities which point to the protocol def"
   ]
  },
  {
   "cell_type": "code",
   "execution_count": null,
   "metadata": {},
   "outputs": [],
   "source": [
    "# TODO: you can save..."
   ]
  },
  {
   "cell_type": "code",
   "execution_count": null,
   "metadata": {},
   "outputs": [],
   "source": [
    "filename = \"./at_graph_allen.json\"\n",
    "with open(filename, 'w') as filehandle:\n",
    "    json.dump(at_graph_allen, filehandle, sort_keys=True, indent=4)"
   ]
  },
  {
   "cell_type": "markdown",
   "metadata": {},
   "source": [
    "## Ingest: Ingest the metadata graph"
   ]
  },
  {
   "cell_type": "code",
   "execution_count": null,
   "metadata": {},
   "outputs": [],
   "source": [
    "# TODO: change to the context from the atgraph at_graph_allen[\"@context\"]\n",
    "context = \"https://bbp.neuroshapes.org\""
   ]
  },
  {
   "cell_type": "code",
   "execution_count": null,
   "metadata": {},
   "outputs": [],
   "source": [
    "entities = at_graph_allen[\"@graph\"]"
   ]
  },
  {
   "cell_type": "code",
   "execution_count": null,
   "metadata": {},
   "outputs": [],
   "source": [
    "# TODO: fix the cell id to get the right metadata\n",
    "# TODO: store the url to the allen website?\n",
    "for entity in entities:\n",
    "    entity[\"@context\"] = context\n",
    "    if \"nsg:NeuronMorphology\" in entity[\"@type\"]:\n",
    "        distribution = morph_files_meta[int(entity[\"@id\"].split(\"_\")[-1])] # TODO: use the identifier\n",
    "        entity[\"distribution\"] = distribution\n",
    "#     nexus.tools.pretty_print(entity)\n",
    "    try:\n",
    "        nexus.resources.create(org_label=ORGANIZATION, project_label=PROJECT, data=entity)\n",
    "    except nxs.HTTPError as e:\n",
    "        print(e)\n",
    "        print(\"---\")\n",
    "        nxs.tools.pretty_print(e.response.json())    "
   ]
  },
  {
   "cell_type": "markdown",
   "metadata": {},
   "source": [
    "# TODO: Download\n",
    "- get one and plot it\n",
    "- download through nexus sdk directly \n",
    "- sparql by brain region etc... --> they should get data frame with metadata and have the option to download result and metadata\n",
    "- perform this potentially on a pre-set project with more data"
   ]
  }
 ],
 "metadata": {
  "colab": {
   "collapsed_sections": [],
   "name": "Step by step jupyter notebook for bringing data to Nexus v1.ipynb",
   "provenance": [],
   "version": "0.3.2"
  },
  "kernelspec": {
   "display_name": "Python 3",
   "language": "python",
   "name": "python3"
  },
  "language_info": {
   "codemirror_mode": {
    "name": "ipython",
    "version": 3
   },
   "file_extension": ".py",
   "mimetype": "text/x-python",
   "name": "python",
   "nbconvert_exporter": "python",
   "pygments_lexer": "ipython3",
   "version": "3.6.8"
  }
 },
 "nbformat": 4,
 "nbformat_minor": 4
}
