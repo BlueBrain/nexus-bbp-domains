{
 "cells": [
  {
   "cell_type": "markdown",
   "metadata": {
    "colab_type": "text",
    "id": "jcyB6NFmQReL"
   },
   "source": [
    "# Store Allen Cell Types Database data in Blue Brain Nexus"
   ]
  },
  {
   "cell_type": "markdown",
   "metadata": {},
   "source": [
    "The goal of this notebook is to collect, map, ingest, find and download data from the Allen Cell Types Database using Blue Brain Nexus and Neuroshapes"
   ]
  },
  {
   "cell_type": "markdown",
   "metadata": {},
   "source": [
    "<img src=\"../ingest-allen-celltypes-db-in-nexus/assets/nexus_workshop_data_pipeline.png\" width=\"1200\">"
   ]
  },
  {
   "cell_type": "code",
   "execution_count": null,
   "metadata": {},
   "outputs": [],
   "source": [
    "# TODO: fix the Quick start tutorial link"
   ]
  },
  {
   "cell_type": "markdown",
   "metadata": {},
   "source": [
    "## Prerequisites\n",
    "\n",
    "This notebook assumes that\n",
    "- you have created a project within the AWS sandbox deployment of Blue Brain Nexus. If not follow the Blue Brain Nexus [Quick Start tutorial](https://bluebrain.github.io/nexus/docs/tutorial/getting-started/quick-start/index.html)\n",
    "- the neuroshapes schemas are available in the neuroshapes/schemas project of the AWS sandbox deployment of Blue Brain Nexus"
   ]
  },
  {
   "cell_type": "markdown",
   "metadata": {},
   "source": [
    "## Overview\n",
    "\n",
    "You'll work through the following steps:\n",
    "\n",
    "1. Configure Blue Brain Nexus environment\n",
    "2. Collect and explore Allen Cell Types Database electrophysiology and neuron morphology data (files and metadata)\n",
    "3. Store electrophysiology and neuron morphology files in Blue Brain Nexus\n",
    "4. Map Allen Cell Types Database metadata to Neuroshapes\n",
    "5. Store mapped Allen Cell Types Database metadata in Blue Brain Nexus\n",
    "6. Find and download stored data using SPARQL"
   ]
  },
  {
   "cell_type": "markdown",
   "metadata": {},
   "source": [
    "## Step 1: Configure Blue Brain Neuxs environment"
   ]
  },
  {
   "cell_type": "markdown",
   "metadata": {},
   "source": [
    "Install the required python packages"
   ]
  },
  {
   "cell_type": "code",
   "execution_count": null,
   "metadata": {},
   "outputs": [],
   "source": [
    "# !pip install allensdk\n",
    "# !pip install -U nexus-sdk\n",
    "# !pip install rdflib\n",
    "# !pip install SPARQLWrapper"
   ]
  },
  {
   "cell_type": "markdown",
   "metadata": {},
   "source": [
    "Import the required python packages"
   ]
  },
  {
   "cell_type": "code",
   "execution_count": 1,
   "metadata": {
    "colab": {},
    "colab_type": "code",
    "id": "84rN5sccS3f6"
   },
   "outputs": [],
   "source": [
    "# TODO: check usage\n",
    "import requests\n",
    "import json\n",
    "import getpass\n",
    "import pandas as pd\n",
    "import os\n",
    "import matplotlib.pyplot as plt\n",
    "\n",
    "from allensdk.core.cell_types_cache import CellTypesCache\n",
    "from allensdk.api.queries.cell_types_api import CellTypesApi\n",
    "from allensdk.core.cell_types_cache import ReporterStatus as RS\n",
    "from allensdk.core.swc import Marker\n",
    "\n",
    "from sparqlendpointhelper import SparqlViewHelper\n",
    "import nexussdk as nexus\n",
    "import Nexus.Mapper as mapper\n",
    "import Nexus.Utils as utils\n",
    "import Nexus.Neuroshapes as neuroshapes"
   ]
  },
  {
   "cell_type": "markdown",
   "metadata": {},
   "source": [
    "Set up the Blue Brain Nexus sandbox environment"
   ]
  },
  {
   "cell_type": "code",
   "execution_count": 2,
   "metadata": {},
   "outputs": [],
   "source": [
    "DEPLOYMENT = \"https://sandbox.bluebrainnexus.io/v1\""
   ]
  },
  {
   "cell_type": "code",
   "execution_count": 3,
   "metadata": {},
   "outputs": [
    {
     "name": "stdin",
     "output_type": "stream",
     "text": [
      " ···················································································································································································································································································································································································································································································································································································································································································································································································································································································································································································································································································································································································································································································································································································································································\n"
     ]
    }
   ],
   "source": [
    "TOKEN = getpass.getpass() # Paste your token here"
   ]
  },
  {
   "cell_type": "code",
   "execution_count": 4,
   "metadata": {},
   "outputs": [],
   "source": [
    "nexus.config.set_environment(DEPLOYMENT)"
   ]
  },
  {
   "cell_type": "code",
   "execution_count": 5,
   "metadata": {},
   "outputs": [],
   "source": [
    "nexus.config.set_token(TOKEN)"
   ]
  },
  {
   "cell_type": "code",
   "execution_count": 6,
   "metadata": {},
   "outputs": [],
   "source": [
    "ORGANIZATION = \"tutorialnexus\" # For the purpose of this workshop, we will be working in the tutorialnexus organization"
   ]
  },
  {
   "cell_type": "code",
   "execution_count": 7,
   "metadata": {},
   "outputs": [],
   "source": [
    "PROJECT = \"akk\" # Paste your project name here"
   ]
  },
  {
   "cell_type": "markdown",
   "metadata": {},
   "source": [
    "Configure your project in the tutorialnexus organization"
   ]
  },
  {
   "cell_type": "code",
   "execution_count": 8,
   "metadata": {},
   "outputs": [
    {
     "name": "stdout",
     "output_type": "stream",
     "text": [
      "409 Client Error: Conflict for url: https://sandbox.bluebrainnexus.io/v1/resources/tutorialnexus/akk/_\n",
      "---\n",
      "{\n",
      "  \"@context\": \"https://bluebrain.github.io/nexus/contexts/error.json\",\n",
      "  \"@type\": \"ResourceAlreadyExists\",\n",
      "  \"reason\": \"Resource 'https://akk.neuroshapes.org' already exists.\"\n",
      "}\n"
     ]
    }
   ],
   "source": [
    "utils.configure_project(nexus, DEPLOYMENT, ORGANIZATION, PROJECT)"
   ]
  },
  {
   "cell_type": "markdown",
   "metadata": {
    "colab_type": "text",
    "id": "9W5M5Ck9Tq7q"
   },
   "source": [
    "## Step 2: Collect and explore Allen Cell Types Database electrophysiology and neuron morphology data (files and metadata)"
   ]
  },
  {
   "cell_type": "markdown",
   "metadata": {},
   "source": [
    "We will be working with human and mouse neuron morphology and electrophysiology data from the [Allen Cell Types Database](https://celltypes.brain-map.org/). The [AllenSDK](https://allensdk.readthedocs.io/en/latest/) can be used for data download"
   ]
  },
  {
   "cell_type": "code",
   "execution_count": null,
   "metadata": {},
   "outputs": [],
   "source": [
    "ctc = CellTypesCache(manifest_file=\"./allen_cell_types_db/manifest.json\")"
   ]
  },
  {
   "cell_type": "markdown",
   "metadata": {},
   "source": [
    "We will select all cells for which there is a reconstructed neuron morphology available"
   ]
  },
  {
   "cell_type": "code",
   "execution_count": null,
   "metadata": {},
   "outputs": [],
   "source": [
    "allen_cells = ctc.get_cells(require_reconstruction = True)"
   ]
  },
  {
   "cell_type": "code",
   "execution_count": null,
   "metadata": {},
   "outputs": [],
   "source": [
    "print(\"Total number of cells in the Allen Cell Types Database which have ephys and reconstruction data: %d\" % len(allen_cells))"
   ]
  },
  {
   "cell_type": "markdown",
   "metadata": {},
   "source": [
    "We will be downloading a subset of the data from the Allen Cell Types Database (the 20 first cells)"
   ]
  },
  {
   "cell_type": "code",
   "execution_count": null,
   "metadata": {},
   "outputs": [],
   "source": [
    "allen_cells_ids = [c[\"id\"] for c in allen_cells][0:20] # TODO: change to all cells with reconstruction?"
   ]
  },
  {
   "cell_type": "markdown",
   "metadata": {},
   "source": [
    "Download the reconstructed neuron morphology files (file format: swc)"
   ]
  },
  {
   "cell_type": "code",
   "execution_count": null,
   "metadata": {},
   "outputs": [],
   "source": [
    "allen_cells_reconstruction = [ctc.get_reconstruction(i) for i in allen_cells_ids]"
   ]
  },
  {
   "cell_type": "markdown",
   "metadata": {},
   "source": [
    "Download the trace collection files (file format: nwb)"
   ]
  },
  {
   "cell_type": "code",
   "execution_count": null,
   "metadata": {},
   "outputs": [],
   "source": [
    "allen__cells_electrophysiology = [ctc.get_ephys_data(i) for i in allen_cells_ids]"
   ]
  },
  {
   "cell_type": "markdown",
   "metadata": {},
   "source": [
    "Acces the cells.json metadata file"
   ]
  },
  {
   "cell_type": "code",
   "execution_count": 9,
   "metadata": {},
   "outputs": [],
   "source": [
    "allen_cells_metadata = utils.load_json(\"./allen_cell_types_db/cells.json\")"
   ]
  },
  {
   "cell_type": "markdown",
   "metadata": {},
   "source": [
    "Display the first element from the cells.json file"
   ]
  },
  {
   "cell_type": "code",
   "execution_count": null,
   "metadata": {},
   "outputs": [],
   "source": [
    "allen_cells_metadata[0]"
   ]
  },
  {
   "cell_type": "markdown",
   "metadata": {},
   "source": [
    "Plot a reconstructed neuron morphology"
   ]
  },
  {
   "cell_type": "code",
   "execution_count": null,
   "metadata": {},
   "outputs": [],
   "source": [
    "morphology = allen_cells_reconstruction[0]\n",
    "fig, axes = plt.subplots(1, 2, sharey=True, sharex=True)\n",
    "axes[0].set_aspect('equal')\n",
    "axes[1].set_aspect('equal')\n",
    "\n",
    "# Make a line drawing of x-y and y-z views\n",
    "for n in morphology.compartment_list:\n",
    "    for c in morphology.children_of(n):\n",
    "        axes[0].plot([n['x'], c['x']], [n['y'], c['y']], color='black')\n",
    "        axes[1].plot([n['z'], c['z']], [n['y'], c['y']], color='black')\n",
    "\n",
    "axes[0].set_ylabel('y')\n",
    "axes[0].set_xlabel('x')\n",
    "axes[1].set_xlabel('z')\n",
    "plt.show()"
   ]
  },
  {
   "cell_type": "markdown",
   "metadata": {},
   "source": [
    "## Step 3: Store electrophysiology and neuron morphology files in Blue Brain Nexus"
   ]
  },
  {
   "cell_type": "markdown",
   "metadata": {},
   "source": [
    "Store the neuron morphologies using the Blue Brain Nexus default storage"
   ]
  },
  {
   "cell_type": "code",
   "execution_count": null,
   "metadata": {},
   "outputs": [],
   "source": [
    "morph_files_metadata = dict()"
   ]
  },
  {
   "cell_type": "code",
   "execution_count": null,
   "metadata": {},
   "outputs": [],
   "source": [
    "for cell_id in allen_cells_ids:\n",
    "    morph_files_metadata = utils.store_allen_files(nexus, cell_id=cell_id, data_type=\"reconstruction\", metadata_dict=morph_files_metadata, org_label=ORGANIZATION, project_label=PROJECT)"
   ]
  },
  {
   "cell_type": "code",
   "execution_count": null,
   "metadata": {},
   "outputs": [],
   "source": [
    "utils.save_json(morph_files_meta, \"./morph_files_metadata.json\")"
   ]
  },
  {
   "cell_type": "markdown",
   "metadata": {},
   "source": [
    "Store the electrophysiology using the Blue Brain Nexus default storage"
   ]
  },
  {
   "cell_type": "code",
   "execution_count": null,
   "metadata": {},
   "outputs": [],
   "source": [
    "ephys_files_metadata = dict()"
   ]
  },
  {
   "cell_type": "code",
   "execution_count": null,
   "metadata": {},
   "outputs": [],
   "source": [
    "for cell_id in allen_cells_ids:\n",
    "    ephys_files_metadata = utils.store_allen_files(nexus, cell_id=cell_id, data_type=\"ephys\", metadata_dict=ephys_files_metadata, org_label=ORGANIZATION, project_label=PROJECT)"
   ]
  },
  {
   "cell_type": "code",
   "execution_count": null,
   "metadata": {},
   "outputs": [],
   "source": [
    "utils.save_json(ephys_files_meta, \"./ephys_files_metadata.json\")"
   ]
  },
  {
   "cell_type": "markdown",
   "metadata": {},
   "source": [
    "Check out the files in [Nexus Web](https://sandbox.bluebrainnexus.io/web/tutorialnexus)"
   ]
  },
  {
   "cell_type": "markdown",
   "metadata": {},
   "source": [
    "## Step 4: Map Allen Cell Types Database metadata to Neuroshapes"
   ]
  },
  {
   "cell_type": "code",
   "execution_count": 10,
   "metadata": {},
   "outputs": [],
   "source": [
    "ephys_files_metadata = utils.load_json(\"ephys_files_metadata.json\")\n",
    "morphs_files_metadata = utils.load_json(\"morph_files_metadata.json\")"
   ]
  },
  {
   "cell_type": "markdown",
   "metadata": {},
   "source": [
    "Select the metadata of your subset of cells"
   ]
  },
  {
   "cell_type": "code",
   "execution_count": 11,
   "metadata": {},
   "outputs": [],
   "source": [
    "subset_allen_cells_metadata = list()\n",
    "for cell in allen_cells_metadata:\n",
    "    if str(cell[\"specimen__id\"]) in ephys_files_metadata.keys():\n",
    "        subset_allen_cells_metadata.append(cell)"
   ]
  },
  {
   "cell_type": "code",
   "execution_count": 12,
   "metadata": {},
   "outputs": [],
   "source": [
    "mapping = mapper.Mapper(deployment=DEPLOYMENT, org_label=ORGANIZATION, project_label=PROJECT)"
   ]
  },
  {
   "cell_type": "markdown",
   "metadata": {},
   "source": [
    "Map the metadata provided by the Allen Cell Types Database to Neuroshapes"
   ]
  },
  {
   "cell_type": "code",
   "execution_count": 13,
   "metadata": {},
   "outputs": [],
   "source": [
    "metadata_entities = mapping.allencelltypesdb2neuroshapes(PROJECT, subset_allen_cells_metadata)"
   ]
  },
  {
   "cell_type": "code",
   "execution_count": 14,
   "metadata": {},
   "outputs": [],
   "source": [
    "# TODO: explore the metadata entities"
   ]
  },
  {
   "cell_type": "markdown",
   "metadata": {},
   "source": [
    "Add experimental protocol information to the metadata entities"
   ]
  },
  {
   "cell_type": "code",
   "execution_count": 15,
   "metadata": {},
   "outputs": [],
   "source": [
    "experiment = neuroshapes.Experiment(PROJECT) # experiment.experimentalprotocol"
   ]
  },
  {
   "cell_type": "code",
   "execution_count": 16,
   "metadata": {},
   "outputs": [],
   "source": [
    "ephys_experimental_protocol = experiment.experimentalprotocol(name=\"Technical White Paper: Electrophysiology\",\n",
    "                                                            at_id=\"http://help.brain-map.org/download/attachments/8323525/CellTypes_Ephys_Overview.pdf?version=2&modificationDate=1508180425883&api=v2\",\n",
    "                                                            author_id=\"https://www.grid.ac/institutes/grid.417881.3\",\n",
    "                                                            author_type=\"Organization\",\n",
    "                                                            description=\"Protocol used to generate Allen Cell Types Database\")"
   ]
  },
  {
   "cell_type": "code",
   "execution_count": 17,
   "metadata": {},
   "outputs": [],
   "source": [
    "metadata_entities.append(ephys_experimental_protocol)"
   ]
  },
  {
   "cell_type": "code",
   "execution_count": 18,
   "metadata": {},
   "outputs": [],
   "source": [
    "reconstruction_experimental_protocol = experiment.experimentalprotocol(name=\"Technical White Paper: Cell Morphology and Histology\",\n",
    "                                                            at_id=\"http://help.brain-map.org/download/attachments/8323525/CellTypes_Morph_Overview.pdf?version=4&modificationDate=1528310097913&api=v2\",\n",
    "                                                            author_id=\"https://www.grid.ac/institutes/grid.417881.3\",\n",
    "                                                            author_type=\"Organization\",\n",
    "                                                            description=\"Protocol used to generate Allen Cell Types Database\")"
   ]
  },
  {
   "cell_type": "code",
   "execution_count": 19,
   "metadata": {},
   "outputs": [],
   "source": [
    "metadata_entities.append(reconstruction_experimental_protocol)"
   ]
  },
  {
   "cell_type": "code",
   "execution_count": 20,
   "metadata": {},
   "outputs": [],
   "source": [
    "utils.save_json(metadata_entities, \"./metadata_entities.json\")"
   ]
  },
  {
   "cell_type": "markdown",
   "metadata": {},
   "source": [
    "## Step 5: Store mapped Allen Cell Types Database metadata in Blue Brain Nexus"
   ]
  },
  {
   "cell_type": "code",
   "execution_count": null,
   "metadata": {},
   "outputs": [],
   "source": [
    "utils.store_allen_metadata(nexus, ORGANIZATION, PROJECT, metadata_entities, ephys_files_metadata, morphs_files_metadata)"
   ]
  },
  {
   "cell_type": "markdown",
   "metadata": {},
   "source": [
    "Check out the metadata in [Nexus Web](https://sandbox.bluebrainnexus.io/web/tutorialnexus)"
   ]
  },
  {
   "cell_type": "markdown",
   "metadata": {},
   "source": [
    "## Step 6: Find and download stored data using SPARQL"
   ]
  },
  {
   "cell_type": "markdown",
   "metadata": {},
   "source": [
    "Define the properties you want to filter by"
   ]
  },
  {
   "cell_type": "code",
   "execution_count": null,
   "metadata": {},
   "outputs": [],
   "source": [
    "data_type = \"nsg:ReconstructedNeuronMorphology\"\n",
    "brain_region_layer = \"\\\"layer 5\\\"\"\n",
    "brain_region = \"\" # TODO: Add option to filter by brain region\n",
    "apical_dendrite = \"\\\"intact\\\"\""
   ]
  },
  {
   "cell_type": "markdown",
   "metadata": {},
   "source": [
    "Provide the SPARQL query"
   ]
  },
  {
   "cell_type": "code",
   "execution_count": null,
   "metadata": {},
   "outputs": [],
   "source": [
    "sparqlview_endpoint = f\"{DEPLOYMENT}/views/{ORGANIZATION}/{PROJECT}/graph/sparql\""
   ]
  },
  {
   "cell_type": "code",
   "execution_count": null,
   "metadata": {},
   "outputs": [],
   "source": [
    "nexus_df = utils.query_data(sparqlview_endpoint, data_type, brain_region_layer, apical_dendrite, TOKEN)"
   ]
  },
  {
   "cell_type": "code",
   "execution_count": null,
   "metadata": {},
   "outputs": [],
   "source": [
    "if nexus_df is not None:\n",
    "    print(\"Results stats: \")\n",
    "    display(nexus_df.describe())\n",
    "    print(\"Results : \")\n",
    "    display(nexus_df.head(5))\n",
    "    entities = set(nexus_df[\"entity\"])\n",
    "    print(\" : %s\" % (len(entities)))\n",
    "else:\n",
    "    print(\"No result was found\")"
   ]
  },
  {
   "cell_type": "markdown",
   "metadata": {},
   "source": [
    "Download the selected reconstructed neuron morphologies"
   ]
  },
  {
   "cell_type": "code",
   "execution_count": null,
   "metadata": {},
   "outputs": [],
   "source": [
    "data_dir =\"./Download/\""
   ]
  },
  {
   "cell_type": "code",
   "execution_count": null,
   "metadata": {},
   "outputs": [],
   "source": [
    "if not os.path.exists(data_dir):\n",
    "    os.mkdir(data_dir)"
   ]
  },
  {
   "cell_type": "code",
   "execution_count": null,
   "metadata": {},
   "outputs": [],
   "source": [
    "download_urls = list(set(nexus_df[\"downloadUrl\"]))"
   ]
  },
  {
   "cell_type": "code",
   "execution_count": null,
   "metadata": {},
   "outputs": [],
   "source": [
    "print(f\"Number of download links: {len(download_urls)}\")"
   ]
  },
  {
   "cell_type": "code",
   "execution_count": null,
   "metadata": {},
   "outputs": [],
   "source": [
    "for url in download_urls:    \n",
    "    try:\n",
    "        response = nexus.files.fetch(ORGANIZATION, PROJECT, file_id=url, out_filepath=data_dir)\n",
    "    except nexus.HTTPError as e:\n",
    "        print(e)\n",
    "        nexus.tools.pretty_print(resource)\n",
    "        print(\"----\")\n",
    "        nexus.tools.pretty_print(e.response.json())"
   ]
  },
  {
   "cell_type": "code",
   "execution_count": null,
   "metadata": {},
   "outputs": [],
   "source": [
    "# TODO: Fetch one and plot it again"
   ]
  },
  {
   "cell_type": "code",
   "execution_count": null,
   "metadata": {},
   "outputs": [],
   "source": [
    "# TODO: Download\n",
    "#- get one and plot it\n",
    "#- add the file extension?"
   ]
  }
 ],
 "metadata": {
  "colab": {
   "collapsed_sections": [],
   "name": "Step by step jupyter notebook for bringing data to Nexus v1.ipynb",
   "provenance": [],
   "version": "0.3.2"
  },
  "kernelspec": {
   "display_name": "Python 3",
   "language": "python",
   "name": "python3"
  },
  "language_info": {
   "codemirror_mode": {
    "name": "ipython",
    "version": 3
   },
   "file_extension": ".py",
   "mimetype": "text/x-python",
   "name": "python",
   "nbconvert_exporter": "python",
   "pygments_lexer": "ipython3",
   "version": "3.6.8"
  }
 },
 "nbformat": 4,
 "nbformat_minor": 4
}
