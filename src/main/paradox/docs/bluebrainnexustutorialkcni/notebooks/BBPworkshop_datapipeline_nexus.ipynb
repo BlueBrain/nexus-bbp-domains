{
 "cells": [
  {
   "cell_type": "markdown",
   "metadata": {
    "colab_type": "text",
    "id": "jcyB6NFmQReL"
   },
   "source": [
    "# Using Blue Brain Nexus in a data pipeline"
   ]
  },
  {
   "cell_type": "markdown",
   "metadata": {},
   "source": [
    "## Prerequisites\n",
    "\n",
    "This notebook assumes you've created a project within the [demo organization](https://sandbox.bluebrainnexus.io/web/demo/) of the sandbox deployment of Blue Brain Nexus."
   ]
  },
  {
   "cell_type": "markdown",
   "metadata": {},
   "source": [
    "## Overview\n",
    "\n",
    "You'll work through the following steps:\n",
    "\n",
    "1. Configure the Blue Brain Nexus environment you will work in\n",
    "2. Download mouse and human neuron morphology data from the Allen Cell Types Database through the allenSDK\n",
    "3. Explore the data structure of the Allen Cell Types Database\n",
    "4. Store the downloaded neuron morphology reconstruction files in Blue Brain Nexus\n",
    "5. Map the metadata to the Blue Brain Knowledge Graph Schema\n",
    "6. Generate provenance entities with metadata for neuron morphologies and store them in Blue Brain Nexus\n",
    "7. Select morphologies of interest as dataset\n",
    "8. Register this dataset back into Blue Brain Nexus\n",
    "9. Retrieve the dataset from Blue Brain Nexus and use it to run Topological Morphology Descriptor (TMD) analysis\n",
    "10. Register the analysis plot back into Nexus\n",
    "11. Capture the provenance of the analysis plot\n",
    "\n",
    "![Using Blue Brain Nexus in a data pipeline](https://docs.google.com/uc?id=1dv2Cc3ZQgk-khPkAPy9-Dbkg5AqNhqgd)"
   ]
  },
  {
   "cell_type": "markdown",
   "metadata": {},
   "source": [
    "## Step 1: Configure the Blue Brain Nexus environment you will work in"
   ]
  },
  {
   "cell_type": "code",
   "execution_count": null,
   "metadata": {},
   "outputs": [],
   "source": [
    "!pip install -U nexus-sdk\n",
    "!pip install allensdk\n",
    "!pip install rdflib\n",
    "!pip install SPARQLWrapper\n",
    "!git clone https://github.com/BlueBrain/TMD\n",
    "!pip install ./TMD"
   ]
  },
  {
   "cell_type": "code",
   "execution_count": null,
   "metadata": {
    "colab": {},
    "colab_type": "code",
    "id": "84rN5sccS3f6"
   },
   "outputs": [],
   "source": [
    "import os\n",
    "import nexussdk as nexus\n",
    "import getpass\n",
    "\n",
    "from allensdk.core.cell_types_cache import CellTypesCache\n",
    "from allensdk.api.queries.cell_types_api import CellTypesApi\n",
    "from allensdk.core.cell_types_cache import ReporterStatus as RS\n",
    "\n",
    "import utils as ut"
   ]
  },
  {
   "cell_type": "code",
   "execution_count": null,
   "metadata": {},
   "outputs": [],
   "source": [
    "%load_ext autoreload"
   ]
  },
  {
   "cell_type": "code",
   "execution_count": null,
   "metadata": {},
   "outputs": [],
   "source": [
    "%autoreload 1"
   ]
  },
  {
   "cell_type": "code",
   "execution_count": null,
   "metadata": {},
   "outputs": [],
   "source": [
    "%aimport utils\n",
    "%aimport sparqlendpointhelper\n",
    "%aimport dataset"
   ]
  },
  {
   "cell_type": "markdown",
   "metadata": {
    "colab_type": "text",
    "id": "aIkRfrNhe5zD"
   },
   "source": [
    "We will be working in the **production** environment of Blue Brain Nexus"
   ]
  },
  {
   "cell_type": "code",
   "execution_count": null,
   "metadata": {
    "colab": {},
    "colab_type": "code",
    "id": "j-_eHVCne0wG"
   },
   "outputs": [],
   "source": [
    "DEPLOYMENT = \"https://sandbox.bluebrainnexus.io/v1\""
   ]
  },
  {
   "cell_type": "markdown",
   "metadata": {
    "colab_type": "text",
    "id": "18aHuuRqfLIr"
   },
   "source": [
    "Provide your **token** below. Your token can be obtained after log-in by clicking on *Copy token* in the top left corner of [Nexus Web](https://sandbox.bluebrainnexus.io/web)"
   ]
  },
  {
   "cell_type": "code",
   "execution_count": null,
   "metadata": {
    "colab": {},
    "colab_type": "code",
    "id": "5qj5EzmNfO6X"
   },
   "outputs": [],
   "source": [
    "TOKEN = getpass.getpass()"
   ]
  },
  {
   "cell_type": "markdown",
   "metadata": {
    "colab_type": "text",
    "id": "l44V5xawf7Zl"
   },
   "source": [
    "Configure your environment and token to be used for the nexus python SDK"
   ]
  },
  {
   "cell_type": "code",
   "execution_count": null,
   "metadata": {
    "colab": {},
    "colab_type": "code",
    "id": "MvnYi1Bcf749"
   },
   "outputs": [],
   "source": [
    "nexus.config.set_environment(DEPLOYMENT)"
   ]
  },
  {
   "cell_type": "code",
   "execution_count": null,
   "metadata": {},
   "outputs": [],
   "source": [
    "nexus.config.set_token(TOKEN)"
   ]
  },
  {
   "cell_type": "markdown",
   "metadata": {},
   "source": [
    "We will be working in the **demo** organization of Blue Brain Nexus"
   ]
  },
  {
   "cell_type": "code",
   "execution_count": null,
   "metadata": {
    "colab": {},
    "colab_type": "code",
    "id": "9mB2AXLET5AT"
   },
   "outputs": [],
   "source": [
    "ORGANIZATION = \"demo\""
   ]
  },
  {
   "cell_type": "markdown",
   "metadata": {},
   "source": [
    "Provide your **project label** below. This should correspond to the project you have configured in the previous session"
   ]
  },
  {
   "cell_type": "code",
   "execution_count": null,
   "metadata": {
    "colab": {},
    "colab_type": "code",
    "id": "1TmDlVmotrY9"
   },
   "outputs": [],
   "source": [
    "PROJECTLABEL = \"<YOUR PROJECT>\""
   ]
  },
  {
   "cell_type": "markdown",
   "metadata": {
    "colab_type": "text",
    "id": "9W5M5Ck9Tq7q"
   },
   "source": [
    "## Step 2: Download mouse and human neuron morphologies from the Allen Cell Types DB"
   ]
  },
  {
   "cell_type": "markdown",
   "metadata": {},
   "source": [
    "We will be working with human and mouse neuron morphology data from the [Allen Cell Types Database](https://celltypes.brain-map.org/). The [AllenSDK](https://allensdk.readthedocs.io/en/latest/) can be used for data download"
   ]
  },
  {
   "cell_type": "markdown",
   "metadata": {},
   "source": [
    "Set the cell types cache for the Allen Cell Types Database: \"The CellTypesCache class provides a Python interface for downloading data in the Allen Cell Types Database into well known locations so that you don’t have to think about file names and directories.\""
   ]
  },
  {
   "cell_type": "code",
   "execution_count": null,
   "metadata": {},
   "outputs": [],
   "source": [
    "ctc = CellTypesCache(manifest_file=\"allen_cell_types_db/manifest.json\")"
   ]
  },
  {
   "cell_type": "markdown",
   "metadata": {},
   "source": [
    "#### Download neuron morphologies from human tissue:"
   ]
  },
  {
   "cell_type": "markdown",
   "metadata": {},
   "source": [
    "Get all cells from the Allen Cell Types Database which are from human and have a reconstruction "
   ]
  },
  {
   "cell_type": "code",
   "execution_count": null,
   "metadata": {},
   "outputs": [],
   "source": [
    "human_cells = ctc.get_cells(species=[CellTypesApi.HUMAN], require_reconstruction = True)"
   ]
  },
  {
   "cell_type": "code",
   "execution_count": null,
   "metadata": {},
   "outputs": [],
   "source": [
    "print(\"Total of human cells with reconstruction: %d\" % len(human_cells))\n",
    "print(\"---\")\n",
    "print(\"Metadata of an example cell (human):\")\n",
    "ut.pretty_print(human_cells[0])"
   ]
  },
  {
   "cell_type": "markdown",
   "metadata": {},
   "source": [
    "We will download the first twenty of those neuron morphology reconstructions"
   ]
  },
  {
   "cell_type": "code",
   "execution_count": null,
   "metadata": {},
   "outputs": [],
   "source": [
    "human_cellIDs = [c[\"id\"] for c in human_cells][0:20]"
   ]
  },
  {
   "cell_type": "code",
   "execution_count": null,
   "metadata": {},
   "outputs": [],
   "source": [
    "human_reconstruction = [ctc.get_reconstruction(i) for i in human_cellIDs]"
   ]
  },
  {
   "cell_type": "markdown",
   "metadata": {},
   "source": [
    "#### Download neuron morphologies from mouse tissue"
   ]
  },
  {
   "cell_type": "markdown",
   "metadata": {},
   "source": [
    "Get all cells from the Allen Cell Types Database which are from mouse and have a reconstruction "
   ]
  },
  {
   "cell_type": "code",
   "execution_count": null,
   "metadata": {},
   "outputs": [],
   "source": [
    "mouse_cells = ctc.get_cells(species=[CellTypesApi.MOUSE], require_reconstruction = True)"
   ]
  },
  {
   "cell_type": "code",
   "execution_count": null,
   "metadata": {},
   "outputs": [],
   "source": [
    "print(\"Total of mouse cells with reconstruction: %d\" % len(mouse_cells))\n",
    "print(\"---\")\n",
    "print(\"Metadata of an example cell (mouse):\")\n",
    "ut.pretty_print(mouse_cells[0])"
   ]
  },
  {
   "cell_type": "markdown",
   "metadata": {},
   "source": [
    "We will download the first twenty of those neuron morphology reconstructions"
   ]
  },
  {
   "cell_type": "code",
   "execution_count": null,
   "metadata": {},
   "outputs": [],
   "source": [
    "mouse_cellIDs = [c[\"id\"] for c in mouse_cells][0:20]"
   ]
  },
  {
   "cell_type": "code",
   "execution_count": null,
   "metadata": {},
   "outputs": [],
   "source": [
    "mouse_reconstruction = [ctc.get_reconstruction(i) for i in mouse_cellIDs]"
   ]
  },
  {
   "cell_type": "markdown",
   "metadata": {},
   "source": [
    " ## Step 3: Explore the data structure of the Allen Cell Types Database"
   ]
  },
  {
   "cell_type": "markdown",
   "metadata": {},
   "source": [
    "#### The **cells.json** metadata file \n",
    "\n",
    "This file contains all the available metadata of all cells currently available through the Allen Cell Types Database. The structure presents one object per cell."
   ]
  },
  {
   "cell_type": "code",
   "execution_count": null,
   "metadata": {},
   "outputs": [],
   "source": [
    "allen_cell_types_meta = ut.get_json(\"allen_cell_types_db/cells.json\")\n",
    "print(\"Metadata from the cells.json file of an example cell (human):\")\n",
    "ut.pretty_print(allen_cell_types_meta[0])"
   ]
  },
  {
   "cell_type": "markdown",
   "metadata": {},
   "source": [
    "#### The metadata exposed through the **allenSDK**"
   ]
  },
  {
   "cell_type": "code",
   "execution_count": null,
   "metadata": {},
   "outputs": [],
   "source": [
    "print(\"Metadata exposed through the allenSDK of an example cell (human):\")\n",
    "ut.pretty_print(human_cells[0])"
   ]
  },
  {
   "cell_type": "markdown",
   "metadata": {},
   "source": [
    "#### The **folder structure** of downloaded data\n",
    "\n",
    "When downloading data from the Allen Cell Types Database through the allenSDK, a folder per neuron morphology file is created. The folder name is composed as follows: **specimen_allenID**. This folder contains the neuron morphology reconstruction with the filename **reconstruction.swc**"
   ]
  },
  {
   "cell_type": "markdown",
   "metadata": {},
   "source": [
    "## Step 4: Store the downloaded neuron morphology reconstruction files in Blue Brain Nexus"
   ]
  },
  {
   "cell_type": "markdown",
   "metadata": {},
   "source": [
    "#### Integrate the downloaded neuron morphology reconstruction files into Blue Brain Nexus"
   ]
  },
  {
   "cell_type": "code",
   "execution_count": null,
   "metadata": {},
   "outputs": [],
   "source": [
    "morph_files_meta = {}"
   ]
  },
  {
   "cell_type": "markdown",
   "metadata": {},
   "source": [
    "Store the downloaded human neuron morphology reconstructions in Blue Brain Nexus:"
   ]
  },
  {
   "cell_type": "code",
   "execution_count": null,
   "metadata": {},
   "outputs": [],
   "source": [
    "for cellID in human_cellIDs:\n",
    "    file_path = f\"./allen_cell_types_db/specimen_{cellID}/reconstruction.swc\"\n",
    "    response = nexus.files.create(org_label=ORGANIZATION, project_label=PROJECTLABEL, filepath=file_path)\n",
    "    morph_files_meta[cellID] = {\n",
    "        \"file_name\": response[\"_filename\"],\n",
    "        \"content_value\": response[\"_bytes\"],\n",
    "        \"file_id\": response[\"@id\"],\n",
    "        \"digest_value\": response[\"_digest\"][\"_value\"]}"
   ]
  },
  {
   "cell_type": "markdown",
   "metadata": {},
   "source": [
    "Store the downloaded mouse neuron morphology reconstructions in Blue Brain Nexus:"
   ]
  },
  {
   "cell_type": "code",
   "execution_count": null,
   "metadata": {},
   "outputs": [],
   "source": [
    "for cellID in mouse_cellIDs:\n",
    "    file_path = f\"./allen_cell_types_db/specimen_{cellID}/reconstruction.swc\"\n",
    "    response = nexus.files.create(org_label=ORGANIZATION, project_label=PROJECTLABEL, filepath=file_path)\n",
    "    morph_files_meta[cellID] = {\n",
    "        \"file_name\": response[\"_filename\"],\n",
    "        \"content_value\": response[\"_bytes\"],\n",
    "        \"file_id\": response[\"@id\"],\n",
    "        \"digest_value\": response[\"_digest\"][\"_value\"]}"
   ]
  },
  {
   "cell_type": "code",
   "execution_count": null,
   "metadata": {},
   "outputs": [],
   "source": [
    "print(\"Check out the Blue Brain Nexus metadata of the stored files:\")\n",
    "ut.pretty_print(morph_files_meta)"
   ]
  },
  {
   "cell_type": "markdown",
   "metadata": {},
   "source": [
    "## Step 5: Map the metadata to the Blue Brain Knowledge Graph Schema"
   ]
  },
  {
   "cell_type": "markdown",
   "metadata": {},
   "source": [
    "![Provenance](https://docs.google.com/uc?id=1Hoz3wK3vNkLxdhKNZXK53NOE6qKuBh7o)"
   ]
  },
  {
   "cell_type": "markdown",
   "metadata": {},
   "source": [
    "## Step 6: Generate provenance entities with metadata for neuron morphologies and store them in Blue Brain Nexus"
   ]
  },
  {
   "cell_type": "markdown",
   "metadata": {},
   "source": [
    "This is the Grid identifier of the Allen Institute of Brain Science which will be used to asign contribution:"
   ]
  },
  {
   "cell_type": "code",
   "execution_count": null,
   "metadata": {},
   "outputs": [],
   "source": [
    "ALLEN_GRID = \"https://www.grid.ac/institutes/grid.417881.3\""
   ]
  },
  {
   "cell_type": "markdown",
   "metadata": {},
   "source": [
    "Generate the provenance entities for **Subject**, **PatchedCell** and **NeuronMorphology** for the human neuron morphology reconstructions and store them in Blue Brain Nexus:"
   ]
  },
  {
   "cell_type": "code",
   "execution_count": null,
   "metadata": {},
   "outputs": [],
   "source": [
    "for human_cellID in human_cellIDs:\n",
    "        morph_meta = list(filter(lambda cell: cell['specimen__id'] == human_cellID, allen_cell_types_meta))[0]\n",
    "        morph_file_meta = morph_files_meta[human_cellID]\n",
    "\n",
    "        try:\n",
    "            subject = ut.subject(morph_meta)\n",
    "            nexus.resources.create(org_label=ORGANIZATION, project_label=PROJECTLABEL, data=subject)\n",
    "            ut.pretty_print(subject)\n",
    "        except nexus.HTTPError as e:\n",
    "            nexus.tools.pretty_print(e.response.json())\n",
    "\n",
    "        try:    \n",
    "            patchedcell = ut.patchedcell(morph_meta, ALLEN_GRID)\n",
    "            nexus.resources.create(org_label=ORGANIZATION, project_label=PROJECTLABEL, data=patchedcell)\n",
    "            ut.pretty_print(patchedcell)\n",
    "        except nexus.HTTPError as e:\n",
    "            nexus.tools.pretty_print(e.response.json())\n",
    "            \n",
    "        try:\n",
    "            neuronmorphology = ut.neuronmorphology(morph_meta, ALLEN_GRID, morph_file_meta)\n",
    "            nexus.resources.create(org_label=ORGANIZATION, project_label=PROJECTLABEL, data=neuronmorphology)\n",
    "            ut.pretty_print(neuronmorphology)\n",
    "        except nexus.HTTPError as e:\n",
    "            nexus.tools.pretty_print(e.response.json())"
   ]
  },
  {
   "cell_type": "markdown",
   "metadata": {},
   "source": [
    "Generate the provenance entities for **Subject**, **PatchedCell** and **NeuronMorphology** for the mouse neuron morphology reconstructions and store them in Blue Brain Nexus:"
   ]
  },
  {
   "cell_type": "code",
   "execution_count": null,
   "metadata": {},
   "outputs": [],
   "source": [
    "for mouse_cellID in mouse_cellIDs:\n",
    "    morph_meta = list(filter(lambda cell: cell['specimen__id'] == mouse_cellID, allen_cell_types_meta))[0]\n",
    "    morph_file_meta = morph_files_meta[mouse_cellID]\n",
    "\n",
    "    try:\n",
    "        subject = ut.subject(morph_meta)\n",
    "        nexus.resources.create(org_label=ORGANIZATION, project_label=PROJECTLABEL, data=subject)\n",
    "        ut.pretty_print(subject)\n",
    "    except nexus.HTTPError as e:\n",
    "        nexus.tools.pretty_print(e.response.json())\n",
    "\n",
    "    try:    \n",
    "        patchedcell = ut.patchedcell(morph_meta, ALLEN_GRID)\n",
    "        nexus.resources.create(org_label=ORGANIZATION, project_label=PROJECTLABEL, data=patchedcell)\n",
    "        ut.pretty_print(patchedcell)\n",
    "    except nexus.HTTPError as e:\n",
    "        nexus.tools.pretty_print(e.response.json())\n",
    "\n",
    "    try:\n",
    "        neuronmorphology = ut.neuronmorphology(morph_meta, ALLEN_GRID, morph_file_meta)\n",
    "        nexus.resources.create(org_label=ORGANIZATION, project_label=PROJECTLABEL, data=neuronmorphology)\n",
    "        ut.pretty_print(neuronmorphology)\n",
    "    except nexus.HTTPError as e:\n",
    "        nexus.tools.pretty_print(e.response.json())"
   ]
  },
  {
   "cell_type": "markdown",
   "metadata": {},
   "source": [
    "Check out [Nexus Web](https://sandbox.bluebrainnexus.io/web/demo/) to view and navigate your created resources."
   ]
  },
  {
   "cell_type": "markdown",
   "metadata": {},
   "source": [
    "## Step 7: Select morphologies of interest as dataset"
   ]
  },
  {
   "cell_type": "markdown",
   "metadata": {},
   "source": [
    "### Select the morphologies"
   ]
  },
  {
   "cell_type": "code",
   "execution_count": null,
   "metadata": {},
   "outputs": [],
   "source": [
    "import json\n",
    "import os\n",
    "from sparqlendpointhelper import SparqlViewHelper\n",
    "from dataset import Dataset, ComplexHandler"
   ]
  },
  {
   "cell_type": "code",
   "execution_count": null,
   "metadata": {},
   "outputs": [],
   "source": [
    "sparqlview_endpoint = DEPLOYMENT+\"/views/\"+ORGANIZATION+\"/\"+PROJECTLABEL+\"/graph/sparql\"\n",
    "sparqlviewhelper = SparqlViewHelper(sparqlview_endpoint,DEPLOYMENT, ORGANIZATION, PROJECTLABEL, TOKEN)"
   ]
  },
  {
   "cell_type": "code",
   "execution_count": null,
   "metadata": {},
   "outputs": [],
   "source": [
    "_type = \"nsg:NeuronMorphology\"\n",
    "_layer_label = \"\\\"layer 5\\\"\"\n",
    "apicalDendrite = \"\\\"intact\\\"\""
   ]
  },
  {
   "cell_type": "code",
   "execution_count": null,
   "metadata": {},
   "outputs": [],
   "source": [
    "dataset_query = \"\"\"\n",
    "SELECT *\n",
    "WHERE\n",
    "{\n",
    "    BIND (%s as ?type).\n",
    "    ?id a nsg:NeuronMorphology.\n",
    "    ?id nsg:brainLocation / nsg:layer / rdfs:label %s.\n",
    "    ?id nsg:apicalDendrite %s.\n",
    "    ?id nxv:rev ?rev.\n",
    "    ?id schema:distribution/schema:contentUrl ?contentUrl.\n",
    "    ?id schema:name ?name\n",
    "}\n",
    "LIMIT 100\n",
    "\"\"\" % (_type, _layer_label, apicalDendrite)\n",
    "\n",
    "result_df = sparqlviewhelper.query_sparql(dataset_query,result_format = \"DATAFRAME\")\n",
    "display(result_df.head(100))"
   ]
  },
  {
   "cell_type": "markdown",
   "metadata": {},
   "source": [
    "### Build the dataset "
   ]
  },
  {
   "cell_type": "code",
   "execution_count": null,
   "metadata": {},
   "outputs": [],
   "source": [
    "PERSON_ID = \"Your id in Blue Brain Nexus\""
   ]
  },
  {
   "cell_type": "code",
   "execution_count": null,
   "metadata": {},
   "outputs": [],
   "source": [
    "dataset = Dataset(identifier=DATASET_ID,name=\"Selected morphologies for TMD\", description=\"Awesome morphologies\")\n",
    "\n",
    "print(dataset.name)\n",
    "dataset.addContributor(PERSON_ID, \"Scientist\")\n",
    "\n",
    "for index, row in result_df.iterrows():\n",
    "    dataset.addPart(identifier=row[\"id\"], _type=row[\"type\"], contentUrl=row[\"contentUrl\"],name=row[\"name\"], rev = row[\"rev\"])\n",
    "\n",
    "dataset_str = json.dumps(dataset, default=ComplexHandler)\n",
    "dataset_json =  json.loads(dataset_str)\n",
    "ut.pretty_print(dataset_json)"
   ]
  },
  {
   "cell_type": "markdown",
   "metadata": {},
   "source": [
    "## Step 8: Register this dataset back into Blue Brain Nexus and tag it"
   ]
  },
  {
   "cell_type": "markdown",
   "metadata": {},
   "source": [
    "### Create the dataset in Nexus"
   ]
  },
  {
   "cell_type": "code",
   "execution_count": null,
   "metadata": {},
   "outputs": [],
   "source": [
    "dataset_resource = ut.create_resource(nexus=nexus,json_payload=dataset_json, org=ORGANIZATION, project=PROJECTLABEL)\n",
    "ut.pretty_print(dataset_resource)\n",
    "print(\"The dataset is identified by %s\" % (dataset_resource[\"@id\"]))"
   ]
  },
  {
   "cell_type": "markdown",
   "metadata": {},
   "source": [
    "### Tag the dataset to get an immutatble identifier"
   ]
  },
  {
   "cell_type": "code",
   "execution_count": null,
   "metadata": {},
   "outputs": [],
   "source": [
    "TAG_VALUE = \"morpho_v0.1.0\""
   ]
  },
  {
   "cell_type": "markdown",
   "metadata": {},
   "source": [
    "### Let fetch the dataset using its tag"
   ]
  },
  {
   "cell_type": "code",
   "execution_count": null,
   "metadata": {},
   "outputs": [],
   "source": [
    "response = ut.tag_resource(nexus=nexus,json_payload=dataset_resource, tag_value=TAG_VALUE,rev_to_tag=dataset_resource[\"_rev\"])\n",
    "ut.pretty_print(response)\n",
    "\n",
    "dataset_identifier = dataset_resource[\"@id\"]\n",
    "dataset_immuatable_id = dataset_resource[\"@id\"]+\"?tag=\"+TAG_VALUE\n",
    "dataset_access_address = dataset_resource[\"_self\"]+\"?tag=\"+TAG_VALUE\n",
    "print(\"The dataset identifier is %s\" %(dataset_identifier))\n",
    "print(\"The dataset has now an immutable identifier %s\" %(dataset_immuatable_id))\n",
    "print(\"The dataset is now accessible through %s\" %(dataset_access_address))\n"
   ]
  },
  {
   "cell_type": "code",
   "execution_count": null,
   "metadata": {},
   "outputs": [],
   "source": [
    "response = ut.fetch_resource(nexus,dataset_identifier, org=ORGANIZATION, project=PROJECTLABEL, tag=TAG_VALUE)\n",
    "ut.pretty_print(response)"
   ]
  },
  {
   "cell_type": "markdown",
   "metadata": {},
   "source": [
    "## Step 9: Download the dataset from Blue Brain Nexus and use it to run Topological Morphology Descriptor (TMD) analysis"
   ]
  },
  {
   "cell_type": "markdown",
   "metadata": {},
   "source": [
    "### Get the content urls"
   ]
  },
  {
   "cell_type": "code",
   "execution_count": null,
   "metadata": {},
   "outputs": [],
   "source": [
    "contenturls_df = sparqlviewhelper.get_dataset_contenturls(dataset_identifier, result_format=sparqlendpointhelper.DATAFRAME)\n",
    "display(contenturls_df.head())"
   ]
  },
  {
   "cell_type": "markdown",
   "metadata": {},
   "source": [
    "### Download"
   ]
  },
  {
   "cell_type": "code",
   "execution_count": null,
   "metadata": {},
   "outputs": [],
   "source": [
    "downloadUrls = set(contenturls_df[\"partcontentUrl\"])\n",
    "downloadUrls = downloadUrls|set(contenturls_df[\"maincontentUrl\"])\n",
    "names = set(contenturls_df[\"name\"])\n",
    "names = [name+\".swc\" for name in names]\n",
    "entries = list(zip(downloadUrls,names))\n",
    "print(\"Number of download links: %s\" % (len(entries)))"
   ]
  },
  {
   "cell_type": "code",
   "execution_count": null,
   "metadata": {},
   "outputs": [],
   "source": [
    "os.mkdir(\"./downloaded\")"
   ]
  },
  {
   "cell_type": "code",
   "execution_count": null,
   "metadata": {},
   "outputs": [],
   "source": [
    "download_dir = \"./downloaded\"\n",
    "report = ut.download_from_nexus(downloadurls_to_name= entries, download_dir=download_dir, token=TOKEN)\n",
    "print(report)"
   ]
  },
  {
   "cell_type": "code",
   "execution_count": null,
   "metadata": {},
   "outputs": [],
   "source": [
    "datasetID = dataset_immuatable_id"
   ]
  },
  {
   "cell_type": "markdown",
   "metadata": {},
   "source": [
    "### Run analysis\n",
    "\n",
    "Example to extract the persistence diagram from a neuronal tree"
   ]
  },
  {
   "cell_type": "code",
   "execution_count": null,
   "metadata": {},
   "outputs": [],
   "source": [
    "import tmd\n",
    "from tmd.view import view, plot"
   ]
  },
  {
   "cell_type": "markdown",
   "metadata": {},
   "source": [
    "Load a population of neuron morphology reconcstructions"
   ]
  },
  {
   "cell_type": "code",
   "execution_count": null,
   "metadata": {},
   "outputs": [],
   "source": [
    "pop = tmd.io.load_population(\"./downloaded\")"
   ]
  },
  {
   "cell_type": "markdown",
   "metadata": {},
   "source": [
    "Get a list of diagrams for all apicals"
   ]
  },
  {
   "cell_type": "code",
   "execution_count": null,
   "metadata": {},
   "outputs": [],
   "source": [
    "phs_list = [tmd.methods.get_persistence_diagram(n.apical[0]) for n in pop.neurons]"
   ]
  },
  {
   "cell_type": "markdown",
   "metadata": {},
   "source": [
    "Generate analysis plots from collapsed data from selected dataset"
   ]
  },
  {
   "cell_type": "code",
   "execution_count": null,
   "metadata": {},
   "outputs": [],
   "source": [
    "plot.diagram(tmd.analysis.collapse(phs_list))"
   ]
  },
  {
   "cell_type": "code",
   "execution_count": null,
   "metadata": {},
   "outputs": [],
   "source": [
    "plot.barcode(tmd.analysis.collapse(phs_list))"
   ]
  },
  {
   "cell_type": "code",
   "execution_count": null,
   "metadata": {},
   "outputs": [],
   "source": [
    "plot.persistence_image(tmd.analysis.collapse(phs_list), output_path=\"./\", output_name=\"persistence_image\")"
   ]
  },
  {
   "cell_type": "markdown",
   "metadata": {},
   "source": [
    "## Step 10: Register the analysis plot back into Nexus"
   ]
  },
  {
   "cell_type": "code",
   "execution_count": null,
   "metadata": {},
   "outputs": [],
   "source": [
    "image_file_meta = {}"
   ]
  },
  {
   "cell_type": "code",
   "execution_count": null,
   "metadata": {},
   "outputs": [],
   "source": [
    "file_path = \"./persistence_image.png\""
   ]
  },
  {
   "cell_type": "code",
   "execution_count": null,
   "metadata": {},
   "outputs": [],
   "source": [
    "response = nexus.files.create(org_label=ORGANIZATION, project_label=PROJECTLABEL, filepath=file_path)"
   ]
  },
  {
   "cell_type": "code",
   "execution_count": null,
   "metadata": {},
   "outputs": [],
   "source": [
    "image_file_meta = {\n",
    "    \"file_name\": response[\"_filename\"],\n",
    "    \"content_value\": response[\"_bytes\"],\n",
    "    \"file_id\": response[\"@id\"],\n",
    "    \"digest_value\": response[\"_digest\"][\"_value\"]}"
   ]
  },
  {
   "cell_type": "markdown",
   "metadata": {},
   "source": [
    "## Step 11: Capture the provenance of the analysis plot"
   ]
  },
  {
   "cell_type": "code",
   "execution_count": null,
   "metadata": {},
   "outputs": [],
   "source": [
    "analysis = ut.analysis(PERSON_ID, datasetID, image_file_meta)\n",
    "nexus.resources.create(org_label=ORGANIZATION, project_label=PROJECTLABEL, data=analysis)\n",
    "ut.pretty_print(analysis)"
   ]
  },
  {
   "cell_type": "markdown",
   "metadata": {},
   "source": [
    "Check out [Nexus Web](https://sandbox.bluebrainnexus.io/web/demo/) to view and navigate your created resources."
   ]
  }
 ],
 "metadata": {
  "colab": {
   "collapsed_sections": [],
   "name": "Step by step jupyter notebook for bringing data to Nexus v1.ipynb",
   "provenance": [],
   "version": "0.3.2"
  },
  "kernelspec": {
   "display_name": "Python 3",
   "language": "python",
   "name": "python3"
  },
  "language_info": {
   "codemirror_mode": {
    "name": "ipython",
    "version": 3
   },
   "file_extension": ".py",
   "mimetype": "text/x-python",
   "name": "python",
   "nbconvert_exporter": "python",
   "pygments_lexer": "ipython3",
   "version": "3.7.3"
  }
 },
 "nbformat": 4,
 "nbformat_minor": 1
}
