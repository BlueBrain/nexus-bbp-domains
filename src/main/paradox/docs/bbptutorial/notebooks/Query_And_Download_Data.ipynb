{
 "cells": [
  {
   "cell_type": "markdown",
   "metadata": {},
   "source": [
    "## Querying Nexus knowledge graph and download data\n",
    "\n",
    "The goal of this notebook is to demonstratre how to query data from Nexus and download associated files.\n"
   ]
  },
  {
   "cell_type": "markdown",
   "metadata": {},
   "source": [
    "## Prerequisites\n",
    "\n",
    "This notebook assumes you have targeted an organisation and project from which to query and download data."
   ]
  },
  {
   "cell_type": "markdown",
   "metadata": {},
   "source": [
    "## Notes\n",
    "\n",
    "Many functions used in this note notebook will soon be integrated in our SDK."
   ]
  },
  {
   "cell_type": "markdown",
   "metadata": {},
   "source": [
    "## Overview\n",
    "\n",
    "You'll work through the following steps:\n",
    "\n",
    "1. Create a Blue Brain Nexus client using a python sdk\n",
    "2. Create a query wrapper around the project to query\n",
    "3. Search for data by type and get download urls"
   ]
  },
  {
   "cell_type": "markdown",
   "metadata": {},
   "source": [
    "## Step 1: Create a Blue Brain Nexus client using a python sdk"
   ]
  },
  {
   "cell_type": "code",
   "execution_count": null,
   "metadata": {},
   "outputs": [],
   "source": [
    "#Set a token to authenticate to Nexus\n",
    "import getpass\n",
    "token = getpass.getpass()"
   ]
  },
  {
   "cell_type": "code",
   "execution_count": 2,
   "metadata": {},
   "outputs": [],
   "source": [
    "#Configuration for the Nexus deployment\n",
    "import nexussdk as nexus\n",
    "\n",
    "#Configure a nexus client\n",
    "nexus_environment = \"https://bbp.epfl.ch/nexus/v1\"\n",
    "org =\"org\"\n",
    "project =\"project\"\n",
    "\n",
    "nexus.config.set_environment(nexus_environment)\n",
    "nexus.config.set_token(token)\n",
    "\n",
    "vocab = \"%s/vocabs/%s/%s/\"%(nexus_environment, org, project)\n"
   ]
  },
  {
   "cell_type": "markdown",
   "metadata": {},
   "source": [
    "## Step 2: Create a query wrapper around the project to query"
   ]
  },
  {
   "cell_type": "markdown",
   "metadata": {},
   "source": [
    "Every project in Blue Brain Nexus comes with a set of two views exposing specific query interfaces for searching the data:\n",
    "    - ElasticSearch view: data can be seached in a document oriented way\n",
    "    - Sparql view: data can be searched and navigated as a graph\n",
    "In this notebook we'll target the sparql view."
   ]
  },
  {
   "cell_type": "code",
   "execution_count": 3,
   "metadata": {},
   "outputs": [
    {
     "name": "stdout",
     "output_type": "stream",
     "text": [
      "Collecting git+https://github.com/RDFLib/sparqlwrapper\n",
      "  Cloning https://github.com/RDFLib/sparqlwrapper to /private/var/folders/f0/hkfhswz16gj0bsvl1hmtbw6h0000gn/T/pip-req-build-ohqs2m5d\n",
      "Requirement already satisfied (use --upgrade to upgrade): SPARQLWrapper==1.8.5.dev0 from git+https://github.com/RDFLib/sparqlwrapper in /Users/mfsy/anaconda3/lib/python3.6/site-packages\n",
      "Requirement already satisfied: rdflib>=4.0 in /Users/mfsy/anaconda3/lib/python3.6/site-packages (from SPARQLWrapper==1.8.5.dev0) (4.2.2)\n",
      "Requirement already satisfied: pyparsing in /Users/mfsy/anaconda3/lib/python3.6/site-packages (from rdflib>=4.0->SPARQLWrapper==1.8.5.dev0) (2.4.2)\n",
      "Requirement already satisfied: isodate in /Users/mfsy/anaconda3/lib/python3.6/site-packages (from rdflib>=4.0->SPARQLWrapper==1.8.5.dev0) (0.6.0)\n",
      "Requirement already satisfied: six in /Users/mfsy/anaconda3/lib/python3.6/site-packages (from isodate->rdflib>=4.0->SPARQLWrapper==1.8.5.dev0) (1.12.0)\n",
      "Building wheels for collected packages: SPARQLWrapper\n",
      "  Running setup.py bdist_wheel for SPARQLWrapper ... \u001b[?25ldone\n",
      "\u001b[?25h  Stored in directory: /private/var/folders/f0/hkfhswz16gj0bsvl1hmtbw6h0000gn/T/pip-ephem-wheel-cache-a09rqz19/wheels/94/87/ff/bd3f8bccb74168f42b5ba997f9105e18a9cc2699ad9a5525a6\n",
      "Successfully built SPARQLWrapper\n",
      "\u001b[31mdistributed 1.21.8 requires msgpack, which is not installed.\u001b[0m\n",
      "\u001b[33mYou are using pip version 10.0.1, however version 19.2.3 is available.\n",
      "You should consider upgrading via the 'pip install --upgrade pip' command.\u001b[0m\n"
     ]
    }
   ],
   "source": [
    "#Let install sparqlwrapper which a python wrapper around sparql client\n",
    "!pip install git+https://github.com/RDFLib/sparqlwrapper"
   ]
  },
  {
   "cell_type": "code",
   "execution_count": 22,
   "metadata": {},
   "outputs": [],
   "source": [
    "# Utility functions to create sparql wrapper around a sparql endpoint\n",
    "\n",
    "from SPARQLWrapper import SPARQLWrapper, JSON, POST, GET, POSTDIRECTLY, CSV\n",
    "import requests\n",
    "\n",
    "def create_sparql_client(sparql_endpoint, http_query_method=POST, result_format= JSON, token=None):\n",
    "    sparql_client = SPARQLWrapper(sparql_endpoint)\n",
    "    #sparql_client.addCustomHttpHeader(\"Content-Type\", \"application/sparql-query\")\n",
    "    if token:\n",
    "        sparql_client.addCustomHttpHeader(\"Authorization\",\"Bearer {}\".format(token))\n",
    "    sparql_client.setMethod(http_query_method)\n",
    "    sparql_client.setReturnFormat(result_format)\n",
    "    if http_query_method == POST:\n",
    "        sparql_client.setRequestMethod(POSTDIRECTLY)\n",
    "    \n",
    "    return sparql_client"
   ]
  },
  {
   "cell_type": "code",
   "execution_count": 23,
   "metadata": {},
   "outputs": [],
   "source": [
    "# Utility functions\n",
    "import pandas as pd\n",
    "\n",
    "pd.set_option('display.max_colwidth', -1)\n",
    "\n",
    "# Convert SPARQL results into a Pandas data frame\n",
    "def sparql2dataframe(json_sparql_results):\n",
    "    cols = json_sparql_results['head']['vars']\n",
    "    out = []\n",
    "    for row in json_sparql_results['results']['bindings']:\n",
    "        item = []\n",
    "        for c in cols:\n",
    "            item.append(row.get(c, {}).get('value'))\n",
    "        out.append(item)\n",
    "    return pd.DataFrame(out, columns=cols)\n",
    "\n",
    "# Send a query using a sparql wrapper \n",
    "def query_sparql(query, sparql_client):\n",
    "    sparql_client.setQuery(query)\n",
    "    result_object = sparql_client.query()\n",
    "    if sparql_client.returnFormat == JSON:\n",
    "        return result_object._convertJSON()\n",
    "    return result_object.convert()"
   ]
  },
  {
   "cell_type": "code",
   "execution_count": null,
   "metadata": {},
   "outputs": [],
   "source": []
  },
  {
   "cell_type": "code",
   "execution_count": 24,
   "metadata": {},
   "outputs": [],
   "source": [
    "# Let create a sparql wrapper around the project sparql view\n",
    "sparqlview_endpoint = nexus_environment+\"/views/\"+org+\"/\"+project+\"/graph/sparql\"\n",
    "sparqlview_wrapper = create_sparql_client(sparql_endpoint=sparqlview_endpoint, token=token,http_query_method= POST, result_format=JSON)\n"
   ]
  },
  {
   "cell_type": "markdown",
   "metadata": {},
   "source": [
    "## Step 3: Search for data by type and get download urls"
   ]
  },
  {
   "cell_type": "markdown",
   "metadata": {},
   "source": [
    "Let get a list of all entities of a given type as a pandas dataframe. For each entity, we'll retrieve its id (entity), its name (name) as well as a link to download it (downloadUrl)."
   ]
  },
  {
   "cell_type": "code",
   "execution_count": 29,
   "metadata": {},
   "outputs": [
    {
     "name": "stdout",
     "output_type": "stream",
     "text": [
      "Results stats: \n"
     ]
    },
    {
     "data": {
      "text/html": [
       "<div>\n",
       "<style scoped>\n",
       "    .dataframe tbody tr th:only-of-type {\n",
       "        vertical-align: middle;\n",
       "    }\n",
       "\n",
       "    .dataframe tbody tr th {\n",
       "        vertical-align: top;\n",
       "    }\n",
       "\n",
       "    .dataframe thead th {\n",
       "        text-align: right;\n",
       "    }\n",
       "</style>\n",
       "<table border=\"1\" class=\"dataframe\">\n",
       "  <thead>\n",
       "    <tr style=\"text-align: right;\">\n",
       "      <th></th>\n",
       "      <th>entity</th>\n",
       "      <th>name</th>\n",
       "      <th>downloadUrl</th>\n",
       "    </tr>\n",
       "  </thead>\n",
       "  <tbody>\n",
       "    <tr>\n",
       "      <th>count</th>\n",
       "      <td>2</td>\n",
       "      <td>2</td>\n",
       "      <td>2</td>\n",
       "    </tr>\n",
       "    <tr>\n",
       "      <th>unique</th>\n",
       "      <td>2</td>\n",
       "      <td>2</td>\n",
       "      <td>2</td>\n",
       "    </tr>\n",
       "    <tr>\n",
       "      <th>top</th>\n",
       "      <td>https://bbp.epfl.ch/neurosciencegraph/data/c1f768f8-5bbb-46ea-aeee-bc92909a0b52</td>\n",
       "      <td>ara_nissl_25</td>\n",
       "      <td>https://bbp.epfl.ch/nexus/v1/files/bbp/atlas/782d7f45-fe72-4eea-b28a-e99090188f09</td>\n",
       "    </tr>\n",
       "    <tr>\n",
       "      <th>freq</th>\n",
       "      <td>1</td>\n",
       "      <td>1</td>\n",
       "      <td>1</td>\n",
       "    </tr>\n",
       "  </tbody>\n",
       "</table>\n",
       "</div>"
      ],
      "text/plain": [
       "                                                                                 entity  \\\n",
       "count   2                                                                                 \n",
       "unique  2                                                                                 \n",
       "top     https://bbp.epfl.ch/neurosciencegraph/data/c1f768f8-5bbb-46ea-aeee-bc92909a0b52   \n",
       "freq    1                                                                                 \n",
       "\n",
       "                name  \\\n",
       "count   2              \n",
       "unique  2              \n",
       "top     ara_nissl_25   \n",
       "freq    1              \n",
       "\n",
       "                                                                              downloadUrl  \n",
       "count   2                                                                                  \n",
       "unique  2                                                                                  \n",
       "top     https://bbp.epfl.ch/nexus/v1/files/bbp/atlas/782d7f45-fe72-4eea-b28a-e99090188f09  \n",
       "freq    1                                                                                  "
      ]
     },
     "metadata": {},
     "output_type": "display_data"
    },
    {
     "name": "stdout",
     "output_type": "stream",
     "text": [
      "(5) first Results : \n"
     ]
    },
    {
     "data": {
      "text/html": [
       "<div>\n",
       "<style scoped>\n",
       "    .dataframe tbody tr th:only-of-type {\n",
       "        vertical-align: middle;\n",
       "    }\n",
       "\n",
       "    .dataframe tbody tr th {\n",
       "        vertical-align: top;\n",
       "    }\n",
       "\n",
       "    .dataframe thead th {\n",
       "        text-align: right;\n",
       "    }\n",
       "</style>\n",
       "<table border=\"1\" class=\"dataframe\">\n",
       "  <thead>\n",
       "    <tr style=\"text-align: right;\">\n",
       "      <th></th>\n",
       "      <th>entity</th>\n",
       "      <th>name</th>\n",
       "      <th>downloadUrl</th>\n",
       "    </tr>\n",
       "  </thead>\n",
       "  <tbody>\n",
       "    <tr>\n",
       "      <th>0</th>\n",
       "      <td>https://bbp.epfl.ch/neurosciencegraph/data/9768fb11-6461-4705-995f-7ad40b3aab77</td>\n",
       "      <td>ara_nissl_25</td>\n",
       "      <td>https://bbp.epfl.ch/nexus/v1/files/bbp/atlas/782d7f45-fe72-4eea-b28a-e99090188f09</td>\n",
       "    </tr>\n",
       "    <tr>\n",
       "      <th>1</th>\n",
       "      <td>https://bbp.epfl.ch/neurosciencegraph/data/c1f768f8-5bbb-46ea-aeee-bc92909a0b52</td>\n",
       "      <td>ara_nissl_10</td>\n",
       "      <td>https://bbp.epfl.ch/nexus/v1/files/bbp/atlas/28c8c251-cb7c-4248-bbb5-a2d36bd13bd6</td>\n",
       "    </tr>\n",
       "  </tbody>\n",
       "</table>\n",
       "</div>"
      ],
      "text/plain": [
       "                                                                            entity  \\\n",
       "0  https://bbp.epfl.ch/neurosciencegraph/data/9768fb11-6461-4705-995f-7ad40b3aab77   \n",
       "1  https://bbp.epfl.ch/neurosciencegraph/data/c1f768f8-5bbb-46ea-aeee-bc92909a0b52   \n",
       "\n",
       "           name  \\\n",
       "0  ara_nissl_25   \n",
       "1  ara_nissl_10   \n",
       "\n",
       "                                                                         downloadUrl  \n",
       "0  https://bbp.epfl.ch/nexus/v1/files/bbp/atlas/782d7f45-fe72-4eea-b28a-e99090188f09  \n",
       "1  https://bbp.epfl.ch/nexus/v1/files/bbp/atlas/28c8c251-cb7c-4248-bbb5-a2d36bd13bd6  "
      ]
     },
     "metadata": {},
     "output_type": "display_data"
    },
    {
     "name": "stdout",
     "output_type": "stream",
     "text": [
      "Number of entities of type nsg:NISSLImageDataLayer: 2\n"
     ]
    }
   ],
   "source": [
    "#Enter your type here\n",
    "entity_type = \"nsg:NISSLImageDataLayer\"\n",
    "\n",
    "max_total_result = 200000\n",
    "page_size = 5000\n",
    "offset = 0\n",
    "\n",
    "count = 0\n",
    "nexus_df=None\n",
    "while ( count <= max_total_result ): \n",
    "    \n",
    "    \n",
    "    select_query = \"\"\"\n",
    "                    PREFIX nsg: <https://neuroshapes.org/>\n",
    "                    PREFIX schema: <http://schema.org/>\n",
    "                    PREFIX prov: <http://www.w3.org/ns/prov#>\n",
    "                    \n",
    "                    SELECT DISTINCT ?entity ?name ?downloadUrl\n",
    "                    WHERE\n",
    "                    {\n",
    "                      ?entity a %type%.\n",
    "\n",
    "                      ?entity schema:name ?name.\n",
    "                      OPTIONAL {\n",
    "                       ?entity schema:distribution/schema:contentUrl ?downloadUrl\n",
    "                      }\n",
    "                    }\n",
    "                    OFFSET %offset%\n",
    "                    LIMIT %page_size%\n",
    "                   \"\"\"\n",
    "    select_query = select_query.replace(\"%type%\",entity_type ).replace(\"%offset%\",str(offset)).replace(\"%page_size%\",str(page_size))\n",
    "    #print(select_query)\n",
    "\n",
    "    nexus_results = query_sparql(select_query,sparqlview_wrapper)\n",
    "\n",
    "    result_df =sparql2dataframe(nexus_results)\n",
    "    #print(len(result_df.index))\n",
    "    if len(result_df.index) > 0:\n",
    "        if nexus_df is None:\n",
    "            #print(\"None\")\n",
    "            nexus_df = pd.DataFrame(result_df)\n",
    "        else:\n",
    "            nexus_df = pd.concat([nexus_df,result_df],ignore_index=True)\n",
    "            #print(len(nexus_df.index))\n",
    "        count = count + page_size\n",
    "        offset = offset+page_size\n",
    "    else:\n",
    "        break;\n",
    "\n",
    "\n",
    "if nexus_df is not None:\n",
    "    print(\"Results stats: \")\n",
    "    display(nexus_df.describe())\n",
    "\n",
    "    print(\"(5) first Results : \")\n",
    "    display(nexus_df.head(5))\n",
    "    entities = set(nexus_df[\"entity\"])\n",
    "    print(\"Number of entities of type %s: %s\" % (entity_type,len(entities)))\n",
    "else:\n",
    "    print(\"No result was found\")\n"
   ]
  },
  {
   "cell_type": "code",
   "execution_count": 30,
   "metadata": {},
   "outputs": [
    {
     "name": "stdout",
     "output_type": "stream",
     "text": [
      "Number of download links: 2\n"
     ]
    }
   ],
   "source": [
    "downloadUrls = set(nexus_df[\"downloadUrl\"])\n",
    "\n",
    "names = set(nexus_df[\"name\"])\n",
    "entries = list(zip(downloadUrls,names))\n",
    "print(\"Number of download links: %s\" % (len(entries)))"
   ]
  },
  {
   "cell_type": "code",
   "execution_count": null,
   "metadata": {},
   "outputs": [],
   "source": []
  }
 ],
 "metadata": {
  "kernelspec": {
   "display_name": "Python (nexus-cli)",
   "language": "python",
   "name": "nexus-cli"
  },
  "language_info": {
   "codemirror_mode": {
    "name": "ipython",
    "version": 3
   },
   "file_extension": ".py",
   "mimetype": "text/x-python",
   "name": "python",
   "nbconvert_exporter": "python",
   "pygments_lexer": "ipython3",
   "version": "3.7.2"
  }
 },
 "nbformat": 4,
 "nbformat_minor": 2
}
