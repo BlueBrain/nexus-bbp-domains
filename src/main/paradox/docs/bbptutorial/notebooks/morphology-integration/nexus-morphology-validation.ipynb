{
 "cells": [
  {
   "cell_type": "code",
   "execution_count": 2,
   "metadata": {},
   "outputs": [],
   "source": [
    "import nexussdk as nexus\n",
    "import neurom as nm\n",
    "import matplotlib.pyplot as plt\n",
    "import getpass\n",
    "import requests\n",
    "from neurom.check import neuron_checks, structural_checks"
   ]
  },
  {
   "cell_type": "markdown",
   "metadata": {},
   "source": [
    "## Retrieve the morphology from Nexus"
   ]
  },
  {
   "cell_type": "code",
   "execution_count": 2,
   "metadata": {},
   "outputs": [],
   "source": [
    "deployment = \"https://bbp.epfl.ch/nexus/v1\"\n",
    "token = getpass.getpass()"
   ]
  },
  {
   "cell_type": "code",
   "execution_count": 6,
   "metadata": {},
   "outputs": [],
   "source": [
    "nexus.config.set_environment(deployment)\n",
    "nexus.config.set_token(token)\n",
    "org = \"\"\n",
    "project = \"\""
   ]
  },
  {
   "cell_type": "code",
   "execution_count": 8,
   "metadata": {},
   "outputs": [],
   "source": [
    "morphology_id = \"\""
   ]
  },
  {
   "cell_type": "code",
   "execution_count": 1,
   "metadata": {},
   "outputs": [],
   "source": [
    "def retrieve_morphology(morphology_id):\n",
    "    response = nexus.resources.fetch(org, project, morphology_id)\n",
    "    file_url = response['distribution']['contentUrl']\n",
    "    filename = response['distribution']['name']\n",
    "    attachment_headers = {}\n",
    "    attachment_headers[\"Authorization\"] =\"Bearer {}\".format(token)\n",
    "    \n",
    "    content = requests.get(file_url, headers=attachment_headers).content\n",
    "    \n",
    "    file = open(filename, 'wb')\n",
    "    file.write(content)\n",
    "    file.close()\n",
    "    \n",
    "    return nm.load_neuron(filename)\n",
    "    "
   ]
  },
  {
   "cell_type": "code",
   "execution_count": 30,
   "metadata": {},
   "outputs": [],
   "source": [
    "morph = retrieve_morphology(morphology_id)"
   ]
  },
  {
   "cell_type": "markdown",
   "metadata": {},
   "source": [
    "## Perform morphometry on the morphology"
   ]
  },
  {
   "cell_type": "code",
   "execution_count": 83,
   "metadata": {},
   "outputs": [],
   "source": [
    "def morphometry_analysis(morphology):\n",
    "    has_axon = neuron_checks.has_axon(morph).status\n",
    "    dangling = neuron_checks.has_no_dangling_branch(morph).info\n",
    "    z_jumps = neuron_checks.has_no_jumps(morph).info\n",
    "    fat_ends = neuron_checks.has_no_fat_ends(morph).info\n",
    "    narrow_start = neuron_checks.has_no_narrow_start(morph).info\n",
    "    nonzero_neurite_radii = neuron_checks.has_all_nonzero_neurite_radii(morph).status\n",
    "    \n",
    "    morphometry = {\n",
    "        \"has_axon\": has_axon,\n",
    "        \"dangling\": len(dangling),\n",
    "        \"z_jump\": len(z_jumps),\n",
    "        \"fat_ends\": len(fat_ends),\n",
    "        \"narrow_start\": len(narrow_start),\n",
    "        \"nonzero_neurite_radius\": nonzero_neurite_radii\n",
    "    }\n",
    "    \n",
    "    return morphometry"
   ]
  },
  {
   "cell_type": "code",
   "execution_count": 84,
   "metadata": {},
   "outputs": [
    {
     "data": {
      "text/plain": [
       "{'dangling': 4,\n",
       " 'fat_ends': 0,\n",
       " 'has_axon': False,\n",
       " 'narrow_start': 0,\n",
       " 'nonzero_neurite_radius': True,\n",
       " 'z_jump': 0}"
      ]
     },
     "execution_count": 84,
     "metadata": {},
     "output_type": "execute_result"
    }
   ],
   "source": [
    "morphometry_analysis(morph)"
   ]
  },
  {
   "cell_type": "code",
   "execution_count": null,
   "metadata": {},
   "outputs": [],
   "source": []
  }
 ],
 "metadata": {
  "anaconda-cloud": {},
  "kernelspec": {
   "display_name": "Python [conda env:anaconda]",
   "language": "python",
   "name": "conda-env-anaconda-py"
  },
  "language_info": {
   "codemirror_mode": {
    "name": "ipython",
    "version": 3
   },
   "file_extension": ".py",
   "mimetype": "text/x-python",
   "name": "python",
   "nbconvert_exporter": "python",
   "pygments_lexer": "ipython3",
   "version": "3.5.5"
  }
 },
 "nbformat": 4,
 "nbformat_minor": 2
}
