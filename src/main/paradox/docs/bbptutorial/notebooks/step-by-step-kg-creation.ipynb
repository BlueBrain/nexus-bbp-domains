{
 "cells": [
  {
   "cell_type": "markdown",
   "metadata": {},
   "source": [
    "## Step by step buidling of a knowledge graph\n",
    "\n",
    "The goal of this notebook is to build an example of knowledge graph using a step by step approach.\n"
   ]
  },
  {
   "cell_type": "markdown",
   "metadata": {},
   "source": [
    "## Prerequisites\n",
    "\n",
    "This notebook assumes you've created a project within the sandbox deployment of Nexus. If not follow the Blue Brain Nexus [Quick Start tutorial](https://bluebrain.github.io/nexus-bbp-domains/docs/bbptutorial/getting-started/quick-start/index.html)."
   ]
  },
  {
   "cell_type": "markdown",
   "metadata": {},
   "source": [
    "## Overview\n",
    "Explain the Research domain (with figure). Uses schema.org and json-ld to describe entities\n",
    "\n",
    "You'll work through the following steps:\n",
    "\n",
    "1. Create and configure a Blue Brain Nexus client\n",
    "2. Create a Person entity\n",
    "3. Create an Organization entity and link it to the Person entity as affiliation\n",
    "4. Create an article entity and link it to the Person entity as author\n",
    "5. Explore and navigate the created knowledge graph"
   ]
  },
  {
   "cell_type": "markdown",
   "metadata": {},
   "source": [
    "## Step 1: Create and configure a Nexus client"
   ]
  },
  {
   "cell_type": "code",
   "execution_count": null,
   "metadata": {},
   "outputs": [],
   "source": [
    "#install the Blue Brain Nexus python SDK\n",
    "!pip install -U nexus-sdk"
   ]
  },
  {
   "cell_type": "code",
   "execution_count": 55,
   "metadata": {},
   "outputs": [
    {
     "name": "stdout",
     "output_type": "stream",
     "text": [
      "········\n"
     ]
    }
   ],
   "source": [
    "#Set a token to authenticate to Nexus\n",
    "import getpass\n",
    "token = getpass.getpass()\n"
   ]
  },
  {
   "cell_type": "code",
   "execution_count": 56,
   "metadata": {},
   "outputs": [],
   "source": [
    "#Configure a nexus client\n",
    "nexus_environment = \"https://sandbox.bluebrainnexus.io/v1\"\n",
    "org =\"demo\"\n",
    "project =\"testdemo\"\n",
    "\n",
    "import nexussdk as nexus\n",
    "nexus.config.set_environment(nexus_environment)\n",
    "nexus.config.set_token(token)\n",
    "\n",
    "vocab = \"%s/vocabs/%s/%s/\"%(nexus_environment, org, project)\n",
    "\n"
   ]
  },
  {
   "cell_type": "code",
   "execution_count": null,
   "metadata": {},
   "outputs": [],
   "source": []
  },
  {
   "cell_type": "code",
   "execution_count": 57,
   "metadata": {},
   "outputs": [],
   "source": [
    "from pygments.lexers import JsonLdLexer\n",
    "from pygments import highlight\n",
    "from pygments.formatters import TerminalFormatter, TerminalTrueColorFormatter\n",
    "import json"
   ]
  },
  {
   "cell_type": "code",
   "execution_count": 58,
   "metadata": {},
   "outputs": [
    {
     "name": "stdout",
     "output_type": "stream",
     "text": [
      "The autoreload extension is already loaded. To reload it, use:\n",
      "  %reload_ext autoreload\n"
     ]
    }
   ],
   "source": [
    "from sparqlendpointhelper import SparqlViewHelper\n",
    "\n",
    "%load_ext autoreload\n",
    "%autoreload 1\n",
    "%aimport sparqlendpointhelper\n",
    "%aimport utils\n",
    "\n",
    "sparqlview_endpoint = nexus_environment+\"/views/\"+org+\"/\"+project+\"/graph/sparql\"\n",
    "sparqlviewhelper = SparqlViewHelper(sparqlview_endpoint,nexus_environment, org, project, token)"
   ]
  },
  {
   "cell_type": "code",
   "execution_count": 59,
   "metadata": {},
   "outputs": [],
   "source": [
    "%reload_ext autoreload"
   ]
  },
  {
   "cell_type": "markdown",
   "metadata": {},
   "source": [
    "### Import the Blue Brain Knowledge Graph schema "
   ]
  },
  {
   "cell_type": "code",
   "execution_count": 69,
   "metadata": {},
   "outputs": [
    {
     "name": "stdout",
     "output_type": "stream",
     "text": [
      "{\n",
      "    \u001b[34;01m\"@context\"\u001b[39;49;00m: \u001b[33m\"https://bluebrain.github.io/nexus/contexts/resource.json\"\u001b[39;49;00m,\n",
      "    \u001b[34;01m\"@id\"\u001b[39;49;00m: \u001b[33m\"https://sandbox.bluebrainnexus.io/v1/resources/demo/testdemo/_/36273830-5f37-4b29-a335-29bea43ae430\"\u001b[39;49;00m,\n",
      "    \u001b[34;01m\"@type\"\u001b[39;49;00m: [\n",
      "        \u001b[33m\"CrossProject\"\u001b[39;49;00m,\n",
      "        \u001b[33m\"Resolver\"\u001b[39;49;00m\n",
      "    ],\n",
      "    \u001b[34;01m\"_self\"\u001b[39;49;00m: \u001b[33m\"https://sandbox.bluebrainnexus.io/v1/resolvers/demo/testdemo/36273830-5f37-4b29-a335-29bea43ae430\"\u001b[39;49;00m,\n",
      "    \u001b[34;01m\"_constrainedBy\"\u001b[39;49;00m: \u001b[33m\"https://bluebrain.github.io/nexus/schemas/resolver.json\"\u001b[39;49;00m,\n",
      "    \u001b[34;01m\"_project\"\u001b[39;49;00m: \u001b[33m\"https://sandbox.bluebrainnexus.io/v1/projects/demo/testdemo\"\u001b[39;49;00m,\n",
      "    \u001b[34;01m\"_rev\"\u001b[39;49;00m: \u001b[34m1\u001b[39;49;00m,\n",
      "    \u001b[34;01m\"_deprecated\"\u001b[39;49;00m: \u001b[34mfalse\u001b[39;49;00m,\n",
      "    \u001b[34;01m\"_createdAt\"\u001b[39;49;00m: \u001b[33m\"2019-06-05T07:46:22.903Z\"\u001b[39;49;00m,\n",
      "    \u001b[34;01m\"_createdBy\"\u001b[39;49;00m: \u001b[33m\"https://sandbox.bluebrainnexus.io/v1/realms/github/users/mfsy\"\u001b[39;49;00m,\n",
      "    \u001b[34;01m\"_updatedAt\"\u001b[39;49;00m: \u001b[33m\"2019-06-05T07:46:22.903Z\"\u001b[39;49;00m,\n",
      "    \u001b[34;01m\"_updatedBy\"\u001b[39;49;00m: \u001b[33m\"https://sandbox.bluebrainnexus.io/v1/realms/github/users/mfsy\"\u001b[39;49;00m\n",
      "}\n",
      "\n",
      "{\n",
      "    \u001b[34;01m\"@context\"\u001b[39;49;00m: \u001b[33m\"https://bluebrain.github.io/nexus/contexts/error.json\"\u001b[39;49;00m,\n",
      "    \u001b[34;01m\"@type\"\u001b[39;49;00m: \u001b[33m\"ResourceAlreadyExists\"\u001b[39;49;00m,\n",
      "    \u001b[34;01m\"reason\"\u001b[39;49;00m: \u001b[33m\"Resource 'https://bbp.neuroshapes.org' already exists.\"\u001b[39;49;00m,\n",
      "    \u001b[34;01m\"ref\"\u001b[39;49;00m: \u001b[33m\"https://bbp.neuroshapes.org\"\u001b[39;49;00m\n",
      "}\n",
      "\n"
     ]
    }
   ],
   "source": [
    "#Import the BBP Knowledge Graph schema\n",
    "\n",
    "project_to_resolve_to = \"neurosciencegraph/datamodels\"\n",
    "\n",
    "# Resolver\n",
    "cross_project_resolver = {\n",
    "  \"@type\": [\n",
    "    \"CrossProject\"\n",
    "  ],\n",
    "  \"projects\": [\n",
    "    project_to_resolve_to\n",
    "  ],\n",
    "  \"identities\": [\n",
    "    {\n",
    "    \"@type\": \"Authenticated\",\n",
    "    \"realm\": \"github\"\n",
    "    }\n",
    "  ],\n",
    "  \"priority\": 50\n",
    "}\n",
    "\n",
    "\n",
    "response = utils.create_resolver(nexus,cross_project_resolver,org,project)\n",
    "utils.pretty_print(response)\n",
    "\n",
    "bbp_context =  {\n",
    "    \"@context\":[\n",
    "        \"https://neuroshapes.org\",\n",
    "        {\n",
    "            \"@vocab\": vocab\n",
    "        }\n",
    "    ],\n",
    "    \"@id\":\"https://bbp.neuroshapes.org\"\n",
    "    \n",
    "}\n",
    "\n",
    "\n",
    "response = utils.create_resource(nexus,bbp_context,org,project, )\n",
    "utils.pretty_print(response)\n",
    "\n",
    "\n"
   ]
  },
  {
   "cell_type": "markdown",
   "metadata": {},
   "source": [
    "## Step 2: Create a Person entity"
   ]
  },
  {
   "cell_type": "markdown",
   "metadata": {},
   "source": [
    "Let define an entity of type Person as follows:\n",
    "\n",
    "* A person is an entity of type Person (@type value)\n",
    "* A person has an identifier (@id value)\n",
    "* A person has a family name (familyName value), a given name (givenName value) and a job title (jobTitle value)\n",
    "* A person has a job\n"
   ]
  },
  {
   "cell_type": "code",
   "execution_count": null,
   "metadata": {},
   "outputs": [],
   "source": [
    "# Use an orcid identifier if you have one, or your github id\n",
    "person ={\n",
    "    \"@context\":\"https://bbp.neuroshapes.org\",\n",
    "    \"@id\":\"http://your/id/here\",\n",
    "    \"@type\":\"Person\",\n",
    "    \"familyName\":\"your familly name here\",\n",
    "    \"givenName\":\"your given name here\",\n",
    "    \"jobTitle\":\"job title\"\n",
    "} \n",
    "\n",
    "response = utils.create_resource(nexus,person,org,project)\n",
    "utils.pretty_print(response)\n"
   ]
  },
  {
   "cell_type": "markdown",
   "metadata": {},
   "source": [
    "## Step 3: Create an article entity and link it to the Person entity as author"
   ]
  },
  {
   "cell_type": "markdown",
   "metadata": {},
   "source": [
    "The knowledge Graph now contains a single entity of type Person. Let add to the knowledge graph one scholarly article (publication) authored by the person entity:\n",
    "\n",
    "* A scholarly article is  an entity of type ScholarlyArticle (@type value)\n",
    "* A scholarly article has an identifier (@id value)\n",
    "* A scholarly article has a name (name value)\n",
    "* A scholarly article has a publishing date (datePublished value)\n"
   ]
  },
  {
   "cell_type": "markdown",
   "metadata": {},
   "source": [
    "###  Create a ScholarlyArticle entity"
   ]
  },
  {
   "cell_type": "code",
   "execution_count": null,
   "metadata": {},
   "outputs": [],
   "source": [
    "#Let create an entity describing a publication with a doi: https://doi.org/10.1186/1471-2105-13-s1-s4\n",
    "scholarly_article ={\n",
    "    \"@context\":\"https://bbp.neuroshapes.org\",\n",
    "    \"@type\":\"ScholarlyArticle\",\n",
    "    \"@id\":\"https://doi.org/10.1016/j.cell.2015.09.029\",\n",
    "    \"name\":\"Reconstruction and Simulation of Neocortical Microcircuitry\",\n",
    "    \"datePublished\":\"2015-10\"\n",
    "} \n",
    "\n",
    "response = utils.create_resource(nexus,scholarly_article,org,project)\n",
    "utils.pretty_print(response)"
   ]
  },
  {
   "cell_type": "markdown",
   "metadata": {},
   "source": [
    "###  Link the Person and the ScholarlyArticle entity with authorship"
   ]
  },
  {
   "cell_type": "code",
   "execution_count": null,
   "metadata": {},
   "outputs": [],
   "source": [
    "# A reference to the Person identifier (value of @id) is enough to link with the article\n",
    "# Note the revision value change (should be \"_rev\": 2) after an update\n",
    "scholarly_article[\"author\"]=person[\"@id\"]\n",
    "response = utils.update_resource(nexus,scholarly_article[\"@id\"],scholarly_article,org,project)\n",
    "utils.pretty_print(response)"
   ]
  },
  {
   "cell_type": "markdown",
   "metadata": {},
   "source": [
    "###  Fetch the ScholarlyArticle by identifier to view the update "
   ]
  },
  {
   "cell_type": "code",
   "execution_count": null,
   "metadata": {},
   "outputs": [],
   "source": [
    "response = utils.fetch_resource(nexus,scholarly_article[\"@id\"],org,project)\n",
    "utils.pretty_print(response)"
   ]
  },
  {
   "cell_type": "markdown",
   "metadata": {},
   "source": [
    "##  Step 4: Update the Person entity to add its affiliation"
   ]
  },
  {
   "cell_type": "markdown",
   "metadata": {},
   "source": [
    "Let update the person entity with an affiliation information. We will use EPFL as an affiliation and link to the person entity via \"affiliation\" propoerty.\n",
    "\n",
    "In this step, we'll:\n",
    "\n",
    "* Search for the EPFL organization entity and retrieve its identifier\n",
    "* Update the person entity affiliation to point to the EPFL entity"
   ]
  },
  {
   "cell_type": "markdown",
   "metadata": {},
   "source": [
    "### Search for the EPFL organization entity and retrieve its identifier and name\n",
    "\n",
    "The query below is a SPARQL query. Most SPARQL queries you'll see will have the anotomy above with:\n",
    "\n",
    "* a SELECT clause that let you select the variables you want to retrieve\n",
    "* a WHERE clause defining a set of constraints that the variables should satisfy to be retrieved\n",
    "* LIMIT and OFFSET clauses to enable pagination\n",
    "* the constraints are usually graph patterns in the form of triple (?s for subject, ?p for property and ?o for ?object)"
   ]
  },
  {
   "cell_type": "code",
   "execution_count": null,
   "metadata": {},
   "outputs": [],
   "source": [
    "acronym = \"\\\"EPFL\\\"\"\n",
    "\n",
    "\n",
    "epfl_query = \"\"\"\n",
    "Select  ?institute  ?name ?grid_id\n",
    "WHERE {\n",
    "    ?institute vocab:acronym %s.\n",
    "    ?institute a vocab:Organization.\n",
    "    ?institute vocab:grid_id ?grid_id . \n",
    "    ?institute vocab:name ?name . \n",
    "}\n",
    "LIMIT 100\n",
    "\"\"\" % (acronym)\n",
    "\n",
    "orgs_df = sparqlviewhelper.query_sparql(epfl_query,result_format = \"DATAFRAME\")\n",
    "display(orgs_df.head(100))"
   ]
  },
  {
   "cell_type": "markdown",
   "metadata": {},
   "source": [
    "### Update the person entity affiliation to point to the EPFL entity"
   ]
  },
  {
   "cell_type": "code",
   "execution_count": null,
   "metadata": {},
   "outputs": [],
   "source": [
    "# Note the revision value change after an update\n",
    "person[\"affiliation\"]=orgs_df[\"institute\"]\n",
    "\n",
    "for index, row in orgs_df.iterrows():\n",
    "    person[\"affiliation\"]=row[\"institute\"]\n",
    "\n",
    "\n",
    "response = utils.update_resource(nexus,person[\"@id\"],person,org,project)\n",
    "utils.pretty_print(response)"
   ]
  },
  {
   "cell_type": "markdown",
   "metadata": {},
   "source": [
    "## Setp 5 Explore and navigate the created knowledge graph using the SPARQL query language"
   ]
  },
  {
   "cell_type": "markdown",
   "metadata": {},
   "source": [
    "Let write our first query."
   ]
  },
  {
   "cell_type": "code",
   "execution_count": null,
   "metadata": {},
   "outputs": [],
   "source": [
    "select_all_query = \"\"\"\n",
    "SELECT ?s ?p ?o\n",
    "WHERE\n",
    "{\n",
    "  ?s ?p ?o\n",
    "}\n",
    "OFFSET 0\n",
    "LIMIT 5\n",
    "\"\"\"\n",
    "\n",
    "results_df = sparqlviewhelper.query_sparql(select_all_query,result_format = \"DATAFRAME\")\n",
    "\n",
    "results_df.head()"
   ]
  },
  {
   "cell_type": "markdown",
   "metadata": {},
   "source": [
    "Most SPARQL queries you'll see will have the anotomy above with:\n",
    "* a **SELECT** clause that let you select the variables you want to retrieve\n",
    "* a **WHERE** clause defining a set of constraints that the variables should satisfy to be retrieved\n",
    "* **LIMIT** and **OFFSET** clauses to enable pagination\n",
    "* the constraints are usually graph patterns in the form of **triple** (?s for subject, ?p for property and ?o for ?object)"
   ]
  },
  {
   "cell_type": "markdown",
   "metadata": {},
   "source": [
    "Multiple triples can be provided as graph pattern to match but each triple should end with a period. As an example, let retrieve EPFL (?institute) along with its name (?name) and identifier (?grid_id)."
   ]
  },
  {
   "cell_type": "code",
   "execution_count": null,
   "metadata": {},
   "outputs": [],
   "source": [
    "epfl_with_name = \"\"\"\n",
    "\n",
    "Select  ?institute ?name ?grid_id\n",
    "WHERE {\n",
    "    ?institute vocab:acronym \"EPFL\".\n",
    "    ?institute a vocab:Organization.\n",
    "    ?institute vocab:grid_id ?grid_id . \n",
    "    ?institute vocab:name ?name . \n",
    "}\n",
    "LIMIT 100\n",
    "\"\"\"\n",
    "\n",
    "results_df = sparqlviewhelper.query_sparql(epfl_with_name,result_format = \"DATAFRAME\")\n",
    "results_df.head()\n"
   ]
  },
  {
   "cell_type": "markdown",
   "metadata": {},
   "source": [
    "This is a typical instance query where entities are filtered by their type(s) and then some of their properties are retrieved (here ?name). \n",
    "\n",
    "Let retrieve everything that is linked (outgoing) to the movies. \n",
    "The * character in the SELECT clause indicates to retreve all variables: ?institute, ?p, ?o"
   ]
  },
  {
   "cell_type": "code",
   "execution_count": null,
   "metadata": {},
   "outputs": [],
   "source": [
    "org_with_properties = \"\"\"\n",
    "Select *\n",
    " WHERE  {\n",
    "    ?institute a vocab:Organization.\n",
    "    ?institute ?p ?o.\n",
    "} LIMIT 20\n",
    "\"\"\"\n",
    "\n",
    "results_df = sparqlviewhelper.query_sparql(org_with_properties,result_format = \"DATAFRAME\")\n",
    "results_df.head()\n"
   ]
  },
  {
   "cell_type": "markdown",
   "metadata": {},
   "source": [
    "As a little exercise, write a query retrieving incoming entities to organizations. You can copy past the query above and modify it.\n",
    "\n",
    "Hints: ?s ?p ?o can be read as: ?o is linked to ?s with an outgoing link.\n",
    "\n",
    "Do you have results ?"
   ]
  },
  {
   "cell_type": "code",
   "execution_count": null,
   "metadata": {},
   "outputs": [],
   "source": [
    "#Your query here\n"
   ]
  }
 ],
 "metadata": {
  "kernelspec": {
   "display_name": "Python 3",
   "language": "python",
   "name": "python3"
  },
  "language_info": {
   "codemirror_mode": {
    "name": "ipython",
    "version": 3
   },
   "file_extension": ".py",
   "mimetype": "text/x-python",
   "name": "python",
   "nbconvert_exporter": "python",
   "pygments_lexer": "ipython3",
   "version": "3.6.5"
  }
 },
 "nbformat": 4,
 "nbformat_minor": 2
}
