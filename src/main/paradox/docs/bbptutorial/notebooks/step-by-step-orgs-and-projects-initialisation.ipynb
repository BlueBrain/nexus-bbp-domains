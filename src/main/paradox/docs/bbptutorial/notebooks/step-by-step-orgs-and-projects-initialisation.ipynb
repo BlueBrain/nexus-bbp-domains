{
 "cells": [
  {
   "cell_type": "markdown",
   "metadata": {
    "colab_type": "text",
    "id": "jcyB6NFmQReL"
   },
   "source": [
    "# Objective of this notebook\n",
    "\n",
    "This jupyter notebook will help set up organisations and projects in Blue Brain Nexus."
   ]
  },
  {
   "cell_type": "markdown",
   "metadata": {
    "colab_type": "text",
    "id": "elM9K80aNuzY"
   },
   "source": [
    "\n",
    "\n",
    "## Step 1: Create and configure a Blue Brain Nexus client\n",
    "\n",
    "The **nexus-python-sdk** is a Python wrapper for the Blue Brain Nexus REST API (https://github.com/BlueBrain/nexus-python-sdk/)"
   ]
  },
  {
   "cell_type": "code",
   "execution_count": 1,
   "metadata": {
    "colab": {},
    "colab_type": "code",
    "id": "_NFnFtCvNwwf"
   },
   "outputs": [
    {
     "name": "stdout",
     "output_type": "stream",
     "text": [
      "Requirement already satisfied: nexus-sdk in /Users/mfsy/anaconda3/envs/nexus-cli/lib/python3.7/site-packages (0.2.1)\n",
      "Requirement already satisfied: requests in /Users/mfsy/anaconda3/envs/nexus-cli/lib/python3.7/site-packages (from nexus-sdk) (2.21.0)\n",
      "Requirement already satisfied: urllib3<1.25,>=1.21.1 in /Users/mfsy/anaconda3/envs/nexus-cli/lib/python3.7/site-packages (from requests->nexus-sdk) (1.24.3)\n",
      "Requirement already satisfied: chardet<3.1.0,>=3.0.2 in /Users/mfsy/anaconda3/envs/nexus-cli/lib/python3.7/site-packages (from requests->nexus-sdk) (3.0.4)\n",
      "Requirement already satisfied: certifi>=2017.4.17 in /Users/mfsy/anaconda3/envs/nexus-cli/lib/python3.7/site-packages (from requests->nexus-sdk) (2019.3.9)\n",
      "Requirement already satisfied: idna<2.9,>=2.5 in /Users/mfsy/anaconda3/envs/nexus-cli/lib/python3.7/site-packages (from requests->nexus-sdk) (2.8)\n"
     ]
    }
   ],
   "source": [
    "!pip install nexus-sdk"
   ]
  },
  {
   "cell_type": "code",
   "execution_count": 51,
   "metadata": {
    "colab": {},
    "colab_type": "code",
    "id": "84rN5sccS3f6"
   },
   "outputs": [],
   "source": [
    "import nexussdk as nxs\n",
    "import getpass\n",
    "import json\n"
   ]
  },
  {
   "cell_type": "markdown",
   "metadata": {
    "colab_type": "text",
    "id": "aIkRfrNhe5zD"
   },
   "source": [
    "Provide the URL of the **environment** as value for the deployment variable"
   ]
  },
  {
   "cell_type": "code",
   "execution_count": 2,
   "metadata": {
    "colab": {},
    "colab_type": "code",
    "id": "j-_eHVCne0wG"
   },
   "outputs": [],
   "source": [
    "DEPLOYMENT = \"https://sandbox.bluebrainnexus.io/v1\""
   ]
  },
  {
   "cell_type": "markdown",
   "metadata": {
    "colab_type": "text",
    "id": "18aHuuRqfLIr"
   },
   "source": [
    "Provide your **token** as the value of the token variable below. Your token can be obtained (after log-in) by clicking on *Copy token* in the top left corner of the sandbox environment of Blue Brain Nexus: https://sandbox.bluebrainnexus.io/web/"
   ]
  },
  {
   "cell_type": "code",
   "execution_count": null,
   "metadata": {
    "colab": {},
    "colab_type": "code",
    "id": "5qj5EzmNfO6X"
   },
   "outputs": [],
   "source": [
    "TOKEN = getpass.getpass()"
   ]
  },
  {
   "cell_type": "markdown",
   "metadata": {
    "colab_type": "text",
    "id": "l44V5xawf7Zl"
   },
   "source": [
    "Configure your environment and token by executing the code below"
   ]
  },
  {
   "cell_type": "code",
   "execution_count": 40,
   "metadata": {
    "colab": {},
    "colab_type": "code",
    "id": "MvnYi1Bcf749"
   },
   "outputs": [],
   "source": [
    "nxs.config.set_environment(DEPLOYMENT)"
   ]
  },
  {
   "cell_type": "code",
   "execution_count": 41,
   "metadata": {},
   "outputs": [],
   "source": [
    "nxs.config.set_token(TOKEN)"
   ]
  },
  {
   "cell_type": "markdown",
   "metadata": {
    "colab_type": "text",
    "id": "_UmUth_E-Tbd"
   },
   "source": [
    "To get more information about the github realm from within which you operate, you can fetch realm information as follows:"
   ]
  },
  {
   "cell_type": "code",
   "execution_count": null,
   "metadata": {
    "colab": {},
    "colab_type": "code",
    "id": "MPmiw9KKjiUG"
   },
   "outputs": [],
   "source": [
    "nxs.realms.fetch(\"\")"
   ]
  },
  {
   "cell_type": "markdown",
   "metadata": {
    "colab_type": "text",
    "id": "9W5M5Ck9Tq7q"
   },
   "source": [
    "## Step 2: Create an organization\n"
   ]
  },
  {
   "cell_type": "code",
   "execution_count": 52,
   "metadata": {
    "colab": {},
    "colab_type": "code",
    "id": "9mB2AXLET5AT"
   },
   "outputs": [],
   "source": [
    "ORGANIZATION_LABEL = \"myOrg\" # Provide your organization label here"
   ]
  },
  {
   "cell_type": "code",
   "execution_count": 53,
   "metadata": {},
   "outputs": [],
   "source": [
    "ORGANIZATION_DESCRIPTION = \"The myOrg description\" # Provide your organization description here"
   ]
  },
  {
   "cell_type": "code",
   "execution_count": 54,
   "metadata": {},
   "outputs": [
    {
     "name": "stdout",
     "output_type": "stream",
     "text": [
      "{\n",
      "    \u001b[34;01m\"@context\"\u001b[39;49;00m: [\n",
      "        \u001b[33m\"https://bluebrain.github.io/nexus/contexts/admin.json\"\u001b[39;49;00m,\n",
      "        \u001b[33m\"https://bluebrain.github.io/nexus/contexts/resource.json\"\u001b[39;49;00m\n",
      "    ],\n",
      "    \u001b[34;01m\"@id\"\u001b[39;49;00m: \u001b[33m\"http://dev.nexus.ocp.bbp.epfl.ch/v1/orgs/myOrg\"\u001b[39;49;00m,\n",
      "    \u001b[34;01m\"@type\"\u001b[39;49;00m: \u001b[33m\"Organization\"\u001b[39;49;00m,\n",
      "    \u001b[34;01m\"_uuid\"\u001b[39;49;00m: \u001b[33m\"f9e9db8f-34e0-4d3c-b279-48e18d6edb77\"\u001b[39;49;00m,\n",
      "    \u001b[34;01m\"_rev\"\u001b[39;49;00m: \u001b[34m1\u001b[39;49;00m,\n",
      "    \u001b[34;01m\"_deprecated\"\u001b[39;49;00m: \u001b[34mfalse\u001b[39;49;00m,\n",
      "    \u001b[34;01m\"_createdAt\"\u001b[39;49;00m: \u001b[33m\"2019-07-22T11:40:56.869294Z\"\u001b[39;49;00m,\n",
      "    \u001b[34;01m\"_createdBy\"\u001b[39;49;00m: \u001b[33m\"http://dev.nexus.ocp.bbp.epfl.ch/v1/realms/bbp/users/sy\"\u001b[39;49;00m,\n",
      "    \u001b[34;01m\"_updatedAt\"\u001b[39;49;00m: \u001b[33m\"2019-07-22T11:40:56.869294Z\"\u001b[39;49;00m,\n",
      "    \u001b[34;01m\"_updatedBy\"\u001b[39;49;00m: \u001b[33m\"http://dev.nexus.ocp.bbp.epfl.ch/v1/realms/bbp/users/sy\"\u001b[39;49;00m\n",
      "}\n",
      "\n"
     ]
    }
   ],
   "source": [
    "response = nxs.organizations.create(org_label=ORGANIZATION_LABEL, description=ORGANIZATION_DESCRIPTION)\n",
    "utils.pretty_print(response)"
   ]
  },
  {
   "cell_type": "markdown",
   "metadata": {
    "colab_type": "text",
    "id": "jv3pMZ1oUGS5"
   },
   "source": [
    "## Step 3: Create and intialize a project"
   ]
  },
  {
   "cell_type": "markdown",
   "metadata": {
    "colab_type": "text",
    "id": "jqBV0vBltsJO"
   },
   "source": [
    "Projects belong to an organization and and they are used to :\n",
    "\n",
    "* Group and categorize sub-resources.\n",
    "* Define settings that apply for operations on all sub-resources.\n",
    "* Provide isolation from resources inside other projects. This behavior can be changed by defining so-called resolvers.\n",
    "\n",
    "Check out the documentation for more information: \n",
    "\n",
    "* https://bluebrainnexus.io/docs/api/index.html\n",
    "* https://bluebrainnexus.io/docs/tutorial/getting-started/quick-start/index.html\n",
    "\n",
    "To create a project, set a project label and description below. You may further define **base, vocab and api_mappings** (further information on those concepts can be found in the documentation; see links above)."
   ]
  },
  {
   "cell_type": "code",
   "execution_count": 55,
   "metadata": {},
   "outputs": [
    {
     "name": "stdout",
     "output_type": "stream",
     "text": [
      "[\n",
      "    {\n",
      "        \u001b[34;01m\"namespace\"\u001b[39;49;00m: \u001b[33m\"https://neuroshapes.org/dash/ontology\"\u001b[39;49;00m,\n",
      "        \u001b[34;01m\"prefix\"\u001b[39;49;00m: \u001b[33m\"ontologies\"\u001b[39;49;00m\n",
      "    },\n",
      "    {\n",
      "        \u001b[34;01m\"namespace\"\u001b[39;49;00m: \u001b[33m\"https://neuroshapes.org/dash/\"\u001b[39;49;00m,\n",
      "        \u001b[34;01m\"prefix\"\u001b[39;49;00m: \u001b[33m\"datashapes\"\u001b[39;49;00m\n",
      "    },\n",
      "    {\n",
      "        \u001b[34;01m\"namespace\"\u001b[39;49;00m: \u001b[33m\"https://neuroshapes.org/dash/taxonomy\"\u001b[39;49;00m,\n",
      "        \u001b[34;01m\"prefix\"\u001b[39;49;00m: \u001b[33m\"taxonomies\"\u001b[39;49;00m\n",
      "    },\n",
      "    {\n",
      "        \u001b[34;01m\"namespace\"\u001b[39;49;00m: \u001b[33m\"https://provshapes.org/commons/\"\u001b[39;49;00m,\n",
      "        \u001b[34;01m\"prefix\"\u001b[39;49;00m: \u001b[33m\"provcommonshapes\"\u001b[39;49;00m\n",
      "    },\n",
      "    {\n",
      "        \u001b[34;01m\"namespace\"\u001b[39;49;00m: \u001b[33m\"http://schema.org/\"\u001b[39;49;00m,\n",
      "        \u001b[34;01m\"prefix\"\u001b[39;49;00m: \u001b[33m\"schemaorg\"\u001b[39;49;00m\n",
      "    },\n",
      "    {\n",
      "        \u001b[34;01m\"namespace\"\u001b[39;49;00m: \u001b[33m\"https://incf.github.io/neuroshapes/contexts/\"\u001b[39;49;00m,\n",
      "        \u001b[34;01m\"prefix\"\u001b[39;49;00m: \u001b[33m\"context\"\u001b[39;49;00m\n",
      "    },\n",
      "    {\n",
      "        \u001b[34;01m\"namespace\"\u001b[39;49;00m: \u001b[33m\"https://neuroshapes.org/commons/\"\u001b[39;49;00m,\n",
      "        \u001b[34;01m\"prefix\"\u001b[39;49;00m: \u001b[33m\"commonshapes\"\u001b[39;49;00m\n",
      "    },\n",
      "    {\n",
      "        \u001b[34;01m\"namespace\"\u001b[39;49;00m: \u001b[33m\"https://provshapes.org/datashapes/\"\u001b[39;49;00m,\n",
      "        \u001b[34;01m\"prefix\"\u001b[39;49;00m: \u001b[33m\"provdatashapes\"\u001b[39;49;00m\n",
      "    },\n",
      "    {\n",
      "        \u001b[34;01m\"namespace\"\u001b[39;49;00m: \u001b[33m\"http://www.w3.org/ns/prov#\"\u001b[39;49;00m,\n",
      "        \u001b[34;01m\"prefix\"\u001b[39;49;00m: \u001b[33m\"prov\"\u001b[39;49;00m\n",
      "    }\n",
      "]\n",
      "\n"
     ]
    }
   ],
   "source": [
    "import urllib.request, json\n",
    "import utils\n",
    "\n",
    "PROJECT_LABEL = \"myProject\" # Provide your project label here\n",
    "PROJECT_DESCRIPTION = \"myProject description\" # Provide your project description here\n",
    "\n",
    "# Vocab config\n",
    "vocab = \"%s/resources/%s/%s/_/\"%(DEPLOYMENT, ORGANIZATION_LABEL, PROJECT_LABEL)\n",
    "base = \"https://bbp.epfl.ch/neurosciencegraph/data/\"\n",
    "\n",
    "\n",
    "#Nexus Api Mappings from https://raw.githubusercontent.com/BlueBrain/nexus-bbp-domains/master/mappings/nexus-api-mappings.json\n",
    "nexus_api_mappings_file = \"https://raw.githubusercontent.com/BlueBrain/nexus-bbp-domains/master/mappings/nexus-api-mappings.json\"\n",
    " \n",
    "with urllib.request.urlopen(nexus_api_mappings_file) as url:\n",
    "    nexus_api_mappings = json.loads(url.read().decode())\n",
    "    utils.pretty_print(nexus_api_mappings[\"apiMappings\"])\n",
    "\n"
   ]
  },
  {
   "cell_type": "code",
   "execution_count": 56,
   "metadata": {},
   "outputs": [
    {
     "name": "stdout",
     "output_type": "stream",
     "text": [
      "{\n",
      "    \u001b[34;01m\"@context\"\u001b[39;49;00m: [\n",
      "        \u001b[33m\"https://bluebrain.github.io/nexus/contexts/admin.json\"\u001b[39;49;00m,\n",
      "        \u001b[33m\"https://bluebrain.github.io/nexus/contexts/resource.json\"\u001b[39;49;00m\n",
      "    ],\n",
      "    \u001b[34;01m\"@id\"\u001b[39;49;00m: \u001b[33m\"http://dev.nexus.ocp.bbp.epfl.ch/v1/projects/myOrg/myProject\"\u001b[39;49;00m,\n",
      "    \u001b[34;01m\"@type\"\u001b[39;49;00m: \u001b[33m\"Project\"\u001b[39;49;00m,\n",
      "    \u001b[34;01m\"_uuid\"\u001b[39;49;00m: \u001b[33m\"9b136b0a-5f1a-493b-93fd-f627e07f8efe\"\u001b[39;49;00m,\n",
      "    \u001b[34;01m\"_rev\"\u001b[39;49;00m: \u001b[34m1\u001b[39;49;00m,\n",
      "    \u001b[34;01m\"_deprecated\"\u001b[39;49;00m: \u001b[34mfalse\u001b[39;49;00m,\n",
      "    \u001b[34;01m\"_createdAt\"\u001b[39;49;00m: \u001b[33m\"2019-07-22T11:41:37.079329Z\"\u001b[39;49;00m,\n",
      "    \u001b[34;01m\"_createdBy\"\u001b[39;49;00m: \u001b[33m\"http://dev.nexus.ocp.bbp.epfl.ch/v1/realms/bbp/users/sy\"\u001b[39;49;00m,\n",
      "    \u001b[34;01m\"_updatedAt\"\u001b[39;49;00m: \u001b[33m\"2019-07-22T11:41:37.079329Z\"\u001b[39;49;00m,\n",
      "    \u001b[34;01m\"_updatedBy\"\u001b[39;49;00m: \u001b[33m\"http://dev.nexus.ocp.bbp.epfl.ch/v1/realms/bbp/users/sy\"\u001b[39;49;00m\n",
      "}\n",
      "\n"
     ]
    }
   ],
   "source": [
    "response = nxs.projects.create(org_label=ORGANIZATION_LABEL, project_label=PROJECT_LABEL, description=PROJECT_DESCRIPTION,\n",
    "                                     api_mappings=nexus_api_mappings[\"apiMappings\"], base=base, vocab=vocab)\n",
    "utils.pretty_print(response)"
   ]
  },
  {
   "cell_type": "markdown",
   "metadata": {},
   "source": [
    "### Import the Blue Brain Knowledge Graph schema "
   ]
  },
  {
   "cell_type": "markdown",
   "metadata": {},
   "source": [
    "The following calls will create a jsonld context (identified by https://bbp.neuroshapes.org) resource importing the Blue Brain Knowledge Graph schema (identified by https://neuroshapes.org and available [here](https://sandbox.bluebrainnexus.io/web/neurosciencegraph/datamodels/resources/https%3A%2F%2Fneuroshapes.org)). The schema here is made of a vocabulary."
   ]
  },
  {
   "cell_type": "code",
   "execution_count": 57,
   "metadata": {},
   "outputs": [
    {
     "name": "stdout",
     "output_type": "stream",
     "text": [
      "{\n",
      "    \u001b[34;01m\"@context\"\u001b[39;49;00m: \u001b[33m\"https://bluebrain.github.io/nexus/contexts/resource.json\"\u001b[39;49;00m,\n",
      "    \u001b[34;01m\"@id\"\u001b[39;49;00m: \u001b[33m\"https://bbp.epfl.ch/neurosciencegraph/data/datamodelsresolver\"\u001b[39;49;00m,\n",
      "    \u001b[34;01m\"@type\"\u001b[39;49;00m: [\n",
      "        \u001b[33m\"Resolver\"\u001b[39;49;00m,\n",
      "        \u001b[33m\"CrossProject\"\u001b[39;49;00m\n",
      "    ],\n",
      "    \u001b[34;01m\"_self\"\u001b[39;49;00m: \u001b[33m\"http://dev.nexus.ocp.bbp.epfl.ch/v1/resolvers/myOrg/myProject/datamodelsresolver\"\u001b[39;49;00m,\n",
      "    \u001b[34;01m\"_constrainedBy\"\u001b[39;49;00m: \u001b[33m\"https://bluebrain.github.io/nexus/schemas/resolver.json\"\u001b[39;49;00m,\n",
      "    \u001b[34;01m\"_project\"\u001b[39;49;00m: \u001b[33m\"http://dev.nexus.ocp.bbp.epfl.ch/v1/projects/myOrg/myProject\"\u001b[39;49;00m,\n",
      "    \u001b[34;01m\"_rev\"\u001b[39;49;00m: \u001b[34m1\u001b[39;49;00m,\n",
      "    \u001b[34;01m\"_deprecated\"\u001b[39;49;00m: \u001b[34mfalse\u001b[39;49;00m,\n",
      "    \u001b[34;01m\"_createdAt\"\u001b[39;49;00m: \u001b[33m\"2019-07-22T11:41:45.731619Z\"\u001b[39;49;00m,\n",
      "    \u001b[34;01m\"_createdBy\"\u001b[39;49;00m: \u001b[33m\"http://dev.nexus.ocp.bbp.epfl.ch/v1/realms/bbp/users/sy\"\u001b[39;49;00m,\n",
      "    \u001b[34;01m\"_updatedAt\"\u001b[39;49;00m: \u001b[33m\"2019-07-22T11:41:45.731619Z\"\u001b[39;49;00m,\n",
      "    \u001b[34;01m\"_updatedBy\"\u001b[39;49;00m: \u001b[33m\"http://dev.nexus.ocp.bbp.epfl.ch/v1/realms/bbp/users/sy\"\u001b[39;49;00m,\n",
      "    \u001b[34;01m\"_incoming\"\u001b[39;49;00m: \u001b[33m\"http://dev.nexus.ocp.bbp.epfl.ch/v1/resolvers/myOrg/myProject/datamodelsresolver/incoming\"\u001b[39;49;00m,\n",
      "    \u001b[34;01m\"_outgoing\"\u001b[39;49;00m: \u001b[33m\"http://dev.nexus.ocp.bbp.epfl.ch/v1/resolvers/myOrg/myProject/datamodelsresolver/outgoing\"\u001b[39;49;00m\n",
      "}\n",
      "\n"
     ]
    }
   ],
   "source": [
    "project_to_resolve_to = \"/\".join([\"neurosciencegraph\", \"datamodels\"])\n",
    "\n",
    "# Resolver\n",
    "cross_project_resolver = {\n",
    "  \"@id\": base+\"datamodelsresolver\",\n",
    "  \"@type\": [\n",
    "    \"CrossProject\"\n",
    "  ],\n",
    "  \"projects\": [\n",
    "    project_to_resolve_to\n",
    "  ],\n",
    "  \"identities\": [\n",
    "    {\n",
    "    \"@type\": \"Authenticated\",\n",
    "    \"realm\": \"bbp\"\n",
    "    }\n",
    "  ],\n",
    "  \"priority\": 50\n",
    "}\n",
    "\n",
    "\n",
    "response = utils.create_resolver(nxs,cross_project_resolver,ORGANIZATION_LABEL,PROJECT_LABEL)\n",
    "utils.pretty_print(response)"
   ]
  },
  {
   "cell_type": "code",
   "execution_count": 58,
   "metadata": {},
   "outputs": [
    {
     "name": "stdout",
     "output_type": "stream",
     "text": [
      "{\n",
      "    \u001b[34;01m\"@context\"\u001b[39;49;00m: \u001b[33m\"https://bluebrain.github.io/nexus/contexts/resource.json\"\u001b[39;49;00m,\n",
      "    \u001b[34;01m\"@id\"\u001b[39;49;00m: \u001b[33m\"https://bbp.neuroshapes.org\"\u001b[39;49;00m,\n",
      "    \u001b[34;01m\"_self\"\u001b[39;49;00m: \u001b[33m\"http://dev.nexus.ocp.bbp.epfl.ch/v1/resources/myOrg/myProject/_/https%3A%2F%2Fbbp.neuroshapes.org\"\u001b[39;49;00m,\n",
      "    \u001b[34;01m\"_constrainedBy\"\u001b[39;49;00m: \u001b[33m\"https://bluebrain.github.io/nexus/schemas/unconstrained.json\"\u001b[39;49;00m,\n",
      "    \u001b[34;01m\"_project\"\u001b[39;49;00m: \u001b[33m\"http://dev.nexus.ocp.bbp.epfl.ch/v1/projects/myOrg/myProject\"\u001b[39;49;00m,\n",
      "    \u001b[34;01m\"_rev\"\u001b[39;49;00m: \u001b[34m1\u001b[39;49;00m,\n",
      "    \u001b[34;01m\"_deprecated\"\u001b[39;49;00m: \u001b[34mfalse\u001b[39;49;00m,\n",
      "    \u001b[34;01m\"_createdAt\"\u001b[39;49;00m: \u001b[33m\"2019-07-22T11:41:49.714011Z\"\u001b[39;49;00m,\n",
      "    \u001b[34;01m\"_createdBy\"\u001b[39;49;00m: \u001b[33m\"http://dev.nexus.ocp.bbp.epfl.ch/v1/realms/bbp/users/sy\"\u001b[39;49;00m,\n",
      "    \u001b[34;01m\"_updatedAt\"\u001b[39;49;00m: \u001b[33m\"2019-07-22T11:41:49.714011Z\"\u001b[39;49;00m,\n",
      "    \u001b[34;01m\"_updatedBy\"\u001b[39;49;00m: \u001b[33m\"http://dev.nexus.ocp.bbp.epfl.ch/v1/realms/bbp/users/sy\"\u001b[39;49;00m,\n",
      "    \u001b[34;01m\"_incoming\"\u001b[39;49;00m: \u001b[33m\"http://dev.nexus.ocp.bbp.epfl.ch/v1/resources/myOrg/myProject/_/https%3A%2F%2Fbbp.neuroshapes.org/incoming\"\u001b[39;49;00m,\n",
      "    \u001b[34;01m\"_outgoing\"\u001b[39;49;00m: \u001b[33m\"http://dev.nexus.ocp.bbp.epfl.ch/v1/resources/myOrg/myProject/_/https%3A%2F%2Fbbp.neuroshapes.org/outgoing\"\u001b[39;49;00m\n",
      "}\n",
      "\n"
     ]
    }
   ],
   "source": [
    "# Context for data\n",
    "bbp_context =  {\n",
    "    \"@context\":[\n",
    "        \"https://neuroshapes.org\",\n",
    "        {\n",
    "            \"@vocab\": vocab\n",
    "        }\n",
    "    ],\n",
    "    \"@id\":\"https://bbp.neuroshapes.org\"\n",
    "    \n",
    "}\n",
    "\n",
    "response = utils.create_resource(nxs,bbp_context,ORGANIZATION_LABEL,PROJECT_LABEL)\n",
    "utils.pretty_print(response)"
   ]
  },
  {
   "cell_type": "markdown",
   "metadata": {
    "colab_type": "text",
    "id": "kFfSdxEn362M"
   },
   "source": [
    "## Step 4: Get ACLs of the project"
   ]
  },
  {
   "cell_type": "markdown",
   "metadata": {},
   "source": [
    "The function below is a helper function to display the current ACL's"
   ]
  },
  {
   "cell_type": "code",
   "execution_count": null,
   "metadata": {},
   "outputs": [],
   "source": [
    "def permissions_summary(subpath: str, filename: str = None, ancestors: bool = True):\n",
    "    from collections import namedtuple\n",
    "    import pandas as pd\n",
    "\n",
    "    def clean(_id: str) -> str:\n",
    "        base = \"{}/\".format(deployment)\n",
    "        return _id.replace(base, \"\").replace(\"realms/\", \"\")\n",
    "\n",
    "    Row = namedtuple(\"Row\", [\"path\", \"identity\", \"permissions\"])\n",
    "\n",
    "    try:\n",
    "        listing = nxs.acls.list(subpath, ancestors=ancestors, self=False)\n",
    "    \n",
    "    except nxs.HTTPError as e:\n",
    "        print(\"<ERROR>\")\n",
    "        try:\n",
    "            pp(e.response.json())\n",
    "        except ValueError:\n",
    "            print(e.response.text)\n",
    "    \n",
    "    else:\n",
    "        if listing[\"_total\"]:\n",
    "            flattened = [Row(x[\"_path\"], clean(y[\"identity\"][\"@id\"]), y[\"permissions\"])\n",
    "                         for x in listing[\"_results\"] for y in x[\"acl\"]]\n",
    "\n",
    "            tuples = [(x.path, x.identity) for x in flattened]\n",
    "            data = [{y: \"#\" for y in x.permissions} for x in flattened]\n",
    "\n",
    "            headers = pd.MultiIndex.from_tuples(tuples, names=[\"path\", \"identity\"])\n",
    "\n",
    "            df = pd.DataFrame(data, index=headers).transpose().sort_index(axis=0).fillna(\"\")\n",
    "\n",
    "            if filename:\n",
    "                df.to_excel(filename)\n",
    "                \n",
    "            props = [(\"text-align\", \"center\"), (\"border\", \"1px  black solid !important\")]\n",
    "            \n",
    "            return df.style.set_table_styles(\n",
    "                [{\"selector\": \"th\", \"props\": props}, {\"selector\": \"td\", \"props\": props}])\n",
    "        else:\n",
    "            print(\"<NO PERMISSIONS TO DISPLAY>\")\n",
    "            if filename:\n",
    "                print(\"<NO FILE WRITTEN>\")"
   ]
  },
  {
   "cell_type": "markdown",
   "metadata": {},
   "source": [
    "use this function to display the ACL's of your project:"
   ]
  },
  {
   "cell_type": "code",
   "execution_count": null,
   "metadata": {},
   "outputs": [],
   "source": [
    "permissions_summary(f\"{ORGANIZATION_LABEL}/{PROJECTLABEL}\", ancestors=True)"
   ]
  }
 ],
 "metadata": {
  "colab": {
   "collapsed_sections": [],
   "name": "Step by step jupyter notebook for bringing data to Nexus v1.ipynb",
   "provenance": [],
   "version": "0.3.2"
  },
  "kernelspec": {
   "display_name": "Python (nexus-cli)",
   "language": "python",
   "name": "nexus-cli"
  },
  "language_info": {
   "codemirror_mode": {
    "name": "ipython",
    "version": 3
   },
   "file_extension": ".py",
   "mimetype": "text/x-python",
   "name": "python",
   "nbconvert_exporter": "python",
   "pygments_lexer": "ipython3",
   "version": "3.7.2"
  }
 },
 "nbformat": 4,
 "nbformat_minor": 2
}
