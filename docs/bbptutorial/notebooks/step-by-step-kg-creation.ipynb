{
 "cells": [
  {
   "cell_type": "markdown",
   "metadata": {},
   "source": [
    "## Step by step buidling of a knowledge graph\n",
    "\n",
    "The goal of this notebook is to build an example of knowledge graph using a step by step approach.\n"
   ]
  },
  {
   "cell_type": "markdown",
   "metadata": {},
   "source": [
    "## Prerequisites\n",
    "\n",
    "This notebook assumes you've created a project within the sandbox deployment of Nexus. If not follow the Blue Brain Nexus [Quick Start tutorial](https://bluebrain.github.io/nexus-bbp-domains/docs/bbptutorial/getting-started/quick-start/index.html)."
   ]
  },
  {
   "cell_type": "markdown",
   "metadata": {},
   "source": [
    "## Overview\n",
    "Explain the Research domain (with figure). Uses schema.org and json-ld to describe entities\n",
    "\n",
    "You'll work through the following steps:\n",
    "\n",
    "1. Create and configure a Blue Brain Nexus client\n",
    "2. Create a Person entity\n",
    "3. Create an Organization entity and link it to the Person entity as affiliation\n",
    "4. Create an article entity and link it to the Person entity as author\n",
    "5. Explore and navigate the created knowledge graph"
   ]
  },
  {
   "cell_type": "markdown",
   "metadata": {},
   "source": [
    "## Step 1: Create and configure a Nexus client"
   ]
  },
  {
   "cell_type": "code",
   "execution_count": 2,
   "metadata": {},
   "outputs": [
    {
     "name": "stdout",
     "output_type": "stream",
     "text": [
      "Requirement already up-to-date: nexus-sdk in /Users/mfsy/anaconda3/lib/python3.6/site-packages (0.2.1)\n",
      "Requirement not upgraded as not directly required: requests in /Users/mfsy/anaconda3/lib/python3.6/site-packages (from nexus-sdk) (2.21.0)\n",
      "Requirement not upgraded as not directly required: certifi>=2017.4.17 in /Users/mfsy/anaconda3/lib/python3.6/site-packages (from requests->nexus-sdk) (2019.3.9)\n",
      "Requirement not upgraded as not directly required: idna<2.9,>=2.5 in /Users/mfsy/anaconda3/lib/python3.6/site-packages (from requests->nexus-sdk) (2.8)\n",
      "Requirement not upgraded as not directly required: urllib3<1.25,>=1.21.1 in /Users/mfsy/anaconda3/lib/python3.6/site-packages (from requests->nexus-sdk) (1.24.3)\n",
      "Requirement not upgraded as not directly required: chardet<3.1.0,>=3.0.2 in /Users/mfsy/anaconda3/lib/python3.6/site-packages (from requests->nexus-sdk) (3.0.4)\n",
      "\u001b[31mdistributed 1.21.8 requires msgpack, which is not installed.\u001b[0m\n",
      "\u001b[33mYou are using pip version 10.0.1, however version 19.1.1 is available.\n",
      "You should consider upgrading via the 'pip install --upgrade pip' command.\u001b[0m\n"
     ]
    }
   ],
   "source": [
    "#install the Blue Brain Nexus python SDK\n",
    "!pip install -U nexus-sdk"
   ]
  },
  {
   "cell_type": "code",
   "execution_count": 3,
   "metadata": {},
   "outputs": [
    {
     "name": "stdout",
     "output_type": "stream",
     "text": [
      "········\n"
     ]
    }
   ],
   "source": [
    "#Set a token to authenticate to Nexus\n",
    "import getpass\n",
    "token = getpass.getpass()"
   ]
  },
  {
   "cell_type": "markdown",
   "metadata": {},
   "source": [
    "### Create a nexus client. Don't forget to replace \\$PROJECTLABEL with your own project label (project=...)"
   ]
  },
  {
   "cell_type": "code",
   "execution_count": 20,
   "metadata": {},
   "outputs": [],
   "source": [
    "#Configure a nexus client\n",
    "nexus_environment = \"https://sandbox.bluebrainnexus.io/v1\"\n",
    "org =\"demo\"\n",
    "project =\"$PROJECTLABEL\"\n",
    "\n",
    "import nexussdk as nexus\n",
    "nexus.config.set_environment(nexus_environment)\n",
    "nexus.config.set_token(token)\n",
    "\n",
    "vocab = \"%s/vocabs/%s/%s/\"%(nexus_environment, org, project)\n",
    "\n"
   ]
  },
  {
   "cell_type": "code",
   "execution_count": 5,
   "metadata": {},
   "outputs": [],
   "source": [
    "from pygments.lexers import JsonLdLexer\n",
    "from pygments import highlight\n",
    "from pygments.formatters import TerminalFormatter, TerminalTrueColorFormatter\n",
    "import json"
   ]
  },
  {
   "cell_type": "code",
   "execution_count": 6,
   "metadata": {},
   "outputs": [],
   "source": [
    "from sparqlendpointhelper import SparqlViewHelper\n",
    "\n",
    "%load_ext autoreload\n",
    "%autoreload 1\n",
    "%aimport sparqlendpointhelper\n",
    "%aimport utils\n",
    "%reload_ext autoreload\n"
   ]
  },
  {
   "cell_type": "markdown",
   "metadata": {},
   "source": [
    "### Create a SPARQL helper to be used for running queries "
   ]
  },
  {
   "cell_type": "code",
   "execution_count": 7,
   "metadata": {},
   "outputs": [],
   "source": [
    "sparqlview_endpoint = nexus_environment+\"/views/\"+org+\"/\"+project+\"/graph/sparql\"\n",
    "sparqlviewhelper = SparqlViewHelper(sparqlview_endpoint,nexus_environment, org, project, token)"
   ]
  },
  {
   "cell_type": "markdown",
   "metadata": {},
   "source": [
    "### Import the Blue Brain Knowledge Graph schema "
   ]
  },
  {
   "cell_type": "markdown",
   "metadata": {},
   "source": [
    "The following calls will create a jsonld context (identified by https://bbp.neuroshapes.org) resource importing the Blue Brain Knowledge Graph schema (identified by https://neuroshapes.org and available [here](https://sandbox.bluebrainnexus.io/web/neurosciencegraph/datamodels/resources/https%3A%2F%2Fneuroshapes.org)). The schema here is made of a vocabulary."
   ]
  },
  {
   "cell_type": "code",
   "execution_count": 10,
   "metadata": {},
   "outputs": [
    {
     "name": "stdout",
     "output_type": "stream",
     "text": [
      "{\n",
      "    \u001b[34;01m\"@context\"\u001b[39;49;00m: \u001b[33m\"https://bluebrain.github.io/nexus/contexts/resource.json\"\u001b[39;49;00m,\n",
      "    \u001b[34;01m\"@id\"\u001b[39;49;00m: \u001b[33m\"https://sandbox.bluebrainnexus.io/v1/resources/demo/awesomeproject/_/9f20a964-dfdc-4f23-a3d9-aa69e12a982d\"\u001b[39;49;00m,\n",
      "    \u001b[34;01m\"@type\"\u001b[39;49;00m: [\n",
      "        \u001b[33m\"Resolver\"\u001b[39;49;00m,\n",
      "        \u001b[33m\"CrossProject\"\u001b[39;49;00m\n",
      "    ],\n",
      "    \u001b[34;01m\"_self\"\u001b[39;49;00m: \u001b[33m\"https://sandbox.bluebrainnexus.io/v1/resolvers/demo/awesomeproject/9f20a964-dfdc-4f23-a3d9-aa69e12a982d\"\u001b[39;49;00m,\n",
      "    \u001b[34;01m\"_constrainedBy\"\u001b[39;49;00m: \u001b[33m\"https://bluebrain.github.io/nexus/schemas/resolver.json\"\u001b[39;49;00m,\n",
      "    \u001b[34;01m\"_project\"\u001b[39;49;00m: \u001b[33m\"https://sandbox.bluebrainnexus.io/v1/projects/demo/awesomeproject\"\u001b[39;49;00m,\n",
      "    \u001b[34;01m\"_rev\"\u001b[39;49;00m: \u001b[34m1\u001b[39;49;00m,\n",
      "    \u001b[34;01m\"_deprecated\"\u001b[39;49;00m: \u001b[34mfalse\u001b[39;49;00m,\n",
      "    \u001b[34;01m\"_createdAt\"\u001b[39;49;00m: \u001b[33m\"2019-06-07T11:54:58.799Z\"\u001b[39;49;00m,\n",
      "    \u001b[34;01m\"_createdBy\"\u001b[39;49;00m: \u001b[33m\"https://sandbox.bluebrainnexus.io/v1/realms/github/users/mfsy\"\u001b[39;49;00m,\n",
      "    \u001b[34;01m\"_updatedAt\"\u001b[39;49;00m: \u001b[33m\"2019-06-07T11:54:58.799Z\"\u001b[39;49;00m,\n",
      "    \u001b[34;01m\"_updatedBy\"\u001b[39;49;00m: \u001b[33m\"https://sandbox.bluebrainnexus.io/v1/realms/github/users/mfsy\"\u001b[39;49;00m\n",
      "}\n",
      "\n"
     ]
    }
   ],
   "source": [
    "#Import the BBP Knowledge Graph schema\n",
    "\n",
    "project_to_resolve_to = \"neurosciencegraph/datamodels\"\n",
    "\n",
    "# Resolver\n",
    "cross_project_resolver = {\n",
    "  \"@type\": [\n",
    "    \"CrossProject\"\n",
    "  ],\n",
    "  \"projects\": [\n",
    "    project_to_resolve_to\n",
    "  ],\n",
    "  \"identities\": [\n",
    "    {\n",
    "    \"@type\": \"Authenticated\",\n",
    "    \"realm\": \"github\"\n",
    "    }\n",
    "  ],\n",
    "  \"priority\": 50\n",
    "}\n",
    "\n",
    "\n",
    "response = utils.create_resolver(nexus,cross_project_resolver,org,project)\n",
    "utils.pretty_print(response)\n"
   ]
  },
  {
   "cell_type": "code",
   "execution_count": null,
   "metadata": {},
   "outputs": [],
   "source": [
    "bbp_context =  {\n",
    "    \"@context\":[\n",
    "        \"https://neuroshapes.org\",\n",
    "        {\n",
    "            \"@vocab\": vocab\n",
    "        }\n",
    "    ],\n",
    "    \"@id\":\"https://bbp.neuroshapes.org\"\n",
    "    \n",
    "}\n",
    "\n",
    "response = utils.create_resource(nexus,bbp_context,org,project, )\n",
    "utils.pretty_print(response)\n"
   ]
  },
  {
   "cell_type": "markdown",
   "metadata": {},
   "source": [
    "## Step 2: Create a Person entity"
   ]
  },
  {
   "cell_type": "markdown",
   "metadata": {},
   "source": [
    "Let define an entity of type Person as follows:\n",
    "\n",
    "* A person is an entity of type Person (@type value)\n",
    "* A person has an identifier (@id value)\n",
    "* A person has a family name (familyName value), a given name (givenName value) and a job title (jobTitle value)\n",
    "* A person has a job\n"
   ]
  },
  {
   "cell_type": "code",
   "execution_count": 9,
   "metadata": {},
   "outputs": [
    {
     "name": "stdout",
     "output_type": "stream",
     "text": [
      "{\n",
      "    \u001b[34;01m\"@context\"\u001b[39;49;00m: \u001b[33m\"https://bluebrain.github.io/nexus/contexts/resource.json\"\u001b[39;49;00m,\n",
      "    \u001b[34;01m\"@id\"\u001b[39;49;00m: \u001b[33m\"http://your/id/here\"\u001b[39;49;00m,\n",
      "    \u001b[34;01m\"@type\"\u001b[39;49;00m: \u001b[33m\"http://schema.org/Person\"\u001b[39;49;00m,\n",
      "    \u001b[34;01m\"_self\"\u001b[39;49;00m: \u001b[33m\"https://sandbox.bluebrainnexus.io/v1/resources/demo/awesomeproject/_/http%3A%2F%2Fyour%2Fid%2Fhere\"\u001b[39;49;00m,\n",
      "    \u001b[34;01m\"_constrainedBy\"\u001b[39;49;00m: \u001b[33m\"https://bluebrain.github.io/nexus/schemas/unconstrained.json\"\u001b[39;49;00m,\n",
      "    \u001b[34;01m\"_project\"\u001b[39;49;00m: \u001b[33m\"https://sandbox.bluebrainnexus.io/v1/projects/demo/awesomeproject\"\u001b[39;49;00m,\n",
      "    \u001b[34;01m\"_rev\"\u001b[39;49;00m: \u001b[34m1\u001b[39;49;00m,\n",
      "    \u001b[34;01m\"_deprecated\"\u001b[39;49;00m: \u001b[34mfalse\u001b[39;49;00m,\n",
      "    \u001b[34;01m\"_createdAt\"\u001b[39;49;00m: \u001b[33m\"2019-06-07T11:54:33.112Z\"\u001b[39;49;00m,\n",
      "    \u001b[34;01m\"_createdBy\"\u001b[39;49;00m: \u001b[33m\"https://sandbox.bluebrainnexus.io/v1/realms/github/users/mfsy\"\u001b[39;49;00m,\n",
      "    \u001b[34;01m\"_updatedAt\"\u001b[39;49;00m: \u001b[33m\"2019-06-07T11:54:33.112Z\"\u001b[39;49;00m,\n",
      "    \u001b[34;01m\"_updatedBy\"\u001b[39;49;00m: \u001b[33m\"https://sandbox.bluebrainnexus.io/v1/realms/github/users/mfsy\"\u001b[39;49;00m\n",
      "}\n",
      "\n"
     ]
    }
   ],
   "source": [
    "# Use an orcid identifier if you have one, or your github id\n",
    "person ={\n",
    "    \"@context\":\"https://bbp.neuroshapes.org\",\n",
    "    \"@id\":\"http://your/id/here\",\n",
    "    \"@type\":\"Person\",\n",
    "    \"familyName\":\"your familly name here\",\n",
    "    \"givenName\":\"your given name here\",\n",
    "    \"jobTitle\":\"job title\"\n",
    "} \n",
    "\n",
    "response = utils.create_resource(nexus,person,org,project)\n",
    "utils.pretty_print(response)\n"
   ]
  },
  {
   "cell_type": "markdown",
   "metadata": {},
   "source": [
    "## Step 3: Create an article entity and link it to the Person entity as author"
   ]
  },
  {
   "cell_type": "markdown",
   "metadata": {},
   "source": [
    "The knowledge Graph now contains a single entity of type Person. Let add to the knowledge graph one scholarly article (publication) authored by the person entity:\n",
    "\n",
    "* A scholarly article is  an entity of type ScholarlyArticle (@type value)\n",
    "* A scholarly article has an identifier (@id value)\n",
    "* A scholarly article has a name (name value)\n",
    "* A scholarly article has a publishing date (datePublished value)\n"
   ]
  },
  {
   "cell_type": "markdown",
   "metadata": {},
   "source": [
    "###  Create a ScholarlyArticle entity"
   ]
  },
  {
   "cell_type": "code",
   "execution_count": 12,
   "metadata": {},
   "outputs": [
    {
     "name": "stdout",
     "output_type": "stream",
     "text": [
      "{\n",
      "    \u001b[34;01m\"@context\"\u001b[39;49;00m: \u001b[33m\"https://bluebrain.github.io/nexus/contexts/resource.json\"\u001b[39;49;00m,\n",
      "    \u001b[34;01m\"@id\"\u001b[39;49;00m: \u001b[33m\"https://doi.org/10.1016/j.cell.2015.09.029\"\u001b[39;49;00m,\n",
      "    \u001b[34;01m\"@type\"\u001b[39;49;00m: \u001b[33m\"https://sandbox.bluebrainnexus.io/v1/vocabs/demo/awesomeproject/ScholarlyArticle\"\u001b[39;49;00m,\n",
      "    \u001b[34;01m\"_self\"\u001b[39;49;00m: \u001b[33m\"https://sandbox.bluebrainnexus.io/v1/resources/demo/awesomeproject/_/https%3A%2F%2Fdoi.org%2F10.1016%2Fj.cell.2015.09.029\"\u001b[39;49;00m,\n",
      "    \u001b[34;01m\"_constrainedBy\"\u001b[39;49;00m: \u001b[33m\"https://bluebrain.github.io/nexus/schemas/unconstrained.json\"\u001b[39;49;00m,\n",
      "    \u001b[34;01m\"_project\"\u001b[39;49;00m: \u001b[33m\"https://sandbox.bluebrainnexus.io/v1/projects/demo/awesomeproject\"\u001b[39;49;00m,\n",
      "    \u001b[34;01m\"_rev\"\u001b[39;49;00m: \u001b[34m1\u001b[39;49;00m,\n",
      "    \u001b[34;01m\"_deprecated\"\u001b[39;49;00m: \u001b[34mfalse\u001b[39;49;00m,\n",
      "    \u001b[34;01m\"_createdAt\"\u001b[39;49;00m: \u001b[33m\"2019-06-07T11:55:29.238Z\"\u001b[39;49;00m,\n",
      "    \u001b[34;01m\"_createdBy\"\u001b[39;49;00m: \u001b[33m\"https://sandbox.bluebrainnexus.io/v1/realms/github/users/mfsy\"\u001b[39;49;00m,\n",
      "    \u001b[34;01m\"_updatedAt\"\u001b[39;49;00m: \u001b[33m\"2019-06-07T11:55:29.238Z\"\u001b[39;49;00m,\n",
      "    \u001b[34;01m\"_updatedBy\"\u001b[39;49;00m: \u001b[33m\"https://sandbox.bluebrainnexus.io/v1/realms/github/users/mfsy\"\u001b[39;49;00m\n",
      "}\n",
      "\n"
     ]
    }
   ],
   "source": [
    "#Let create an entity describing a publication with a doi: https://doi.org/10.1186/1471-2105-13-s1-s4\n",
    "scholarly_article ={\n",
    "    \"@context\":\"https://bbp.neuroshapes.org\",\n",
    "    \"@type\":\"ScholarlyArticle\",\n",
    "    \"@id\":\"https://doi.org/10.1016/j.cell.2015.09.029\",\n",
    "    \"name\":\"Reconstruction and Simulation of Neocortical Microcircuitry\",\n",
    "    \"datePublished\":\"2015-10\"\n",
    "} \n",
    "\n",
    "response = utils.create_resource(nexus,scholarly_article,org,project)\n",
    "utils.pretty_print(response)"
   ]
  },
  {
   "cell_type": "markdown",
   "metadata": {},
   "source": [
    "###  Link the Person and the ScholarlyArticle entity with authorship"
   ]
  },
  {
   "cell_type": "code",
   "execution_count": 13,
   "metadata": {},
   "outputs": [
    {
     "name": "stdout",
     "output_type": "stream",
     "text": [
      "{\n",
      "    \u001b[34;01m\"@context\"\u001b[39;49;00m: \u001b[33m\"https://bluebrain.github.io/nexus/contexts/resource.json\"\u001b[39;49;00m,\n",
      "    \u001b[34;01m\"@id\"\u001b[39;49;00m: \u001b[33m\"https://doi.org/10.1016/j.cell.2015.09.029\"\u001b[39;49;00m,\n",
      "    \u001b[34;01m\"@type\"\u001b[39;49;00m: \u001b[33m\"https://sandbox.bluebrainnexus.io/v1/vocabs/demo/awesomeproject/ScholarlyArticle\"\u001b[39;49;00m,\n",
      "    \u001b[34;01m\"_self\"\u001b[39;49;00m: \u001b[33m\"https://sandbox.bluebrainnexus.io/v1/resources/demo/awesomeproject/_/https%3A%2F%2Fdoi.org%2F10.1016%2Fj.cell.2015.09.029\"\u001b[39;49;00m,\n",
      "    \u001b[34;01m\"_constrainedBy\"\u001b[39;49;00m: \u001b[33m\"https://bluebrain.github.io/nexus/schemas/unconstrained.json\"\u001b[39;49;00m,\n",
      "    \u001b[34;01m\"_project\"\u001b[39;49;00m: \u001b[33m\"https://sandbox.bluebrainnexus.io/v1/projects/demo/awesomeproject\"\u001b[39;49;00m,\n",
      "    \u001b[34;01m\"_rev\"\u001b[39;49;00m: \u001b[34m2\u001b[39;49;00m,\n",
      "    \u001b[34;01m\"_deprecated\"\u001b[39;49;00m: \u001b[34mfalse\u001b[39;49;00m,\n",
      "    \u001b[34;01m\"_createdAt\"\u001b[39;49;00m: \u001b[33m\"2019-06-07T11:55:29.238Z\"\u001b[39;49;00m,\n",
      "    \u001b[34;01m\"_createdBy\"\u001b[39;49;00m: \u001b[33m\"https://sandbox.bluebrainnexus.io/v1/realms/github/users/mfsy\"\u001b[39;49;00m,\n",
      "    \u001b[34;01m\"_updatedAt\"\u001b[39;49;00m: \u001b[33m\"2019-06-07T11:55:34.337Z\"\u001b[39;49;00m,\n",
      "    \u001b[34;01m\"_updatedBy\"\u001b[39;49;00m: \u001b[33m\"https://sandbox.bluebrainnexus.io/v1/realms/github/users/mfsy\"\u001b[39;49;00m\n",
      "}\n",
      "\n"
     ]
    }
   ],
   "source": [
    "# A reference to the Person identifier (value of @id) is enough to link with the article\n",
    "# Note the revision value change (should be \"_rev\": 2) after an update\n",
    "scholarly_article[\"author\"]=person[\"@id\"]\n",
    "response = utils.update_resource(nexus,scholarly_article[\"@id\"],scholarly_article,org,project)\n",
    "utils.pretty_print(response)"
   ]
  },
  {
   "cell_type": "markdown",
   "metadata": {},
   "source": [
    "###  Fetch the ScholarlyArticle by identifier to view the update "
   ]
  },
  {
   "cell_type": "code",
   "execution_count": 14,
   "metadata": {},
   "outputs": [
    {
     "name": "stdout",
     "output_type": "stream",
     "text": [
      "{\n",
      "    \u001b[34;01m\"@context\"\u001b[39;49;00m: [\n",
      "        \u001b[33m\"https://bbp.neuroshapes.org\"\u001b[39;49;00m,\n",
      "        \u001b[33m\"https://bluebrain.github.io/nexus/contexts/resource.json\"\u001b[39;49;00m\n",
      "    ],\n",
      "    \u001b[34;01m\"@id\"\u001b[39;49;00m: \u001b[33m\"https://doi.org/10.1016/j.cell.2015.09.029\"\u001b[39;49;00m,\n",
      "    \u001b[34;01m\"@type\"\u001b[39;49;00m: \u001b[33m\"ScholarlyArticle\"\u001b[39;49;00m,\n",
      "    \u001b[34;01m\"author\"\u001b[39;49;00m: \u001b[33m\"http://your/id/here\"\u001b[39;49;00m,\n",
      "    \u001b[34;01m\"datePublished\"\u001b[39;49;00m: \u001b[33m\"2015-10\"\u001b[39;49;00m,\n",
      "    \u001b[34;01m\"name\"\u001b[39;49;00m: \u001b[33m\"Reconstruction and Simulation of Neocortical Microcircuitry\"\u001b[39;49;00m,\n",
      "    \u001b[34;01m\"_self\"\u001b[39;49;00m: \u001b[33m\"https://sandbox.bluebrainnexus.io/v1/resources/demo/awesomeproject/_/https%3A%2F%2Fdoi.org%2F10.1016%2Fj.cell.2015.09.029\"\u001b[39;49;00m,\n",
      "    \u001b[34;01m\"_constrainedBy\"\u001b[39;49;00m: \u001b[33m\"https://bluebrain.github.io/nexus/schemas/unconstrained.json\"\u001b[39;49;00m,\n",
      "    \u001b[34;01m\"_project\"\u001b[39;49;00m: \u001b[33m\"https://sandbox.bluebrainnexus.io/v1/projects/demo/awesomeproject\"\u001b[39;49;00m,\n",
      "    \u001b[34;01m\"_rev\"\u001b[39;49;00m: \u001b[34m2\u001b[39;49;00m,\n",
      "    \u001b[34;01m\"_deprecated\"\u001b[39;49;00m: \u001b[34mfalse\u001b[39;49;00m,\n",
      "    \u001b[34;01m\"_createdAt\"\u001b[39;49;00m: \u001b[33m\"2019-06-07T11:55:29.238Z\"\u001b[39;49;00m,\n",
      "    \u001b[34;01m\"_createdBy\"\u001b[39;49;00m: \u001b[33m\"https://sandbox.bluebrainnexus.io/v1/realms/github/users/mfsy\"\u001b[39;49;00m,\n",
      "    \u001b[34;01m\"_updatedAt\"\u001b[39;49;00m: \u001b[33m\"2019-06-07T11:55:34.337Z\"\u001b[39;49;00m,\n",
      "    \u001b[34;01m\"_updatedBy\"\u001b[39;49;00m: \u001b[33m\"https://sandbox.bluebrainnexus.io/v1/realms/github/users/mfsy\"\u001b[39;49;00m\n",
      "}\n",
      "\n"
     ]
    }
   ],
   "source": [
    "response = utils.fetch_resource(nexus,scholarly_article[\"@id\"],org,project)\n",
    "utils.pretty_print(response)"
   ]
  },
  {
   "cell_type": "markdown",
   "metadata": {},
   "source": [
    "##  Step 4: Update the Person entity to add its affiliation"
   ]
  },
  {
   "cell_type": "markdown",
   "metadata": {},
   "source": [
    "Let update the person entity with an affiliation information. We will use EPFL as an affiliation and link to the person entity via \"affiliation\" propoerty.\n",
    "\n",
    "In this step, we'll:\n",
    "\n",
    "* Search for the EPFL organization entity and retrieve its identifier\n",
    "* Update the person entity affiliation to point to the EPFL entity"
   ]
  },
  {
   "cell_type": "markdown",
   "metadata": {},
   "source": [
    "### Search for the EPFL organization entity and retrieve its identifier and name\n",
    "\n",
    "The query below is a SPARQL query. Most SPARQL queries you'll see will have the anotomy above with:\n",
    "\n",
    "* a SELECT clause that let you select the variables you want to retrieve\n",
    "* a WHERE clause defining a set of constraints that the variables should satisfy to be retrieved\n",
    "* LIMIT and OFFSET clauses to enable pagination\n",
    "* the constraints are usually graph patterns in the form of triple (?s for subject, ?p for property and ?o for ?object)"
   ]
  },
  {
   "cell_type": "code",
   "execution_count": 15,
   "metadata": {},
   "outputs": [
    {
     "data": {
      "text/html": [
       "<div>\n",
       "<style scoped>\n",
       "    .dataframe tbody tr th:only-of-type {\n",
       "        vertical-align: middle;\n",
       "    }\n",
       "\n",
       "    .dataframe tbody tr th {\n",
       "        vertical-align: top;\n",
       "    }\n",
       "\n",
       "    .dataframe thead th {\n",
       "        text-align: right;\n",
       "    }\n",
       "</style>\n",
       "<table border=\"1\" class=\"dataframe\">\n",
       "  <thead>\n",
       "    <tr style=\"text-align: right;\">\n",
       "      <th></th>\n",
       "      <th>institute</th>\n",
       "      <th>name</th>\n",
       "      <th>grid_id</th>\n",
       "    </tr>\n",
       "  </thead>\n",
       "  <tbody>\n",
       "    <tr>\n",
       "      <th>0</th>\n",
       "      <td>http://www.grid.ac/institutes/grid.5333.6</td>\n",
       "      <td>École Polytechnique Fédérale de Lausanne</td>\n",
       "      <td>grid.5333.6</td>\n",
       "    </tr>\n",
       "  </tbody>\n",
       "</table>\n",
       "</div>"
      ],
      "text/plain": [
       "                                   institute  \\\n",
       "0  http://www.grid.ac/institutes/grid.5333.6   \n",
       "\n",
       "                                       name      grid_id  \n",
       "0  École Polytechnique Fédérale de Lausanne  grid.5333.6  "
      ]
     },
     "metadata": {},
     "output_type": "display_data"
    }
   ],
   "source": [
    "acronym = \"\\\"EPFL\\\"\"\n",
    "\n",
    "\n",
    "epfl_query = \"\"\"\n",
    "Select  ?institute  ?name ?grid_id\n",
    "WHERE {\n",
    "    ?institute vocab:acronym %s.\n",
    "    ?institute a vocab:Organization.\n",
    "    ?institute vocab:grid_id ?grid_id . \n",
    "    ?institute vocab:name ?name . \n",
    "}\n",
    "LIMIT 100\n",
    "\"\"\" % (acronym)\n",
    "\n",
    "orgs_df = sparqlviewhelper.query_sparql(epfl_query,result_format = \"DATAFRAME\")\n",
    "display(orgs_df.head(100))"
   ]
  },
  {
   "cell_type": "markdown",
   "metadata": {},
   "source": [
    "### Update the person entity affiliation to point to the EPFL entity"
   ]
  },
  {
   "cell_type": "code",
   "execution_count": 16,
   "metadata": {},
   "outputs": [
    {
     "name": "stdout",
     "output_type": "stream",
     "text": [
      "{\n",
      "    \u001b[34;01m\"@context\"\u001b[39;49;00m: \u001b[33m\"https://bluebrain.github.io/nexus/contexts/resource.json\"\u001b[39;49;00m,\n",
      "    \u001b[34;01m\"@id\"\u001b[39;49;00m: \u001b[33m\"http://your/id/here\"\u001b[39;49;00m,\n",
      "    \u001b[34;01m\"@type\"\u001b[39;49;00m: \u001b[33m\"http://schema.org/Person\"\u001b[39;49;00m,\n",
      "    \u001b[34;01m\"_self\"\u001b[39;49;00m: \u001b[33m\"https://sandbox.bluebrainnexus.io/v1/resources/demo/awesomeproject/_/http%3A%2F%2Fyour%2Fid%2Fhere\"\u001b[39;49;00m,\n",
      "    \u001b[34;01m\"_constrainedBy\"\u001b[39;49;00m: \u001b[33m\"https://bluebrain.github.io/nexus/schemas/unconstrained.json\"\u001b[39;49;00m,\n",
      "    \u001b[34;01m\"_project\"\u001b[39;49;00m: \u001b[33m\"https://sandbox.bluebrainnexus.io/v1/projects/demo/awesomeproject\"\u001b[39;49;00m,\n",
      "    \u001b[34;01m\"_rev\"\u001b[39;49;00m: \u001b[34m2\u001b[39;49;00m,\n",
      "    \u001b[34;01m\"_deprecated\"\u001b[39;49;00m: \u001b[34mfalse\u001b[39;49;00m,\n",
      "    \u001b[34;01m\"_createdAt\"\u001b[39;49;00m: \u001b[33m\"2019-06-07T11:54:33.112Z\"\u001b[39;49;00m,\n",
      "    \u001b[34;01m\"_createdBy\"\u001b[39;49;00m: \u001b[33m\"https://sandbox.bluebrainnexus.io/v1/realms/github/users/mfsy\"\u001b[39;49;00m,\n",
      "    \u001b[34;01m\"_updatedAt\"\u001b[39;49;00m: \u001b[33m\"2019-06-07T11:55:45.265Z\"\u001b[39;49;00m,\n",
      "    \u001b[34;01m\"_updatedBy\"\u001b[39;49;00m: \u001b[33m\"https://sandbox.bluebrainnexus.io/v1/realms/github/users/mfsy\"\u001b[39;49;00m\n",
      "}\n",
      "\n"
     ]
    }
   ],
   "source": [
    "# Note the revision value change after an update\n",
    "person[\"affiliation\"]=orgs_df[\"institute\"]\n",
    "\n",
    "for index, row in orgs_df.iterrows():\n",
    "    person[\"affiliation\"]=row[\"institute\"]\n",
    "\n",
    "\n",
    "response = utils.update_resource(nexus,person[\"@id\"],person,org,project)\n",
    "utils.pretty_print(response)"
   ]
  },
  {
   "cell_type": "markdown",
   "metadata": {},
   "source": [
    "## Setp 5 Explore and navigate the created knowledge graph using the SPARQL query language"
   ]
  },
  {
   "cell_type": "markdown",
   "metadata": {},
   "source": [
    "Let write our first query."
   ]
  },
  {
   "cell_type": "code",
   "execution_count": 17,
   "metadata": {},
   "outputs": [
    {
     "data": {
      "text/html": [
       "<div>\n",
       "<style scoped>\n",
       "    .dataframe tbody tr th:only-of-type {\n",
       "        vertical-align: middle;\n",
       "    }\n",
       "\n",
       "    .dataframe tbody tr th {\n",
       "        vertical-align: top;\n",
       "    }\n",
       "\n",
       "    .dataframe thead th {\n",
       "        text-align: right;\n",
       "    }\n",
       "</style>\n",
       "<table border=\"1\" class=\"dataframe\">\n",
       "  <thead>\n",
       "    <tr style=\"text-align: right;\">\n",
       "      <th></th>\n",
       "      <th>s</th>\n",
       "      <th>p</th>\n",
       "      <th>o</th>\n",
       "    </tr>\n",
       "  </thead>\n",
       "  <tbody>\n",
       "    <tr>\n",
       "      <th>0</th>\n",
       "      <td>https://bluebrain.github.io/nexus/vocabulary/defaultElasticSearchIndex</td>\n",
       "      <td>https://bluebrain.github.io/nexus/vocabulary/constrainedBy</td>\n",
       "      <td>https://bluebrain.github.io/nexus/schemas/view.json</td>\n",
       "    </tr>\n",
       "    <tr>\n",
       "      <th>1</th>\n",
       "      <td>https://bluebrain.github.io/nexus/vocabulary/defaultElasticSearchIndex</td>\n",
       "      <td>https://bluebrain.github.io/nexus/vocabulary/createdAt</td>\n",
       "      <td>2019-06-05T08:50:05.838Z</td>\n",
       "    </tr>\n",
       "    <tr>\n",
       "      <th>2</th>\n",
       "      <td>https://bluebrain.github.io/nexus/vocabulary/defaultElasticSearchIndex</td>\n",
       "      <td>https://bluebrain.github.io/nexus/vocabulary/createdBy</td>\n",
       "      <td>https://sandbox.bluebrainnexus.io/v1/realms/github/users/annakristinkaufmann</td>\n",
       "    </tr>\n",
       "    <tr>\n",
       "      <th>3</th>\n",
       "      <td>https://bluebrain.github.io/nexus/vocabulary/defaultElasticSearchIndex</td>\n",
       "      <td>https://bluebrain.github.io/nexus/vocabulary/deprecated</td>\n",
       "      <td>false</td>\n",
       "    </tr>\n",
       "    <tr>\n",
       "      <th>4</th>\n",
       "      <td>https://bluebrain.github.io/nexus/vocabulary/defaultElasticSearchIndex</td>\n",
       "      <td>https://bluebrain.github.io/nexus/vocabulary/includeMetadata</td>\n",
       "      <td>true</td>\n",
       "    </tr>\n",
       "  </tbody>\n",
       "</table>\n",
       "</div>"
      ],
      "text/plain": [
       "                                                                        s  \\\n",
       "0  https://bluebrain.github.io/nexus/vocabulary/defaultElasticSearchIndex   \n",
       "1  https://bluebrain.github.io/nexus/vocabulary/defaultElasticSearchIndex   \n",
       "2  https://bluebrain.github.io/nexus/vocabulary/defaultElasticSearchIndex   \n",
       "3  https://bluebrain.github.io/nexus/vocabulary/defaultElasticSearchIndex   \n",
       "4  https://bluebrain.github.io/nexus/vocabulary/defaultElasticSearchIndex   \n",
       "\n",
       "                                                              p  \\\n",
       "0  https://bluebrain.github.io/nexus/vocabulary/constrainedBy     \n",
       "1  https://bluebrain.github.io/nexus/vocabulary/createdAt         \n",
       "2  https://bluebrain.github.io/nexus/vocabulary/createdBy         \n",
       "3  https://bluebrain.github.io/nexus/vocabulary/deprecated        \n",
       "4  https://bluebrain.github.io/nexus/vocabulary/includeMetadata   \n",
       "\n",
       "                                                                              o  \n",
       "0  https://bluebrain.github.io/nexus/schemas/view.json                           \n",
       "1  2019-06-05T08:50:05.838Z                                                      \n",
       "2  https://sandbox.bluebrainnexus.io/v1/realms/github/users/annakristinkaufmann  \n",
       "3  false                                                                         \n",
       "4  true                                                                          "
      ]
     },
     "execution_count": 17,
     "metadata": {},
     "output_type": "execute_result"
    }
   ],
   "source": [
    "select_all_query = \"\"\"\n",
    "SELECT ?s ?p ?o\n",
    "WHERE\n",
    "{\n",
    "  ?s ?p ?o\n",
    "}\n",
    "OFFSET 0\n",
    "LIMIT 5\n",
    "\"\"\"\n",
    "\n",
    "results_df = sparqlviewhelper.query_sparql(select_all_query,result_format = \"DATAFRAME\")\n",
    "\n",
    "results_df.head()"
   ]
  },
  {
   "cell_type": "markdown",
   "metadata": {},
   "source": [
    "Most SPARQL queries you'll see will have the anotomy above with:\n",
    "* a **SELECT** clause that let you select the variables you want to retrieve\n",
    "* a **WHERE** clause defining a set of constraints that the variables should satisfy to be retrieved\n",
    "* **LIMIT** and **OFFSET** clauses to enable pagination\n",
    "* the constraints are usually graph patterns in the form of **triple** (?s for subject, ?p for property and ?o for ?object)"
   ]
  },
  {
   "cell_type": "markdown",
   "metadata": {},
   "source": [
    "Multiple triples can be provided as graph pattern to match but each triple should end with a period. As an example, let retrieve EPFL (?institute) along with its name (?name) and identifier (?grid_id)."
   ]
  },
  {
   "cell_type": "code",
   "execution_count": 18,
   "metadata": {},
   "outputs": [
    {
     "data": {
      "text/html": [
       "<div>\n",
       "<style scoped>\n",
       "    .dataframe tbody tr th:only-of-type {\n",
       "        vertical-align: middle;\n",
       "    }\n",
       "\n",
       "    .dataframe tbody tr th {\n",
       "        vertical-align: top;\n",
       "    }\n",
       "\n",
       "    .dataframe thead th {\n",
       "        text-align: right;\n",
       "    }\n",
       "</style>\n",
       "<table border=\"1\" class=\"dataframe\">\n",
       "  <thead>\n",
       "    <tr style=\"text-align: right;\">\n",
       "      <th></th>\n",
       "      <th>institute</th>\n",
       "      <th>name</th>\n",
       "      <th>grid_id</th>\n",
       "    </tr>\n",
       "  </thead>\n",
       "  <tbody>\n",
       "    <tr>\n",
       "      <th>0</th>\n",
       "      <td>http://www.grid.ac/institutes/grid.5333.6</td>\n",
       "      <td>École Polytechnique Fédérale de Lausanne</td>\n",
       "      <td>grid.5333.6</td>\n",
       "    </tr>\n",
       "  </tbody>\n",
       "</table>\n",
       "</div>"
      ],
      "text/plain": [
       "                                   institute  \\\n",
       "0  http://www.grid.ac/institutes/grid.5333.6   \n",
       "\n",
       "                                       name      grid_id  \n",
       "0  École Polytechnique Fédérale de Lausanne  grid.5333.6  "
      ]
     },
     "execution_count": 18,
     "metadata": {},
     "output_type": "execute_result"
    }
   ],
   "source": [
    "epfl_with_name = \"\"\"\n",
    "\n",
    "Select  ?institute ?name ?grid_id\n",
    "WHERE {\n",
    "    ?institute vocab:acronym \"EPFL\".\n",
    "    ?institute a vocab:Organization.\n",
    "    ?institute vocab:grid_id ?grid_id . \n",
    "    ?institute vocab:name ?name . \n",
    "}\n",
    "LIMIT 100\n",
    "\"\"\"\n",
    "\n",
    "results_df = sparqlviewhelper.query_sparql(epfl_with_name,result_format = \"DATAFRAME\")\n",
    "results_df.head()\n"
   ]
  },
  {
   "cell_type": "markdown",
   "metadata": {},
   "source": [
    "This is a typical instance query where entities are filtered by their type(s) and then some of their properties are retrieved (here ?name). \n",
    "\n",
    "Let retrieve everything that is linked (outgoing) to the organizations. \n",
    "The * character in the SELECT clause indicates to retreve all variables: ?institute, ?p, ?o"
   ]
  },
  {
   "cell_type": "code",
   "execution_count": 19,
   "metadata": {},
   "outputs": [
    {
     "data": {
      "text/html": [
       "<div>\n",
       "<style scoped>\n",
       "    .dataframe tbody tr th:only-of-type {\n",
       "        vertical-align: middle;\n",
       "    }\n",
       "\n",
       "    .dataframe tbody tr th {\n",
       "        vertical-align: top;\n",
       "    }\n",
       "\n",
       "    .dataframe thead th {\n",
       "        text-align: right;\n",
       "    }\n",
       "</style>\n",
       "<table border=\"1\" class=\"dataframe\">\n",
       "  <thead>\n",
       "    <tr style=\"text-align: right;\">\n",
       "      <th></th>\n",
       "      <th>institute</th>\n",
       "      <th>p</th>\n",
       "      <th>o</th>\n",
       "    </tr>\n",
       "  </thead>\n",
       "  <tbody>\n",
       "    <tr>\n",
       "      <th>0</th>\n",
       "      <td>http://www.grid.ac/institutes/grid.1006.7</td>\n",
       "      <td>https://bluebrain.github.io/nexus/vocabulary/constrainedBy</td>\n",
       "      <td>https://bluebrain.github.io/nexus/schemas/unconstrained.json</td>\n",
       "    </tr>\n",
       "    <tr>\n",
       "      <th>1</th>\n",
       "      <td>http://www.grid.ac/institutes/grid.1006.7</td>\n",
       "      <td>https://bluebrain.github.io/nexus/vocabulary/createdAt</td>\n",
       "      <td>2019-06-05T08:55:35.170Z</td>\n",
       "    </tr>\n",
       "    <tr>\n",
       "      <th>2</th>\n",
       "      <td>http://www.grid.ac/institutes/grid.1006.7</td>\n",
       "      <td>https://bluebrain.github.io/nexus/vocabulary/createdBy</td>\n",
       "      <td>https://sandbox.bluebrainnexus.io/v1/realms/github/users/annakristinkaufmann</td>\n",
       "    </tr>\n",
       "    <tr>\n",
       "      <th>3</th>\n",
       "      <td>http://www.grid.ac/institutes/grid.1006.7</td>\n",
       "      <td>https://bluebrain.github.io/nexus/vocabulary/deprecated</td>\n",
       "      <td>false</td>\n",
       "    </tr>\n",
       "    <tr>\n",
       "      <th>4</th>\n",
       "      <td>http://www.grid.ac/institutes/grid.1006.7</td>\n",
       "      <td>https://bluebrain.github.io/nexus/vocabulary/project</td>\n",
       "      <td>https://sandbox.bluebrainnexus.io/v1/projects/demo/awesomeproject</td>\n",
       "    </tr>\n",
       "  </tbody>\n",
       "</table>\n",
       "</div>"
      ],
      "text/plain": [
       "                                   institute  \\\n",
       "0  http://www.grid.ac/institutes/grid.1006.7   \n",
       "1  http://www.grid.ac/institutes/grid.1006.7   \n",
       "2  http://www.grid.ac/institutes/grid.1006.7   \n",
       "3  http://www.grid.ac/institutes/grid.1006.7   \n",
       "4  http://www.grid.ac/institutes/grid.1006.7   \n",
       "\n",
       "                                                            p  \\\n",
       "0  https://bluebrain.github.io/nexus/vocabulary/constrainedBy   \n",
       "1  https://bluebrain.github.io/nexus/vocabulary/createdAt       \n",
       "2  https://bluebrain.github.io/nexus/vocabulary/createdBy       \n",
       "3  https://bluebrain.github.io/nexus/vocabulary/deprecated      \n",
       "4  https://bluebrain.github.io/nexus/vocabulary/project         \n",
       "\n",
       "                                                                              o  \n",
       "0  https://bluebrain.github.io/nexus/schemas/unconstrained.json                  \n",
       "1  2019-06-05T08:55:35.170Z                                                      \n",
       "2  https://sandbox.bluebrainnexus.io/v1/realms/github/users/annakristinkaufmann  \n",
       "3  false                                                                         \n",
       "4  https://sandbox.bluebrainnexus.io/v1/projects/demo/awesomeproject             "
      ]
     },
     "execution_count": 19,
     "metadata": {},
     "output_type": "execute_result"
    }
   ],
   "source": [
    "org_with_properties = \"\"\"\n",
    "Select *\n",
    " WHERE  {\n",
    "    ?institute a vocab:Organization.\n",
    "    ?institute ?p ?o.\n",
    "} LIMIT 20\n",
    "\"\"\"\n",
    "\n",
    "results_df = sparqlviewhelper.query_sparql(org_with_properties,result_format = \"DATAFRAME\")\n",
    "results_df.head()\n"
   ]
  },
  {
   "cell_type": "markdown",
   "metadata": {},
   "source": [
    "As a little exercise, write a query retrieving incoming entities to organizations. You can copy past the query above and modify it.\n",
    "\n",
    "Hints: ?s ?p ?o can be read as: ?o is linked to ?s with an outgoing link.\n",
    "\n",
    "Do you have results ?"
   ]
  },
  {
   "cell_type": "code",
   "execution_count": null,
   "metadata": {},
   "outputs": [],
   "source": [
    "#Your query here\n"
   ]
  }
 ],
 "metadata": {
  "kernelspec": {
   "display_name": "Python 3",
   "language": "python",
   "name": "python3"
  },
  "language_info": {
   "codemirror_mode": {
    "name": "ipython",
    "version": 3
   },
   "file_extension": ".py",
   "mimetype": "text/x-python",
   "name": "python",
   "nbconvert_exporter": "python",
   "pygments_lexer": "ipython3",
   "version": "3.6.5"
  }
 },
 "nbformat": 4,
 "nbformat_minor": 2
}
