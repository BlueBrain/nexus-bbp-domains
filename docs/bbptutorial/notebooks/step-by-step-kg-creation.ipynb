{
 "cells": [
  {
   "cell_type": "markdown",
   "metadata": {},
   "source": [
    "## Step by step buidling of a knowledge graph\n",
    "\n",
    "The goal of this notebook is to build an example of knowledge graph using a step by step approach.\n"
   ]
  },
  {
   "cell_type": "markdown",
   "metadata": {},
   "source": [
    "## Prerequisites\n",
    "\n",
    "This notebook assumes you've created a project within the sandbox deployment of Nexus. If not follow the Blue Brain Nexus [Quick Start tutorial](https://bluebrain.github.io/nexus/docs/tutorial/getting-started/quick-start/index.html)."
   ]
  },
  {
   "cell_type": "markdown",
   "metadata": {},
   "source": [
    "## Overview\n",
    "Explain the Research domain (with figure). Uses schema.org and json-ld to describe entities\n",
    "\n",
    "You'll work through the following steps:\n",
    "\n",
    "1. Create and configure a Blue Brain Nexus client\n",
    "2. Create a Person entity\n",
    "3. Create an Organization entity and link it to the Person entity as affiliation\n",
    "4. Create an article entity and link it to the Person entity as author\n",
    "5. Explore and navigate the created knowledge graph"
   ]
  },
  {
   "cell_type": "markdown",
   "metadata": {},
   "source": [
    "## Step 1: Create and configure a Nexus client"
   ]
  },
  {
   "cell_type": "code",
   "execution_count": 78,
   "metadata": {},
   "outputs": [
    {
     "name": "stdout",
     "output_type": "stream",
     "text": [
      "Requirement already up-to-date: nexus-sdk in /Users/mfsy/anaconda3/envs/bbpworkshop/lib/python3.5/site-packages (0.2.1)\n",
      "Requirement not upgraded as not directly required: requests in /Users/mfsy/anaconda3/envs/bbpworkshop/lib/python3.5/site-packages (from nexus-sdk) (2.22.0)\n",
      "Requirement not upgraded as not directly required: certifi>=2017.4.17 in /Users/mfsy/anaconda3/envs/bbpworkshop/lib/python3.5/site-packages (from requests->nexus-sdk) (2018.8.24)\n",
      "Requirement not upgraded as not directly required: urllib3!=1.25.0,!=1.25.1,<1.26,>=1.21.1 in /Users/mfsy/anaconda3/envs/bbpworkshop/lib/python3.5/site-packages (from requests->nexus-sdk) (1.25.3)\n",
      "Requirement not upgraded as not directly required: idna<2.9,>=2.5 in /Users/mfsy/anaconda3/envs/bbpworkshop/lib/python3.5/site-packages (from requests->nexus-sdk) (2.8)\n",
      "Requirement not upgraded as not directly required: chardet<3.1.0,>=3.0.2 in /Users/mfsy/anaconda3/envs/bbpworkshop/lib/python3.5/site-packages (from requests->nexus-sdk) (3.0.4)\n",
      "\u001b[33mYou are using pip version 10.0.1, however version 19.1.1 is available.\n",
      "You should consider upgrading via the 'pip install --upgrade pip' command.\u001b[0m\n"
     ]
    }
   ],
   "source": [
    "#install the Blue Brain Nexus python SDK\n",
    "!pip install -U nexus-sdk"
   ]
  },
  {
   "cell_type": "code",
   "execution_count": 79,
   "metadata": {},
   "outputs": [
    {
     "name": "stdout",
     "output_type": "stream",
     "text": [
      "········\n"
     ]
    }
   ],
   "source": [
    "#Set a token to authenticate to Nexus\n",
    "import getpass\n",
    "token = getpass.getpass()\n"
   ]
  },
  {
   "cell_type": "code",
   "execution_count": 80,
   "metadata": {},
   "outputs": [],
   "source": [
    "#Configure a nexus client\n",
    "nexus_environment = \"https://sandbox.bluebrainnexus.io/v1\"\n",
    "org =\"demo\"\n",
    "project =\"testdemo\"\n",
    "\n",
    "import nexussdk as nexus\n",
    "nexus.config.set_environment(nexus_environment)\n",
    "nexus.config.set_token(token)\n",
    "\n"
   ]
  },
  {
   "cell_type": "code",
   "execution_count": 81,
   "metadata": {},
   "outputs": [],
   "source": [
    "from pygments.lexers import JsonLdLexer\n",
    "from pygments import highlight\n",
    "from pygments.formatters import TerminalFormatter, TerminalTrueColorFormatter\n",
    "import json"
   ]
  },
  {
   "cell_type": "code",
   "execution_count": 19,
   "metadata": {},
   "outputs": [
    {
     "name": "stdout",
     "output_type": "stream",
     "text": [
      "Collecting git+https://github.com/usc-isi-i2/ontology-visualization.git\n",
      "  Cloning https://github.com/usc-isi-i2/ontology-visualization.git to /private/var/folders/f0/hkfhswz16gj0bsvl1hmtbw6h0000gn/T/pip-req-build-szvpuec4\n",
      "    Complete output from command python setup.py egg_info:\n",
      "    Traceback (most recent call last):\n",
      "      File \"<string>\", line 1, in <module>\n",
      "      File \"/Users/mfsy/anaconda3/lib/python3.6/tokenize.py\", line 452, in open\n",
      "        buffer = _builtin_open(filename, 'rb')\n",
      "    FileNotFoundError: [Errno 2] No such file or directory: '/private/var/folders/f0/hkfhswz16gj0bsvl1hmtbw6h0000gn/T/pip-req-build-szvpuec4/setup.py'\n",
      "    \n",
      "    ----------------------------------------\n",
      "\u001b[31mCommand \"python setup.py egg_info\" failed with error code 1 in /private/var/folders/f0/hkfhswz16gj0bsvl1hmtbw6h0000gn/T/pip-req-build-szvpuec4/\u001b[0m\n",
      "\u001b[33mYou are using pip version 10.0.1, however version 19.1.1 is available.\n",
      "You should consider upgrading via the 'pip install --upgrade pip' command.\u001b[0m\n"
     ]
    }
   ],
   "source": [
    "#install ontoviz\n",
    "!pip install git+https://github.com/usc-isi-i2/ontology-visualization.git"
   ]
  },
  {
   "cell_type": "code",
   "execution_count": 85,
   "metadata": {},
   "outputs": [
    {
     "name": "stdout",
     "output_type": "stream",
     "text": [
      "The autoreload extension is already loaded. To reload it, use:\n",
      "  %reload_ext autoreload\n"
     ]
    }
   ],
   "source": [
    "from sparqlendpointhelper import SparqlViewHelper\n",
    "\n",
    "%load_ext autoreload\n",
    "%autoreload 1\n",
    "%aimport sparqlendpointhelper\n",
    "%aimport utils\n",
    "\n",
    "sparqlview_endpoint = nexus_environment+\"/views/\"+org+\"/\"+project+\"/graph/sparql\"\n",
    "sparqlviewhelper = SparqlViewHelper(sparqlview_endpoint,nexus_environment, org, project, token)"
   ]
  },
  {
   "cell_type": "code",
   "execution_count": 86,
   "metadata": {},
   "outputs": [],
   "source": [
    "%reload_ext autoreload"
   ]
  },
  {
   "cell_type": "markdown",
   "metadata": {},
   "source": [
    "## Step 2: Create a Person entity"
   ]
  },
  {
   "cell_type": "markdown",
   "metadata": {},
   "source": [
    "Let define an entity of type Person as follows:\n",
    "\n",
    "* A person is an entity of type Person (@type value)\n",
    "* A person has an identifier (@id value)\n",
    "* A person has a family name (familyName value), a given name (givenName value) and a job title (jobTitle value)\n",
    "* A person has a job\n"
   ]
  },
  {
   "cell_type": "code",
   "execution_count": 87,
   "metadata": {},
   "outputs": [
    {
     "ename": "TypeError",
     "evalue": "create_resource() takes 1 positional argument but 2 were given",
     "output_type": "error",
     "traceback": [
      "\u001b[0;31m---------------------------------------------------------------------------\u001b[0m",
      "\u001b[0;31mTypeError\u001b[0m                                 Traceback (most recent call last)",
      "\u001b[0;32m<ipython-input-87-7b2734dd01b9>\u001b[0m in \u001b[0;36m<module>\u001b[0;34m()\u001b[0m\n\u001b[1;32m      9\u001b[0m } \n\u001b[1;32m     10\u001b[0m \u001b[0;34m\u001b[0m\u001b[0m\n\u001b[0;32m---> 11\u001b[0;31m \u001b[0mresponse\u001b[0m \u001b[0;34m=\u001b[0m \u001b[0mcreate_resource\u001b[0m\u001b[0;34m(\u001b[0m\u001b[0mnexus\u001b[0m\u001b[0;34m,\u001b[0m\u001b[0mperson\u001b[0m\u001b[0;34m)\u001b[0m\u001b[0;34m\u001b[0m\u001b[0m\n\u001b[0m\u001b[1;32m     12\u001b[0m \u001b[0mpretty_print\u001b[0m\u001b[0;34m(\u001b[0m\u001b[0mresponse\u001b[0m\u001b[0;34m)\u001b[0m\u001b[0;34m\u001b[0m\u001b[0m\n",
      "\u001b[0;31mTypeError\u001b[0m: create_resource() takes 1 positional argument but 2 were given"
     ]
    }
   ],
   "source": [
    "# Use an orcid identifier if you have one, or your github id\n",
    "person ={\n",
    "    \"@context\":\"https://bbp.neuroshapes.org\",\n",
    "    \"@id\":\"https://orcid.org/0000-0002-4603-9838\",\n",
    "    \"@type\":\"Person\",\n",
    "    \"familyName\":\"your familly name here\",\n",
    "    \"givenName\":\"your given name here\",\n",
    "    \"jobTitle\":\"Engineer\"\n",
    "} \n",
    "\n",
    "response = create_resource(nexus,person)\n",
    "pretty_print(response)\n"
   ]
  },
  {
   "cell_type": "markdown",
   "metadata": {},
   "source": [
    "## Step 3: Create an article entity and link it to the Person entity as author"
   ]
  },
  {
   "cell_type": "markdown",
   "metadata": {},
   "source": [
    "The knowledge Graph now contains a single entity of type Person. Let add to the knowledge graph one scholarly article (publication) authored by the person entity:\n",
    "\n",
    "* A scholarly article is  an entity of type ScholarlyArticle (@type value)\n",
    "* A scholarly article has an identifier (@id value)\n",
    "* A scholarly article has a name (name value)\n",
    "* A scholarly article has a publishing date (datePublished value)\n"
   ]
  },
  {
   "cell_type": "markdown",
   "metadata": {},
   "source": [
    "###  Create a ScholarlyArticle entity"
   ]
  },
  {
   "cell_type": "code",
   "execution_count": 71,
   "metadata": {},
   "outputs": [
    {
     "ename": "TypeError",
     "evalue": "create_resource() takes 1 positional argument but 2 were given",
     "output_type": "error",
     "traceback": [
      "\u001b[0;31m---------------------------------------------------------------------------\u001b[0m",
      "\u001b[0;31mTypeError\u001b[0m                                 Traceback (most recent call last)",
      "\u001b[0;32m<ipython-input-71-363202bcff54>\u001b[0m in \u001b[0;36m<module>\u001b[0;34m()\u001b[0m\n\u001b[1;32m      8\u001b[0m } \n\u001b[1;32m      9\u001b[0m \u001b[0;34m\u001b[0m\u001b[0m\n\u001b[0;32m---> 10\u001b[0;31m \u001b[0mresponse\u001b[0m \u001b[0;34m=\u001b[0m \u001b[0mcreate_resource\u001b[0m\u001b[0;34m(\u001b[0m\u001b[0mnexus\u001b[0m\u001b[0;34m,\u001b[0m\u001b[0mscholarly_article\u001b[0m\u001b[0;34m)\u001b[0m\u001b[0;34m\u001b[0m\u001b[0m\n\u001b[0m\u001b[1;32m     11\u001b[0m \u001b[0mpretty_print\u001b[0m\u001b[0;34m(\u001b[0m\u001b[0mresponse\u001b[0m\u001b[0;34m)\u001b[0m\u001b[0;34m\u001b[0m\u001b[0m\n",
      "\u001b[0;31mTypeError\u001b[0m: create_resource() takes 1 positional argument but 2 were given"
     ]
    }
   ],
   "source": [
    "#Let create an entity describing a publication with a doi: https://doi.org/10.1186/1471-2105-13-s1-s4\n",
    "scholarly_article ={\n",
    "    \"@context\":\"https://bbp.neuroshapes.org\",\n",
    "    \"@type\":\"ScholarlyArticle\",\n",
    "    \"@id\":\"https://doi.org/10.1186/1471-2105-13-s1-s4\",\n",
    "    \"name\":\"User centered and ontology based information retrieval system for life sciences\",\n",
    "    \"datePublished\":\"2012-12\"\n",
    "} \n",
    "\n",
    "response = create_resource(nexus,scholarly_article)\n",
    "pretty_print(response)"
   ]
  },
  {
   "cell_type": "markdown",
   "metadata": {},
   "source": [
    "###  Link the Person and the ScholarlyArticle entity with authorship"
   ]
  },
  {
   "cell_type": "code",
   "execution_count": 70,
   "metadata": {},
   "outputs": [
    {
     "ename": "NameError",
     "evalue": "name 'person' is not defined",
     "output_type": "error",
     "traceback": [
      "\u001b[0;31m---------------------------------------------------------------------------\u001b[0m",
      "\u001b[0;31mNameError\u001b[0m                                 Traceback (most recent call last)",
      "\u001b[0;32m<ipython-input-70-66125af1956e>\u001b[0m in \u001b[0;36m<module>\u001b[0;34m()\u001b[0m\n\u001b[1;32m      1\u001b[0m \u001b[0;31m# A reference to the Person identifier (value of @id) is enough to link with the article\u001b[0m\u001b[0;34m\u001b[0m\u001b[0;34m\u001b[0m\u001b[0m\n\u001b[1;32m      2\u001b[0m \u001b[0;31m# Note the revision value change (should be \"_rev\": 2) after an update\u001b[0m\u001b[0;34m\u001b[0m\u001b[0;34m\u001b[0m\u001b[0m\n\u001b[0;32m----> 3\u001b[0;31m \u001b[0mscholarly_article\u001b[0m\u001b[0;34m[\u001b[0m\u001b[0;34m\"author\"\u001b[0m\u001b[0;34m]\u001b[0m\u001b[0;34m=\u001b[0m\u001b[0mperson\u001b[0m\u001b[0;34m[\u001b[0m\u001b[0;34m\"@id\"\u001b[0m\u001b[0;34m]\u001b[0m\u001b[0;34m\u001b[0m\u001b[0m\n\u001b[0m\u001b[1;32m      4\u001b[0m \u001b[0mresponse\u001b[0m \u001b[0;34m=\u001b[0m \u001b[0mupdate_resource\u001b[0m\u001b[0;34m(\u001b[0m\u001b[0mnexus\u001b[0m\u001b[0;34m,\u001b[0m\u001b[0mscholarly_article\u001b[0m\u001b[0;34m[\u001b[0m\u001b[0;34m\"@id\"\u001b[0m\u001b[0;34m]\u001b[0m\u001b[0;34m,\u001b[0m\u001b[0mscholarly_article\u001b[0m\u001b[0;34m)\u001b[0m\u001b[0;34m\u001b[0m\u001b[0m\n\u001b[1;32m      5\u001b[0m \u001b[0mpretty_print\u001b[0m\u001b[0;34m(\u001b[0m\u001b[0mresponse\u001b[0m\u001b[0;34m)\u001b[0m\u001b[0;34m\u001b[0m\u001b[0m\n",
      "\u001b[0;31mNameError\u001b[0m: name 'person' is not defined"
     ]
    }
   ],
   "source": [
    "# A reference to the Person identifier (value of @id) is enough to link with the article\n",
    "# Note the revision value change (should be \"_rev\": 2) after an update\n",
    "scholarly_article[\"author\"]=person[\"@id\"]\n",
    "response = update_resource(nexus,scholarly_article[\"@id\"],scholarly_article)\n",
    "pretty_print(response)"
   ]
  },
  {
   "cell_type": "markdown",
   "metadata": {},
   "source": [
    "###  Fetch the ScholarlyArticle by identifier to view the update "
   ]
  },
  {
   "cell_type": "code",
   "execution_count": 69,
   "metadata": {},
   "outputs": [
    {
     "ename": "NameError",
     "evalue": "name 'scholarly_article' is not defined",
     "output_type": "error",
     "traceback": [
      "\u001b[0;31m---------------------------------------------------------------------------\u001b[0m",
      "\u001b[0;31mNameError\u001b[0m                                 Traceback (most recent call last)",
      "\u001b[0;32m<ipython-input-69-8ca0496fdbcc>\u001b[0m in \u001b[0;36m<module>\u001b[0;34m()\u001b[0m\n\u001b[0;32m----> 1\u001b[0;31m \u001b[0mresponse\u001b[0m \u001b[0;34m=\u001b[0m \u001b[0mfetch_resource\u001b[0m\u001b[0;34m(\u001b[0m\u001b[0mnexus\u001b[0m\u001b[0;34m,\u001b[0m\u001b[0mscholarly_article\u001b[0m\u001b[0;34m[\u001b[0m\u001b[0;34m\"@id\"\u001b[0m\u001b[0;34m]\u001b[0m\u001b[0;34m)\u001b[0m\u001b[0;34m\u001b[0m\u001b[0m\n\u001b[0m\u001b[1;32m      2\u001b[0m \u001b[0mpretty_print\u001b[0m\u001b[0;34m(\u001b[0m\u001b[0mresponse\u001b[0m\u001b[0;34m)\u001b[0m\u001b[0;34m\u001b[0m\u001b[0m\n",
      "\u001b[0;31mNameError\u001b[0m: name 'scholarly_article' is not defined"
     ]
    }
   ],
   "source": [
    "response = fetch_resource(nexus,scholarly_article[\"@id\"])\n",
    "pretty_print(response)"
   ]
  },
  {
   "cell_type": "markdown",
   "metadata": {},
   "source": [
    "##  Step 4: Update the Person entity to add its affiliation"
   ]
  },
  {
   "cell_type": "markdown",
   "metadata": {},
   "source": [
    "Let update the person entity with an affiliation information. We will use EPFL as an affiliation and link to the person entity via \"affiliation\" propoerty.\n",
    "\n",
    "In this step, we'll:\n",
    "\n",
    "* Search for the EPFL organization entity and retrieve its identifier\n",
    "* Update the person entity affiliation to point to the EPFL entity"
   ]
  },
  {
   "cell_type": "markdown",
   "metadata": {},
   "source": [
    "### Search for the EPFL organization entity and retrieve its identifier and name"
   ]
  },
  {
   "cell_type": "code",
   "execution_count": 64,
   "metadata": {},
   "outputs": [
    {
     "name": "stdout",
     "output_type": "stream",
     "text": [
      "iiiiiiii\n",
      "EPFL\n",
      "True\n",
      "isldsdsds\n",
      "EPFL\n",
      "iiiiiiii\n",
      "Organization\n",
      "False\n",
      "iiiiiiii\n",
      "grid_id\n",
      "False\n",
      "iiiiiiii\n",
      "name\n",
      "False\n",
      "iiiiiiii\n",
      "acronym\n",
      "False\n",
      "iiiiiiii\n",
      "EPFL\n",
      "False\n",
      "PREFIX schema: <http://schema.org/> \n",
      "PREFIX prov: <http://www.w3.org/ns/prov#> \n",
      "PREFIX sh: <http://www.w3.org/ns/shacl#> \n",
      "PREFIX vann: <http://purl.org/vocab/vann/> \n",
      "PREFIX skos: <http://www.w3.org/2004/02/skos/core#> \n",
      "PREFIX rdf: <http://www.w3.org/1999/02/22-rdf-syntax-ns#> \n",
      "PREFIX rdfs: <http://www.w3.org/2000/01/rdf-schema#> \n",
      "PREFIX xml: <http://www.w3.org/XML/1998/namespace> \n",
      "PREFIX xsd: <http://www.w3.org/2001/XMLSchema#> \n",
      "PREFIX nsg: <https://neuroshapes.org/> \n",
      "PREFIX nxv: <https://bluebrain.github.io/nexus/vocabulary/> \n",
      "PREFIX dcterms: <http://purl.org/dc/terms/> \n",
      "PREFIX dc: <http://purl.org/dc/elements/1.1/> \n",
      "PREFIX owl: <http://www.w3.org/2002/07/owl#> \n",
      "PREFIX context: <https://incf.github.io/neuroshapes/contexts/> \n",
      "PREFIX vocab: <https://sandbox.bluebrainnexus.io/v1/demo/testdemo/_/> \n",
      "Select DISTINCT * WHERE {\n",
      "                     ?s vocab:acronym vocab:EPFL.\n",
      "                     ?s a <{'@id': 'nsg:Organization'}>.\n",
      "                     ?s vocab:grid_id ?grid_id_value . \n",
      "?s {'@id': 'schema:name'} ?name_value . \n",
      "\n",
      "                     \n",
      "               }\n",
      "               \n"
     ]
    },
    {
     "ename": "SparqlQueryException",
     "evalue": "Failed to execute the query PREFIX schema: <http://schema.org/> \nPREFIX prov: <http://www.w3.org/ns/prov#> \nPREFIX sh: <http://www.w3.org/ns/shacl#> \nPREFIX vann: <http://purl.org/vocab/vann/> \nPREFIX skos: <http://www.w3.org/2004/02/skos/core#> \nPREFIX rdf: <http://www.w3.org/1999/02/22-rdf-syntax-ns#> \nPREFIX rdfs: <http://www.w3.org/2000/01/rdf-schema#> \nPREFIX xml: <http://www.w3.org/XML/1998/namespace> \nPREFIX xsd: <http://www.w3.org/2001/XMLSchema#> \nPREFIX nsg: <https://neuroshapes.org/> \nPREFIX nxv: <https://bluebrain.github.io/nexus/vocabulary/> \nPREFIX dcterms: <http://purl.org/dc/terms/> \nPREFIX dc: <http://purl.org/dc/elements/1.1/> \nPREFIX owl: <http://www.w3.org/2002/07/owl#> \nPREFIX context: <https://incf.github.io/neuroshapes/contexts/> \nPREFIX vocab: <https://sandbox.bluebrainnexus.io/v1/demo/testdemo/_/> \nSelect DISTINCT * WHERE {\n                     ?s vocab:acronym vocab:EPFL.\n                     ?s a <{'@id': 'nsg:Organization'}>.\n                     ?s vocab:grid_id ?grid_id_value . \n?s {'@id': 'schema:name'} ?name_value . \n\n                     \n               }\n               .",
     "output_type": "error",
     "traceback": [
      "\u001b[0;31m---------------------------------------------------------------------------\u001b[0m",
      "\u001b[0;31mHTTPError\u001b[0m                                 Traceback (most recent call last)",
      "\u001b[0;32m~/anaconda3/lib/python3.6/site-packages/SPARQLWrapper/Wrapper.py\u001b[0m in \u001b[0;36m_query\u001b[0;34m(self)\u001b[0m\n\u001b[1;32m    892\u001b[0m             \u001b[0;32melse\u001b[0m\u001b[0;34m:\u001b[0m\u001b[0;34m\u001b[0m\u001b[0m\n\u001b[0;32m--> 893\u001b[0;31m                 \u001b[0mresponse\u001b[0m \u001b[0;34m=\u001b[0m \u001b[0murlopener\u001b[0m\u001b[0;34m(\u001b[0m\u001b[0mrequest\u001b[0m\u001b[0;34m)\u001b[0m\u001b[0;34m\u001b[0m\u001b[0m\n\u001b[0m\u001b[1;32m    894\u001b[0m             \u001b[0;32mreturn\u001b[0m \u001b[0mresponse\u001b[0m\u001b[0;34m,\u001b[0m \u001b[0mself\u001b[0m\u001b[0;34m.\u001b[0m\u001b[0mreturnFormat\u001b[0m\u001b[0;34m\u001b[0m\u001b[0m\n",
      "\u001b[0;32m~/anaconda3/lib/python3.6/urllib/request.py\u001b[0m in \u001b[0;36murlopen\u001b[0;34m(url, data, timeout, cafile, capath, cadefault, context)\u001b[0m\n\u001b[1;32m    222\u001b[0m         \u001b[0mopener\u001b[0m \u001b[0;34m=\u001b[0m \u001b[0m_opener\u001b[0m\u001b[0;34m\u001b[0m\u001b[0m\n\u001b[0;32m--> 223\u001b[0;31m     \u001b[0;32mreturn\u001b[0m \u001b[0mopener\u001b[0m\u001b[0;34m.\u001b[0m\u001b[0mopen\u001b[0m\u001b[0;34m(\u001b[0m\u001b[0murl\u001b[0m\u001b[0;34m,\u001b[0m \u001b[0mdata\u001b[0m\u001b[0;34m,\u001b[0m \u001b[0mtimeout\u001b[0m\u001b[0;34m)\u001b[0m\u001b[0;34m\u001b[0m\u001b[0m\n\u001b[0m\u001b[1;32m    224\u001b[0m \u001b[0;34m\u001b[0m\u001b[0m\n",
      "\u001b[0;32m~/anaconda3/lib/python3.6/urllib/request.py\u001b[0m in \u001b[0;36mopen\u001b[0;34m(self, fullurl, data, timeout)\u001b[0m\n\u001b[1;32m    531\u001b[0m             \u001b[0mmeth\u001b[0m \u001b[0;34m=\u001b[0m \u001b[0mgetattr\u001b[0m\u001b[0;34m(\u001b[0m\u001b[0mprocessor\u001b[0m\u001b[0;34m,\u001b[0m \u001b[0mmeth_name\u001b[0m\u001b[0;34m)\u001b[0m\u001b[0;34m\u001b[0m\u001b[0m\n\u001b[0;32m--> 532\u001b[0;31m             \u001b[0mresponse\u001b[0m \u001b[0;34m=\u001b[0m \u001b[0mmeth\u001b[0m\u001b[0;34m(\u001b[0m\u001b[0mreq\u001b[0m\u001b[0;34m,\u001b[0m \u001b[0mresponse\u001b[0m\u001b[0;34m)\u001b[0m\u001b[0;34m\u001b[0m\u001b[0m\n\u001b[0m\u001b[1;32m    533\u001b[0m \u001b[0;34m\u001b[0m\u001b[0m\n",
      "\u001b[0;32m~/anaconda3/lib/python3.6/urllib/request.py\u001b[0m in \u001b[0;36mhttp_response\u001b[0;34m(self, request, response)\u001b[0m\n\u001b[1;32m    641\u001b[0m             response = self.parent.error(\n\u001b[0;32m--> 642\u001b[0;31m                 'http', request, response, code, msg, hdrs)\n\u001b[0m\u001b[1;32m    643\u001b[0m \u001b[0;34m\u001b[0m\u001b[0m\n",
      "\u001b[0;32m~/anaconda3/lib/python3.6/urllib/request.py\u001b[0m in \u001b[0;36merror\u001b[0;34m(self, proto, *args)\u001b[0m\n\u001b[1;32m    569\u001b[0m             \u001b[0margs\u001b[0m \u001b[0;34m=\u001b[0m \u001b[0;34m(\u001b[0m\u001b[0mdict\u001b[0m\u001b[0;34m,\u001b[0m \u001b[0;34m'default'\u001b[0m\u001b[0;34m,\u001b[0m \u001b[0;34m'http_error_default'\u001b[0m\u001b[0;34m)\u001b[0m \u001b[0;34m+\u001b[0m \u001b[0morig_args\u001b[0m\u001b[0;34m\u001b[0m\u001b[0m\n\u001b[0;32m--> 570\u001b[0;31m             \u001b[0;32mreturn\u001b[0m \u001b[0mself\u001b[0m\u001b[0;34m.\u001b[0m\u001b[0m_call_chain\u001b[0m\u001b[0;34m(\u001b[0m\u001b[0;34m*\u001b[0m\u001b[0margs\u001b[0m\u001b[0;34m)\u001b[0m\u001b[0;34m\u001b[0m\u001b[0m\n\u001b[0m\u001b[1;32m    571\u001b[0m \u001b[0;34m\u001b[0m\u001b[0m\n",
      "\u001b[0;32m~/anaconda3/lib/python3.6/urllib/request.py\u001b[0m in \u001b[0;36m_call_chain\u001b[0;34m(self, chain, kind, meth_name, *args)\u001b[0m\n\u001b[1;32m    503\u001b[0m             \u001b[0mfunc\u001b[0m \u001b[0;34m=\u001b[0m \u001b[0mgetattr\u001b[0m\u001b[0;34m(\u001b[0m\u001b[0mhandler\u001b[0m\u001b[0;34m,\u001b[0m \u001b[0mmeth_name\u001b[0m\u001b[0;34m)\u001b[0m\u001b[0;34m\u001b[0m\u001b[0m\n\u001b[0;32m--> 504\u001b[0;31m             \u001b[0mresult\u001b[0m \u001b[0;34m=\u001b[0m \u001b[0mfunc\u001b[0m\u001b[0;34m(\u001b[0m\u001b[0;34m*\u001b[0m\u001b[0margs\u001b[0m\u001b[0;34m)\u001b[0m\u001b[0;34m\u001b[0m\u001b[0m\n\u001b[0m\u001b[1;32m    505\u001b[0m             \u001b[0;32mif\u001b[0m \u001b[0mresult\u001b[0m \u001b[0;32mis\u001b[0m \u001b[0;32mnot\u001b[0m \u001b[0;32mNone\u001b[0m\u001b[0;34m:\u001b[0m\u001b[0;34m\u001b[0m\u001b[0m\n",
      "\u001b[0;32m~/anaconda3/lib/python3.6/urllib/request.py\u001b[0m in \u001b[0;36mhttp_error_default\u001b[0;34m(self, req, fp, code, msg, hdrs)\u001b[0m\n\u001b[1;32m    649\u001b[0m     \u001b[0;32mdef\u001b[0m \u001b[0mhttp_error_default\u001b[0m\u001b[0;34m(\u001b[0m\u001b[0mself\u001b[0m\u001b[0;34m,\u001b[0m \u001b[0mreq\u001b[0m\u001b[0;34m,\u001b[0m \u001b[0mfp\u001b[0m\u001b[0;34m,\u001b[0m \u001b[0mcode\u001b[0m\u001b[0;34m,\u001b[0m \u001b[0mmsg\u001b[0m\u001b[0;34m,\u001b[0m \u001b[0mhdrs\u001b[0m\u001b[0;34m)\u001b[0m\u001b[0;34m:\u001b[0m\u001b[0;34m\u001b[0m\u001b[0m\n\u001b[0;32m--> 650\u001b[0;31m         \u001b[0;32mraise\u001b[0m \u001b[0mHTTPError\u001b[0m\u001b[0;34m(\u001b[0m\u001b[0mreq\u001b[0m\u001b[0;34m.\u001b[0m\u001b[0mfull_url\u001b[0m\u001b[0;34m,\u001b[0m \u001b[0mcode\u001b[0m\u001b[0;34m,\u001b[0m \u001b[0mmsg\u001b[0m\u001b[0;34m,\u001b[0m \u001b[0mhdrs\u001b[0m\u001b[0;34m,\u001b[0m \u001b[0mfp\u001b[0m\u001b[0;34m)\u001b[0m\u001b[0;34m\u001b[0m\u001b[0m\n\u001b[0m\u001b[1;32m    651\u001b[0m \u001b[0;34m\u001b[0m\u001b[0m\n",
      "\u001b[0;31mHTTPError\u001b[0m: HTTP Error 400: Bad Request",
      "\nDuring handling of the above exception, another exception occurred:\n",
      "\u001b[0;31mQueryBadFormed\u001b[0m                            Traceback (most recent call last)",
      "\u001b[0;32m~/dev/apps/forked/nexus/src/main/paradox/docs/bbptutorial/notebooks/sparqlendpointhelper.py\u001b[0m in \u001b[0;36mquery_sparql\u001b[0;34m(self, sparql_query, result_format, offset, page_size)\u001b[0m\n\u001b[1;32m     83\u001b[0m             \u001b[0mself\u001b[0m\u001b[0;34m.\u001b[0m\u001b[0msparqlview_wrapper\u001b[0m\u001b[0;34m.\u001b[0m\u001b[0msetQuery\u001b[0m\u001b[0;34m(\u001b[0m\u001b[0msparql_query\u001b[0m\u001b[0;34m)\u001b[0m\u001b[0;34m\u001b[0m\u001b[0m\n\u001b[0;32m---> 84\u001b[0;31m             \u001b[0mresult_object\u001b[0m \u001b[0;34m=\u001b[0m \u001b[0mself\u001b[0m\u001b[0;34m.\u001b[0m\u001b[0msparqlview_wrapper\u001b[0m\u001b[0;34m.\u001b[0m\u001b[0mquery\u001b[0m\u001b[0;34m(\u001b[0m\u001b[0;34m)\u001b[0m\u001b[0;34m\u001b[0m\u001b[0m\n\u001b[0m\u001b[1;32m     85\u001b[0m             \u001b[0;32mif\u001b[0m \u001b[0mresult_format\u001b[0m\u001b[0;34m:\u001b[0m\u001b[0;34m\u001b[0m\u001b[0m\n",
      "\u001b[0;32m~/anaconda3/lib/python3.6/site-packages/SPARQLWrapper/Wrapper.py\u001b[0m in \u001b[0;36mquery\u001b[0;34m(self)\u001b[0m\n\u001b[1;32m    926\u001b[0m         \"\"\"\n\u001b[0;32m--> 927\u001b[0;31m         \u001b[0;32mreturn\u001b[0m \u001b[0mQueryResult\u001b[0m\u001b[0;34m(\u001b[0m\u001b[0mself\u001b[0m\u001b[0;34m.\u001b[0m\u001b[0m_query\u001b[0m\u001b[0;34m(\u001b[0m\u001b[0;34m)\u001b[0m\u001b[0;34m)\u001b[0m\u001b[0;34m\u001b[0m\u001b[0m\n\u001b[0m\u001b[1;32m    928\u001b[0m \u001b[0;34m\u001b[0m\u001b[0m\n",
      "\u001b[0;32m~/anaconda3/lib/python3.6/site-packages/SPARQLWrapper/Wrapper.py\u001b[0m in \u001b[0;36m_query\u001b[0;34m(self)\u001b[0m\n\u001b[1;32m    896\u001b[0m             \u001b[0;32mif\u001b[0m \u001b[0me\u001b[0m\u001b[0;34m.\u001b[0m\u001b[0mcode\u001b[0m \u001b[0;34m==\u001b[0m \u001b[0;36m400\u001b[0m\u001b[0;34m:\u001b[0m\u001b[0;34m\u001b[0m\u001b[0m\n\u001b[0;32m--> 897\u001b[0;31m                 \u001b[0;32mraise\u001b[0m \u001b[0mQueryBadFormed\u001b[0m\u001b[0;34m(\u001b[0m\u001b[0me\u001b[0m\u001b[0;34m.\u001b[0m\u001b[0mread\u001b[0m\u001b[0;34m(\u001b[0m\u001b[0;34m)\u001b[0m\u001b[0;34m)\u001b[0m\u001b[0;34m\u001b[0m\u001b[0m\n\u001b[0m\u001b[1;32m    898\u001b[0m             \u001b[0;32melif\u001b[0m \u001b[0me\u001b[0m\u001b[0;34m.\u001b[0m\u001b[0mcode\u001b[0m \u001b[0;34m==\u001b[0m \u001b[0;36m404\u001b[0m\u001b[0;34m:\u001b[0m\u001b[0;34m\u001b[0m\u001b[0m\n",
      "\u001b[0;31mQueryBadFormed\u001b[0m: QueryBadFormed: a bad request has been sent to the endpoint, probably the sparql query is bad formed. \n\nResponse:\nb'{\"@context\":\"https://bluebrain.github.io/nexus/contexts/error.json\",\"@type\":\"InvalidResourceFormat\",\"details\":\"SPARQL-QUERY: queryStr=PREFIX schema: <http://schema.org/> \\\\nPREFIX prov: <http://www.w3.org/ns/prov#> \\\\nPREFIX sh: <http://www.w3.org/ns/shacl#> \\\\nPREFIX vann: <http://purl.org/vocab/vann/> \\\\nPREFIX skos: <http://www.w3.org/2004/02/skos/core#> \\\\nPREFIX rdf: <http://www.w3.org/1999/02/22-rdf-syntax-ns#> \\\\nPREFIX rdfs: <http://www.w3.org/2000/01/rdf-schema#> \\\\nPREFIX xml: <http://www.w3.org/XML/1998/namespace> \\\\nPREFIX xsd: <http://www.w3.org/2001/XMLSchema#> \\\\nPREFIX nsg: <https://neuroshapes.org/> \\\\nPREFIX nxv: <https://bluebrain.github.io/nexus/vocabulary/> \\\\nPREFIX dcterms: <http://purl.org/dc/terms/> \\\\nPREFIX dc: <http://purl.org/dc/elements/1.1/> \\\\nPREFIX owl: <http://www.w3.org/2002/07/owl#> \\\\nPREFIX context: <https://incf.github.io/neuroshapes/contexts/> \\\\nPREFIX vocab: <https://sandbox.bluebrainnexus.io/v1/demo/testdemo/_/> \\\\nSelect DISTINCT * WHERE {\\\\n                     ?s vocab:acronym vocab:EPFL.\\\\n                     ?s a <{\\'@id\\': \\'nsg:Organization\\'}>.\\\\n                     ?s vocab:grid_id ?grid_id_value . \\\\n?s {\\'@id\\': \\'schema:name\\'} ?name_value . \\\\n\\\\n                     \\\\n               }\\\\n               \\\\njava.util.concurrent.ExecutionException: org.openrdf.query.MalformedQueryException: Encountered \\\\\" \\\\\"<\\\\\" \\\\\"< \\\\\"\\\\\" at line 19, column 27.\\\\nWas expecting one of:\\\\n    \\\\\"(\\\\\" ...\\\\n    \\\\\"[\\\\\" ...\\\\n    \\\\\"+\\\\\" ...\\\\n    \\\\\"*\\\\\" ...\\\\n    \\\\\"?\\\\\" ...\\\\n    \\\\\"/\\\\\" ...\\\\n    \\\\\"|\\\\\" ...\\\\n    <NIL> ...\\\\n    <ANON> ...\\\\n    \\\\\"true\\\\\" ...\\\\n    \\\\\"false\\\\\" ...\\\\n    \\\\\"<<\\\\\" ...\\\\n    <Q_IRI_REF> ...\\\\n    <PNAME_NS> ...\\\\n    <PNAME_LN> ...\\\\n    <BLANK_NODE_LABEL> ...\\\\n    <VAR1> ...\\\\n    <VAR2> ...\\\\n    <INTEGER> ...\\\\n    <INTEGER_POSITIVE> ...\\\\n    <INTEGER_NEGATIVE> ...\\\\n    <DECIMAL> ...\\\\n    <DECIMAL_POSITIVE> ...\\\\n    <DECIMAL_NEGATIVE> ...\\\\n    <DOUBLE> ...\\\\n    <DOUBLE_POSITIVE> ...\\\\n    <DOUBLE_NEGATIVE> ...\\\\n    <STRING_LITERAL1> ...\\\\n    <STRING_LITERAL2> ...\\\\n    <STRING_LITERAL_LONG1> ...\\\\n    <STRING_LITERAL_LONG2> ...\\\\n    \\\\n\\\\tat java.util.concurrent.FutureTask.report(FutureTask.java:122)\\\\n\\\\tat java.util.concurrent.FutureTask.get(FutureTask.java:192)\\\\n\\\\tat com.bigdata.rdf.sail.webapp.BigdataServlet.submitApiTask(BigdataServlet.java:281)\\\\n\\\\tat com.bigdata.rdf.sail.webapp.QueryServlet.doSparqlQuery(QueryServlet.java:653)\\\\n\\\\tat com.bigdata.rdf.sail.webapp.QueryServlet.doPost(QueryServlet.java:273)\\\\n\\\\tat com.bigdata.rdf.sail.webapp.RESTServlet.doPost(RESTServlet.java:269)\\\\n\\\\tat com.bigdata.rdf.sail.webapp.MultiTenancyServlet.doPost(MultiTenancyServlet.java:193)\\\\n\\\\tat javax.servlet.http.HttpServlet.service(HttpServlet.java:707)\\\\n\\\\tat javax.servlet.http.HttpServlet.service(HttpServlet.java:790)\\\\n\\\\tat org.eclipse.jetty.servlet.ServletHolder.handle(ServletHolder.java:769)\\\\n\\\\tat org.eclipse.jetty.servlet.ServletHandler.doHandle(ServletHandler.java:585)\\\\n\\\\tat org.eclipse.jetty.server.handler.ScopedHandler.handle(ScopedHandler.java:143)\\\\n\\\\tat org.eclipse.jetty.security.SecurityHandler.handle(SecurityHandler.java:577)\\\\n\\\\tat org.eclipse.jetty.server.session.SessionHandler.doHandle(SessionHandler.java:223)\\\\n\\\\tat org.eclipse.jetty.server.handler.ContextHandler.doHandle(ContextHandler.java:1125)\\\\n\\\\tat org.eclipse.jetty.servlet.ServletHandler.doScope(ServletHandler.java:515)\\\\n\\\\tat org.eclipse.jetty.server.session.SessionHandler.doScope(SessionHandler.java:185)\\\\n\\\\tat org.eclipse.jetty.server.handler.ContextHandler.doScope(ContextHandler.java:1059)\\\\n\\\\tat org.eclipse.jetty.server.handler.ScopedHandler.handle(ScopedHandler.java:141)\\\\n\\\\tat org.eclipse.jetty.server.handler.ContextHandlerCollection.handle(ContextHandlerCollection.java:215)\\\\n\\\\tat org.eclipse.jetty.server.handler.HandlerCollection.handle(HandlerCollection.java:110)\\\\n\\\\tat org.eclipse.jetty.server.handler.HandlerWrapper.handle(HandlerWrapper.java:97)\\\\n\\\\tat org.eclipse.jetty.server.Server.handle(Server.java:497)\\\\n\\\\tat org.eclipse.jetty.server.HttpChannel.handle(HttpChannel.java:311)\\\\n\\\\tat org.eclipse.jetty.server.HttpConnection.onFillable(HttpConnection.java:248)\\\\n\\\\tat org.eclipse.jetty.io.AbstractConnection$2.run(AbstractConnection.java:540)\\\\n\\\\tat org.eclipse.jetty.util.thread.QueuedThreadPool.runJob(QueuedThreadPool.java:610)\\\\n\\\\tat org.eclipse.jetty.util.thread.QueuedThreadPool$3.run(QueuedThreadPool.java:539)\\\\n\\\\tat java.lang.Thread.run(Thread.java:748)\\\\nCaused by: org.openrdf.query.MalformedQueryException: Encountered \\\\\" \\\\\"<\\\\\" \\\\\"< \\\\\"\\\\\" at line 19, column 27.\\\\nWas expecting one of:\\\\n    \\\\\"(\\\\\" ...\\\\n    \\\\\"[\\\\\" ...\\\\n    \\\\\"+\\\\\" ...\\\\n    \\\\\"*\\\\\" ...\\\\n    \\\\\"?\\\\\" ...\\\\n    \\\\\"/\\\\\" ...\\\\n    \\\\\"|\\\\\" ...\\\\n    <NIL> ...\\\\n    <ANON> ...\\\\n    \\\\\"true\\\\\" ...\\\\n    \\\\\"false\\\\\" ...\\\\n    \\\\\"<<\\\\\" ...\\\\n    <Q_IRI_REF> ...\\\\n    <PNAME_NS> ...\\\\n    <PNAME_LN> ...\\\\n    <BLANK_NODE_LABEL> ...\\\\n    <VAR1> ...\\\\n    <VAR2> ...\\\\n    <INTEGER> ...\\\\n    <INTEGER_POSITIVE> ...\\\\n    <INTEGER_NEGATIVE> ...\\\\n    <DECIMAL> ...\\\\n    <DECIMAL_POSITIVE> ...\\\\n    <DECIMAL_NEGATIVE> ...\\\\n    <DOUBLE> ...\\\\n    <DOUBLE_POSITIVE> ...\\\\n    <DOUBLE_NEGATIVE> ...\\\\n    <STRING_LITERAL1> ...\\\\n    <STRING_LITERAL2> ...\\\\n    <STRING_LITERAL_LONG1> ...\\\\n    <STRING_LITERAL_LONG2> ...\\\\n    \\\\n\\\\tat com.bigdata.rdf.sail.sparql.Bigdata2ASTSPARQLParser.parseQuery2(Bigdata2ASTSPARQLParser.java:400)\\\\n\\\\tat com.bigdata.rdf.sail.webapp.QueryServlet$SparqlQueryTask.call(QueryServlet.java:716)\\\\n\\\\tat com.bigdata.rdf.sail.webapp.QueryServlet$SparqlQueryTask.call(QueryServlet.java:670)\\\\n\\\\tat com.bigdata.rdf.task.ApiTaskForIndexManager.call(ApiTaskForIndexManager.java:68)\\\\n\\\\tat java.util.concurrent.FutureTask.run(FutureTask.java:266)\\\\n\\\\tat java.util.concurrent.ThreadPoolExecutor.runWorker(ThreadPoolExecutor.java:1149)\\\\n\\\\tat java.util.concurrent.ThreadPoolExecutor$Worker.run(ThreadPoolExecutor.java:624)\\\\n\\\\t... 1 more\\\\nCaused by: com.bigdata.rdf.sail.sparql.ast.ParseException: Encountered \\\\\" \\\\\"<\\\\\" \\\\\"< \\\\\"\\\\\" at line 19, column 27.\\\\nWas expecting one of:\\\\n    \\\\\"(\\\\\" ...\\\\n    \\\\\"[\\\\\" ...\\\\n    \\\\\"+\\\\\" ...\\\\n    \\\\\"*\\\\\" ...\\\\n    \\\\\"?\\\\\" ...\\\\n    \\\\\"/\\\\\" ...\\\\n    \\\\\"|\\\\\" ...\\\\n    <NIL> ...\\\\n    <ANON> ...\\\\n    \\\\\"true\\\\\" ...\\\\n    \\\\\"false\\\\\" ...\\\\n    \\\\\"<<\\\\\" ...\\\\n    <Q_IRI_REF> ...\\\\n    <PNAME_NS> ...\\\\n    <PNAME_LN> ...\\\\n    <BLANK_NODE_LABEL> ...\\\\n    <VAR1> ...\\\\n    <VAR2> ...\\\\n    <INTEGER> ...\\\\n    <INTEGER_POSITIVE> ...\\\\n    <INTEGER_NEGATIVE> ...\\\\n    <DECIMAL> ...\\\\n    <DECIMAL_POSITIVE> ...\\\\n    <DECIMAL_NEGATIVE> ...\\\\n    <DOUBLE> ...\\\\n    <DOUBLE_POSITIVE> ...\\\\n    <DOUBLE_NEGATIVE> ...\\\\n    <STRING_LITERAL1> ...\\\\n    <STRING_LITERAL2> ...\\\\n    <STRING_LITERAL_LONG1> ...\\\\n    <STRING_LITERAL_LONG2> ...\\\\n    \\\\n\\\\tat com.bigdata.rdf.sail.sparql.ast.SyntaxTreeBuilder.generateParseException(SyntaxTreeBuilder.java:9718)\\\\n\\\\tat com.bigdata.rdf.sail.sparql.ast.SyntaxTreeBuilder.jj_consume_token(SyntaxTreeBuilder.java:9585)\\\\n\\\\tat com.bigdata.rdf.sail.sparql.ast.SyntaxTreeBuilder.GraphNodePath(SyntaxTreeBuilder.java:3790)\\\\n\\\\tat com.bigdata.rdf.sail.sparql.ast.SyntaxTreeBuilder.ObjectPath(SyntaxTreeBuilder.java:3463)\\\\n\\\\tat com.bigdata.rdf.sail.sparql.ast.SyntaxTreeBuilder.ObjectListPath(SyntaxTreeBuilder.java:3040)\\\\n\\\\tat com.bigdata.rdf.sail.sparql.ast.SyntaxTreeBuilder.PropertyListPath(SyntaxTreeBuilder.java:2988)\\\\n\\\\tat com.bigdata.rdf.sail.sparql.ast.SyntaxTreeBuilder.TriplesSameSubjectPath(SyntaxTreeBuilder.java:2915)\\\\n\\\\tat com.bigdata.rdf.sail.sparql.ast.SyntaxTreeBuilder.TriplesBlock(SyntaxTreeBuilder.java:2317)\\\\n\\\\tat com.bigdata.rdf.sail.sparql.ast.SyntaxTreeBuilder.BasicGraphPattern(SyntaxTreeBuilder.java:2093)\\\\n\\\\tat com.bigdata.rdf.sail.sparql.ast.SyntaxTreeBuilder.GraphPattern(SyntaxTreeBuilder.java:2030)\\\\n\\\\tat com.bigdata.rdf.sail.sparql.ast.SyntaxTreeBuilder.GroupGraphPattern(SyntaxTreeBuilder.java:1965)\\\\n\\\\tat com.bigdata.rdf.sail.sparql.ast.SyntaxTreeBuilder.WhereClause(SyntaxTreeBuilder.java:1009)\\\\n\\\\tat com.bigdata.rdf.sail.sparql.ast.SyntaxTreeBuilder.SelectQuery(SyntaxTreeBuilder.java:373)\\\\n\\\\tat com.bigdata.rdf.sail.sparql.ast.SyntaxTreeBuilder.Query(SyntaxTreeBuilder.java:324)\\\\n\\\\tat com.bigdata.rdf.sail.sparql.ast.SyntaxTreeBuilder.QueryContainer(SyntaxTreeBuilder.java:212)\\\\n\\\\tat com.bigdata.rdf.sail.sparql.ast.SyntaxTreeBuilder.parseQuery(SyntaxTreeBuilder.java:32)\\\\n\\\\tat com.bigdata.rdf.sail.sparql.Bigdata2ASTSPARQLParser.parseQuery2(Bigdata2ASTSPARQLParser.java:336)\\\\n\\\\t... 7 more\\\\n\",\"reason\":\"Resource \\'https://bluebrain.github.io/nexus/vocabulary/defaultSparqlIndex\\' has an invalid format.\",\"ref\":\"https://bluebrain.github.io/nexus/vocabulary/defaultSparqlIndex\"}'",
      "\nThe above exception was the direct cause of the following exception:\n",
      "\u001b[0;31mSparqlQueryException\u001b[0m                      Traceback (most recent call last)",
      "\u001b[0;32m<ipython-input-64-91c8d577004c>\u001b[0m in \u001b[0;36m<module>\u001b[0;34m()\u001b[0m\n\u001b[1;32m      2\u001b[0m orgs_df = sparqlviewhelper.get_entity_by_path_value(path=\"acronym\",literal_value=\"EPFL\",_type=_type, \n\u001b[1;32m      3\u001b[0m                                                     \u001b[0mretrieve_properties\u001b[0m\u001b[0;34m=\u001b[0m\u001b[0;34m[\u001b[0m\u001b[0;34m\"grid_id\"\u001b[0m\u001b[0;34m,\u001b[0m\u001b[0;34m\"name\"\u001b[0m\u001b[0;34m]\u001b[0m\u001b[0;34m,\u001b[0m\u001b[0;34m\u001b[0m\u001b[0m\n\u001b[0;32m----> 4\u001b[0;31m                                                     result_format = \"DATAFRAME\")\n\u001b[0m\u001b[1;32m      5\u001b[0m \u001b[0morgs_df\u001b[0m\u001b[0;34m.\u001b[0m\u001b[0mhead\u001b[0m\u001b[0;34m(\u001b[0m\u001b[0;34m)\u001b[0m\u001b[0;34m\u001b[0m\u001b[0m\n",
      "\u001b[0;32m~/dev/apps/forked/nexus/src/main/paradox/docs/bbptutorial/notebooks/sparqlendpointhelper.py\u001b[0m in \u001b[0;36mget_entity_by_path_value\u001b[0;34m(self, path, literal_value, uri_value, _type, retrieve_properties, result_format)\u001b[0m\n\u001b[1;32m    178\u001b[0m                }\n\u001b[1;32m    179\u001b[0m                \"\"\" % (self.get_prefix_mapping(path), self.get_prefix_mapping(value), type_filter, retrieve_properties_filter)\n\u001b[0;32m--> 180\u001b[0;31m         \u001b[0;32mreturn\u001b[0m \u001b[0mself\u001b[0m\u001b[0;34m.\u001b[0m\u001b[0mquery_sparql\u001b[0m\u001b[0;34m(\u001b[0m\u001b[0msparlq_query\u001b[0m\u001b[0;34m,\u001b[0m\u001b[0mresult_format\u001b[0m\u001b[0;34m)\u001b[0m\u001b[0;34m\u001b[0m\u001b[0m\n\u001b[0m\u001b[1;32m    181\u001b[0m \u001b[0;34m\u001b[0m\u001b[0m\n\u001b[1;32m    182\u001b[0m     \u001b[0;32mdef\u001b[0m \u001b[0m_build_type_filter\u001b[0m\u001b[0;34m(\u001b[0m\u001b[0mself\u001b[0m\u001b[0;34m,\u001b[0m \u001b[0m_type\u001b[0m\u001b[0;34m)\u001b[0m\u001b[0;34m:\u001b[0m\u001b[0;34m\u001b[0m\u001b[0m\n",
      "\u001b[0;32m~/dev/apps/forked/nexus/src/main/paradox/docs/bbptutorial/notebooks/sparqlendpointhelper.py\u001b[0m in \u001b[0;36mquery_sparql\u001b[0;34m(self, sparql_query, result_format, offset, page_size)\u001b[0m\n\u001b[1;32m     94\u001b[0m \u001b[0;34m\u001b[0m\u001b[0m\n\u001b[1;32m     95\u001b[0m         \u001b[0;32mexcept\u001b[0m \u001b[0mException\u001b[0m \u001b[0;32mas\u001b[0m \u001b[0me\u001b[0m\u001b[0;34m:\u001b[0m\u001b[0;34m\u001b[0m\u001b[0m\n\u001b[0;32m---> 96\u001b[0;31m             \u001b[0;32mraise\u001b[0m \u001b[0mSparqlQueryException\u001b[0m\u001b[0;34m(\u001b[0m\u001b[0;34m\"\"\"Failed to execute the query %s.\"\"\"\u001b[0m \u001b[0;34m%\u001b[0m \u001b[0;34m(\u001b[0m\u001b[0msparql_query\u001b[0m\u001b[0;34m)\u001b[0m\u001b[0;34m)\u001b[0m \u001b[0;32mfrom\u001b[0m \u001b[0me\u001b[0m\u001b[0;34m\u001b[0m\u001b[0m\n\u001b[0m\u001b[1;32m     97\u001b[0m \u001b[0;34m\u001b[0m\u001b[0m\n\u001b[1;32m     98\u001b[0m \u001b[0;34m\u001b[0m\u001b[0m\n",
      "\u001b[0;31mSparqlQueryException\u001b[0m: Failed to execute the query PREFIX schema: <http://schema.org/> \nPREFIX prov: <http://www.w3.org/ns/prov#> \nPREFIX sh: <http://www.w3.org/ns/shacl#> \nPREFIX vann: <http://purl.org/vocab/vann/> \nPREFIX skos: <http://www.w3.org/2004/02/skos/core#> \nPREFIX rdf: <http://www.w3.org/1999/02/22-rdf-syntax-ns#> \nPREFIX rdfs: <http://www.w3.org/2000/01/rdf-schema#> \nPREFIX xml: <http://www.w3.org/XML/1998/namespace> \nPREFIX xsd: <http://www.w3.org/2001/XMLSchema#> \nPREFIX nsg: <https://neuroshapes.org/> \nPREFIX nxv: <https://bluebrain.github.io/nexus/vocabulary/> \nPREFIX dcterms: <http://purl.org/dc/terms/> \nPREFIX dc: <http://purl.org/dc/elements/1.1/> \nPREFIX owl: <http://www.w3.org/2002/07/owl#> \nPREFIX context: <https://incf.github.io/neuroshapes/contexts/> \nPREFIX vocab: <https://sandbox.bluebrainnexus.io/v1/demo/testdemo/_/> \nSelect DISTINCT * WHERE {\n                     ?s vocab:acronym vocab:EPFL.\n                     ?s a <{'@id': 'nsg:Organization'}>.\n                     ?s vocab:grid_id ?grid_id_value . \n?s {'@id': 'schema:name'} ?name_value . \n\n                     \n               }\n               ."
     ]
    }
   ],
   "source": [
    "_type = \"Organization\"\n",
    "orgs_df = sparqlviewhelper.get_entity_by_path_value(path=\"acronym\",literal_value=\"EPFL\",_type=_type, \n",
    "                                                    retrieve_properties=[\"grid_id\",\"name\"],\n",
    "                                                    result_format = \"DATAFRAME\")\n",
    "orgs_df.head()"
   ]
  },
  {
   "cell_type": "markdown",
   "metadata": {},
   "source": [
    "### Update the person entity affiliation to point to the EPFL entity"
   ]
  },
  {
   "cell_type": "code",
   "execution_count": null,
   "metadata": {},
   "outputs": [],
   "source": [
    "# Note the revision value change after an update\n",
    "person[\"affiliation\"]=orgs_df[\"s\"]\n",
    "response = update_resource(person[\"@id\"],person)\n",
    "pretty_print(response)"
   ]
  },
  {
   "cell_type": "markdown",
   "metadata": {},
   "source": [
    "## Step 5: Update the EPFL organization entity with its logo file\n"
   ]
  },
  {
   "cell_type": "markdown",
   "metadata": {},
   "source": [
    "Wouldn't it be great to add the EPFL logo as an preview image of the EPFL organization entity ? Turns out the EPFL entity is available in the Wikidata open knowledge graph with the logo we need.\n",
    "Wikidata is the knowledge graph version of Wikipedia with a public sparql endpoint.\n",
    "\n",
    "Let query the wikidata sparql endpoint to fetch the logo of the EPFL entity using its grid identifier.\n",
    "[Try the query](https://query.wikidata.org/#SELECT%20%3Fepfl_logo%20WHERE%20%7B%0A%20%20%3Fepfl%20wdt%3AP2427%20%22grid.5333.6%22.%0A%20%20OPTIONAL%20%7B%20%3Fepfl%20wdt%3AP154%20%3Fepfl_logo.%20%7D%0A%7D) in the Wikidata sparql playground.\n",
    "\n"
   ]
  },
  {
   "cell_type": "markdown",
   "metadata": {},
   "source": [
    "### Create a wrapper around the wikidata sparql endpoint"
   ]
  },
  {
   "cell_type": "code",
   "execution_count": 10,
   "metadata": {},
   "outputs": [],
   "source": [
    "wikidata_sparql_endpoint = \"https://query.wikidata.org/sparql\"\n",
    "wikidata_sparql_helper = SparqlViewHelper(wikidata_sparql_endpoint,token)"
   ]
  },
  {
   "cell_type": "markdown",
   "metadata": {},
   "source": [
    "### Get the EPFL logo url"
   ]
  },
  {
   "cell_type": "markdown",
   "metadata": {},
   "source": [
    "In the query below:\n",
    "\n",
    "* wdt:P2427 is the wikidata property for GRID ID\n",
    "* wdt:P154 is the wiki data property for logo image url"
   ]
  },
  {
   "cell_type": "code",
   "execution_count": null,
   "metadata": {},
   "outputs": [],
   "source": [
    "# wdt:P2427 is the wikidata property for GRID ID\n",
    "epfl_logo_query = \"\"\"\n",
    "SELECT *\n",
    "WHERE\n",
    "{\n",
    "    ?epfl wdt:P2427 \"%s\".\n",
    "    ?epfl wdt:P154 ?logo.\n",
    "}\n",
    "\"\"\" % (orgs_df[\"grid_id\"])\n",
    "wiki_results = query_sparql(movie_logo_query,wikidata_sparql_wrapper)\n",
    "wiki_df =sparql2dataframe(wiki_results)\n",
    "wiki_df.head()"
   ]
  },
  {
   "cell_type": "markdown",
   "metadata": {},
   "source": [
    "## Setp 6 Explore and navigate the created knowledge graph"
   ]
  },
  {
   "cell_type": "code",
   "execution_count": 12,
   "metadata": {},
   "outputs": [],
   "source": []
  },
  {
   "cell_type": "markdown",
   "metadata": {},
   "source": [
    "### Search Entity by type"
   ]
  },
  {
   "cell_type": "code",
   "execution_count": 66,
   "metadata": {},
   "outputs": [
    {
     "ename": "NameError",
     "evalue": "name 'aURI' is not defined",
     "output_type": "error",
     "traceback": [
      "\u001b[0;31m---------------------------------------------------------------------------\u001b[0m",
      "\u001b[0;31mNameError\u001b[0m                                 Traceback (most recent call last)",
      "\u001b[0;32m<ipython-input-66-2674e38ba672>\u001b[0m in \u001b[0;36m<module>\u001b[0;34m()\u001b[0m\n\u001b[1;32m      1\u001b[0m \u001b[0m_type\u001b[0m \u001b[0;34m=\u001b[0m \u001b[0;34m\"Organization\"\u001b[0m\u001b[0;34m\u001b[0m\u001b[0m\n\u001b[0;32m----> 2\u001b[0;31m \u001b[0mresults_df\u001b[0m \u001b[0;34m=\u001b[0m \u001b[0msparqlviewhelper\u001b[0m\u001b[0;34m.\u001b[0m\u001b[0mget_entity_by_type\u001b[0m\u001b[0;34m(\u001b[0m\u001b[0m_type\u001b[0m\u001b[0;34m,\u001b[0m \u001b[0mresult_format\u001b[0m \u001b[0;34m=\u001b[0m \u001b[0;34m\"DATAFRAME\"\u001b[0m\u001b[0;34m)\u001b[0m\u001b[0;34m\u001b[0m\u001b[0m\n\u001b[0m\u001b[1;32m      3\u001b[0m \u001b[0mresults_df\u001b[0m\u001b[0;34m.\u001b[0m\u001b[0mhead\u001b[0m\u001b[0;34m(\u001b[0m\u001b[0;34m)\u001b[0m\u001b[0;34m\u001b[0m\u001b[0m\n",
      "\u001b[0;32m~/dev/apps/forked/nexus/src/main/paradox/docs/bbptutorial/notebooks/sparqlendpointhelper.py\u001b[0m in \u001b[0;36mget_entity_by_type\u001b[0;34m(self, _type, result_format)\u001b[0m\n\u001b[1;32m    129\u001b[0m                    \u001b[0;34m{\u001b[0m\u001b[0;31m \u001b[0m\u001b[0;31m?\u001b[0m\u001b[0ms\u001b[0m \u001b[0ma\u001b[0m \u001b[0;34m<\u001b[0m\u001b[0;34m%\u001b[0m\u001b[0ms\u001b[0m\u001b[0;34m>\u001b[0m \u001b[0;34m}\u001b[0m\u001b[0;34m\u001b[0m\u001b[0m\n\u001b[1;32m    130\u001b[0m                }\n\u001b[0;32m--> 131\u001b[0;31m                \"\"\" % (aURI,_type)\n\u001b[0m\u001b[1;32m    132\u001b[0m         \u001b[0;32mreturn\u001b[0m \u001b[0mself\u001b[0m\u001b[0;34m.\u001b[0m\u001b[0mquery_sparql\u001b[0m\u001b[0;34m(\u001b[0m\u001b[0msparlq_query\u001b[0m\u001b[0;34m,\u001b[0m\u001b[0mresult_format\u001b[0m\u001b[0;34m)\u001b[0m\u001b[0;34m\u001b[0m\u001b[0m\n\u001b[1;32m    133\u001b[0m \u001b[0;34m\u001b[0m\u001b[0m\n",
      "\u001b[0;31mNameError\u001b[0m: name 'aURI' is not defined"
     ]
    }
   ],
   "source": [
    "_type = \"Organization\"\n",
    "results_df = sparqlviewhelper.get_entity_by_type(_type, result_format = \"DATAFRAME\")\n",
    "results_df.head()"
   ]
  },
  {
   "cell_type": "code",
   "execution_count": null,
   "metadata": {},
   "outputs": [],
   "source": []
  },
  {
   "cell_type": "markdown",
   "metadata": {},
   "source": [
    "## Step 2: Explore and navigate data using the SPARQL query language\n"
   ]
  },
  {
   "cell_type": "markdown",
   "metadata": {},
   "source": [
    "Let write our first query."
   ]
  },
  {
   "cell_type": "code",
   "execution_count": null,
   "metadata": {},
   "outputs": [],
   "source": [
    "select_all_query = \"\"\"\n",
    "SELECT ?s ?p ?o\n",
    "WHERE\n",
    "{\n",
    "  ?s ?p ?o\n",
    "}\n",
    "OFFSET 0\n",
    "LIMIT 5\n",
    "\"\"\"\n",
    "\n",
    "nexus_results = query_sparql(select_all_query,sparqlview_wrapper)\n",
    "\n",
    "nexus_df =sparql2dataframe(nexus_results)\n",
    "nexus_df.head()"
   ]
  },
  {
   "cell_type": "markdown",
   "metadata": {},
   "source": [
    "Most SPARQL queries you'll see will have the anotomy above with:\n",
    "* a **SELECT** clause that let you select the variables you want to retrieve\n",
    "* a **WHERE** clause defining a set of constraints that the variables should satisfy to be retrieved\n",
    "* **LIMIT** and **OFFSET** clauses to enable pagination\n",
    "* the constraints are usually graph patterns in the form of **triple** (?s for subject, ?p for property and ?o for ?object)"
   ]
  },
  {
   "cell_type": "markdown",
   "metadata": {},
   "source": [
    "Multiple triples can be provided as graph pattern to match but each triple should end with a period. As an example, let retrieve 5 movies (?movie) along with their titles (?title)."
   ]
  },
  {
   "cell_type": "code",
   "execution_count": null,
   "metadata": {},
   "outputs": [],
   "source": [
    "movie_with_title = \"\"\"\n",
    "PREFIX vocab: <https://nexus-sandbox.io/v1/vocabs/%s/%s/>\n",
    "PREFIX nxv: <https://bluebrain.github.io/nexus/vocabulary/>\n",
    "Select ?movie ?title\n",
    " WHERE  {\n",
    "    ?movie a vocab:Movie.\n",
    "    ?movie vocab:title ?title.\n",
    "} LIMIT 5\n",
    "\"\"\"%(org,project)\n",
    "\n",
    "nexus_results = query_sparql(movie_with_title,sparqlview_wrapper)\n",
    "\n",
    "nexus_df =sparql2dataframe(nexus_results)\n",
    "nexus_df.head()"
   ]
  },
  {
   "cell_type": "markdown",
   "metadata": {},
   "source": [
    "Note PREFIX clauses. It is way to shorten URIS within a SPARQL query. Without them we would have to use full URI for all properties.\n",
    "\n",
    "The ?movie variable is bound to a URI (the internal Nexus id). Let retrieve the movieId just like in the MovieLens csv files for simplicity."
   ]
  },
  {
   "cell_type": "code",
   "execution_count": null,
   "metadata": {},
   "outputs": [],
   "source": [
    "movie_with_title = \"\"\"\n",
    "PREFIX vocab: <https://nexus-sandbox.io/v1/vocabs/%s/%s/>\n",
    "PREFIX nxv: <https://bluebrain.github.io/nexus/vocabulary/>\n",
    "Select ?movieId ?title\n",
    " WHERE  {\n",
    "    \n",
    "    # Select movies\n",
    "    ?movie a vocab:Movie.\n",
    "\n",
    "    # Select their movieId value\n",
    "    ?movie vocab:movieId ?movieId.\n",
    "    \n",
    "    #\n",
    "    ?movie vocab:title ?title.\n",
    "    \n",
    "} LIMIT 5\n",
    "\"\"\"%(org,project)\n",
    "\n",
    "nexus_results = query_sparql(movie_with_title,sparqlview_wrapper)\n",
    "\n",
    "nexus_df =sparql2dataframe(nexus_results)\n",
    "nexus_df.head()"
   ]
  },
  {
   "cell_type": "markdown",
   "metadata": {},
   "source": [
    "In the above query movies are things (or entities) of type vocab:Movie. \n",
    "This is a typical instance query where entities are filtered by their type(s) and then some of their properties are retrieved (here ?title). \n",
    "\n",
    "Let retrieve everything that is linked (outgoing) to the movies. \n",
    "The * character in the SELECT clause indicates to retreve all variables: ?movie, ?p, ?o"
   ]
  },
  {
   "cell_type": "code",
   "execution_count": null,
   "metadata": {},
   "outputs": [],
   "source": [
    "movie_with_properties = \"\"\"\n",
    "PREFIX vocab: <https://nexus-sandbox.io/v1/vocabs/%s/%s/>\n",
    "PREFIX nxv: <https://bluebrain.github.io/nexus/vocabulary/>\n",
    "Select *\n",
    " WHERE  {\n",
    "    ?movie a vocab:Movie.\n",
    "    ?movie ?p ?o.\n",
    "} LIMIT 20\n",
    "\"\"\"%(org,project)\n",
    "\n",
    "nexus_results = query_sparql(movie_with_properties,sparqlview_wrapper)\n",
    "\n",
    "nexus_df =sparql2dataframe(nexus_results)\n",
    "nexus_df.head(20)"
   ]
  },
  {
   "cell_type": "markdown",
   "metadata": {},
   "source": [
    "As a little exercise, write a query retrieving incoming entities to movies. You can copy past the query above and modify it.\n",
    "\n",
    "Hints: ?s ?p ?o can be read as: ?o is linked to ?s with an outgoing link.\n",
    "\n",
    "Do you have results ?"
   ]
  },
  {
   "cell_type": "code",
   "execution_count": null,
   "metadata": {},
   "outputs": [],
   "source": [
    "#Your query here\n"
   ]
  },
  {
   "cell_type": "markdown",
   "metadata": {},
   "source": [
    "Let retrieve the movie ratings"
   ]
  },
  {
   "cell_type": "code",
   "execution_count": null,
   "metadata": {},
   "outputs": [],
   "source": [
    "movie_with_properties = \"\"\"\n",
    "PREFIX vocab: <https://nexus-sandbox.io/v1/vocabs/%s/%s/>\n",
    "PREFIX nxv: <https://bluebrain.github.io/nexus/vocabulary/>\n",
    "Select ?userId ?movieId ?rating ?timestamp\n",
    " WHERE  {\n",
    "    ?movie a vocab:Movie.\n",
    "    ?movie vocab:movieId ?movieId.\n",
    "    \n",
    "    \n",
    "    ?ratingNode vocab:movieId ?ratingmovieId.\n",
    "    ?ratingNode vocab:rating ?rating.\n",
    "    ?ratingNode vocab:userId ?userId.\n",
    "    ?ratingNode vocab:timestamp ?timestamp.\n",
    "    \n",
    "    # Somehow pandas is movieId as double for rating \n",
    "    FILTER(xsd:integer(?ratingmovieId) = ?movieId)\n",
    "    \n",
    "} LIMIT 20\n",
    "\"\"\"%(org,project)\n",
    "\n",
    "nexus_results = query_sparql(movie_with_properties,sparqlview_wrapper)\n",
    "\n",
    "nexus_df =sparql2dataframe(nexus_results)\n",
    "nexus_df.head(20)"
   ]
  },
  {
   "cell_type": "markdown",
   "metadata": {},
   "source": [
    "As a little exercise, write a query retrieving the movie tags along with the user id and timestamp. You can copy and past the query above and modify it.\n"
   ]
  },
  {
   "cell_type": "code",
   "execution_count": null,
   "metadata": {},
   "outputs": [],
   "source": [
    "#Your query here\n",
    "\n"
   ]
  },
  {
   "cell_type": "markdown",
   "metadata": {},
   "source": [
    "### Aggregate queries"
   ]
  },
  {
   "cell_type": "markdown",
   "metadata": {},
   "source": [
    "[Aggregates](https://www.w3.org/TR/sparql11-query/#aggregates) apply some operations over a group of solutions.\n",
    "Available aggregates are: COUNT, SUM, MIN, MAX, AVG, GROUP_CONCAT, and SAMPLE.\n",
    "\n",
    "We will not see them all but we'll look at some examples."
   ]
  },
  {
   "cell_type": "markdown",
   "metadata": {},
   "source": [
    "The next query will compute the average rating score for 'funny' movies."
   ]
  },
  {
   "cell_type": "code",
   "execution_count": null,
   "metadata": {},
   "outputs": [],
   "source": [
    "tag_value = \"funny\"\n",
    "movie_avg_ratings = \"\"\"\n",
    "PREFIX vocab: <https://nexus-sandbox.io/v1/vocabs/%s/%s/>\n",
    "PREFIX nxv: <https://bluebrain.github.io/nexus/vocabulary/>\n",
    "\n",
    "Select ( AVG(?ratingvalue) AS ?score)\n",
    " WHERE  {\n",
    "    # Select movies\n",
    "    ?movie a vocab:Movie.\n",
    "\n",
    "    # Select their movieId value\n",
    "    ?movie vocab:movieId ?movieId.\n",
    "\n",
    "    ?tag vocab:movieId ?movieId.\n",
    "    ?tag vocab:tag ?tagvalue.\n",
    "    FILTER(?tagvalue = \"%s\").\n",
    "\n",
    "    # Keep movies with ratings\n",
    "    ?rating vocab:movieId ?ratingmovidId.\n",
    "    FILTER(xsd:integer(?ratingmovidId) = xsd:integer(?movieId))\n",
    "    ?rating vocab:rating ?ratingvalue.\n",
    "\n",
    "}\n",
    "\"\"\" %(org,project,tag_value)\n",
    "\n",
    "nexus_results = query_sparql(movie_avg_ratings,sparqlview_wrapper)\n",
    "\n",
    "nexus_df =sparql2dataframe(nexus_results)\n",
    "display(nexus_df.head(20))\n",
    "nexus_df=nexus_df.astype(float)\n"
   ]
  },
  {
   "cell_type": "markdown",
   "metadata": {},
   "source": [
    "Retrieve the number of tags per movie. Can be a little bit slow depending on the size of your data."
   ]
  },
  {
   "cell_type": "code",
   "execution_count": null,
   "metadata": {},
   "outputs": [],
   "source": [
    "nbr_tags_per_movie = \"\"\"\n",
    "PREFIX vocab: <https://nexus-sandbox.io/v1/vocabs/%s/%s/>\n",
    "PREFIX nxv: <https://bluebrain.github.io/nexus/vocabulary/>\n",
    "\n",
    "Select ?title (COUNT(?tagvalue) as ?tagnumber)\n",
    " WHERE  {\n",
    "    # Select movies\n",
    "    ?movie a vocab:Movie.\n",
    "    # Select their movieId value\n",
    "    ?movie vocab:movieId ?movieId.\n",
    "    \n",
    "    ?tag a vocab:Tag.\n",
    "    ?tag vocab:movieId ?tagmovieId.\n",
    "    FILTER(?tagmovieId = ?movieId)\n",
    "    ?movie vocab:title ?title.\n",
    "    ?tag vocab:tag ?tagvalue.\n",
    "}\n",
    "\n",
    "GROUP BY ?title \n",
    "ORDER BY DESC(?tagnumber)\n",
    "LIMIT 10\n",
    "\"\"\" %(org,project)\n",
    "\n",
    "nexus_results = query_sparql(nbr_tags_per_movie,sparqlview_wrapper)\n",
    "\n",
    "nexus_df =sparql2dataframe(nexus_results)\n",
    "display(nexus_df.head(20))\n"
   ]
  },
  {
   "cell_type": "code",
   "execution_count": null,
   "metadata": {},
   "outputs": [],
   "source": [
    "#Let plot the result\n",
    "nexus_df.tagnumber = pd.to_numeric(nexus_df.tagnumber)\n",
    "nexus_df.plot(x=\"title\",y=\"tagnumber\",kind=\"bar\")\n"
   ]
  },
  {
   "cell_type": "markdown",
   "metadata": {},
   "source": [
    "The next query will retrieve movies along with users that tagged them separated by a comma"
   ]
  },
  {
   "cell_type": "code",
   "execution_count": null,
   "metadata": {},
   "outputs": [],
   "source": [
    "# Group Concat\n",
    "\n",
    "movie_tag_users = \"\"\"\n",
    "PREFIX vocab: <https://nexus-sandbox.io/v1/vocabs/%s/%s/>\n",
    "PREFIX nxv: <https://bluebrain.github.io/nexus/vocabulary/>\n",
    "\n",
    "Select ?movieId (group_concat(DISTINCT ?userId;separator=\",\") as ?users)\n",
    " WHERE  {\n",
    "    # Select movies\n",
    "    ?movie a vocab:Movie.\n",
    "\n",
    "    # Select their movieId value\n",
    "    ?movie vocab:movieId ?movieId.\n",
    "\n",
    "    ?tag vocab:movieId ?movieId.\n",
    "    ?tag vocab:userId ?userId.\n",
    "\n",
    "  \n",
    "}\n",
    "GROUP BY ?movieId\n",
    "LIMIT 10\n",
    "\"\"\"%(org,project)\n",
    "\n",
    "nexus_results = query_sparql(movie_tag_users,sparqlview_wrapper)\n",
    "\n",
    "nexus_df =sparql2dataframe(nexus_results)\n",
    "nexus_df.head(20)"
   ]
  },
  {
   "cell_type": "code",
   "execution_count": null,
   "metadata": {},
   "outputs": [],
   "source": []
  },
  {
   "cell_type": "code",
   "execution_count": null,
   "metadata": {},
   "outputs": [],
   "source": []
  }
 ],
 "metadata": {
  "kernelspec": {
   "display_name": "Python 3",
   "language": "python",
   "name": "python3"
  },
  "language_info": {
   "codemirror_mode": {
    "name": "ipython",
    "version": 3
   },
   "file_extension": ".py",
   "mimetype": "text/x-python",
   "name": "python",
   "nbconvert_exporter": "python",
   "pygments_lexer": "ipython3",
   "version": "3.6.5"
  }
 },
 "nbformat": 4,
 "nbformat_minor": 2
}
